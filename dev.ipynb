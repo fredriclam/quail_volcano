{
 "cells": [
  {
   "cell_type": "code",
   "execution_count": 20,
   "metadata": {},
   "outputs": [],
   "source": [
    "import copy\n",
    "import os\n",
    "import numpy as np\n",
    "from numpy.linalg import norm\n",
    "import matplotlib.pyplot as plt\n",
    "\n",
    "target_dir = \"C:\\\\Users\\\\Fredric\\\\Documents\\\\Volcano\\\\quail_volcano\\\\scenarios\\\\mixture_shocktube\\\\\"\n",
    "os.chdir(target_dir)"
   ]
  },
  {
   "cell_type": "code",
   "execution_count": 8,
   "metadata": {},
   "outputs": [],
   "source": [
    "%%capture\n",
    "%run \"C:\\\\Users\\\\Fredric\\\\Documents\\\\Volcano\\\\quail_volcano\\\\src\\\\quail\" \"conduit.py\"\n",
    "# Run Quail (line magics must be written first)\n",
    "# Outputs to files specified in conduit.py\n",
    "\n",
    "# Import in post\n",
    "import processing.readwritedatafiles as readwritedatafiles\n",
    "import numerics.helpers.helpers as helpers\n",
    "import meshing.tools as mesh_tools\n",
    "import solver.tools as solver_tools"
   ]
  },
  {
   "cell_type": "code",
   "execution_count": 9,
   "metadata": {},
   "outputs": [],
   "source": [
    "# Load a solver and interact\n",
    "solver = readwritedatafiles.read_data_file(f\"mixture_shocktube_conduit_0.pkl\")\n",
    "\n",
    "# solver.get_boundary_face_residuals(self, U, res)\n",
    "# res =  np.zeros_like(solver.state_coeffs)\n",
    "# solver.get_interior_face_residuals(solver.state_coeffs, res)\n",
    "# solver.get_boundary_face_residuals(solver.state_coeffs, res)\n",
    "# solver_tools.mult_inv_mass_matrix(mesh, solver, self.dt, res)"
   ]
  },
  {
   "cell_type": "code",
   "execution_count": null,
   "metadata": {},
   "outputs": [],
   "source": [
    "if False:\n",
    "  s0 = copy.deepcopy(solver)\n",
    "  s0.state_coeffs[:, :, s0.physics.get_momentum_slice()] = 0.0\n",
    "  for i in range (5):\n",
    "    r = s0.stepper.take_time_step(s0)\n",
    "    s0.state_coeffs[:, :, s0.physics.get_momentum_slice()] = 0.0\n",
    "    print(norm(r))\n",
    "  p = s0.physics.compute_additional_variable(\"Pressure\", s0.state_coeffs, flag_non_physical=True)"
   ]
  },
  {
   "cell_type": "code",
   "execution_count": 15,
   "metadata": {},
   "outputs": [
    {
     "data": {
      "text/plain": [
       "(10, 3, 1)"
      ]
     },
     "execution_count": 15,
     "metadata": {},
     "output_type": "execute_result"
    }
   ],
   "source": [
    "class GlobalDG():\n",
    "  def __init__(self, solver):\n",
    "    self.solver = solver\n",
    "\n",
    "    ''' Get global nodal points '''\n",
    "    mesh = solver.mesh\n",
    "    # Get reference element nodes\n",
    "    nodal_pts = solver.basis.get_nodes(solver.order)\n",
    "    # Allocate [ne] x [nb, ndims]\n",
    "    xphys = np.empty((mesh.num_elems,) + nodal_pts.shape)\n",
    "    for elem_ID in range(mesh.num_elems):\n",
    "      # Fill coordinates in physical space\n",
    "      xphys[elem_ID] = mesh_tools.ref_to_phys(mesh, elem_ID, nodal_pts)\n",
    "    self.x = xphys.ravel()\n",
    "\n",
    "    # Compute size of block corresponding to element\n",
    "    self.nb = len(nodal_pts)\n",
    "    self.ne = mesh.num_elems\n",
    "    # Compute size of system for global weak form\n",
    "    self.N = mesh.num_elems*len(nodal_pts)\n",
    "    \n",
    "\n",
    "    # Compute elementwise shape\n",
    "    self.eltwise_shape  = (mesh.num_elems, self.nb, 1)\n",
    "    # Compute unraveled shape\n",
    "    self.vec_shape = (self.N, 1)\n",
    "\n",
    "  def inv_ravel(self, data:np.array):\n",
    "    ''' Inverse of ravel operation: (N,1) -> (ne, nb, 1) '''\n",
    "    return data.reshape(self.eltwise_shape)\n",
    "\n",
    "gdg = GlobalDG(copy.deepcopy(solver))"
   ]
  },
  {
   "cell_type": "code",
   "execution_count": 207,
   "metadata": {},
   "outputs": [
    {
     "data": {
      "image/png": "[encoded data removed]",
      "text/plain": [
       "<Figure size 432x288 with 1 Axes>"
      ]
     },
     "metadata": {
      "needs_background": "light"
     },
     "output_type": "display_data"
    }
   ],
   "source": [
    "from scipy.sparse import csr_array, dok_array\n",
    "A = dok_array((gdg.N, gdg.N,))\n",
    "nb = gdg.nb\n",
    "for i in range(gdg.ne):\n",
    "    A[nb*i, nb*i] = -0.5\n",
    "    A[nb*(i+1)-1, nb*(i+1)-1] = 0.5\n",
    "    if i > 0:\n",
    "        A[nb*i, nb*i-1] = -0.5\n",
    "    if i < gdg.ne-1:\n",
    "        A[nb*(i+1)-1, nb*(i+1)] = 0.5\n",
    "# Wall boundary condition at bottom\n",
    "A[-1,-1] = 1\n",
    "A = A.tocsr()\n",
    "plt.spy(A)\n",
    "\n",
    "# Constuct boundary load vector\n",
    "p_top = 1e5\n",
    "b = dok_array((gdg.N, 1,))\n",
    "b[0] = -0.5 * p_top\n",
    "b = b.tocsr()\n",
    "# plt.spy(b)"
   ]
  },
  {
   "cell_type": "code",
   "execution_count": 208,
   "metadata": {},
   "outputs": [
    {
     "data": {
      "text/plain": [
       "<matplotlib.lines.Line2D at 0x22dfb82f190>"
      ]
     },
     "execution_count": 208,
     "metadata": {},
     "output_type": "execute_result"
    },
    {
     "data": {
      "image/png": "[encoded data removed]",
      "text/plain": [
       "<Figure size 432x288 with 1 Axes>"
      ]
     },
     "metadata": {
      "needs_background": "light"
     },
     "output_type": "display_data"
    }
   ],
   "source": [
    "# Copy solver to avoid side effects\n",
    "s0 = copy.deepcopy(solver)\n",
    "\n",
    "# Compute\n",
    "#   int <phi,phi'> dx over each element in physical space\n",
    "\n",
    "# Basis evaluated at quadrature points, times quad weights in physical space\n",
    "# [nq, nb] x [nq, 1] x [ne, nq, 1] -> [ne, nq, nb]\n",
    "u = np.einsum('jn, jm, ijm -> ijn', \n",
    "  solver.basis.get_values(solver.elem_helpers.quad_pts),\n",
    "  solver.elem_helpers.quad_wts,\n",
    "  solver.elem_helpers.djac_elems)\n",
    "# [ne, nq, nb1, ndims] x [ne, nq, nb2] -> [ne, nb1, nb2]\n",
    "B_vec = np.einsum('ijml, ijn -> imn',\n",
    "  solver.elem_helpers.basis_phys_grad_elems,\n",
    "  u)\n",
    "B = dok_array((gdg.N, gdg.N,))\n",
    "nb = gdg.nb\n",
    "for i in range(gdg.ne):\n",
    "  B[nb*i:nb*(i+1), nb*i:nb*(i+1)] = B_vec[i,:,:]\n",
    "B = B.tocsr()\n",
    "plt.spy(B)"
   ]
  },
  {
   "cell_type": "code",
   "execution_count": 209,
   "metadata": {},
   "outputs": [
    {
     "data": {
      "text/plain": [
       "42.88357002400154"
      ]
     },
     "execution_count": 209,
     "metadata": {},
     "output_type": "execute_result"
    },
    {
     "data": {
      "image/png": "[encoded data removed]",
      "text/plain": [
       "<Figure size 432x288 with 1 Axes>"
      ]
     },
     "metadata": {
      "needs_background": "light"
     },
     "output_type": "display_data"
    }
   ],
   "source": [
    "plt.spy(A-B)\n",
    "np.linalg.cond((A-B).todense())"
   ]
  },
  {
   "cell_type": "code",
   "execution_count": 216,
   "metadata": {},
   "outputs": [
    {
     "data": {
      "text/plain": [
       "array([[16.000000000000004,  8.               , -4.               ],\n",
       "       [ 8.               , 63.99999999999997 ,  8.               ],\n",
       "       [-4.               ,  8.               , 16.000000000000004]])"
      ]
     },
     "execution_count": 216,
     "metadata": {},
     "output_type": "execute_result"
    },
    {
     "data": {
      "image/png": "[encoded data removed]",
      "text/plain": [
       "<Figure size 432x288 with 1 Axes>"
      ]
     },
     "metadata": {
      "needs_background": "light"
     },
     "output_type": "display_data"
    }
   ],
   "source": [
    "# Assume Uq is computed at solver.x_elems\n",
    "Uq = helpers.evaluate_state(solver.state_coeffs, solver.elem_helpers.basis_val,\n",
    "        skip_interp=solver.basis.skip_interp)\n",
    "\n",
    "from physics.multiphasevpT.functions import GravitySource\n",
    "gsource = GravitySource()\n",
    "Sq = gsource.get_source(\n",
    "    solver.physics,\n",
    "    Uq,\n",
    "    solver.elem_helpers.x_elems,\n",
    "    solver.time)\n",
    "\n",
    "# Calculate source term quadrature [ne, nq, ns]\n",
    "Sq_quad = np.einsum('ijk, jm, ijm -> ijk', \n",
    "    Sq, \n",
    "    solver.elem_helpers.quad_wts,\n",
    "    solver.elem_helpers.djac_elems)\n",
    "# Calculate residual\n",
    "res_elem = np.einsum('jn, ijk -> ink', basis_val, Sq_quad) # [ne, nb, ns]\n",
    "res_elem.shape\n",
    "\n",
    "# [nq, nb] x [nq, 1] x [ne, nq, 1] -> [ne, nq, nb]\n",
    "u = np.einsum('jn, jm, ijm -> ijn', \n",
    "  solver.basis.get_values(solver.elem_helpers.quad_pts),\n",
    "  solver.elem_helpers.quad_wts,\n",
    "  solver.elem_helpers.djac_elems)\n",
    "# [nq, nb1] x [ne, nq, nb2] -> [ne, nb1, nb2]\n",
    "M_vec = np.einsum('jm, ijn -> imn',\n",
    "  solver.basis.get_values(solver.elem_helpers.quad_pts),\n",
    "  u)\n",
    "\n",
    "# Looks like mass matrix here is 1/2 as large as it should be; the following\n",
    "# gives the integral over [-1,1] (segment with length 2, rather than 1)\n",
    "M_vec[0,:,:] / (gdg.x[1] - gdg.x[0])\n",
    "\n",
    "# M Assembly\n",
    "M = dok_array((gdg.N, gdg.N,))\n",
    "nb = gdg.nb\n",
    "for i in range(gdg.ne):\n",
    "  M[nb*i:nb*(i+1), nb*i:nb*(i+1)] = M_vec[i,:,:]\n",
    "M = M.tocsr()\n",
    "plt.spy(M)\n",
    "M[0:3,0:3].todense()"
   ]
  },
  {
   "cell_type": "code",
   "execution_count": 211,
   "metadata": {},
   "outputs": [
    {
     "data": {
      "text/plain": [
       "[<matplotlib.lines.Line2D at 0x22dfa4d0e20>]"
      ]
     },
     "execution_count": 211,
     "metadata": {},
     "output_type": "execute_result"
    },
    {
     "data": {
      "image/png": "[encoded data removed]",
      "text/plain": [
       "<Figure size 432x288 with 1 Axes>"
      ]
     },
     "metadata": {
      "needs_background": "light"
     },
     "output_type": "display_data"
    }
   ],
   "source": [
    "# Testing against zero source term\n",
    "# (A-B) \\ -b\n",
    "p_const = scipy.sparse.linalg.spsolve(A-B, -b)\n",
    "plt.plot(p_const)"
   ]
  },
  {
   "cell_type": "code",
   "execution_count": 266,
   "metadata": {},
   "outputs": [
    {
     "name": "stdout",
     "output_type": "stream",
     "text": [
      "Target pressure: 1.21e+07\n",
      "Residual: 3.05e-09\n"
     ]
    },
    {
     "data": {
      "image/png": "[encoded data removed]",
      "text/plain": [
       "<Figure size 432x288 with 1 Axes>"
      ]
     },
     "metadata": {
      "needs_background": "light"
     },
     "output_type": "display_data"
    }
   ],
   "source": [
    "# Testing against constant source term\n",
    "rho0 = 1000\n",
    "g = 10\n",
    "p_like = 0.0*b.todense() + 1.0\n",
    "f = -b + (rho0*g) * M @ p_like\n",
    "# f = -b - (rho0*g) * M @ (1+1e-2*p.^0.5)\n",
    "p_lin = scipy.sparse.linalg.spsolve(A-B, f)\n",
    "plt.plot(gdg.x, p_lin, '.-')\n",
    "print(f\"Target pressure: {1e5+rho0*g*np.abs(gdg.x[-1]-gdg.x[0]):.2e}\")\n",
    "print(f\"Residual: {np.linalg.norm((A-B)@np.expand_dims(p_lin,axis=1) - f, 'fro'):.2e}\")"
   ]
  },
  {
   "cell_type": "code",
   "execution_count": 282,
   "metadata": {},
   "outputs": [
    {
     "data": {
      "image/png": "[encoded data removed]",
      "text/plain": [
       "<Figure size 432x288 with 1 Axes>"
      ]
     },
     "metadata": {
      "needs_background": "light"
     },
     "output_type": "display_data"
    },
    {
     "data": {
      "image/png": "[encoded data removed]",
      "text/plain": [
       "<Figure size 432x288 with 1 Axes>"
      ]
     },
     "metadata": {
      "needs_background": "light"
     },
     "output_type": "display_data"
    }
   ],
   "source": [
    "# Testing against constant source term\n",
    "rho0 = 1000\n",
    "g = 10\n",
    "p_like = 0.0*b.todense() + 1.0\n",
    "f_fn = lambda p : -b + (rho0*g) * M @ (1+1e-2*np.abs(p/1e2)**0.5)\n",
    "p_nonlin = p_lin\n",
    "fixedpointiter = lambda p: scipy.sparse.linalg.spsolve(A-B, f_fn(np.expand_dims(p,axis=1)))\n",
    "\n",
    "# Residual in algebraic equation\n",
    "evalresidual = lambda p : np.linalg.norm(\n",
    "  (A-B)@np.expand_dims(p,axis=1) - f_fn(np.expand_dims(p,axis=1)), 'fro')\n",
    "N_iter = 30\n",
    "residuals = np.zeros(N_iter)\n",
    "for i in range(N_iter):\n",
    "  p_nonlin = fixedpointiter(p_nonlin)\n",
    "  plt.plot(gdg.x, p_nonlin, '.-')\n",
    "  residuals[i] = evalresidual(p_nonlin)\n",
    "\n",
    "plt.xlabel(\"depth (m)\")\n",
    "plt.xlabel(\"pressure (Pa)\")\n",
    "plt.figure()\n",
    "plt.semilogy(residuals, '.-')\n",
    "plt.xlabel(\"Iter\")\n",
    "plt.ylabel(\"Algebraic residual\")\n",
    "plt.show()"
   ]
  },
  {
   "cell_type": "code",
   "execution_count": null,
   "metadata": {},
   "outputs": [],
   "source": [
    "# Test unsteady problem residual\n",
    "\n",
    "# Reconstruct Uq from known pressure and ns-1 constraints\n",
    "pass\n",
    "\n",
    "# Compute residual\n",
    "res =  np.zeros_like(Uq)\n",
    "solver.get_residual(Uq, res)\n",
    "momentum_residual = res[solver.physics.get_state_index(\"XMomentum\")]"
   ]
  },
  {
   "cell_type": "code",
   "execution_count": 121,
   "metadata": {},
   "outputs": [
    {
     "data": {
      "text/plain": [
       "array([[-0.5              , -0.666666666666667,  0.166666666666667],\n",
       "       [ 0.666666666666667,  0.               , -0.666666666666667],\n",
       "       [-0.166666666666667,  0.666666666666667,  0.5              ]])"
      ]
     },
     "execution_count": 121,
     "metadata": {},
     "output_type": "execute_result"
    }
   ],
   "source": [
    "''' Work block for testing '''\n",
    "\n",
    "# Construct phi.phi' (interior) matrix\n",
    "# B = dok_array((gdg.N, gdg.N,))\n",
    "# for i in range(gdg.ne):\n",
    "#     B(2*i-1:2*i, 2*i-1:2*i) = [-0.5, -0.5; 0.5, 0.5]\n",
    "# end\n",
    "# # Construct phi.phi mass matrix\n",
    "# M = sparse(2*N, 2*N);\n",
    "# for i = 1:N\n",
    "#     M(2*i-1:2*i, 2*i-1:2*i) = [1/3, 1/6; 1/6, 1/3];\n",
    "# end\n",
    "s0 = copy.deepcopy(solver)\n",
    "# Shorthand the state coefficients at nodes\n",
    "Uc = s0.state_coeffs\n",
    "# Shorthand the state at interpolation points\n",
    "Uq = helpers.evaluate_state(Uc, s0.elem_helpers.basis_val,\n",
    "      skip_interp=s0.basis.skip_interp)\n",
    "\n",
    "# # Compute (u^2 + p) . grad(phi)\n",
    "Fq = s0.physics.get_conv_flux_interior(Uq)[0].shape # [ne, nq, ns, ndims]\n",
    "# # TODO: insert p computation in interior, expand dims in axis=2\n",
    "# import solver.tools as solver_tools\n",
    "# np.ones(gdg.eltwise_shape).shape\n",
    "# def calculate_phi_gradphi(solver, Fq):\n",
    "if True:\n",
    "      quad_wts = solver.elem_helpers.quad_wts # [nq, 1]\n",
    "      # evaluated gradient of the basis function in physical space\n",
    "      basis_phys_grad_elems = solver.elem_helpers.basis_phys_grad_elems\n",
    "            # [ne, nq, nb, ndims]\n",
    "      djac_elems = solver.elem_helpers.djac_elems # [ne, nq, 1] for elementwise det(J)\n",
    "\n",
    "      # Calculate flux quadrature\n",
    "      Fq = np.expand_dims(np.ones(gdg.eltwise_shape),axis=2)\n",
    "      F_quad = np.einsum('ijkl, jm, ijm -> ijkl', Fq, quad_wts, djac_elems)\n",
    "            # [ne, nq, ns, ndims]\n",
    "      '''Calculate residual'''\n",
    "      # for each element i\n",
    "      # sum over j [nq]\n",
    "      # for each n [nb]\n",
    "      # sum over l [ndims]\n",
    "      # 'ijnl, ijkl -> ink'\n",
    "      res = np.einsum('ijnl, ijkl -> ink', basis_phys_grad_elems, F_quad)\n",
    "            # [ne, <nq>, nb, ns]\n",
    "\n",
    "      # [ne, nq, nb, ndims], [nq, 1], [ne, nq, 1]\n",
    "      # ijnl, j\n",
    "      # np.einsum('ijnl, jm, ijm, -> ink', basis_phys_grad_elems, quad_wts, djac_elems)\n",
    "      # return (res, basis_phys_grad_elems, F_quad)\n",
    "\n",
    "# fdotgradph, basis_phys_grad_elems, F_quad = calculate_phi_gradphi(s0,\n",
    "#       np.expand_dims(np.ones(gdg.eltwise_shape),axis=2)) # [ne, nb, ns]\n",
    "\n",
    "\n",
    "dir(s0.basis)\n",
    "# Evaluate basis at nodes (should be identity):\n",
    "s0.basis.get_basis_val_grads(solver.basis.get_nodes(solver.order))\n",
    "# print(s0.basis.basis_val)\n",
    "\n",
    "# Evaluate \n",
    "s0.elem_helpers.basis_val\n",
    "s0.basis.get_values(s0.elem_helpers.quad_pts) #[nq, nb]\n",
    "\n",
    "# Basis with quadrature weights in physical space\n",
    "# [nq, nb] x [nq, 1] x [ne, nq, 1] -> [ne, nq, nb]\n",
    "u = np.einsum('jn, jm, ijm -> ijn', s0.basis.get_values(s0.elem_helpers.quad_pts), quad_wts, djac_elems)\n",
    "# [ne, nq, nb1, ndims] x [ne, nq, nb2] -> [ne, nb1, nb2]\n",
    "res = np.einsum('ijml, ijn -> imn', basis_phys_grad_elems, u)"
   ]
  },
  {
   "cell_type": "code",
   "execution_count": null,
   "metadata": {},
   "outputs": [],
   "source": [
    "''' Work block for testing components of <phi, phi> construction'''\n",
    "import numerics.basis.tools as basis_tools\n",
    "basis_tools.get_lagrange_basis_1D(s0.elem_helpers.quad_pts, xnodes, basis_val)\n",
    "# Unpacking basis_tools.get_lagrange_basis_1D\n",
    "xnodes = s0.basis.get_1d_nodes(-1., 1., 2+1)\n",
    "nq = 3\n",
    "nb = 3\n",
    "basis_val = np.zeros([nq, nb])\n",
    "nnodes = xnodes.shape[0]\n",
    "mask = np.ones(nnodes, bool)\n",
    "basis_val[:] = 1.\n",
    "for j in range(xnodes.shape[0]):\n",
    "      mask[j] = False\n",
    "      basis_val[:,j] = np.prod((s0.elem_helpers.quad_pts - xnodes[mask])/(xnodes[j] - xnodes[\n",
    "                  mask]), axis=1)\n",
    "      print(j)\n",
    "      print(basis_val[:,j])\n",
    "      mask[j] = True"
   ]
  },
  {
   "cell_type": "code",
   "execution_count": null,
   "metadata": {},
   "outputs": [],
   "source": [
    "''' Testing gdg ravel/inv_ravel '''\n",
    "# Test inverse ravel operation\n",
    "from numpy.random import rand\n",
    "# Perturb initial data with random noise\n",
    "test_data = rand(*eltwise_shape) * (1.0 + p)\n",
    "# Compute error introduced by data rearrangement\n",
    "viol = norm(gdg.inv_ravel(test_data.ravel()) - test_data)\n",
    "print(viol)"
   ]
  },
  {
   "cell_type": "code",
   "execution_count": null,
   "metadata": {},
   "outputs": [],
   "source": [
    "# Residual evaluation\n",
    "res =  np.zeros_like(s0.state_coeffs)\n",
    "s0.get_element_residuals(s0.state_coeffs, res)\n",
    "# print(res)\n",
    "\n",
    "import solver.tools as solver_tools\n",
    "\n",
    "Uq = s0.state_coeffs\n",
    "Sq = np.zeros_like(Uq) # [ne, nq, ns]\n",
    "Sq = s0.physics.eval_source_terms(Uq, s0.elem_helpers.x_elems, s0.time, Sq)\n",
    "    # [ne, nq, ns]\n",
    "solver_tools.calculate_source_term_integral(\n",
    "\t\t\t\t\ts0.elem_helpers, Sq)\n",
    "\n",
    "print(Sq)"
   ]
  },
  {
   "cell_type": "code",
   "execution_count": null,
   "metadata": {},
   "outputs": [],
   "source": [
    "# [S for S in s0.physics.source_terms if S.name == \"GravitySource\"] \n",
    "# Assume source term 0 is gravity\n",
    "# dir(s0.physics.source_terms[0].get_jacobian)\n",
    "# s0.physics.source_terms[0].get_jacobian(\n",
    "#   s0.physics, s0.state_coeffs, s0.mesh.node_coords, s0.time\\\n",
    "#   )\n",
    "# s0.mesh.node_coords\n",
    "# s0.physics.get_state_slice(\"pDensityWv\")\n",
    "\n",
    "relax_param = 0.01\n",
    "\n",
    "# R = s0.physics.compute_additional_variable[\"Pressure\"] - s0.physics.source_terms[0]\n",
    "# p = s0.physics.compute_additional_variable(\"Pressure\", s0.state_coeffs, True)\n",
    "# S =  -s0.physics.source_terms[0].get_source(\n",
    "#       s0.physics, s0.state_coeffs, s0.mesh.node_coords, s0.time)"
   ]
  },
  {
   "cell_type": "code",
   "execution_count": null,
   "metadata": {},
   "outputs": [],
   "source": [
    "''' Gradient descent strategy for minimizing the steady-state residual'''\n",
    "\n",
    "p_top = 1e5 # Specify boundary condition at top: pressure = p_atm\n",
    "s0 = copy.deepcopy(solver)\n",
    "\n",
    "# def eval_relaxeqn(s0):\n",
    "if True:\n",
    "\t''' Compute gradients of hydrostatic equation residual with respect to all states'''\n",
    "\t# Shorthand the state coefficients at nodes\n",
    "\tUc = s0.state_coeffs\n",
    "\t# Shorthand the state at interpolation points\n",
    "\tUq = helpers.evaluate_state(s0.state_coeffs, s0.elem_helpers.basis_val,\n",
    "\t\t\t\tskip_interp=s0.basis.skip_interp)\n",
    "\n",
    "\t# Compute (u^2 + p) . grad(phi)\n",
    "\tFq = s0.physics.get_conv_flux_interior(Uq)[0] # [ne, nq, ns, ndims]\n",
    "\t# TODO: insert p computation in interior, expand dims in axis=2\n",
    "\tfdotgradphi = solver_tools.calculate_volume_flux_integral(\n",
    "\t\t\t\t\t\ts0, s0.elem_helpers, Fq) # [ne, nb, ns]\n",
    "\n",
    "\tinterior_res = np.zeros_like(Uq)\n",
    "\tsolver.get_interior_face_residuals(Uq, interior_res)\n",
    "\tdinterior_res = dpdq * interior_res\n",
    "\n",
    "\t# Manual hack\n",
    "\tbdry_res = np.zeros_like(Uq)\n",
    "\tsolver.get_boundary_face_residuals(Uq, bdry_res)\n",
    "\t# Override bdry pressure\n",
    "\tbdry_res[-1,:,s0.physics.get_state_index(\"XMomentum\")] = -p_top\n",
    "\tdbdry_res = dpdq * bdry_res\n",
    "\n",
    "\t# Compute dS/dq (ne, nd, nq), where S = -rho*g\n",
    "\tdSdq = s0.physics.source_terms[0].get_jacobian(\n",
    "\t\ts0.physics, s0.state_coeffs, s0.mesh.node_coords, s0.time\\\n",
    "\t\t)[:,:,s0.physics.get_state_index(\"XMomentum\"),:]\n",
    "\t# Compute S . phi == (-rho*g) . phi\n",
    "\tSq = np.zeros_like(Uq)\n",
    "\tSq = s0.physics.eval_source_terms(Uq, s0.mesh.node_coords, s0.time, Sq) # [ne, nq, ns]\n",
    "\tSphi = solver_tools.calculate_source_term_integral(\n",
    "\t\t\ts0.elem_helpers, Sq) # [ne, nb, ns]\n",
    "\t# Compute dSdq . phi\n",
    "\tdSphi = solver_tools.calculate_source_term_integral(\n",
    "\t\t\ts0.elem_helpers, dSdq) # [ne, nb, ns]\n",
    "\n",
    "\t# Compute objective residual (sum on RHS) across all indices\n",
    "\tR_all_indices = interior_res + fdotgradphi + Sphi + bdry_res\n",
    "\t# Constrain to pressure index\n",
    "\tR = R_all_indices[:,:,s0.physics.get_momentum_slice()]\n",
    "\t# Compute derivative of residual with respect to state\n",
    "\tdR = dpdqdotgradphi + dSphi + dinterior_res + dbdry_res # [ne, nb, ns]\n",
    "\n",
    "\t# Get quadratic problem\n",
    "\tQ = 0.5 * R**2\n",
    "\tdQ = R * dR\n",
    "\n",
    "\t# return Q, dQ\n",
    "# print(bdry_res)"
   ]
  },
  {
   "cell_type": "code",
   "execution_count": null,
   "metadata": {},
   "outputs": [],
   "source": [
    "relax_param = 1e-7\n",
    "s0 = copy.deepcopy(solver)\n",
    "\n",
    "Q0, dQ = eval_relaxeqn(s0)\n",
    "# step = np.zeros_like(dQ)\n",
    "# step[:,:,s0.physics.get_state_index(\"pDensityWv\")] = dQ[:,:,s0.physics.get_state_index(\"pDensityWv\")]\n",
    "# step[:,:,s0.physics.get_state_index(\"pDensityM\")] = dQ[:,:,s0.physics.get_state_index(\"pDensityM\")]\n",
    "# dQ.shape\n",
    "\n",
    "print(f\"{norm(Q0):.3e}\")\n",
    "\n",
    "for i in range(100):\n",
    "        Q, dQ = eval_relaxeqn(s0)\n",
    "\n",
    "        # Constrain weight ratio, rather than weight fraction (for now)\n",
    "        ratio = s0.state_coeffs[:,:,s0.physics.get_state_index(\"pDensityWv\")] \\\n",
    "                / s0.state_coeffs[:,:,s0.physics.get_state_index(\"pDensityM\")]\n",
    "\n",
    "        # Construct step\n",
    "        v = np.zeros_like(dQ)\n",
    "        v[:, :, s0.physics.get_state_index(\"pDensityWv\")] = ratio\n",
    "        v[:, :, s0.physics.get_state_index(\"pDensityM\")] = 1.0\n",
    "        v /= norm(v, axis=-1, keepdims=True)\n",
    "\n",
    "        # Evaluate directional derivative\n",
    "        DvQ = np.einsum(\"ijk, ijl -> ij\", dQ, v)\n",
    "\n",
    "        step_size = - relax_param * DvQ\n",
    "        # Step limiting\n",
    "        step_guess = np.einsum(\"ij, ijk -> ijk\", step_size, v)[:,:,1:3]\n",
    "        step_size_factor = np.minimum(0.5*np.ones_like(step_guess),\n",
    "                (1e-11 + np.abs(step_guess)) / (1e-11 + s0.state_coeffs[:,:,1:3])) \\\n",
    "                * (1e-11 + s0.state_coeffs[:,:,1:3]) / (1e-11 + np.abs(step_guess))\n",
    "        step_size *= np.min(step_size_factor, axis=2)\n",
    "        \n",
    "        # DvQ = (Q.squeeze(axis=2)/np.einsum(\"ijk, ijl -> ij\", dQ, v))\n",
    "        step_dir = np.einsum(\"ij, ijk -> ijk\", step_size, v)\n",
    "        \n",
    "        s0.state_coeffs += step_dir\n",
    "        Q, dQ = eval_relaxeqn(s0)\n",
    "        print(f\"{norm(Q):.3e}\")\n",
    "\n",
    "# Check ratio constraint\n",
    "# s0.state_coeffs[:,:,s0.physics.get_state_index(\"pDensityWv\")] \\\n",
    "        # / s0.state_coeffs[:,:,s0.physics.get_state_index(\"pDensityM\")]\n",
    "# print(s0.state_coeffs)\n",
    "# step_size\n",
    "\n",
    "print(Q/Q0)"
   ]
  },
  {
   "cell_type": "code",
   "execution_count": null,
   "metadata": {},
   "outputs": [],
   "source": [
    "import numerics.helpers.helpers as helpers\n",
    "s0 = copy.deepcopy(solver)\n",
    "\n",
    "p_top = 1e5 # Specify boundary condition at top: pressure = p_atm\n",
    "def eval_relaxeqn(s0):\n",
    "# if True:\n",
    "\t''' Compute gradients of hydrostatic equation residual with respect to all states'''\n",
    "\t# Shorthand the state coefficients\n",
    "\tUq = s0.state_coeffs\n",
    "\tUq = helpers.evaluate_state(s0.state_coeffs, s0.elem_helpers.basis_val,\n",
    "\t\t\t\tskip_interp=s0.basis.skip_interp)\n",
    "\n",
    "\t# Compute dp/dq (ne, nd, nq)\n",
    "\tdpdq = s0.physics.compute_pressure_sgradient(s0.state_coeffs)\n",
    "\t# Compute (u^2 + p) . grad(phi) == p . grad(phi)\n",
    "\tFq = s0.physics.get_conv_flux_interior(Uq)[0] # [ne, nq, ns, ndims]\n",
    "\tfdotgradphi = solver_tools.calculate_volume_flux_integral(\n",
    "\t\t\t\t\t\ts0, s0.elem_helpers, Fq) # [ne, nb, ns]\n",
    "\t# Compute dp/dq . grad(phi)\n",
    "\tdpdqdotgradphi = solver_tools.calculate_volume_flux_integral(\n",
    "\t\t\t\t\t\ts0, s0.elem_helpers, np.expand_dims(dpdq,axis=3)) # [ne, nb, ns]\n",
    "\n",
    "\tinterior_res = np.zeros_like(Uq)\n",
    "\tsolver.get_interior_face_residuals(Uq, interior_res)\n",
    "\tdinterior_res = dpdq * interior_res\n",
    "\n",
    "\t# Manual hack\n",
    "\tbdry_res = np.zeros_like(Uq)\n",
    "\tsolver.get_boundary_face_residuals(Uq, bdry_res)\n",
    "\t# Override bdry pressure\n",
    "\tbdry_res[-1,:,s0.physics.get_state_index(\"XMomentum\")] = -p_top\n",
    "\tdbdry_res = dpdq * bdry_res\n",
    "\n",
    "\t# Compute dS/dq (ne, nd, nq), where S = -rho*g\n",
    "\tdSdq = s0.physics.source_terms[0].get_jacobian(\n",
    "\t\ts0.physics, s0.state_coeffs, s0.mesh.node_coords, s0.time\\\n",
    "\t\t)[:,:,s0.physics.get_state_index(\"XMomentum\"),:]\n",
    "\t# Compute S . phi == (-rho*g) . phi\n",
    "\tSq = np.zeros_like(Uq)\n",
    "\tSq = s0.physics.eval_source_terms(Uq, s0.mesh.node_coords, s0.time, Sq) # [ne, nq, ns]\n",
    "\tSphi = solver_tools.calculate_source_term_integral(\n",
    "\t\t\ts0.elem_helpers, Sq) # [ne, nb, ns]\n",
    "\t# Compute dSdq . phi\n",
    "\tdSphi = solver_tools.calculate_source_term_integral(\n",
    "\t\t\ts0.elem_helpers, dSdq) # [ne, nb, ns]\n",
    "\n",
    "\t# Compute objective residual (sum on RHS) across all indices\n",
    "\tR_all_indices = interior_res + fdotgradphi + Sphi + bdry_res\n",
    "\t# Constrain to pressure index\n",
    "\tR = R_all_indices[:,:,s0.physics.get_momentum_slice()]\n",
    "\t# Compute derivative of residual with respect to state\n",
    "\tdR = dpdqdotgradphi + dSphi + dinterior_res + dbdry_res # [ne, nb, ns]\n",
    "\n",
    "\t# Get quadratic problem\n",
    "\tQ = 0.5 * R**2\n",
    "\tdQ = R * dR\n",
    "\n",
    "\treturn Q, dQ"
   ]
  }
 ],
 "metadata": {
  "kernelspec": {
   "display_name": "Python 3.9.1 64-bit",
   "language": "python",
   "name": "python3"
  },
  "language_info": {
   "codemirror_mode": {
    "name": "ipython",
    "version": 3
   },
   "file_extension": ".py",
   "mimetype": "text/x-python",
   "name": "python",
   "nbconvert_exporter": "python",
   "pygments_lexer": "ipython3",
   "version": "3.9.1"
  },
  "orig_nbformat": 4,
  "vscode": {
   "interpreter": {
    "hash": "81794d4967e6c3204c66dcd87b604927b115b27c00565d3d43f05ba2f3a2cb0d"
   }
  }
 },
 "nbformat": 4,
 "nbformat_minor": 2
}
