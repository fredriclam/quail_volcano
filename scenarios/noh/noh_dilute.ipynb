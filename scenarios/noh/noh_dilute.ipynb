{
 "cells": [
  {
   "cell_type": "markdown",
   "metadata": {},
   "source": [
    "### General EOS Noh problem"
   ]
  },
  {
   "cell_type": "code",
   "execution_count": 2,
   "metadata": {},
   "outputs": [],
   "source": [
    "%load_ext autoreload\n",
    "%autoreload 2"
   ]
  },
  {
   "cell_type": "code",
   "execution_count": 3,
   "metadata": {},
   "outputs": [],
   "source": [
    "# Config\n",
    "import copy\n",
    "import os\n",
    "import numpy as np\n",
    "from numpy.linalg import norm\n",
    "import matplotlib\n",
    "import matplotlib.pyplot as plt\n",
    "import scipy.integrate\n",
    "import scipy.interpolate\n",
    "\n",
    "# Path for ffmpeg (if animations are needed)\n",
    "plt.rcParams['animation.ffmpeg_path'] = \"C:\\\\Users\\\\Fredric\\\\Documents\\\\ffmpeg\\\\ffmpeg-n4.4-latest-win64-gpl-4.4\\\\bin\\\\ffmpeg.exe\"\n",
    "\n",
    "# Path for .pkl files output\n",
    "# target_dir = \"C:\\\\Users\\\\Fredric\\\\Documents\\\\Volcano\\\\quail_volcano\\\\scenarios\\\\tungurahua\\\\\"\n",
    "target_dir = \"C:\\\\Users\\\\Fredric\\\\Documents\\\\Volcano\\\\quail_volcano\\\\scenarios\\\\entrainment\\\\\"\n",
    "# target_dir = \"C:\\\\Users\\\\Fredric\\\\Documents\\\\Volcano\\\\quail_volcano\\\\scenarios\\\\results_dx4m\\\\\"\n",
    "\n",
    "# Path for Quail source code\n",
    "source_dir = \"C:\\\\Users\\\\Fredric\\\\Documents\\\\Volcano\\\\quail_volcano\\\\src\\\\\"\n",
    "\n",
    "# Path for Quail entry point\n",
    "quail_path = os.path.join(source_dir, \"quail\")"
   ]
  },
  {
   "cell_type": "code",
   "execution_count": 4,
   "metadata": {},
   "outputs": [],
   "source": [
    "# Import quail modules\n",
    "os.chdir(source_dir)\n",
    "import argparse\n",
    "import importlib\n",
    "import sys\n",
    "import scipy\n",
    "\n",
    "import defaultparams as default_deck\n",
    "import errors\n",
    "from general import ShapeType, SolverType, PhysicsType\n",
    "\n",
    "import meshing\n",
    "import meshing.common as mesh_common\n",
    "import meshing.gmsh as mesh_gmsh\n",
    "import meshing.tools as mesh_tools\n",
    "\n",
    "import numerics.helpers.helpers as helpers\n",
    "import numerics.timestepping.tools as stepper_tools\n",
    "\n",
    "import physics.zerodimensional.zerodimensional as zerod\n",
    "import physics.euler.euler as euler\n",
    "import physics.navierstokes.navierstokes as navierstokes\n",
    "import physics.scalar.scalar as scalar\n",
    "import physics.chemistry.chemistry as chemistry\n",
    "import physics.multiphasevpT.multiphasevpT as multiphasevpT\n",
    "import physics.multiphaseWLMA.multiphaseWLMA as multiphaseWLMA\n",
    "import physics.multiphaseWLMA.iapws95_light.mixtureWLMA as mixtureWLMA\n",
    "import physics.multiphasevpT.atomics as atomics\n",
    "\n",
    "import processing.readwritedatafiles as readwritedatafiles\n",
    "import processing.post as post\n",
    "import processing.plot as plot\n",
    "import processing\n",
    "import processing.mdtools as mdtools\n",
    "\n",
    "import solver.DG as DG\n",
    "import solver.ADERDG as ADERDG\n",
    "import solver.tools as solver_tools\n",
    "\n",
    "import time\n",
    "import multiprocessing as mp\n",
    "from multidomain import Domain, Observer\n",
    "\n",
    "from types import SimpleNamespace\n",
    "\n",
    "os.chdir(target_dir)"
   ]
  },
  {
   "cell_type": "markdown",
   "metadata": {},
   "source": [
    "#### Axisymmetric Noh for mixture "
   ]
  },
  {
   "cell_type": "code",
   "execution_count": 5,
   "metadata": {},
   "outputs": [],
   "source": [
    "# Instantiate physics object\n",
    "physics = multiphasevpT.MultiphasevpT1D(meshing.meshbase.Mesh())\n",
    "# Set default physical parameters\n",
    "physics.set_physical_params()"
   ]
  },
  {
   "cell_type": "code",
   "execution_count": 6,
   "metadata": {},
   "outputs": [
    {
     "data": {
      "text/plain": [
       "(array([[[0.999962944435181]]]), 1.0000000000000002, 3.8713238266944657e-07)"
      ]
     },
     "execution_count": 6,
     "metadata": {},
     "output_type": "execute_result"
    }
   ],
   "source": [
    "# Set mass fraction (air, water vapor, magma)\n",
    "yM = 0.1\n",
    "yVec = np.array([1-yM, 0.0*yM, yM])[np.newaxis, np.newaxis, :]\n",
    "# yVec = np.array([0.2*0.5, 0.8*0.5, 0.5])[np.newaxis, np.newaxis, :]\n",
    "# yVec = np.array([1-2e-6, 1e-6, 1e-6])[np.newaxis, np.newaxis, :]\n",
    "# yVec = np.array([1-1e-3*0, 0, 0*1e-3])[np.newaxis, np.newaxis, :]\n",
    "# Set reference state\n",
    "p_inf   = 1e-4\n",
    "# Pick T_inf such that rho_inf == 1\n",
    "T_inf_guess   = 2.5e-3*p_inf\n",
    "def rho_pT(p, T):\n",
    "  v_inf = atomics.mixture_spec_vol(yVec, p, T, physics)\n",
    "  rho_inf = float(1.0 / v_inf)\n",
    "  return rho_inf\n",
    "# Solve for T_inf\n",
    "T_inf_soln = scipy.optimize.root_scalar(lambda T: rho_pT(p_inf, T) - 1.0,\n",
    "  x0=T_inf_guess,\n",
    "  x1=2*T_inf_guess,\n",
    "  xtol=1e-16, rtol=1e-8)\n",
    "if not T_inf_soln.converged:\n",
    "  raise ValueError(f\"T_inf did not converge: dumping soln object: {T_inf_soln}\")\n",
    "T_inf = T_inf_soln.root\n",
    "rho_inf = rho_pT(p_inf, T_inf)\n",
    "v_inf = 1.0 / rho_inf\n",
    "# Compute mass-fraction-dependent quantities\n",
    "Gamma = atomics.Gamma(yVec, physics)\n",
    "# Define kappa index\n",
    "kappa = (Gamma - 1) / Gamma\n",
    "# Check gas volume fraction of inf state\n",
    "phi_inf = atomics.gas_volfrac(rho_inf * yVec, T_inf, physics)\n",
    "phi_inf, rho_inf, T_inf"
   ]
  },
  {
   "cell_type": "code",
   "execution_count": 7,
   "metadata": {},
   "outputs": [],
   "source": [
    "''' Tools for computing pressure along isentrope.\n",
    "Isentropic relation + equation of state leaves one degree of freedom for\n",
    "thermodynamic state (mixture density). '''\n",
    "\n",
    "def bulk_modulus(rho, p, T):\n",
    "  ''' Isentropic bulk modulus '''\n",
    "  arhoVec = yVec * rho\n",
    "  Gamma = atomics.Gamma(arhoVec, physics)\n",
    "  phi = atomics.gas_volfrac(arhoVec, T, physics)\n",
    "  c   = atomics.sound_speed(Gamma, p, rho, phi, physics)\n",
    "  return rho * c * c\n",
    "\n",
    "def volume_residual(p, rho, p_inf, T_inf) -> float:\n",
    "  T = T_inf * (p / p_inf) ** kappa\n",
    "  v = atomics.mixture_spec_vol(yVec, p, T, physics)\n",
    "  return float(v - 1 / rho)\n",
    "\n",
    "def p_along_isentrope(rho_target, p_inf, T_inf):\n",
    "  soln = scipy.optimize.root_scalar(\n",
    "    lambda p: volume_residual(p, rho_target, p_inf, T_inf),\n",
    "      x0=p_inf, x1=p_inf*1.1,\n",
    "      rtol=1e-8)\n",
    "  if not soln.converged:\n",
    "    raise ValueError(f\"Root-finding failed. Dumping soln object: {soln}\")\n",
    "  return soln.root"
   ]
  },
  {
   "cell_type": "code",
   "execution_count": 8,
   "metadata": {},
   "outputs": [
    {
     "name": "stdout",
     "output_type": "stream",
     "text": [
      "Inverted p_s(rho), K_s(rho) relations: \n",
      "Recall bulk modulus of ideal gas: gamma * p\n"
     ]
    },
    {
     "data": {
      "image/png": "[encoded data removed]",
      "text/plain": [
       "<Figure size 432x288 with 1 Axes>"
      ]
     },
     "metadata": {
      "needs_background": "light"
     },
     "output_type": "display_data"
    }
   ],
   "source": [
    "# Test atomics\n",
    "arhoVec = yVec * rho_inf\n",
    "phi = atomics.gas_volfrac(arhoVec, T_inf, physics)\n",
    "c   = atomics.sound_speed(Gamma, p_inf, rho_inf, phi, physics)\n",
    "K = bulk_modulus(rho_inf, p_inf, T_inf)\n",
    "\n",
    "# Show residual for one target density\n",
    "test_one_case = False\n",
    "if test_one_case:\n",
    "  rho_target = 10.0\n",
    "  p_range = np.geomspace(1, 1e7, 200)\n",
    "  vol_res = [(volume_residual(p, rho_target, p_inf, T_inf)**2) for p in p_range]\n",
    "  plt.loglog(p_range, vol_res, '.-')\n",
    "  # Set new figure for future plotting\n",
    "  plt.figure()\n",
    "\n",
    "# Compute interpolation range\n",
    "p_isentrope = np.geomspace(1e-9, 1e9, 1000000)[:, np.newaxis, np.newaxis]\n",
    "T_isentrope = T_inf * (p_isentrope / p_inf) ** kappa\n",
    "rho_isentrope = 1.0 / atomics.mixture_spec_vol(\n",
    "  yVec,\n",
    "  p_isentrope,\n",
    "  T_isentrope,\n",
    "  physics)\n",
    "K_isentrope = bulk_modulus(rho_isentrope, p_isentrope, T_isentrope)\n",
    "\n",
    "# plt.figure(figsize=(12,6))\n",
    "# plt.subplot(1,2,1)\n",
    "plt.plot(rho_isentrope.ravel(), p_isentrope.ravel(), '-')\n",
    "plt.xlabel(\"Mixture density (kg/m^3)\")\n",
    "# plt.ylabel(\"Pressure (Pa)\")\n",
    "# plt.subplot(1,2,2)\n",
    "plt.plot(rho_isentrope.ravel(), K_isentrope.ravel(), '.-')\n",
    "plt.plot(rho_isentrope.ravel(), (Gamma * p_isentrope).ravel(), '--')\n",
    "\n",
    "# plt.xlabel(\"Mixture density (kg/m^3)\")\n",
    "# plt.ylabel(\"Bulk modulus (Pa)\")\n",
    "plt.ylabel(\"(Pa)\")\n",
    "plt.legend([\"Pressure $p$\", \"Bulk modulus $K$\", \"$\\Gamma p$\"])\n",
    "\n",
    "print(\"Inverted p_s(rho), K_s(rho) relations: \")\n",
    "print(\"Recall bulk modulus of ideal gas: gamma * p\")"
   ]
  },
  {
   "cell_type": "code",
   "execution_count": 9,
   "metadata": {},
   "outputs": [],
   "source": [
    "''' Bind interpolants '''\n",
    "K_rho:callable = scipy.interpolate.CubicSpline(rho_isentrope.ravel(), K_isentrope.ravel())\n",
    "p_rho:callable = scipy.interpolate.CubicSpline(rho_isentrope.ravel(), p_isentrope.ravel())"
   ]
  },
  {
   "cell_type": "code",
   "execution_count": 10,
   "metadata": {},
   "outputs": [
    {
     "data": {
      "text/plain": [
       "0.00012731637519494384"
      ]
     },
     "execution_count": 10,
     "metadata": {},
     "output_type": "execute_result"
    }
   ],
   "source": [
    "K_rho(rho_inf) / rho_inf"
   ]
  },
  {
   "cell_type": "code",
   "execution_count": 11,
   "metadata": {},
   "outputs": [
    {
     "name": "stdout",
     "output_type": "stream",
     "text": [
      "Testing one ODE solve...\n",
      "Last xU: -1.0000000007753862\n",
      "u_inf:   300.00000023261583\n"
     ]
    },
    {
     "data": {
      "image/png": "[encoded data removed]",
      "text/plain": [
       "<Figure size 432x288 with 1 Axes>"
      ]
     },
     "metadata": {
      "needs_background": "light"
     },
     "output_type": "display_data"
    },
    {
     "data": {
      "image/png": "[encoded data removed]",
      "text/plain": [
       "<Figure size 432x288 with 1 Axes>"
      ]
     },
     "metadata": {
      "needs_background": "light"
     },
     "output_type": "display_data"
    }
   ],
   "source": [
    "def RHS(x, q, us):\n",
    "  ''' ODE RHS with \n",
    "    q = [U, N],\n",
    "  and Aq' = b(q) from\n",
    "    (U-1) (U+xU') + K/(rho_inf*us**2) * N' / (N*N) == 0 # Momentum\n",
    "    (U-1) x N' / N + 2U + xU' == 0.                     # Mass\n",
    "  Here x is the similarity variable.\n",
    "  '''\n",
    "  U, N = q\n",
    "  \n",
    "  # Ideal gas bulk modulus\n",
    "  rho = N * rho_inf\n",
    "  K = float(K_rho(rho))\n",
    "  # Compute inv(A) @ b\n",
    "  A = np.array([[(U-1)*x, K/(rho_inf*us**2) / (N*N)], [x, (U-1) * x / N]])\n",
    "  b = np.array([(1-U)*U,-2*U])\n",
    "  _detA = A[1,1] * A[0,0] - A[1,0] * A[0, 1]\n",
    "  x = np.zeros_like(b)\n",
    "  x[0] = (A[1,1] * b[0] - A[0,1] * b[1]) / _detA\n",
    "  x[1] = (-A[1,0] * b[0] + A[0,0] * b[1]) / _detA\n",
    "  return x\n",
    "\n",
    "def solve_outer(q0, us):\n",
    "  ''' Return solution object for outer solution '''\n",
    "  return scipy.integrate.solve_ivp(lambda x, q: RHS(x, q, us), [1, 10_000], q0)\n",
    "\n",
    "# Solve infinity boundary condition residual\n",
    "def inf_residual(U, N, us):\n",
    "  ''' Solve outer problem and return infinity BC residual (N - 1)'''\n",
    "  out = solve_outer(np.array([U, N]), us)\n",
    "  return out.y[1,-1] - 1\n",
    "\n",
    "''' Compute N(x=1) that satisfies infinity boundary condition '''\n",
    "def match_infty_N_BC(U0, us):\n",
    "  rootf_soln = scipy.optimize.root_scalar(lambda N: inf_residual(U0, N, us),\n",
    "                                          bracket=[1e-5, 1e5], method='brenth')\n",
    "  if not rootf_soln.converged:\n",
    "    raise ValueError(f\"Could not converge root-finding for N(1). Dumping \"\n",
    "                     + f\"returned solution from root_scalar.\\n{rootf_soln}\")\n",
    "  return rootf_soln\n",
    "\n",
    "# Try test values\n",
    "U0 = -1.0\n",
    "us = 300\n",
    "# Generate test plot for residual as a function of N (want root of residual)\n",
    "_test_N_vector = np.linspace(0.01, 10, 31)\n",
    "_test_residual_vector = [inf_residual(U0, N, us) for N in _test_N_vector]\n",
    "plt.plot(_test_N_vector, _test_residual_vector, '.-')\n",
    "plt.ylabel(\"N($+\\infty$) - 1\")\n",
    "plt.xlabel(\"N(1)\")\n",
    "\n",
    "''' Compute outer solution. '''\n",
    "rootf_soln = match_infty_N_BC(U0, us)\n",
    "N0 = rootf_soln.root\n",
    "q0 = np.array([U0, N0])\n",
    "# Solve outer solution\n",
    "out = solve_outer(q0, us)\n",
    "# Extract u_inf from asymptotic value\n",
    "u_inf = -us * (out.t[-1] * out.y[0,-1])\n",
    "\n",
    "# Plot outer solution with initial guess for interface (U, N)\n",
    "plt.figure()\n",
    "plt.semilogy(out.t, -out.t * out.y[0,:], 'k.-')\n",
    "plt.plot(out.t, out.y[1,:], 'r.-')\n",
    "plt.plot(out.t, np.ones_like(out.t), 'r--')\n",
    "plt.title(\"Black: xU    Red: N (asymptotic 1)\")\n",
    "print(\"Testing one ODE solve...\")\n",
    "print(f\"Last xU: {out.t[-1] * out.y[0,-1]}\")\n",
    "print(f\"u_inf:   {u_inf}\")"
   ]
  },
  {
   "cell_type": "code",
   "execution_count": 12,
   "metadata": {},
   "outputs": [],
   "source": [
    "def compute_shock_velocity_mixture(q, us, full_output:bool=False):\n",
    "  ''' Using q == (U, N), compute the shock velocity satisfiying RH.\n",
    "  Mass is used to compute density.\n",
    "  Hugoniot (mixed mass-momentum-energy) is used to compute pressure.\n",
    "  Momentum is used to compute shock velocity. '''\n",
    "\n",
    "  Uplus, Nplus = q\n",
    "  # Compute dimensional quantities on either side of the shock\n",
    "  Nminus = Nplus * (1 - Uplus)\n",
    "  rhominus = rho_inf * Nminus\n",
    "  rhoplus  = rho_inf * Nplus\n",
    "  vminus = 1.0 / rhominus\n",
    "  vplus = 1.0 / rhoplus\n",
    "  uminus = 0\n",
    "  uplus = Uplus * us\n",
    "  pplus = p_rho(rhoplus)\n",
    "  # Unpack material properties (external)\n",
    "  yM = float(yVec[...,2])\n",
    "  K = physics.Liquid[\"K\"]\n",
    "  rhom0 = physics.Liquid[\"rho0\"]\n",
    "  pm0 = physics.Liquid[\"p0\"]\n",
    "  # Compute gas volume fraction\n",
    "  phiplus = 1 - yM * rhoplus / (rhom0 * (1 + (pplus - pm0) / K))\n",
    "\n",
    "  # Compute post-shock pressure from Hugoniot:\n",
    "  _a = 0.5 * (Gamma-1) * (vminus - vplus) +  vminus\n",
    "  _b = yM * K / rhom0\n",
    "  _c = K - pm0 \n",
    "  _d = -0.5 * (Gamma-1) * (vminus - vplus) * pplus + phiplus * pplus * vplus\n",
    "  # Quadratic formula\n",
    "  _A = _a\n",
    "  _B = _a * _c - _b - _d\n",
    "  _C = -_c * _d\n",
    "  rootminus = 0.5 / _A * (-_B - np.sqrt(_B*_B - 4*_A*_C))\n",
    "  rootplus = 0.5 / _A * (-_B + np.sqrt(_B*_B - 4*_A*_C))\n",
    "  pminus = float(rootplus)\n",
    "  # Output shock velocity from momentum condition\n",
    "  us_out = (pplus - pminus) / (rhominus * uplus)\n",
    "  if full_output:\n",
    "    return us_out, {\n",
    "      \"pminus\": pminus,\n",
    "      \"pplus\": pplus,\n",
    "      \"rhominus\": rhominus,\n",
    "      \"rhoplus\": rhoplus,\n",
    "      \"rootminus\": rootminus,\n",
    "      \"rootplus\": rootplus,\n",
    "    }\n",
    "  return float(us_out)"
   ]
  },
  {
   "cell_type": "code",
   "execution_count": 13,
   "metadata": {},
   "outputs": [
    {
     "name": "stdout",
     "output_type": "stream",
     "text": [
      "(8.923823801128757e-07, {'pminus': 0.0005985809904486914, 'pplus': array(0.000241663729988), 'rhominus': 3.9996000415860635, 'rhoplus': 1.9998000207930318, 'rootminus': array([[[-9.9932843852381e+09]]]), 'rootplus': array([[[0.000598580990449]]])})\n",
      "Note that rootminus is unphysical.\n"
     ]
    }
   ],
   "source": [
    "''' Check output of one RH-solve '''\n",
    "print(compute_shock_velocity_mixture(q0, 100, full_output=True))\n",
    "print(\"Note that rootminus is unphysical.\")"
   ]
  },
  {
   "cell_type": "code",
   "execution_count": 14,
   "metadata": {},
   "outputs": [
    {
     "data": {
      "text/plain": [
       "array([[[-7.322880371660855]]])"
      ]
     },
     "execution_count": 14,
     "metadata": {},
     "output_type": "execute_result"
    }
   ],
   "source": [
    "''' Check feasible values of U '''\n",
    "-2/(Gamma-1)"
   ]
  },
  {
   "cell_type": "code",
   "execution_count": 15,
   "metadata": {},
   "outputs": [
    {
     "data": {
      "text/plain": [
       "[<matplotlib.lines.Line2D at 0x254d92f27f0>]"
      ]
     },
     "execution_count": 15,
     "metadata": {},
     "output_type": "execute_result"
    },
    {
     "data": {
      "image/png": "[encoded data removed]",
      "text/plain": [
       "<Figure size 432x288 with 1 Axes>"
      ]
     },
     "metadata": {
      "needs_background": "light"
     },
     "output_type": "display_data"
    }
   ],
   "source": [
    "''' Map Hugoniot residual for fixed U0 '''\n",
    "U0 = -2/(float(Gamma)-1) + 8e-2\n",
    "# U0 = -4 + 1e-2 #ideal gas\n",
    "# For dilute mixture:\n",
    "# U0 = -2/(float(Gamma)-1) + 1e-5 # -13. # -2/(Gamma-1)\n",
    "\n",
    "# Hugoniot residual\n",
    "def compute_hugoniot_residual(U0, us):\n",
    "  rootf_soln = match_infty_N_BC(U0, us)\n",
    "  N0 = rootf_soln.root\n",
    "  us_hugoniot = compute_shock_velocity_mixture(np.array([U0, N0]), us)\n",
    "  return us_hugoniot - us\n",
    "\n",
    "test_us_vector = np.linspace(5, 5000 ,50) # np.linspace(100, 500 ,50)\n",
    "test_hres_vector = [compute_hugoniot_residual(U0, us) for us in test_us_vector]\n",
    "plt.plot(test_us_vector, test_hres_vector, '.-')"
   ]
  },
  {
   "cell_type": "code",
   "execution_count": 16,
   "metadata": {},
   "outputs": [
    {
     "data": {
      "text/plain": [
       "      converged: True\n",
       "           flag: 'converged'\n",
       " function_calls: 11\n",
       "     iterations: 10\n",
       "           root: 0.05725924199527743"
      ]
     },
     "execution_count": 16,
     "metadata": {},
     "output_type": "execute_result"
    }
   ],
   "source": [
    "''' Use visual curve for initial guess to iterative solver for Hugoniot residual. '''\n",
    "us_soln = scipy.optimize.root_scalar(lambda us: compute_hugoniot_residual(U0, us),\n",
    "                                     x0=1e-5, x1=.2, method='secant')\n",
    "us_soln"
   ]
  },
  {
   "cell_type": "code",
   "execution_count": 17,
   "metadata": {},
   "outputs": [
    {
     "name": "stdout",
     "output_type": "stream",
     "text": [
      "U, N compared to asymptotic (K = 0) strong shock pseudogas solution\n"
     ]
    },
    {
     "data": {
      "image/png": "[encoded data removed]",
      "text/plain": [
       "<Figure size 864x360 with 2 Axes>"
      ]
     },
     "metadata": {
      "needs_background": "light"
     },
     "output_type": "display_data"
    }
   ],
   "source": [
    "''' Solve interior solution '''\n",
    "\n",
    "# Use fixed U0, solved shock velocty us to compute N0\n",
    "rootf_soln = match_infty_N_BC(U0, us_soln.root)\n",
    "N0 = rootf_soln.root\n",
    "out = solve_outer(np.array([U0, N0]), us_soln.root)\n",
    "# Compute (Uminus, Nminus,) from mass RH\n",
    "Uminus = 0\n",
    "Nminus = rootf_soln.root * (1 - U0)\n",
    "qminus = np.array([Uminus, Nminus])\n",
    "# Solve interior solution numerically\n",
    "soln_interior = scipy.integrate.solve_ivp(lambda x, q: RHS(x, q, us_soln.root), [1, 1e-4], qminus)\n",
    "is_show_asymptotic:bool = True\n",
    "\n",
    "plt.figure(figsize=(12,5))\n",
    "plt.subplot(1,2,1)\n",
    "# Exterior solution for -u/u_s\n",
    "plt.semilogx(out.t, -out.t * out.y[0,:], 'b.-')\n",
    "# Interior solution for -u/u_s\n",
    "plt.plot(soln_interior.t, -soln_interior.t * soln_interior.y[0,:], 'b.-')\n",
    "# Plot vertical jump\n",
    "plt.plot([1, 1], [-soln_interior.y[0,0], -out.y[0,0]], 'b-')\n",
    "\n",
    "# Plot infinite strength shock limit solution\n",
    "asymptotic_t = np.unique([*soln_interior.t, *out.t])\n",
    "asymptotic_u = np.where(asymptotic_t <= 1, \n",
    "                        np.zeros_like(asymptotic_t),\n",
    "                        2/(float(Gamma)-1))\n",
    "# Exterior asymptote\n",
    "if is_show_asymptotic:\n",
    "  plt.plot(asymptotic_t, asymptotic_u, 'k--')\n",
    "# Add labels\n",
    "plt.xlabel(\"$\\eta = x/(u_\\mathrm{s} t)$\")\n",
    "plt.ylabel(\"$-u/u_\\mathrm{s}$\")\n",
    "\n",
    "plt.subplot(1,2,2)\n",
    "# Exterior solution for rho/rho_infty\n",
    "plt.loglog(out.t, (1 - U0/out.t), 'b.-')\n",
    "# Interior solution\n",
    "plt.plot(soln_interior.t, soln_interior.y[1,:], 'b.-')\n",
    "# Plot vertical jump\n",
    "plt.plot([1, 1], [soln_interior.y[1,0], (1 - U0)], 'b-')\n",
    "\n",
    "# Infinite strength shock limit solution\n",
    "asymptotic_t = np.unique([*soln_interior.t, *out.t])\n",
    "asymptotic_rho = np.where(asymptotic_t <= 1, \n",
    "                          (1 - U0) ** 2,\n",
    "                          1 - U0/asymptotic_t)\n",
    "# Exterior asymptote\n",
    "if is_show_asymptotic:\n",
    "  plt.plot(asymptotic_t, asymptotic_rho, 'k--')\n",
    "# Add labels\n",
    "plt.xlabel(\"$\\eta = x/(u_\\mathrm{s} t)$\")\n",
    "plt.ylabel(r\"$\\rho/\\rho_{\\infty}$\")\n",
    "plt.tight_layout()\n",
    "print(\"U, N compared to asymptotic (K = 0) strong shock pseudogas solution\")"
   ]
  },
  {
   "cell_type": "code",
   "execution_count": 18,
   "metadata": {},
   "outputs": [
    {
     "name": "stdout",
     "output_type": "stream",
     "text": [
      "Density compression ratio: 8.242880e+00\n",
      "Pressure jump (difference), numerical ODE: 1.621217e+00\n",
      "Pressure ratio, numerical ODE: 1.099418e+03\n"
     ]
    }
   ],
   "source": [
    "''' Report compression ratios '''\n",
    "# Extract pressure ratio\n",
    "_, shocked_dict = compute_shock_velocity_mixture(\n",
    "  np.array([U0, rootf_soln.root]), us_soln.root, full_output=True)\n",
    "pminus = shocked_dict[\"pminus\"]\n",
    "pplus = shocked_dict[\"pplus\"]\n",
    "\n",
    "Nratio = Nminus / rootf_soln.root\n",
    "print(f\"Density compression ratio: {Nratio:e}\")\n",
    "print(f\"Pressure jump (difference), numerical ODE: {pminus - pplus:e}\")\n",
    "print(f\"Pressure ratio, numerical ODE: {pminus / pplus:e}\")"
   ]
  },
  {
   "cell_type": "code",
   "execution_count": 19,
   "metadata": {},
   "outputs": [
    {
     "name": "stdout",
     "output_type": "stream",
     "text": [
      "U0 (prescribed): -7.242880371660855\n",
      "U(x=+infty): -7.2850469906086435\n",
      "IC u based on U0: -0.4147218399437739\n",
      "IC u based on U(x=+infty)): -0.4171362685822279\n",
      "IC rho_inf: 1.0000000000000002\n",
      "BC rho: rho_inf * (1 + 0.4171362685822279 * t / x_BC)\n",
      "IC T_inf: 3.8713238266944657e-07\n"
     ]
    }
   ],
   "source": [
    "# Extract initial condition needed for numerical simulation\n",
    "N0 * rho_inf\n",
    "print(f\"U0 (prescribed): {U0}\")\n",
    "u_inf = out.y[0,-1] * out.t[-1] * us_soln.root\n",
    "print(f\"U(x=+infty): {out.y[0,-1] * out.t[-1]}\")\n",
    "print(f\"IC u based on U0: {U0 * us_soln.root}\")\n",
    "print(f\"IC u based on U(x=+infty)): {u_inf}\")\n",
    "print(f\"IC rho_inf: {rho_inf}\")\n",
    "print(f\"BC rho: rho_inf * (1 + {-u_inf} * t / x_BC)\")\n",
    "print(f\"IC T_inf: {T_inf}\")\n"
   ]
  },
  {
   "cell_type": "code",
   "execution_count": 20,
   "metadata": {},
   "outputs": [
    {
     "data": {
      "text/plain": [
       "0.05725924199527743"
      ]
     },
     "execution_count": 20,
     "metadata": {},
     "output_type": "execute_result"
    }
   ],
   "source": [
    "us_soln.root"
   ]
  },
  {
   "cell_type": "code",
   "execution_count": 21,
   "metadata": {},
   "outputs": [
    {
     "data": {
      "text/plain": [
       "array([[[0.999962944435181]]])"
      ]
     },
     "execution_count": 21,
     "metadata": {},
     "output_type": "execute_result"
    }
   ],
   "source": [
    "phi_inf"
   ]
  },
  {
   "cell_type": "code",
   "execution_count": 22,
   "metadata": {},
   "outputs": [
    {
     "data": {
      "text/plain": [
       "552.2075981582398"
      ]
     },
     "execution_count": 22,
     "metadata": {},
     "output_type": "execute_result"
    }
   ],
   "source": [
    "1 / 0.0018109131481262987"
   ]
  },
  {
   "cell_type": "code",
   "execution_count": 23,
   "metadata": {},
   "outputs": [
    {
     "data": {
      "text/plain": [
       "array([[[4.661440185830428]]])"
      ]
     },
     "execution_count": 23,
     "metadata": {},
     "output_type": "execute_result"
    }
   ],
   "source": [
    "1/(1 - 1/Gamma)"
   ]
  }
 ],
 "metadata": {
  "kernelspec": {
   "display_name": "Python 3",
   "language": "python",
   "name": "python3"
  },
  "language_info": {
   "codemirror_mode": {
    "name": "ipython",
    "version": 3
   },
   "file_extension": ".py",
   "mimetype": "text/x-python",
   "name": "python",
   "nbconvert_exporter": "python",
   "pygments_lexer": "ipython3",
   "version": "3.9.1"
  }
 },
 "nbformat": 4,
 "nbformat_minor": 2
}
