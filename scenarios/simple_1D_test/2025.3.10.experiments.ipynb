{
 "cells": [
  {
   "cell_type": "markdown",
   "metadata": {},
   "source": [
    "# Week of 2025.3.10\n",
    "\n",
    "Last week I tried to get the slip PR in a reviewable and mergable state. One of the points that Eric made was that I should make sure to update the get_jacobian function with my new state variable.\n",
    "\n",
    "> Related to the above, the full jacobian should be a bit larger when adding another dependent variable (slip). I doubt the jacobian function would modified by Fred to > account for this. In fact, I'm not sure if he broke the ability to do operator splitting and implicit time stepping when he added slip as a new variable. The truly correct thing would be to make sure the jacobian is correct, but that could be a lot of work, especially in the super general framework where Fred allows for nonlocal dependence on fields in the term that is treated implicitly. I'm not sure that it's worth your time to figure this out and implement the needed changes. But at least we ought to include some kind of comment in the code and/or repo about this. Personally, I would recommend that you not update this full jacobian, but instead make note of it. Then as part of the new set of code changes, add support for an implicit term that is local in space. That set of changes will include the correct treatment of slip-dependence of the implicit term.\n",
    "\n",
    "After a bit of investigation at the end of last week, I found that in order to handle one of the source terms implicity it was nessesary to mark a specific source as `implicit` and also change the timestepping method to [stang](https://en.wikipedia.org/wiki/Strang_splitting), which is basically a way to solve subproblems of a differential equation seperately and still guarantee second order accuracy. \n",
    "\n",
    "Before we merge the slip code, we want to make sure the general jacobian is correct. \n",
    "\n",
    "However, the more important goal is to implement \"local\" implicit updates rather.\n"
   ]
  },
  {
   "cell_type": "markdown",
   "metadata": {},
   "source": [
    "## 1.0 Imports"
   ]
  },
  {
   "cell_type": "code",
   "execution_count": 1,
   "metadata": {},
   "outputs": [],
   "source": [
    "import os\n",
    "import numpy as np\n",
    "import matplotlib.pyplot as plt\n",
    "\n",
    "# Modify base path for depending on your file structure.\n",
    "BASE_PATH = \"/Users/paxton/git\"\n",
    "\n",
    "# Specify path where .pkl files are located\n",
    "target_dir = f\"{BASE_PATH}/quail_volcano/scenarios/simple_1D_test\"\n",
    "# Specify path for Quail source code\n",
    "source_dir = f\"{BASE_PATH}/quail_volcano/src\"\n",
    "# Change to working directory\n",
    "os.chdir(target_dir)\n",
    "\n",
    "\n",
    "# Import quail modules\n",
    "os.chdir(source_dir)\n",
    "\n",
    "import meshing.tools as mesh_tools\n",
    "\n",
    "import numerics.helpers.helpers as helpers\n",
    "import numerics.timestepping.tools as stepper_tools\n",
    "\n",
    "import physics.zerodimensional.zerodimensional as zerod\n",
    "import physics.euler.euler as euler\n",
    "import physics.navierstokes.navierstokes as navierstokes\n",
    "import physics.scalar.scalar as scalar\n",
    "import physics.chemistry.chemistry as chemistry\n",
    "import physics.multiphasevpT.multiphasevpT as multiphasevpT\n",
    "\n",
    "import processing.readwritedatafiles as readwritedatafiles\n",
    "import processing.post as post\n",
    "import processing.plot as plot\n",
    "import processing.animate as animate\n",
    "\n",
    "import solver.DG as DG\n",
    "import solver.ADERDG as ADERDG\n",
    "import solver.tools as solver_tools\n",
    "\n",
    "import time\n",
    "from IPython.display import HTML\n",
    "import multiprocessing as mp  \n",
    "from multidomain import Domain, Observer\n",
    "\n",
    "os.chdir(target_dir)"
   ]
  },
  {
   "cell_type": "markdown",
   "metadata": {},
   "source": [
    "## 1.1 Getting the slip code to a place where it is merge ready\n",
    "\n",
    "- When the default viscosity is set, set all partial derivatives with respect to $/mu$ equal to zero. "
   ]
  },
  {
   "cell_type": "code",
   "execution_count": null,
   "metadata": {},
   "outputs": [],
   "source": [
    "ani = animate.animate_conduit_pressure(\"slip_variable_addition\", iterations=100, file_prefix=\"short_plug_implicit_source\")\n",
    "\n",
    "HTML(ani.to_html5_video())"
   ]
  }
 ],
 "metadata": {
  "kernelspec": {
   "display_name": "venv",
   "language": "python",
   "name": "python3"
  },
  "language_info": {
   "codemirror_mode": {
    "name": "ipython",
    "version": 3
   },
   "file_extension": ".py",
   "mimetype": "text/x-python",
   "name": "python",
   "nbconvert_exporter": "python",
   "pygments_lexer": "ipython3",
   "version": "3.13.1"
  }
 },
 "nbformat": 4,
 "nbformat_minor": 2
}
