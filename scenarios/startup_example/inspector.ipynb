{
 "cells": [
  {
   "cell_type": "markdown",
   "metadata": {},
   "source": [
    "# Sample notebook for reading the output of quail\n",
    "\n",
    "Use this notebook after running \n",
    "\n",
    "```\n",
    "python3 quail conduit.py\n",
    "```\n",
    "\n",
    "in this folder (`scenarios/startup_example`). This simulation is a toy example for getting familiar with the QVolc workflow.\n",
    "\n",
    "If `quail` cannot be found, provide the absolute path to quail (`<your-installation-location>/quail_volcano/src/quail`) or add quail to your `$PATH` and `$PYTHONPATH`. For more information, see the readme in this folder or installation instructions on the github landing page. On some installations, use `python` instead of `python3`."
   ]
  },
  {
   "cell_type": "code",
   "execution_count": 1,
   "metadata": {},
   "outputs": [],
   "source": [
    "import os\n",
    "import numpy as np\n",
    "import matplotlib.pyplot as plt\n",
    "\n",
    "# Specify path where .pkl files are located\n",
    "\n",
    "target_dir = r\"C:\\Volcano\\mirror_quail_volcano\\quail_volcano\\scenarios\\startup_example\"\n",
    "# Specify path for Quail source code\n",
    "source_dir = r\"C:\\Volcano\\mirror_quail_volcano\\quail_volcano\\src\"\n",
    "# Change to working directory\n",
    "os.chdir(target_dir)"
   ]
  },
  {
   "cell_type": "code",
   "execution_count": 2,
   "metadata": {},
   "outputs": [],
   "source": [
    "# Import quail modules\n",
    "os.chdir(source_dir)\n",
    "\n",
    "import meshing.tools as mesh_tools\n",
    "\n",
    "import numerics.helpers.helpers as helpers\n",
    "import numerics.timestepping.tools as stepper_tools\n",
    "\n",
    "import physics.zerodimensional.zerodimensional as zerod\n",
    "import physics.euler.euler as euler\n",
    "import physics.navierstokes.navierstokes as navierstokes\n",
    "import physics.scalar.scalar as scalar\n",
    "import physics.chemistry.chemistry as chemistry\n",
    "import physics.multiphasevpT.multiphasevpT as multiphasevpT\n",
    "\n",
    "import processing.readwritedatafiles as readwritedatafiles\n",
    "import processing.post as post\n",
    "import processing.plot as plot\n",
    "\n",
    "import solver.DG as DG\n",
    "import solver.ADERDG as ADERDG\n",
    "import solver.tools as solver_tools\n",
    "\n",
    "import time\n",
    "import multiprocessing as mp  \n",
    "from multidomain import Domain, Observer\n",
    "\n",
    "os.chdir(target_dir)"
   ]
  },
  {
   "cell_type": "markdown",
   "metadata": {},
   "source": [
    "Loads a .pkl file, with index specified by `file_idx`, and plots the new state variable. For other variables see the subsequent code box."
   ]
  },
  {
   "cell_type": "code",
   "execution_count": 4,
   "metadata": {},
   "outputs": [
    {
     "data": {
      "text/plain": [
       "Text(0, 0.5, 'kg air per total volume m${}^3$')"
      ]
     },
     "execution_count": 4,
     "metadata": {},
     "output_type": "execute_result"
    },
    {
     "data": {
      "image/png": "[encoded data removed]",
      "text/plain": [
       "<Figure size 432x288 with 1 Axes>"
      ]
     },
     "metadata": {
      "needs_background": "light"
     },
     "output_type": "display_data"
    }
   ],
   "source": [
    "# Load a solver and interact\n",
    "try:\n",
    "  file_idx = 25\n",
    "  solver = readwritedatafiles.read_data_file(f\"test_output_{file_idx}.pkl\")\n",
    "except FileNotFoundError as e:\n",
    "  print(\"Output file not found -- check that the simulation was run (see top of notebook for instructions). \")\n",
    "  print(\"Output file not found -- check that the file location/folder is correct (variable source_dir). \")\n",
    "  raise e\n",
    "\n",
    "# solver.state_coeffs holds the solution values at the nodes of each element\n",
    "# The shape of state_coeffs is\n",
    "#   [ne, nb, ns]\n",
    "# where ne is the number of elements, nb is the number of nodes (also finite\n",
    "# element basis dimension) in each element, and ns is the number of states.\n",
    "\n",
    "# Here we access the partial density of water vapor by giving the name \"pDensityWv\" to\n",
    "# solver.physics.get_state_index; alternatively, we can directly use index 1\n",
    "pDensityWv = solver.state_coeffs[:, :, solver.physics.get_state_index(\"pDensityWv\")]\n",
    "\n",
    "# Time in the current .pkl file\n",
    "t = solver.time\n",
    "\n",
    "# Get the position of of each nodal points (location corresponding to each entry of pDensityX)\n",
    "nodal_pts = solver.basis.get_nodes(solver.order)\n",
    "# Allocate [ne] x [nb, ndims]\n",
    "x = np.empty((solver.mesh.num_elems,) + nodal_pts.shape)\n",
    "for elem_ID in range(solver.mesh.num_elems):\n",
    "  # Fill coordinates in physical space\n",
    "  x[elem_ID] = mesh_tools.ref_to_phys(solver.mesh, elem_ID, nodal_pts)\n",
    "\n",
    "# Due to the shape, plotting requires unraveling the states\n",
    "plt.plot(x.ravel(), pDensityWv.ravel())\n",
    "plt.xlabel(\"Depth (m)\")\n",
    "plt.ylabel(\"kg air per total volume m${}^3$\")"
   ]
  },
  {
   "cell_type": "markdown",
   "metadata": {},
   "source": [
    "Example of manipulating other variables"
   ]
  },
  {
   "cell_type": "code",
   "execution_count": 5,
   "metadata": {},
   "outputs": [
    {
     "name": "stdout",
     "output_type": "stream",
     "text": [
      "Temperature (and later pressure) are not uniform because with the gravity source, the initially uniform fluid starts to settle and interacts with the top and bottom walls (boundary conditions).\n"
     ]
    },
    {
     "data": {
      "image/png": "[encoded data removed]",
      "text/plain": [
       "<Figure size 432x288 with 1 Axes>"
      ]
     },
     "metadata": {
      "needs_background": "light"
     },
     "output_type": "display_data"
    }
   ],
   "source": [
    "# Partial density of air (i.e. mass of air per unit total volume)\n",
    "pDensityA = solver.state_coeffs[:, :, solver.physics.get_state_index(\"pDensityA\")]\n",
    "# Partial density of water vapour (exsolved water)jeff \n",
    "pDensityWv = solver.state_coeffs[:, :, solver.physics.get_state_index(\"pDensityWv\")]\n",
    "# Partial density of magma (melt + dissolved water + crystals)\n",
    "pDensityM = solver.state_coeffs[:, :, solver.physics.get_state_index(\"pDensityM\")]\n",
    "# Momentum per unit volume\n",
    "x_momentum = solver.state_coeffs[:, :, solver.physics.get_state_index(\"XMomentum\")]\n",
    "# Total energy (including kinetic) per unit volume\n",
    "energy_density = solver.state_coeffs[:, :, solver.physics.get_state_index(\"Energy\")]\n",
    "# Partial density of total water (exsolved water + dissolved water)\n",
    "# Note that dissolved water is Wt - Wv\n",
    "pDensityWt = solver.state_coeffs[:, :, solver.physics.get_state_index(\"pDensityWt\")]\n",
    "# Partial density of crystals\n",
    "pDensityC = solver.state_coeffs[:, :, solver.physics.get_state_index(\"pDensityC\")]\n",
    "\n",
    "# For additional variables:\n",
    "flag_non_physical = True\n",
    "p = solver.physics.compute_additional_variable(\n",
    "  \"Pressure\", solver.state_coeffs, flag_non_physical)\n",
    "T = solver.physics.compute_additional_variable(\n",
    "  \"Temperature\", solver.state_coeffs, flag_non_physical)\n",
    "soundspeed = solver.physics.compute_additional_variable(\n",
    "  \"SoundSpeed\", solver.state_coeffs, flag_non_physical)\n",
    "# For more variables, consult\n",
    "#   physics/multiphasevpT/multiphasevpT.py > MultiphasevpT > AdditionalVariables\n",
    "\n",
    "# Time\n",
    "t = solver.time\n",
    "# To get nodal points (x where each state is evaluated):\n",
    "# Get reference element nodes\n",
    "nodal_pts = solver.basis.get_nodes(solver.order)\n",
    "# Allocate [ne] x [nb, ndims]\n",
    "x = np.empty((solver.mesh.num_elems,) + nodal_pts.shape)\n",
    "for elem_ID in range(solver.mesh.num_elems):\n",
    "  # Fill coordinates in physical space\n",
    "  x[elem_ID] = mesh_tools.ref_to_phys(solver.mesh, elem_ID, nodal_pts)\n",
    "\n",
    "# Due to the shape, plotting requires unraveling the states\n",
    "plt.plot(x.ravel(), T.ravel())\n",
    "plt.xlabel(\"Depth (m)\")\n",
    "plt.ylabel(\"Temperature (K)\")\n",
    "print(\"Temperature (and later pressure) are not uniform because with the gravity source, the initially uniform fluid starts to settle and interacts with the top and bottom walls (boundary conditions).\")"
   ]
  },
  {
   "cell_type": "code",
   "execution_count": 6,
   "metadata": {},
   "outputs": [
    {
     "data": {
      "text/plain": [
       "Text(0, 0.5, 'Pressure (MPa)')"
      ]
     },
     "execution_count": 6,
     "metadata": {},
     "output_type": "execute_result"
    },
    {
     "data": {
      "image/png": "[encoded data removed]",
      "text/plain": [
       "<Figure size 432x288 with 1 Axes>"
      ]
     },
     "metadata": {
      "needs_background": "light"
     },
     "output_type": "display_data"
    }
   ],
   "source": [
    "# Due to the shape, plotting requires unraveling the states\n",
    "plt.plot(x.ravel(), p.ravel() / 1e6)\n",
    "plt.xlabel(\"Depth (m)\")\n",
    "plt.ylabel(\"Pressure (MPa)\")"
   ]
  }
 ],
 "metadata": {
  "kernelspec": {
   "display_name": "Python 3",
   "language": "python",
   "name": "python3"
  },
  "language_info": {
   "codemirror_mode": {
    "name": "ipython",
    "version": 3
   },
   "file_extension": ".py",
   "mimetype": "text/x-python",
   "name": "python",
   "nbconvert_exporter": "python",
   "pygments_lexer": "ipython3",
   "version": "3.9.1"
  }
 },
 "nbformat": 4,
 "nbformat_minor": 2
}
