{
 "cells": [
  {
   "cell_type": "code",
   "execution_count": 113,
   "metadata": {},
   "outputs": [],
   "source": [
    "import copy\n",
    "import os\n",
    "import numpy as np\n",
    "from numpy.linalg import norm\n",
    "import matplotlib.pyplot as plt\n",
    "\n",
    "# Path for .pkl files\n",
    "# target_dir = \"C:\\\\Users\\\\Fredric\\\\Documents\\\\Volcano\\\\quail_volcano\\\\scenarios\\\\mixture_shocktube\\\\\"\n",
    "target_dir = \"C:\\\\Users\\\\Fredric\\\\Documents\\\\Volcano\\\\quail_volcano\\\\scenarios\\\\mixture_shocktube\\\\pilot_runs\\\\\"\n",
    "# Path for Quail source code\n",
    "source_dir = \"C:\\\\Users\\\\Fredric\\\\Documents\\\\Volcano\\\\quail_volcano\\\\src\\\\\""
   ]
  },
  {
   "cell_type": "code",
   "execution_count": 114,
   "metadata": {},
   "outputs": [],
   "source": [
    "# Import quail modules\n",
    "os.chdir(source_dir)\n",
    "import argparse\n",
    "import importlib\n",
    "import sys\n",
    "\n",
    "import defaultparams as default_deck\n",
    "import errors\n",
    "from general import ShapeType, SolverType, PhysicsType\n",
    "\n",
    "import meshing.common as mesh_common\n",
    "import meshing.gmsh as mesh_gmsh\n",
    "import meshing.tools as mesh_tools\n",
    "\n",
    "import numerics.helpers.helpers as helpers\n",
    "import numerics.timestepping.tools as stepper_tools\n",
    "\n",
    "import physics.zerodimensional.zerodimensional as zerod\n",
    "import physics.euler.euler as euler\n",
    "import physics.navierstokes.navierstokes as navierstokes\n",
    "import physics.scalar.scalar as scalar\n",
    "import physics.chemistry.chemistry as chemistry\n",
    "import physics.multiphasevpT.multiphasevpT as multiphasevpT\n",
    "\n",
    "import processing.readwritedatafiles as readwritedatafiles\n",
    "import processing.post as post\n",
    "import processing.plot as plot\n",
    "\n",
    "import solver.DG as DG\n",
    "import solver.ADERDG as ADERDG\n",
    "import solver.tools as solver_tools\n",
    "\n",
    "import time\n",
    "import multiprocessing as mp\n",
    "from multidomain import Domain, Observer\n",
    "\n",
    "os.chdir(target_dir)"
   ]
  },
  {
   "cell_type": "code",
   "execution_count": null,
   "metadata": {},
   "outputs": [],
   "source": [
    "%%capture\n",
    "%run \"C:\\\\Users\\\\Fredric\\\\Documents\\\\Volcano\\\\quail_volcano\\\\src\\\\quail\" \"conduit.py\"\n",
    "# Run box to run"
   ]
  },
  {
   "cell_type": "code",
   "execution_count": 5,
   "metadata": {},
   "outputs": [
    {
     "ename": "KeyboardInterrupt",
     "evalue": "",
     "output_type": "error",
     "traceback": [
      "\u001b[1;31m---------------------------------------------------------------------------\u001b[0m",
      "\u001b[1;31mKeyboardInterrupt\u001b[0m                         Traceback (most recent call last)",
      "\u001b[1;32mc:\\Users\\Fredric\\Documents\\Volcano\\quail_volcano\\scenarios\\mixture_shocktube\\devpost.ipynb Cell 4'\u001b[0m in \u001b[0;36m<cell line: 22>\u001b[1;34m()\u001b[0m\n\u001b[0;32m     <a href='vscode-notebook-cell:/c%3A/Users/Fredric/Documents/Volcano/quail_volcano/scenarios/mixture_shocktube/devpost.ipynb#ch0000003?line=19'>20</a>\u001b[0m \tequal_aspect_ratio \u001b[39m=\u001b[39m \u001b[39mTrue\u001b[39;00m\n\u001b[0;32m     <a href='vscode-notebook-cell:/c%3A/Users/Fredric/Documents/Volcano/quail_volcano/scenarios/mixture_shocktube/devpost.ipynb#ch0000003?line=21'>22</a>\u001b[0m \u001b[39mfor\u001b[39;00m pltqty \u001b[39min\u001b[39;00m pltqtys:\n\u001b[1;32m---> <a href='vscode-notebook-cell:/c%3A/Users/Fredric/Documents/Volcano/quail_volcano/scenarios/mixture_shocktube/devpost.ipynb#ch0000003?line=22'>23</a>\u001b[0m \tplot\u001b[39m.\u001b[39;49mplot_solution(solver\u001b[39m.\u001b[39;49mmesh, solver\u001b[39m.\u001b[39;49mphysics, solver, pltqty,\n\u001b[0;32m     <a href='vscode-notebook-cell:/c%3A/Users/Fredric/Documents/Volcano/quail_volcano/scenarios/mixture_shocktube/devpost.ipynb#ch0000003?line=23'>24</a>\u001b[0m \t\t\t\tplot_numerical\u001b[39m=\u001b[39;49m\u001b[39mTrue\u001b[39;49;00m, plot_exact\u001b[39m=\u001b[39;49m\u001b[39mFalse\u001b[39;49;00m, plot_IC\u001b[39m=\u001b[39;49m\u001b[39mFalse\u001b[39;49;00m,\n\u001b[0;32m     <a href='vscode-notebook-cell:/c%3A/Users/Fredric/Documents/Volcano/quail_volcano/scenarios/mixture_shocktube/devpost.ipynb#ch0000003?line=24'>25</a>\u001b[0m \t\t\t\tcreate_new_figure\u001b[39m=\u001b[39;49m\u001b[39mTrue\u001b[39;49;00m, ylabel\u001b[39m=\u001b[39;49m\u001b[39mNone\u001b[39;49;00m, fmt\u001b[39m=\u001b[39;49m\u001b[39m'\u001b[39;49m\u001b[39mb.\u001b[39;49m\u001b[39m'\u001b[39;49m, legend_label\u001b[39m=\u001b[39;49m\u001b[39m\"\u001b[39;49m\u001b[39mDG\u001b[39;49m\u001b[39m\"\u001b[39;49m,\n\u001b[0;32m     <a href='vscode-notebook-cell:/c%3A/Users/Fredric/Documents/Volcano/quail_volcano/scenarios/mixture_shocktube/devpost.ipynb#ch0000003?line=25'>26</a>\u001b[0m \t\t\t\tequidistant_pts\u001b[39m=\u001b[39;49m\u001b[39mFalse\u001b[39;49;00m, include_mesh\u001b[39m=\u001b[39;49m\u001b[39mFalse\u001b[39;49;00m, regular_2D\u001b[39m=\u001b[39;49m\u001b[39mFalse\u001b[39;49;00m,\n\u001b[0;32m     <a href='vscode-notebook-cell:/c%3A/Users/Fredric/Documents/Volcano/quail_volcano/scenarios/mixture_shocktube/devpost.ipynb#ch0000003?line=26'>27</a>\u001b[0m \t\t\t\tequal_AR\u001b[39m=\u001b[39;49mequal_aspect_ratio)\n",
      "File \u001b[1;32m~\\Documents\\Volcano\\quail_volcano\\src\\processing\\plot.py:792\u001b[0m, in \u001b[0;36mplot_solution\u001b[1;34m(mesh, physics, solver, var_name, plot_numerical, plot_exact, plot_average, plot_IC, create_new_figure, ylabel, fmt, legend_label, equidistant_pts, include_mesh, regular_2D, equal_AR, skip, **kwargs)\u001b[0m\n\u001b[0;32m    790\u001b[0m \tplot_1D(physics, x, var_plot, ylabel, fmt, legend_label, skip)\n\u001b[0;32m    791\u001b[0m \u001b[39melse\u001b[39;00m:\n\u001b[1;32m--> 792\u001b[0m \tplot_2D(physics, x, var_plot, ylabel, regular_2D, equal_AR, \u001b[39m*\u001b[39m\u001b[39m*\u001b[39mkwargs)\n\u001b[0;32m    794\u001b[0m \u001b[39mif\u001b[39;00m include_mesh:\n\u001b[0;32m    795\u001b[0m \tplot_mesh(mesh, \u001b[39m*\u001b[39m\u001b[39m*\u001b[39mkwargs)\n",
      "File \u001b[1;32m~\\Documents\\Volcano\\quail_volcano\\src\\processing\\plot.py:297\u001b[0m, in \u001b[0;36mplot_2D\u001b[1;34m(physics, x, var_plot, ylabel, regular_2D, equal_AR, **kwargs)\u001b[0m\n\u001b[0;32m    295\u001b[0m \tplot_2D_regular(physics, x, var_plot, \u001b[39m*\u001b[39m\u001b[39m*\u001b[39mkwargs)\n\u001b[0;32m    296\u001b[0m \u001b[39melse\u001b[39;00m:\n\u001b[1;32m--> 297\u001b[0m \tplot_2D_general(physics, x, var_plot, \u001b[39m*\u001b[39m\u001b[39m*\u001b[39mkwargs)\n\u001b[0;32m    299\u001b[0m \u001b[39m''' Label plot '''\u001b[39;00m\n\u001b[0;32m    300\u001b[0m \u001b[39mif\u001b[39;00m \u001b[39m\"\u001b[39m\u001b[39mignore_colorbar\u001b[39m\u001b[39m\"\u001b[39m \u001b[39min\u001b[39;00m kwargs \u001b[39mand\u001b[39;00m kwargs[\u001b[39m\"\u001b[39m\u001b[39mignore_colorbar\u001b[39m\u001b[39m\"\u001b[39m]:\n\u001b[0;32m    301\u001b[0m \t\u001b[39m# Do nothing\u001b[39;00m\n",
      "File \u001b[1;32m~\\Documents\\Volcano\\quail_volcano\\src\\processing\\plot.py:254\u001b[0m, in \u001b[0;36mplot_2D_general\u001b[1;34m(physics, x, var_plot, **kwargs)\u001b[0m\n\u001b[0;32m    252\u001b[0m tris, utri \u001b[39m=\u001b[39m triangulate(physics, x[elem_ID], var_plot[elem_ID])\n\u001b[0;32m    253\u001b[0m \u001b[39m# Plot\u001b[39;00m\n\u001b[1;32m--> 254\u001b[0m plt\u001b[39m.\u001b[39;49mtricontourf(tris, utri, levels\u001b[39m=\u001b[39;49mlevels, extend\u001b[39m=\u001b[39;49m\u001b[39m\"\u001b[39;49m\u001b[39mboth\u001b[39;49m\u001b[39m\"\u001b[39;49m)\n\u001b[0;32m    255\u001b[0m \u001b[39m# Show triangulation if requested\u001b[39;00m\n\u001b[0;32m    256\u001b[0m \u001b[39mif\u001b[39;00m \u001b[39m\"\u001b[39m\u001b[39mshow_triangulation\u001b[39m\u001b[39m\"\u001b[39m \u001b[39min\u001b[39;00m kwargs:\n",
      "File \u001b[1;32mc:\\Python39\\lib\\site-packages\\matplotlib\\pyplot.py:3219\u001b[0m, in \u001b[0;36mtricontourf\u001b[1;34m(*args, **kwargs)\u001b[0m\n\u001b[0;32m   3217\u001b[0m \u001b[39m@_copy_docstring_and_deprecators\u001b[39m(Axes\u001b[39m.\u001b[39mtricontourf)\n\u001b[0;32m   3218\u001b[0m \u001b[39mdef\u001b[39;00m \u001b[39mtricontourf\u001b[39m(\u001b[39m*\u001b[39margs, \u001b[39m*\u001b[39m\u001b[39m*\u001b[39mkwargs):\n\u001b[1;32m-> 3219\u001b[0m     __ret \u001b[39m=\u001b[39m gca()\u001b[39m.\u001b[39mtricontourf(\u001b[39m*\u001b[39margs, \u001b[39m*\u001b[39m\u001b[39m*\u001b[39mkwargs)\n\u001b[0;32m   3220\u001b[0m     \u001b[39mif\u001b[39;00m __ret\u001b[39m.\u001b[39m_A \u001b[39mis\u001b[39;00m \u001b[39mnot\u001b[39;00m \u001b[39mNone\u001b[39;00m: sci(__ret)  \u001b[39m# noqa\u001b[39;00m\n\u001b[0;32m   3221\u001b[0m     \u001b[39mreturn\u001b[39;00m __ret\n",
      "File \u001b[1;32mc:\\Python39\\lib\\site-packages\\matplotlib\\tri\\tricontour.py:323\u001b[0m, in \u001b[0;36mtricontourf\u001b[1;34m(ax, *args, **kwargs)\u001b[0m\n\u001b[0;32m    303\u001b[0m \u001b[39m\"\"\"\u001b[39;00m\n\u001b[0;32m    304\u001b[0m \u001b[39m%(_tricontour_doc)s\u001b[39;00m\n\u001b[0;32m    305\u001b[0m \n\u001b[1;32m   (...)\u001b[0m\n\u001b[0;32m    320\u001b[0m \u001b[39mincludes the lowest value).\u001b[39;00m\n\u001b[0;32m    321\u001b[0m \u001b[39m\"\"\"\u001b[39;00m\n\u001b[0;32m    322\u001b[0m kwargs[\u001b[39m'\u001b[39m\u001b[39mfilled\u001b[39m\u001b[39m'\u001b[39m] \u001b[39m=\u001b[39m \u001b[39mTrue\u001b[39;00m\n\u001b[1;32m--> 323\u001b[0m \u001b[39mreturn\u001b[39;00m TriContourSet(ax, \u001b[39m*\u001b[39margs, \u001b[39m*\u001b[39m\u001b[39m*\u001b[39mkwargs)\n",
      "File \u001b[1;32mc:\\Python39\\lib\\site-packages\\matplotlib\\tri\\tricontour.py:29\u001b[0m, in \u001b[0;36mTriContourSet.__init__\u001b[1;34m(self, ax, *args, **kwargs)\u001b[0m\n\u001b[0;32m     19\u001b[0m \u001b[39mdef\u001b[39;00m \u001b[39m__init__\u001b[39m(\u001b[39mself\u001b[39m, ax, \u001b[39m*\u001b[39margs, \u001b[39m*\u001b[39m\u001b[39m*\u001b[39mkwargs):\n\u001b[0;32m     20\u001b[0m     \u001b[39m\"\"\"\u001b[39;00m\n\u001b[0;32m     21\u001b[0m \u001b[39m    Draw triangular grid contour lines or filled regions,\u001b[39;00m\n\u001b[0;32m     22\u001b[0m \u001b[39m    depending on whether keyword arg 'filled' is False\u001b[39;00m\n\u001b[1;32m   (...)\u001b[0m\n\u001b[0;32m     27\u001b[0m \u001b[39m    are described in the docstring of `~.Axes.tricontour`.\u001b[39;00m\n\u001b[0;32m     28\u001b[0m \u001b[39m    \"\"\"\u001b[39;00m\n\u001b[1;32m---> 29\u001b[0m     \u001b[39msuper\u001b[39m()\u001b[39m.\u001b[39m\u001b[39m__init__\u001b[39m(ax, \u001b[39m*\u001b[39margs, \u001b[39m*\u001b[39m\u001b[39m*\u001b[39mkwargs)\n",
      "File \u001b[1;32mc:\\Python39\\lib\\site-packages\\matplotlib\\contour.py:876\u001b[0m, in \u001b[0;36mContourSet.__init__\u001b[1;34m(self, ax, levels, filled, linewidths, linestyles, hatches, alpha, origin, extent, cmap, colors, norm, vmin, vmax, extend, antialiased, nchunk, locator, transform, *args, **kwargs)\u001b[0m\n\u001b[0;32m    874\u001b[0m     col\u001b[39m.\u001b[39msticky_edges\u001b[39m.\u001b[39my[:] \u001b[39m=\u001b[39m [\u001b[39mself\u001b[39m\u001b[39m.\u001b[39m_mins[\u001b[39m1\u001b[39m], \u001b[39mself\u001b[39m\u001b[39m.\u001b[39m_maxs[\u001b[39m1\u001b[39m]]\n\u001b[0;32m    875\u001b[0m \u001b[39mself\u001b[39m\u001b[39m.\u001b[39maxes\u001b[39m.\u001b[39mupdate_datalim([\u001b[39mself\u001b[39m\u001b[39m.\u001b[39m_mins, \u001b[39mself\u001b[39m\u001b[39m.\u001b[39m_maxs])\n\u001b[1;32m--> 876\u001b[0m \u001b[39mself\u001b[39;49m\u001b[39m.\u001b[39;49maxes\u001b[39m.\u001b[39;49mautoscale_view(tight\u001b[39m=\u001b[39;49m\u001b[39mTrue\u001b[39;49;00m)\n\u001b[0;32m    878\u001b[0m \u001b[39mself\u001b[39m\u001b[39m.\u001b[39mchanged()  \u001b[39m# set the colors\u001b[39;00m\n\u001b[0;32m    880\u001b[0m \u001b[39mif\u001b[39;00m kwargs:\n",
      "File \u001b[1;32mc:\\Python39\\lib\\site-packages\\matplotlib\\axes\\_base.py:2676\u001b[0m, in \u001b[0;36m_AxesBase.autoscale_view\u001b[1;34m(self, tight, scalex, scaley)\u001b[0m\n\u001b[0;32m   2669\u001b[0m \u001b[39mif\u001b[39;00m \u001b[39mself\u001b[39m\u001b[39m.\u001b[39muse_sticky_edges:\n\u001b[0;32m   2670\u001b[0m     \u001b[39m# Only iterate over axes and artists if needed.  The check for\u001b[39;00m\n\u001b[0;32m   2671\u001b[0m     \u001b[39m# ``hasattr(ax, \"lines\")`` is necessary because this can be called\u001b[39;00m\n\u001b[0;32m   2672\u001b[0m     \u001b[39m# very early in the axes init process (e.g., for twin axes) when\u001b[39;00m\n\u001b[0;32m   2673\u001b[0m     \u001b[39m# these attributes don't even exist yet, in which case\u001b[39;00m\n\u001b[0;32m   2674\u001b[0m     \u001b[39m# `get_children` would raise an AttributeError.\u001b[39;00m\n\u001b[0;32m   2675\u001b[0m     \u001b[39mif\u001b[39;00m \u001b[39mself\u001b[39m\u001b[39m.\u001b[39m_xmargin \u001b[39mand\u001b[39;00m scalex \u001b[39mand\u001b[39;00m \u001b[39mself\u001b[39m\u001b[39m.\u001b[39m_autoscaleXon:\n\u001b[1;32m-> 2676\u001b[0m         x_stickies \u001b[39m=\u001b[39m np\u001b[39m.\u001b[39msort(np\u001b[39m.\u001b[39;49mconcatenate([\n\u001b[0;32m   2677\u001b[0m             artist\u001b[39m.\u001b[39;49msticky_edges\u001b[39m.\u001b[39;49mx\n\u001b[0;32m   2678\u001b[0m             \u001b[39mfor\u001b[39;49;00m ax \u001b[39min\u001b[39;49;00m \u001b[39mself\u001b[39;49m\u001b[39m.\u001b[39;49m_shared_x_axes\u001b[39m.\u001b[39;49mget_siblings(\u001b[39mself\u001b[39;49m)\n\u001b[0;32m   2679\u001b[0m             \u001b[39mif\u001b[39;49;00m \u001b[39mhasattr\u001b[39;49m(ax, \u001b[39m\"\u001b[39;49m\u001b[39mlines\u001b[39;49m\u001b[39m\"\u001b[39;49m)\n\u001b[0;32m   2680\u001b[0m             \u001b[39mfor\u001b[39;49;00m artist \u001b[39min\u001b[39;49;00m ax\u001b[39m.\u001b[39;49mget_children()]))\n\u001b[0;32m   2681\u001b[0m     \u001b[39mif\u001b[39;00m \u001b[39mself\u001b[39m\u001b[39m.\u001b[39m_ymargin \u001b[39mand\u001b[39;00m scaley \u001b[39mand\u001b[39;00m \u001b[39mself\u001b[39m\u001b[39m.\u001b[39m_autoscaleYon:\n\u001b[0;32m   2682\u001b[0m         y_stickies \u001b[39m=\u001b[39m np\u001b[39m.\u001b[39msort(np\u001b[39m.\u001b[39mconcatenate([\n\u001b[0;32m   2683\u001b[0m             artist\u001b[39m.\u001b[39msticky_edges\u001b[39m.\u001b[39my\n\u001b[0;32m   2684\u001b[0m             \u001b[39mfor\u001b[39;00m ax \u001b[39min\u001b[39;00m \u001b[39mself\u001b[39m\u001b[39m.\u001b[39m_shared_y_axes\u001b[39m.\u001b[39mget_siblings(\u001b[39mself\u001b[39m)\n\u001b[0;32m   2685\u001b[0m             \u001b[39mif\u001b[39;00m \u001b[39mhasattr\u001b[39m(ax, \u001b[39m\"\u001b[39m\u001b[39mlines\u001b[39m\u001b[39m\"\u001b[39m)\n\u001b[0;32m   2686\u001b[0m             \u001b[39mfor\u001b[39;00m artist \u001b[39min\u001b[39;00m ax\u001b[39m.\u001b[39mget_children()]))\n",
      "File \u001b[1;32m<__array_function__ internals>:5\u001b[0m, in \u001b[0;36mconcatenate\u001b[1;34m(*args, **kwargs)\u001b[0m\n",
      "\u001b[1;31mKeyboardInterrupt\u001b[0m: "
     ]
    },
    {
     "data": {
      "image/png": "[encoded data removed]",
      "text/plain": [
       "<Figure size 432x288 with 2 Axes>"
      ]
     },
     "metadata": {
      "needs_background": "light"
     },
     "output_type": "display_data"
    },
    {
     "data": {
      "image/png": "[encoded data removed]",
      "text/plain": [
       "<Figure size 432x288 with 2 Axes>"
      ]
     },
     "metadata": {
      "needs_background": "light"
     },
     "output_type": "display_data"
    },
    {
     "data": {
      "image/png": "[encoded data removed]",
      "text/plain": [
       "<Figure size 432x288 with 2 Axes>"
      ]
     },
     "metadata": {
      "needs_background": "light"
     },
     "output_type": "display_data"
    },
    {
     "data": {
      "image/png": "[encoded data removed]",
      "text/plain": [
       "<Figure size 432x288 with 1 Axes>"
      ]
     },
     "metadata": {
      "needs_background": "light"
     },
     "output_type": "display_data"
    }
   ],
   "source": [
    "# Waves first arrive at left boundary of [-600,600] at ~ output20 (400ms)\n",
    "# solver = readwritedatafiles.read_data_file(f\"mixture_shocktube_conduit_21.pkl\")\n",
    "# solver = readwritedatafiles.read_data_file(f\"mixture_shocktube_conduit_35.pkl\")\n",
    "# solver = readwritedatafiles.read_data_file(f\"mixture_shocktube_conduit2_35.pkl\")\n",
    "# solver = readwritedatafiles.read_data_file(f\"mixture_shocktube_conduit_35.pkl\")\n",
    "# solver = readwritedatafiles.read_data_file(f\"mixture_shocktube_atm1_52.pkl\")\n",
    "solver = readwritedatafiles.read_data_file(f\"mixture_shocktube_atm1_163.pkl\")\n",
    "#\n",
    "#  for i in range(6):\n",
    "#   plt.subplot(2,3,i+1)\n",
    "#   plt.semilogy(solver.state_coeffs[:,:,i])\n",
    "\n",
    "if solver.physics.NDIMS == 1:\n",
    "\tpltqtys = [\"pDensityA\", \"pDensityWv\", \"pDensityM\", \"XMomentum\",\n",
    "\t\t\"Energy\", \"pDensityWt\", \"Pressure\", \"SoundSpeed\", \"Temperature\",\n",
    "\t\t\"XVelocity\", \"volFracM\", \"pDensityC\"]\n",
    "\tequal_aspect_ratio = False\n",
    "else:\n",
    "\tpltqtys = [\"pDensityA\", \"XMomentum\", \"YMomentum\", \"Pressure\", \"Temperature\"]\n",
    "\tequal_aspect_ratio = True\n",
    "\n",
    "for pltqty in pltqtys:\n",
    "\tplot.plot_solution(solver.mesh, solver.physics, solver, pltqty,\n",
    "\t\t\t\tplot_numerical=True, plot_exact=False, plot_IC=False,\n",
    "\t\t\t\tcreate_new_figure=True, ylabel=None, fmt='b.', legend_label=\"DG\",\n",
    "\t\t\t\tequidistant_pts=False, include_mesh=False, regular_2D=False,\n",
    "\t\t\t\tequal_AR=equal_aspect_ratio)"
   ]
  },
  {
   "cell_type": "code",
   "execution_count": 2,
   "metadata": {},
   "outputs": [
    {
     "ename": "NameError",
     "evalue": "name 'readwritedatafiles' is not defined",
     "output_type": "error",
     "traceback": [
      "\u001b[1;31m---------------------------------------------------------------------------\u001b[0m",
      "\u001b[1;31mNameError\u001b[0m                                 Traceback (most recent call last)",
      "\u001b[1;32mc:\\Users\\Fredric\\Documents\\Volcano\\quail_volcano\\scenarios\\mixture_shocktube\\devpost.ipynb Cell 2'\u001b[0m in \u001b[0;36m<cell line: 8>\u001b[1;34m()\u001b[0m\n\u001b[0;32m      <a href='vscode-notebook-cell:/c%3A/Users/Fredric/Documents/Volcano/quail_volcano/scenarios/mixture_shocktube/devpost.ipynb#ch0000001?line=0'>1</a>\u001b[0m idx \u001b[39m=\u001b[39m \u001b[39m163\u001b[39m\n\u001b[0;32m      <a href='vscode-notebook-cell:/c%3A/Users/Fredric/Documents/Volcano/quail_volcano/scenarios/mixture_shocktube/devpost.ipynb#ch0000001?line=1'>2</a>\u001b[0m \u001b[39m# solver = readwritedatafiles.read_data_file(f\"mixture_shocktube_atm1_{idx}.pkl\")\u001b[39;00m\n\u001b[0;32m      <a href='vscode-notebook-cell:/c%3A/Users/Fredric/Documents/Volcano/quail_volcano/scenarios/mixture_shocktube/devpost.ipynb#ch0000001?line=2'>3</a>\u001b[0m \u001b[39m# plot.plot_solution(solver.mesh, solver.physics, solver, \"Pressure\",\u001b[39;00m\n\u001b[0;32m      <a href='vscode-notebook-cell:/c%3A/Users/Fredric/Documents/Volcano/quail_volcano/scenarios/mixture_shocktube/devpost.ipynb#ch0000001?line=3'>4</a>\u001b[0m \u001b[39m# \t\t\t\tplot_numerical=True, plot_exact=False, plot_IC=False,\u001b[39;00m\n\u001b[0;32m      <a href='vscode-notebook-cell:/c%3A/Users/Fredric/Documents/Volcano/quail_volcano/scenarios/mixture_shocktube/devpost.ipynb#ch0000001?line=4'>5</a>\u001b[0m \u001b[39m# \t\t\t\tcreate_new_figure=True, ylabel=None, fmt='b.', legend_label=\"DG\",\u001b[39;00m\n\u001b[0;32m      <a href='vscode-notebook-cell:/c%3A/Users/Fredric/Documents/Volcano/quail_volcano/scenarios/mixture_shocktube/devpost.ipynb#ch0000001?line=5'>6</a>\u001b[0m \u001b[39m# \t\t\t\tequidistant_pts=False, include_mesh=False, regular_2D=False,\u001b[39;00m\n\u001b[0;32m      <a href='vscode-notebook-cell:/c%3A/Users/Fredric/Documents/Volcano/quail_volcano/scenarios/mixture_shocktube/devpost.ipynb#ch0000001?line=6'>7</a>\u001b[0m \u001b[39m# \t\t\t\tequal_AR=equal_aspect_ratio)\u001b[39;00m\n\u001b[1;32m----> <a href='vscode-notebook-cell:/c%3A/Users/Fredric/Documents/Volcano/quail_volcano/scenarios/mixture_shocktube/devpost.ipynb#ch0000001?line=7'>8</a>\u001b[0m solver \u001b[39m=\u001b[39m readwritedatafiles\u001b[39m.\u001b[39mread_data_file(\u001b[39mf\u001b[39m\u001b[39m\"\u001b[39m\u001b[39mmixture_shocktube_atm2_\u001b[39m\u001b[39m{\u001b[39;00midx\u001b[39m}\u001b[39;00m\u001b[39m.pkl\u001b[39m\u001b[39m\"\u001b[39m)\n\u001b[0;32m      <a href='vscode-notebook-cell:/c%3A/Users/Fredric/Documents/Volcano/quail_volcano/scenarios/mixture_shocktube/devpost.ipynb#ch0000001?line=8'>9</a>\u001b[0m plot\u001b[39m.\u001b[39mplot_solution(solver\u001b[39m.\u001b[39mmesh, solver\u001b[39m.\u001b[39mphysics, solver, \u001b[39m\"\u001b[39m\u001b[39mPressure\u001b[39m\u001b[39m\"\u001b[39m,\n\u001b[0;32m     <a href='vscode-notebook-cell:/c%3A/Users/Fredric/Documents/Volcano/quail_volcano/scenarios/mixture_shocktube/devpost.ipynb#ch0000001?line=9'>10</a>\u001b[0m \t\t\t\tplot_numerical\u001b[39m=\u001b[39m\u001b[39mTrue\u001b[39;00m, plot_exact\u001b[39m=\u001b[39m\u001b[39mFalse\u001b[39;00m, plot_IC\u001b[39m=\u001b[39m\u001b[39mFalse\u001b[39;00m,\n\u001b[0;32m     <a href='vscode-notebook-cell:/c%3A/Users/Fredric/Documents/Volcano/quail_volcano/scenarios/mixture_shocktube/devpost.ipynb#ch0000001?line=10'>11</a>\u001b[0m \t\t\t\tcreate_new_figure\u001b[39m=\u001b[39m\u001b[39mTrue\u001b[39;00m, ylabel\u001b[39m=\u001b[39m\u001b[39mNone\u001b[39;00m, fmt\u001b[39m=\u001b[39m\u001b[39m'\u001b[39m\u001b[39mb.\u001b[39m\u001b[39m'\u001b[39m, legend_label\u001b[39m=\u001b[39m\u001b[39m\"\u001b[39m\u001b[39mDG\u001b[39m\u001b[39m\"\u001b[39m,\n\u001b[0;32m     <a href='vscode-notebook-cell:/c%3A/Users/Fredric/Documents/Volcano/quail_volcano/scenarios/mixture_shocktube/devpost.ipynb#ch0000001?line=11'>12</a>\u001b[0m \t\t\t\tequidistant_pts\u001b[39m=\u001b[39m\u001b[39mFalse\u001b[39;00m, include_mesh\u001b[39m=\u001b[39m\u001b[39mFalse\u001b[39;00m, regular_2D\u001b[39m=\u001b[39m\u001b[39mFalse\u001b[39;00m,\n\u001b[0;32m     <a href='vscode-notebook-cell:/c%3A/Users/Fredric/Documents/Volcano/quail_volcano/scenarios/mixture_shocktube/devpost.ipynb#ch0000001?line=12'>13</a>\u001b[0m \t\t\t\tequal_AR\u001b[39m=\u001b[39mequal_aspect_ratio)\n",
      "\u001b[1;31mNameError\u001b[0m: name 'readwritedatafiles' is not defined"
     ]
    }
   ],
   "source": [
    "idx = 163\n",
    "# solver = readwritedatafiles.read_data_file(f\"mixture_shocktube_atm1_{idx}.pkl\")\n",
    "# plot.plot_solution(solver.mesh, solver.physics, solver, \"Pressure\",\n",
    "# \t\t\t\tplot_numerical=True, plot_exact=False, plot_IC=False,\n",
    "# \t\t\t\tcreate_new_figure=True, ylabel=None, fmt='b.', legend_label=\"DG\",\n",
    "# \t\t\t\tequidistant_pts=False, include_mesh=False, regular_2D=False,\n",
    "# \t\t\t\tequal_AR=equal_aspect_ratio)\n",
    "solver = readwritedatafiles.read_data_file(f\"mixture_shocktube_atm2_{idx}.pkl\")\n",
    "plot.plot_solution(solver.mesh, solver.physics, solver, \"Pressure\",\n",
    "\t\t\t\tplot_numerical=True, plot_exact=False, plot_IC=False,\n",
    "\t\t\t\tcreate_new_figure=True, ylabel=None, fmt='b.', legend_label=\"DG\",\n",
    "\t\t\t\tequidistant_pts=False, include_mesh=False, regular_2D=False,\n",
    "\t\t\t\tequal_AR=equal_aspect_ratio)"
   ]
  },
  {
   "cell_type": "code",
   "execution_count": 116,
   "metadata": {},
   "outputs": [],
   "source": [
    "import ternary\n",
    "%matplotlib tk\n",
    "\n",
    "idx = 5\n",
    "# solver_atm1 = readwritedatafiles.read_data_file(f\"mixture_shocktube_atm1_{idx}.pkl\")\n",
    "# solver_atm2 = readwritedatafiles.read_data_file(f\"mixture_shocktube_atm2_{idx}.pkl\")\n",
    "# solver_conduit1 = readwritedatafiles.read_data_file(f\"mixture_shocktube_conduit_{idx}.pkl\")\n",
    "# solver_conduit2 = readwritedatafiles.read_data_file(f\"mixture_shocktube_conduit2_{idx}.pkl\")\n",
    "solver_atm1 = readwritedatafiles.read_data_file(f\"v0_phi0800m_atm1_{idx}.pkl\")\n",
    "solver_atm2 = readwritedatafiles.read_data_file(f\"v0_phi0800m_atm2_{idx}.pkl\")\n",
    "solver_conduit1 = readwritedatafiles.read_data_file(f\"v0_phi0800m_conduit1_{idx}.pkl\")\n",
    "solver_conduit2 = readwritedatafiles.read_data_file(f\"v0_phi0800m_conduit2_{idx}.pkl\")\n",
    "\n",
    "fontsize = 12\n",
    "\n",
    "def prep_ternary():\n",
    "  ## Boundary and Gridlines\n",
    "  scale = 100.0\n",
    "  figure, tax = ternary.figure(scale=scale)\n",
    "\n",
    "  # Draw Boundary and Gridlines\n",
    "  tax.boundary(linewidth=2.0)\n",
    "  tax.gridlines(color=\"black\", multiple=10)\n",
    "  tax.gridlines(color=\"blue\", multiple=5, linewidth=0.1)\n",
    "\n",
    "  # Set Axis labels and Title\n",
    "  # Set ticks\n",
    "  tax.ticks(axis='lbr', multiple=10, linewidth=2)\n",
    "\n",
    "  ternary.plt.show()\n",
    "  plt.box(False)\n",
    "\n",
    "  # Remove default Matplotlib Axes\n",
    "  tax.clear_matplotlib_ticks()\n",
    "  return tax\n",
    "\n",
    "def get_wt_percents(solver, coordset=\"AWvM\"):\n",
    "  rho = np.sum(solver.state_coeffs[:,:,solver.physics.get_mass_slice()], axis=2)\n",
    "  if coordset == \"AWvM\":\n",
    "    y1 = solver.state_coeffs[:,:,0] / rho * 100.0\n",
    "    y2 = solver.state_coeffs[:,:,1] / rho * 100.0\n",
    "    y3 = solver.state_coeffs[:,:,2] / rho * 100.0\n",
    "    return list(zip(y1.ravel(), y2.ravel(), y3.ravel()))\n",
    "  elif coordset == \"AWtMd\":\n",
    "    y1 = solver.state_coeffs[:,:,0] / rho * 100.0\n",
    "    # Water transform\n",
    "    arhoWt = solver.state_coeffs[:,:,solver.physics.get_state_index(\"pDensityWt\")]\n",
    "    arhoWd = arhoWt - solver.state_coeffs[:,:,1]\n",
    "    y2 = arhoWt / rho * 100.0\n",
    "    y3 = (solver.state_coeffs[:,:,2]-arhoWd) / rho * 100.0\n",
    "  else:\n",
    "    raise KeyError(\"Invalid coordset.\")\n",
    "  return list(zip(y1.ravel(), y2.ravel(), y3.ravel()))\n",
    "\n",
    "''' Air, exsolved water, magma mixture'''\n",
    "tax = prep_ternary()\n",
    "tax.bottom_axis_label(\"wt% air\", fontsize=fontsize)\n",
    "tax.right_axis_label(\"wt% water, exsolved\", fontsize=fontsize)\n",
    "tax.left_axis_label(\"wt% frac melt + crystals + water, dissolved\", fontsize=fontsize)\n",
    "\n",
    "tax.right_corner_label(\"Air\", fontsize=fontsize)\n",
    "tax.top_corner_label(\"Exsolved water\", fontsize=fontsize)\n",
    "tax.left_corner_label(\"Magma\", fontsize=fontsize)\n",
    "\n",
    "tax.scatter(get_wt_percents(solver_atm1, \"AWvM\"), color='blue')\n",
    "tax.scatter(get_wt_percents(solver_atm2, \"AWvM\"), color='red')\n",
    "tax.scatter(get_wt_percents(solver_conduit1, \"AWvM\"), color='magenta')\n",
    "tax.scatter(get_wt_percents(solver_conduit2, \"AWvM\"), color='cyan')\n",
    "# tax.set_title(\"\", fontsize=fontsize)\n",
    "\n",
    "tax = prep_ternary()\n",
    "tax.bottom_axis_label(\"wt% air\", fontsize=fontsize)\n",
    "tax.right_axis_label(\"wt% water, total\", fontsize=fontsize)\n",
    "tax.left_axis_label(\"wt% frac melt + crystals\", fontsize=fontsize)\n",
    "\n",
    "tax.right_corner_label(\"Air\", fontsize=fontsize)\n",
    "tax.top_corner_label(\"Total water\", fontsize=fontsize)\n",
    "tax.left_corner_label(\"Dry magma\", fontsize=fontsize)\n",
    "\n",
    "tax.scatter(get_wt_percents(solver_atm1, \"AWtMd\"), marker='d', color='blue', label=\"atm near\")\n",
    "tax.scatter(get_wt_percents(solver_atm2, \"AWtMd\"), marker='d', color='brown', label=\"atm far\")\n",
    "tax.scatter(get_wt_percents(solver_conduit1, \"AWtMd\"), marker='s', color='magenta', label=\"conduit upper\")\n",
    "tax.scatter(get_wt_percents(solver_conduit2, \"AWtMd\"), marker='s',color='cyan', label=\"conduit lower\")\n",
    "\n",
    "tax.legend()"
   ]
  },
  {
   "cell_type": "code",
   "execution_count": 199,
   "metadata": {},
   "outputs": [
    {
     "name": "stdout",
     "output_type": "stream",
     "text": [
      "Warning: Cannot change to a different GUI toolkit: None. Using tk instead.\n"
     ]
    },
    {
     "name": "stderr",
     "output_type": "stream",
     "text": [
      "Exception in Tkinter callback\n",
      "Traceback (most recent call last):\n",
      "  File \"c:\\Python39\\lib\\tkinter\\__init__.py\", line 1884, in __call__\n",
      "    return self.func(*args)\n",
      "  File \"c:\\Python39\\lib\\tkinter\\__init__.py\", line 805, in callit\n",
      "    func(*args)\n",
      "  File \"c:\\Python39\\lib\\site-packages\\matplotlib\\backends\\_backend_tk.py\", line 139, in _on_timer\n",
      "    super()._on_timer()\n",
      "  File \"c:\\Python39\\lib\\site-packages\\matplotlib\\backend_bases.py\", line 1216, in _on_timer\n",
      "    ret = func(*args, **kwargs)\n",
      "  File \"c:\\Python39\\lib\\site-packages\\matplotlib\\animation.py\", line 1477, in _step\n",
      "    still_going = super()._step(*args)\n",
      "  File \"c:\\Python39\\lib\\site-packages\\matplotlib\\animation.py\", line 1189, in _step\n",
      "    self._draw_next_frame(framedata, self._blit)\n",
      "  File \"c:\\Python39\\lib\\site-packages\\matplotlib\\animation.py\", line 1209, in _draw_next_frame\n",
      "    self._post_draw(framedata, blit)\n",
      "  File \"c:\\Python39\\lib\\site-packages\\matplotlib\\animation.py\", line 1232, in _post_draw\n",
      "    self._blit_draw(self._drawn_artists)\n",
      "  File \"c:\\Python39\\lib\\site-packages\\matplotlib\\animation.py\", line 1254, in _blit_draw\n",
      "    a.axes.draw_artist(a)\n",
      "  File \"c:\\Python39\\lib\\site-packages\\matplotlib\\axes\\_base.py\", line 2934, in draw_artist\n",
      "    raise AttributeError(\"draw_artist can only be used after an \"\n",
      "AttributeError: draw_artist can only be used after an initial draw which caches the renderer\n"
     ]
    }
   ],
   "source": [
    "%matplotlib agg\n",
    "idx = 120\n",
    "solver_atm1 = readwritedatafiles.read_data_file(f\"v0_phi0800m_atm1_{idx}.pkl\")\n",
    "solver_atm2 = readwritedatafiles.read_data_file(f\"v0_phi0800m_atm2_{idx}.pkl\")\n",
    "solver_conduit1 = readwritedatafiles.read_data_file(f\"v0_phi0800m_conduit1_{idx}.pkl\")\n",
    "solver_conduit2 = readwritedatafiles.read_data_file(f\"v0_phi0800m_conduit2_{idx}.pkl\")\n",
    "\n",
    "from matplotlib.animation import FuncAnimation\n",
    "fig = plt.figure()\n",
    "# ax = plt.axes(xlim=(-2400, 0), ylim=(0, 100e6)) # p\n",
    "ax = plt.axes(xlim=(-2400, 0), ylim=(-3e2, 3e3)) # u, c\n",
    "# ax = plt.axes(xlim=(-2400, 0), ylim=(-1, 10e9)) # wv\n",
    "# ax = plt.axes()\n",
    "line, = ax.plot([], [], lw=2)\n",
    "\n",
    "def get_nodes(solver):\n",
    "  nodal_pts = solver.basis.get_nodes(solver.order)\n",
    "  # Allocate [ne] x [nb, ndims]\n",
    "  x = np.empty((solver.mesh.num_elems,) + nodal_pts.shape)\n",
    "  for elem_ID in range(solver.mesh.num_elems):\n",
    "    # Fill coordinates in physical space\n",
    "    x[elem_ID] = mesh_tools.ref_to_phys(solver.mesh, elem_ID, nodal_pts)\n",
    "  return x\n",
    "\n",
    "def update(frame_index):\n",
    "  frame_skip = 100\n",
    "  solver_conduit1 = readwritedatafiles.read_data_file(\n",
    "    f\"v0_phi0800m_conduit1_{frame_index+frame_skip}.pkl\")\n",
    "  x1 = get_nodes(solver_conduit1).ravel()\n",
    "  p1 = solver_conduit1.physics.compute_additional_variable(\"Pressure\", \n",
    "    solver_conduit1.state_coeffs, False).ravel()\n",
    "  a1 = solver_conduit1.physics.compute_additional_variable(\"SoundSpeed\", \n",
    "    solver_conduit1.state_coeffs, False).ravel()\n",
    "  u1 = solver_conduit1.physics.compute_additional_variable(\"XVelocity\", \n",
    "    solver_conduit1.state_coeffs, False).ravel()\n",
    "  q1 = u1\n",
    "\n",
    "  solver_conduit2 = readwritedatafiles.read_data_file(\n",
    "    f\"v0_phi0800m_conduit2_{frame_index+frame_skip}.pkl\")\n",
    "  x2 = get_nodes(solver_conduit2).ravel()\n",
    "  p2 = solver_conduit2.physics.compute_additional_variable(\"Pressure\", \n",
    "    solver_conduit2.state_coeffs, False).ravel()\n",
    "  a2 = solver_conduit2.physics.compute_additional_variable(\"SoundSpeed\", \n",
    "    solver_conduit2.state_coeffs, False).ravel()\n",
    "  u2 = solver_conduit2.physics.compute_additional_variable(\"XVelocity\", \n",
    "    solver_conduit2.state_coeffs, False).ravel()\n",
    "  q2 = u2\n",
    "\n",
    "  x = np.concatenate((x2, x1))\n",
    "  p = np.concatenate((q2, q1))\n",
    "  \n",
    "  line.set_data(x, p)\n",
    "  return line,\n",
    "\n",
    "# plot.plot_solution(solver_conduit1.mesh, solver_conduit1.physics, solver_conduit1, \"Pressure\",\n",
    "#   plot_numerical=True, plot_exact=False, plot_IC=False,\n",
    "#   create_new_figure=True, ylabel=None, fmt='b.', legend_label=\"DG\",\n",
    "#   equidistant_pts=False, include_mesh=False, regular_2D=False,\n",
    "#   equal_AR=equal_aspect_ratio)\n",
    "# plot.plot_solution(solver_conduit2.mesh, solver_conduit2.physics, solver_conduit2, \"Pressure\",\n",
    "#   plot_numerical=True, plot_exact=False, plot_IC=False,\n",
    "#   create_new_figure=False, ylabel=None, fmt='b.', legend_label=\"DG\",\n",
    "#   equidistant_pts=False, include_mesh=False, regular_2D=False,\n",
    "#   equal_AR=equal_aspect_ratio)\n",
    "# solver_conduit1.time\n",
    "\n",
    "def init():\n",
    "    line.set_data([], [])\n",
    "    return line,\n",
    "\n",
    "anim = FuncAnimation(fig, update, frames=140,\n",
    "    init_func=init, blit=True)\n",
    "  \n",
    "# anim.save('basic_animation_test', fps=30)\n",
    "\n",
    "plt.show()\n",
    "\n",
    "\n"
   ]
  },
  {
   "cell_type": "code",
   "execution_count": 111,
   "metadata": {},
   "outputs": [
    {
     "name": "stderr",
     "output_type": "stream",
     "text": [
      "C:\\Users\\Fredric\\Documents\\Volcano\\quail_volcano\\src\\processing\\plot.py:787: RuntimeWarning: More than 20 figures have been opened. Figures created through the pyplot interface (`matplotlib.pyplot.figure`) are retained until explicitly closed and may consume too much memory. (To control this warning, see the rcParam `figure.max_open_warning`).\n",
      "  plt.figure()\n"
     ]
    }
   ],
   "source": [
    "solver = readwritedatafiles.read_data_file(f\"mixture_shocktube_conduit_288.pkl\")\n",
    "\n",
    "if solver.physics.NDIMS == 1:\n",
    "\tpltqtys = [\"pDensityA\", \"pDensityWv\", \"pDensityM\", \"XMomentum\",\n",
    "\t\t\"Energy\", \"pDensityWt\", \"Pressure\", \"SoundSpeed\", \"Temperature\",\n",
    "\t\t\"XVelocity\", \"volFracM\", \"pDensityC\"]\n",
    "\tequal_aspect_ratio = False\n",
    "else:\n",
    "\tpltqtys = [\"pDensityA\", \"XMomentum\", \"YMomentum\", \"Pressure\", \"Temperature\"]\n",
    "\tequal_aspect_ratio = True\n",
    "\n",
    "for pltqty in pltqtys:\n",
    "\tplot.plot_solution(solver.mesh, solver.physics, solver, pltqty,\n",
    "\t\t\t\tplot_numerical=True, plot_exact=False, plot_IC=False,\n",
    "\t\t\t\tcreate_new_figure=True, ylabel=None, fmt='b.', legend_label=\"DG\",\n",
    "\t\t\t\tequidistant_pts=False, include_mesh=False, regular_2D=False,\n",
    "\t\t\t\tequal_AR=equal_aspect_ratio)"
   ]
  },
  {
   "cell_type": "code",
   "execution_count": null,
   "metadata": {},
   "outputs": [],
   "source": [
    "# Minimum of crystal partial density\n",
    "np.min(solver.state_coeffs[:,:,6])\n",
    "\n",
    "solver.state_coeffs[:,:,4]"
   ]
  },
  {
   "cell_type": "code",
   "execution_count": 304,
   "metadata": {},
   "outputs": [
    {
     "data": {
      "text/plain": [
       "(50000.0, 300000.0)"
      ]
     },
     "execution_count": 304,
     "metadata": {},
     "output_type": "execute_result"
    }
   ],
   "source": [
    "snapshotidx = 163\n",
    "snapshotidx = 163\n",
    "\n",
    "solver = readwritedatafiles.read_data_file(f\"mixture_shocktube_conduit_{snapshotidx}.pkl\")\n",
    "x_conduit = solver.mesh.node_coords\n",
    "p_conduit = solver.physics.compute_additional_variable(\"Pressure\", solver.state_coeffs, False)\n",
    "\n",
    "solver = readwritedatafiles.read_data_file(f\"mixture_shocktube_atm1_{snapshotidx}.pkl\")\n",
    "\n",
    "p = solver.physics.compute_additional_variable(\"Pressure\", solver.state_coeffs, False)\n",
    "mesh = solver.mesh\n",
    "# plt.plot(p.ravel())\n",
    "# plt.scatter(mesh.node_coords[:,0], mesh.node_coords[:,:,1], p)\n",
    "mesh.node_coords.shape\n",
    "x = plot.get_sample_points(\n",
    "\t\t\tmesh, solver, solver.physics, solver.basis, True)\n",
    "plt.scatter(x.mean(axis=1)[:,0], x.mean(axis=1)[:,1],\n",
    "  c=p.mean(axis=1)[:,0])\n",
    "# x.mean(axis=1).shape\n",
    "# p.mean(axis=1)[:,0].shape\n",
    "plt.axis(\"equal\")\n",
    "\n",
    "plt.figure()\n",
    "# plt.plot(x.mean(axis=1)[:,1], p.mean(axis=1)[:,0], '.')\n",
    "plt.plot(x.mean(axis=1)[:,1]+150.0, p[:,:,0], '.')\n",
    "# p[:,:,0].shape\n",
    "\n",
    "# Plot conduit\n",
    "xnodes_conduit = np.zeros_like(p_conduit)\n",
    "xnodes_conduit[:,0,:] = x_conduit[:-1]\n",
    "xnodes_conduit[:,2,:] = x_conduit[1:]\n",
    "xnodes_conduit[:,1,:] = 0.5*xnodes_conduit.sum(axis=1)\n",
    "# plt.figure()\n",
    "plt.plot(xnodes_conduit.ravel()-600, p_conduit.ravel() ,'.-')\n",
    "plt.xlim([-100,100])\n",
    "plt.ylim([5e4,300000])"
   ]
  },
  {
   "cell_type": "code",
   "execution_count": 305,
   "metadata": {},
   "outputs": [],
   "source": [
    "snapshotidx = 82\n",
    "solver = readwritedatafiles.read_data_file(f\"mixture_shocktube_atm1_{snapshotidx}.pkl\")\n",
    "num_saves = 82# 96\n",
    "size_tuple = list(solver.state_coeffs[:,:,0:1].shape)\n",
    "size_tuple.append(num_saves+1)\n",
    "p_hist = np.zeros(tuple(size_tuple))\n",
    "save_count = range(num_saves+1)\n",
    "# x for 2D domain\n",
    "x = plot.get_sample_points(\n",
    "\t\t\tsolver.mesh, solver, solver.physics, solver.basis, True)\n",
    "\n",
    "solver = readwritedatafiles.read_data_file(f\"mixture_shocktube_conduit_{snapshotidx}.pkl\")\n",
    "size_tuple = list(solver.state_coeffs[:,:,0:1].shape)\n",
    "size_tuple.append(num_saves+1)\n",
    "x_conduit = plot.get_sample_points(\n",
    "\t\t\tsolver.mesh, solver, solver.physics, solver.basis, True)\n",
    "p_conduit_hist = np.zeros(tuple(size_tuple))\n",
    "\n",
    "\n",
    "key_quant = \"Pressure\"\n",
    "for i in save_count:\n",
    "  solver = readwritedatafiles.read_data_file(f\"mixture_shocktube_conduit_{i}.pkl\")\n",
    "  p_conduit_hist[:,:,:,i] = solver.physics.compute_additional_variable(key_quant, solver.state_coeffs, False)\n",
    "  # p_conduit_hist[:,:,:,i] = solver.state_coeffs[:,:,2:3]\n",
    "  solver = readwritedatafiles.read_data_file(f\"mixture_shocktube_atm1_{i}.pkl\")\n",
    "  p_hist[:,:,:,i] = solver.physics.compute_additional_variable(key_quant, solver.state_coeffs, False)\n",
    "  # p_hist[:,:,:,i] = solver.state_coeffs[:,:,2:3]\n",
    "  # Approximate energy\n",
    "  # E_2D = np.sum(solver.state_coeffs[:,:,5])\n",
    "  \n",
    "\n",
    "\n",
    "# Problematic location\n",
    "# plot.plot_solution(solver.mesh, solver.physics, solver, \"Pressure\",\n",
    "# \t\t\t\tplot_numerical=True, plot_exact=False, plot_IC=False,\n",
    "# \t\t\t\tcreate_new_figure=True, ylabel=None, fmt='b.', legend_label=\"DG\",\n",
    "# \t\t\t\tequidistant_pts=False, include_mesh=False, regular_2D=False,\n",
    "# \t\t\t\tequal_AR=equal_aspect_ratio)\n",
    "# plt.ylim([-150, -100])\n",
    "# plt.xlim([0,50])\n",
    "# plt.clim([-30000,60000*0])\n",
    "\n",
    "# plt.figure()\n",
    "# plt.plot(x.mean(axis=1)[:,1], p.mean(axis=1)[:,0], '.')\n",
    "# plt.plot(x.mean(axis=1)[:,1]+150.0, p[:,:,0], '.')\n",
    "# p[:,:,0].shape"
   ]
  },
  {
   "cell_type": "code",
   "execution_count": 311,
   "metadata": {},
   "outputs": [],
   "source": [
    "import matplotlib.pyplot as plt\n",
    "%matplotlib tk\n",
    "# p = solver.physics.compute_additional_variable(\"Pressure\", solver.state_coeffs, False)\n",
    "# p [258,:,:]\n",
    "fig, ax = plt.subplots(subplot_kw={\"projection\": \"3d\"})\n",
    "\n",
    "from matplotlib import cm\n",
    "\n",
    "pseudo_x = x.mean(axis=1)[:,1]+150.0\n",
    "ordering = np.argsort(pseudo_x)\n",
    "X, Y = np.meshgrid(pseudo_x[ordering], save_count)\n",
    "Z = p_hist[ordering,0,0,:].squeeze().T\n",
    "\n",
    "# Plot the surface.\n",
    "surf = ax.plot_surface(X, Y, Z, cmap=cm.coolwarm,\n",
    "                       linewidth=0, antialiased=False)\n",
    "# p_hist[:,:,-1]\n",
    "# plt.xlabel(\"x\")\n",
    "\n",
    "ordering = np.argsort(pseudo_x)\n",
    "\n",
    "plt.figure()\n",
    "for i in (save_count):\n",
    "  plt.plot(pseudo_x[ordering], p_hist[ordering,0,0,i], '.-')\n",
    "  # plt.hold(True)"
   ]
  },
  {
   "cell_type": "code",
   "execution_count": 312,
   "metadata": {},
   "outputs": [],
   "source": [
    "fig, ax = plt.subplots(subplot_kw={\"projection\": \"3d\"})\n",
    "\n",
    "x_conduit.mean(axis=1).shape\n",
    "pseudo_x_conduit = x_conduit.mean(axis=1)[:,0]-200\n",
    "p_conduit_hist.mean(axis=1)[:,0,:]\n",
    "\n",
    "ordering = np.argsort(pseudo_x_conduit)\n",
    "X, Y = np.meshgrid(pseudo_x_conduit[ordering], save_count)\n",
    "Z = p_conduit_hist.mean(axis=1)[ordering,0,:].squeeze().T\n",
    "\n",
    "# # Plot the surface.\n",
    "surf = ax.plot_surface(X, Y, Z, cmap=cm.coolwarm,\n",
    "                       linewidth=0, antialiased=False)\n",
    "\n"
   ]
  },
  {
   "cell_type": "code",
   "execution_count": 313,
   "metadata": {},
   "outputs": [
    {
     "ename": "ValueError",
     "evalue": "all the input arrays must have same number of dimensions, but the array at index 0 has 3 dimension(s) and the array at index 1 has 2 dimension(s)",
     "output_type": "error",
     "traceback": [
      "\u001b[1;31m---------------------------------------------------------------------------\u001b[0m",
      "\u001b[1;31mValueError\u001b[0m                                Traceback (most recent call last)",
      "\u001b[1;32mc:\\Users\\Fredric\\Documents\\Volcano\\quail_volcano\\scenarios\\mixture_shocktube\\devpost.ipynb Cell 11'\u001b[0m in \u001b[0;36m<cell line: 2>\u001b[1;34m()\u001b[0m\n\u001b[0;32m      <a href='vscode-notebook-cell:/c%3A/Users/Fredric/Documents/Volcano/quail_volcano/scenarios/mixture_shocktube/devpost.ipynb#ch0000013?line=0'>1</a>\u001b[0m x_global \u001b[39m=\u001b[39m np\u001b[39m.\u001b[39mappend(pseudo_x, pseudo_x_conduit)\n\u001b[1;32m----> <a href='vscode-notebook-cell:/c%3A/Users/Fredric/Documents/Volcano/quail_volcano/scenarios/mixture_shocktube/devpost.ipynb#ch0000013?line=1'>2</a>\u001b[0m p_global \u001b[39m=\u001b[39m np\u001b[39m.\u001b[39;49mappend(p_hist\u001b[39m.\u001b[39;49msqueeze(), p_conduit_hist\u001b[39m.\u001b[39;49mmean(axis\u001b[39m=\u001b[39;49m\u001b[39m1\u001b[39;49m)[:,\u001b[39m0\u001b[39;49m,:], axis\u001b[39m=\u001b[39;49m\u001b[39m0\u001b[39;49m)\n\u001b[0;32m      <a href='vscode-notebook-cell:/c%3A/Users/Fredric/Documents/Volcano/quail_volcano/scenarios/mixture_shocktube/devpost.ipynb#ch0000013?line=2'>3</a>\u001b[0m \u001b[39m# p_hist.squeeze().shape\u001b[39;00m\n\u001b[0;32m      <a href='vscode-notebook-cell:/c%3A/Users/Fredric/Documents/Volcano/quail_volcano/scenarios/mixture_shocktube/devpost.ipynb#ch0000013?line=3'>4</a>\u001b[0m \u001b[39m# p_conduit_hist.mean(axis=1)[:,0,:].shape\u001b[39;00m\n\u001b[0;32m      <a href='vscode-notebook-cell:/c%3A/Users/Fredric/Documents/Volcano/quail_volcano/scenarios/mixture_shocktube/devpost.ipynb#ch0000013?line=5'>6</a>\u001b[0m fig, ax \u001b[39m=\u001b[39m plt\u001b[39m.\u001b[39msubplots(subplot_kw\u001b[39m=\u001b[39m{\u001b[39m\"\u001b[39m\u001b[39mprojection\u001b[39m\u001b[39m\"\u001b[39m: \u001b[39m\"\u001b[39m\u001b[39m3d\u001b[39m\u001b[39m\"\u001b[39m})\n",
      "File \u001b[1;32m<__array_function__ internals>:5\u001b[0m, in \u001b[0;36mappend\u001b[1;34m(*args, **kwargs)\u001b[0m\n",
      "File \u001b[1;32mc:\\Python39\\lib\\site-packages\\numpy\\lib\\function_base.py:4745\u001b[0m, in \u001b[0;36mappend\u001b[1;34m(arr, values, axis)\u001b[0m\n\u001b[0;32m   4743\u001b[0m     values \u001b[39m=\u001b[39m ravel(values)\n\u001b[0;32m   4744\u001b[0m     axis \u001b[39m=\u001b[39m arr\u001b[39m.\u001b[39mndim\u001b[39m-\u001b[39m\u001b[39m1\u001b[39m\n\u001b[1;32m-> 4745\u001b[0m \u001b[39mreturn\u001b[39;00m concatenate((arr, values), axis\u001b[39m=\u001b[39;49maxis)\n",
      "File \u001b[1;32m<__array_function__ internals>:5\u001b[0m, in \u001b[0;36mconcatenate\u001b[1;34m(*args, **kwargs)\u001b[0m\n",
      "\u001b[1;31mValueError\u001b[0m: all the input arrays must have same number of dimensions, but the array at index 0 has 3 dimension(s) and the array at index 1 has 2 dimension(s)"
     ]
    }
   ],
   "source": [
    "x_global = np.append(pseudo_x, pseudo_x_conduit)\n",
    "p_global = np.append(p_hist.squeeze(), p_conduit_hist.mean(axis=1)[:,0,:], axis=0)\n",
    "# p_hist.squeeze().shape\n",
    "# p_conduit_hist.mean(axis=1)[:,0,:].shape\n",
    "\n",
    "fig, ax = plt.subplots(subplot_kw={\"projection\": \"3d\"})\n",
    "\n",
    "# x_global.mean(axis=1).shape\n",
    "\n",
    "ordering = np.argsort(x_global)\n",
    "X, Y = np.meshgrid(x_global[ordering], save_count)\n",
    "Z = p_global[ordering,:].squeeze().T\n",
    "\n",
    "# # Plot the surface.\n",
    "surf = ax.plot_surface(X, Y, np.log10(Z), cmap=cm.coolwarm,\n",
    "                       linewidth=0, antialiased=False)\n",
    "\n",
    "\n"
   ]
  },
  {
   "cell_type": "code",
   "execution_count": 309,
   "metadata": {},
   "outputs": [
    {
     "data": {
      "text/plain": [
       "array([[ 3.209398680959025e+00,  6.665724146209232e-03,\n",
       "         5.063518253989974e-02, -1.503678678149904e+01,\n",
       "         1.361393929060994e+03,  1.428354681030915e+06,\n",
       "         6.758441915463285e-03,  1.114944583298404e-04],\n",
       "       [ 3.134122599140428e+00,  6.067382510697860e-03,\n",
       "         2.029471026448680e-02, -1.854653209297979e+01,\n",
       "         1.289081507291180e+03,  1.357347295645863e+06,\n",
       "         6.013511292798749e-03, -5.584483382028718e-05],\n",
       "       [ 3.027824059362930e+00,  1.029340383516750e-02,\n",
       "         1.064434449730101e-02, -4.253785638997715e+00,\n",
       "         1.235182497899851e+03,  1.294823621609165e+06,\n",
       "         1.038956318848223e-02,  3.884263585032394e-05],\n",
       "       [ 3.173723178153758e+00,  7.126932485094122e-03,\n",
       "         6.907999843303714e-02, -1.622033319226930e+00,\n",
       "         1.362400086291884e+03,  1.420015685576017e+06,\n",
       "         7.254665140173486e-03,  1.436168986298273e-04],\n",
       "       [ 3.136071658097668e+00,  6.320915136429413e-03,\n",
       "         2.062913596830194e-02,  1.471428306848106e+01,\n",
       "         1.282793082714726e+03,  1.354780993465415e+06,\n",
       "         6.273146734635773e-03, -5.455291828391493e-05],\n",
       "       [ 3.206243419365366e+00,  6.357710079580712e-03,\n",
       "         5.282145269746931e-02,  1.161382181044995e+01,\n",
       "         1.358900701855106e+03,  1.423777197511392e+06,\n",
       "         6.436056511921155e-03,  9.504635030980440e-05]])"
      ]
     },
     "execution_count": 309,
     "metadata": {},
     "output_type": "execute_result"
    }
   ],
   "source": [
    "assert(solver.physics.NDIMS == 2)\n",
    "# np.argmin(p_hist[117,:,:])\n",
    "p_hist[117,:,:,-1]\n",
    "solver.state_coeffs[117,:,:]\n",
    "# solver.physics.compute_additional_variable(\"Temperature\", solver.state_coeffs, False)[258,:,:]"
   ]
  }
 ],
 "metadata": {
  "kernelspec": {
   "display_name": "Python 3.9.1 64-bit",
   "language": "python",
   "name": "python3"
  },
  "language_info": {
   "codemirror_mode": {
    "name": "ipython",
    "version": 3
   },
   "file_extension": ".py",
   "mimetype": "text/x-python",
   "name": "python",
   "nbconvert_exporter": "python",
   "pygments_lexer": "ipython3",
   "version": "3.9.1"
  },
  "orig_nbformat": 4,
  "vscode": {
   "interpreter": {
    "hash": "81794d4967e6c3204c66dcd87b604927b115b27c00565d3d43f05ba2f3a2cb0d"
   }
  }
 },
 "nbformat": 4,
 "nbformat_minor": 2
}
