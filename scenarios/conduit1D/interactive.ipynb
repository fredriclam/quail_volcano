{
 "cells": [
  {
   "cell_type": "markdown",
   "metadata": {},
   "source": [
    "Interacting with data: starter code"
   ]
  },
  {
   "cell_type": "code",
   "execution_count": 1,
   "metadata": {},
   "outputs": [],
   "source": [
    "import copy\n",
    "import os\n",
    "import numpy as np\n",
    "from numpy.linalg import norm\n",
    "import matplotlib.pyplot as plt\n",
    "\n",
    "# Specify path where .pkl files are located\n",
    "# target_dir = \"C:\\\\Users\\\\Fredric\\\\Documents\\\\Volcano\\\\quail_volcano\\\\scenarios\\\\conduit1D\\\\\"\n",
    "target_dir = '/Users/kcoppess/muspelheim/quail_volcano/scenarios/conduit1D/'\n",
    "# Specify path for Quail source code\n",
    "# source_dir = \"C:\\\\Users\\\\Fredric\\\\Documents\\\\Volcano\\\\quail_volcano\\\\src\\\\\"\n",
    "source_dir = '/Users/kcoppess/muspelheim/quail_volcano/src/'\n",
    "# Change to working directory\n",
    "os.chdir(target_dir)"
   ]
  },
  {
   "cell_type": "markdown",
   "metadata": {},
   "source": [
    "Call code from notebook (skip block if running from command line)"
   ]
  },
  {
   "cell_type": "code",
   "execution_count": 8,
   "metadata": {},
   "outputs": [],
   "source": [
    "%%capture\n",
    "%run \"C:\\\\Users\\\\Fredric\\\\Documents\\\\Volcano\\\\quail_volcano\\\\src\\\\quail\" \"conduit.py\""
   ]
  },
  {
   "cell_type": "markdown",
   "metadata": {},
   "source": [
    "Import useful packages"
   ]
  },
  {
   "cell_type": "code",
   "execution_count": 2,
   "metadata": {},
   "outputs": [],
   "source": [
    "# Import quail modules\n",
    "os.chdir(source_dir)\n",
    "import argparse\n",
    "import importlib\n",
    "import sys\n",
    "\n",
    "import defaultparams as default_deck\n",
    "import errors\n",
    "from general import ShapeType, SolverType, PhysicsType\n",
    "\n",
    "import meshing.common as mesh_common\n",
    "import meshing.gmsh as mesh_gmsh\n",
    "import meshing.tools as mesh_tools\n",
    "\n",
    "import numerics.helpers.helpers as helpers\n",
    "import numerics.timestepping.tools as stepper_tools\n",
    "\n",
    "import physics.zerodimensional.zerodimensional as zerod\n",
    "import physics.euler.euler as euler\n",
    "import physics.navierstokes.navierstokes as navierstokes\n",
    "import physics.scalar.scalar as scalar\n",
    "import physics.chemistry.chemistry as chemistry\n",
    "import physics.multiphasevpT.multiphasevpT as multiphasevpT\n",
    "\n",
    "import processing.readwritedatafiles as readwritedatafiles\n",
    "import processing.post as post\n",
    "import processing.plot as plot\n",
    "\n",
    "import solver.DG as DG\n",
    "import solver.ADERDG as ADERDG\n",
    "import solver.tools as solver_tools\n",
    "\n",
    "import time\n",
    "import multiprocessing as mp\n",
    "from multidomain import Domain, Observer\n",
    "\n",
    "os.chdir(target_dir)"
   ]
  },
  {
   "cell_type": "markdown",
   "metadata": {},
   "source": [
    "Sample analysis"
   ]
  },
  {
   "cell_type": "code",
   "execution_count": 3,
   "metadata": {},
   "outputs": [
    {
     "data": {
      "text/plain": [
       "[<matplotlib.lines.Line2D at 0x7fc7b9b1eb20>]"
      ]
     },
     "execution_count": 3,
     "metadata": {},
     "output_type": "execute_result"
    },
    {
     "data": {
      "image/png": "[encoded data removed]",
      "text/plain": [
       "<Figure size 432x288 with 1 Axes>"
      ]
     },
     "metadata": {
      "needs_background": "light"
     },
     "output_type": "display_data"
    },
    {
     "ename": "",
     "evalue": "",
     "output_type": "error",
     "traceback": [
      "\u001b[1;31mThe Kernel crashed while executing code in the the current cell or a previous cell. Please review the code in the cell(s) to identify a possible cause of the failure. Click <a href='https://aka.ms/vscodeJupyterKernelCrash'>here</a> for more info. View Jupyter <a href='command:jupyter.viewOutput'>log</a> for further details."
     ]
    }
   ],
   "source": [
    "# Load a solver and interact\n",
    "file_idx = 25\n",
    "solver = readwritedatafiles.read_data_file(f\"conduit1D_{file_idx}.pkl\")\n",
    "\n",
    "# solver.state_coeffs holds the solution values at the nodes of each element\n",
    "# The shape of state_coeffs is\n",
    "#   [ne, nb, ns]\n",
    "# where ne is the number of elements, nb is the number of nodes (also finite\n",
    "# element basis dimension) in each element, and ns is the number of states\n",
    "# (ns is currently 7)\n",
    "\n",
    "# Partial density of air (i.e. mass of air per unit total volume)\n",
    "pDensityA = solver.state_coeffs[:, :, solver.physics.get_state_index(\"pDensityA\")]\n",
    "# Partial density of water vapour (exsolved water)jeff \n",
    "pDensityWv = solver.state_coeffs[:, :, solver.physics.get_state_index(\"pDensityWv\")]\n",
    "# Partial density of magma (melt + dissolved water + crystals)\n",
    "pDensityM = solver.state_coeffs[:, :, solver.physics.get_state_index(\"pDensityM\")]\n",
    "# Momentum per unit volume\n",
    "x_momentum = solver.state_coeffs[:, :, solver.physics.get_state_index(\"XMomentum\")]\n",
    "# Total energy (including kinetic) per unit volume\n",
    "energy_density = solver.state_coeffs[:, :, solver.physics.get_state_index(\"Energy\")]\n",
    "\n",
    "# The following are advected states that do not participate directly in the\n",
    "# computation of pressure\n",
    "# Partial density of total water (exsolved water + dissolved water)\n",
    "# Note that dissolved water is Wt - Wv\n",
    "pDensityWt = solver.state_coeffs[:, :, solver.physics.get_state_index(\"pDensityWt\")]\n",
    "# Partial density of crystals\n",
    "pDensityC = solver.state_coeffs[:, :, solver.physics.get_state_index(\"pDensityC\")]\n",
    "\n",
    "# For additional variables:\n",
    "flag_non_physical = True\n",
    "p = solver.physics.compute_additional_variable(\n",
    "  \"Pressure\", solver.state_coeffs, flag_non_physical)\n",
    "T = solver.physics.compute_additional_variable(\n",
    "  \"Temperature\", solver.state_coeffs, flag_non_physical)\n",
    "soundspeed = solver.physics.compute_additional_variable(\n",
    "  \"SoundSpeed\", solver.state_coeffs, flag_non_physical)\n",
    "# For more variables, consult\n",
    "#   physics/multiphasevpT/multiphasevpT.py > MultiphasevpT > AdditionalVariables\n",
    "\n",
    "# Time\n",
    "t = solver.time\n",
    "\n",
    "# To get nodal points (x where each state is evaluated):\n",
    "# Get reference element nodes\n",
    "nodal_pts = solver.basis.get_nodes(solver.order)\n",
    "# Allocate [ne] x [nb, ndims]\n",
    "x = np.empty((solver.mesh.num_elems,) + nodal_pts.shape)\n",
    "for elem_ID in range(solver.mesh.num_elems):\n",
    "  # Fill coordinates in physical space\n",
    "  x[elem_ID] = mesh_tools.ref_to_phys(solver.mesh, elem_ID, nodal_pts)\n",
    "\n",
    "# Due to the shape, plotting requires unraveling the states\n",
    "plt.plot(x.ravel(), p.ravel())\n",
    "# In the plot, oscillations at the top of the expansion fan are caused by the\n",
    "# high order nature of the numerical method. Increasing the artificial viscosity\n",
    "# suppresses these oscillations somewhat."
   ]
  },
  {
   "cell_type": "code",
   "execution_count": null,
   "metadata": {},
   "outputs": [],
   "source": []
  }
 ],
 "metadata": {
  "kernelspec": {
   "display_name": "Python 3 (ipykernel)",
   "language": "python",
   "name": "python3"
  },
  "language_info": {
   "codemirror_mode": {
    "name": "ipython",
    "version": 3
   },
   "file_extension": ".py",
   "mimetype": "text/x-python",
   "name": "python",
   "nbconvert_exporter": "python",
   "pygments_lexer": "ipython3",
   "version": "3.9.12"
  },
  "vscode": {
   "interpreter": {
    "hash": "81794d4967e6c3204c66dcd87b604927b115b27c00565d3d43f05ba2f3a2cb0d"
   }
  }
 },
 "nbformat": 4,
 "nbformat_minor": 2
}
