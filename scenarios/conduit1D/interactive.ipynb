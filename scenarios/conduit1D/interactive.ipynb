{
 "cells": [
  {
   "cell_type": "markdown",
   "metadata": {},
   "source": [
    "Interacting with data: starter code"
   ]
  },
  {
   "cell_type": "code",
   "execution_count": 54,
   "metadata": {},
   "outputs": [],
   "source": [
    "import copy\n",
    "import os\n",
    "import numpy as np\n",
    "from numpy.linalg import norm\n",
    "import matplotlib.pyplot as plt\n",
    "\n",
    "# Specify path where .pkl files are located\n",
    "target_dir = \"C:\\\\Users\\\\Fredric\\\\Documents\\\\Volcano\\\\quail_volcano\\\\scenarios\\\\conduit1D\\\\\"\n",
    "# Specify path for Quail source code\n",
    "source_dir = \"C:\\\\Users\\\\Fredric\\\\Documents\\\\Volcano\\\\quail_volcano\\\\src\\\\\"\n",
    "# Change to working directory\n",
    "os.chdir(target_dir)"
   ]
  },
  {
   "cell_type": "markdown",
   "metadata": {},
   "source": [
    "Call code from notebook (skip block if running from command line)"
   ]
  },
  {
   "cell_type": "code",
   "execution_count": 5,
   "metadata": {},
   "outputs": [
    {
     "ename": "KeyError",
     "evalue": "'Function'",
     "output_type": "error",
     "traceback": [
      "\u001b[1;31m---------------------------------------------------------------------------\u001b[0m",
      "\u001b[1;31mKeyError\u001b[0m                                  Traceback (most recent call last)",
      "File \u001b[1;32m~\\Documents\\Volcano\\quail_volcano\\src\\quail:738\u001b[0m, in \u001b[0;36m<module>\u001b[1;34m\u001b[0m\n\u001b[0;32m    734\u001b[0m \t\u001b[39mprint\u001b[39m(\u001b[39m\"\u001b[39m\u001b[39m----------\u001b[39m\u001b[39m\"\u001b[39m)\n\u001b[0;32m    737\u001b[0m \u001b[39mif\u001b[39;00m \u001b[39m__name__\u001b[39m \u001b[39m==\u001b[39m \u001b[39m\"\u001b[39m\u001b[39m__main__\u001b[39m\u001b[39m\"\u001b[39m:\n\u001b[1;32m--> 738\u001b[0m \tmain(sys\u001b[39m.\u001b[39;49margv[\u001b[39m1\u001b[39;49m:])\n",
      "File \u001b[1;32m~\\Documents\\Volcano\\quail_volcano\\src\\quail:616\u001b[0m, in \u001b[0;36mmain\u001b[1;34m(argv)\u001b[0m\n\u001b[0;32m    613\u001b[0m setup_timer_start \u001b[39m=\u001b[39m time\u001b[39m.\u001b[39mtime()\n\u001b[0;32m    615\u001b[0m \u001b[39m# Build domains (depth-first) starting from root deck\u001b[39;00m\n\u001b[1;32m--> 616\u001b[0m dom_recursive_build(importlib\u001b[39m.\u001b[39;49mimport_module(input_deck\u001b[39m.\u001b[39;49mreplace(\u001b[39m\"\u001b[39;49m\u001b[39m.py\u001b[39;49m\u001b[39m\"\u001b[39;49m, \u001b[39m\"\u001b[39;49m\u001b[39m\"\u001b[39;49m)),\n\u001b[0;32m    617\u001b[0m \t\t\t\t\t\t\t\t\t\tdomain_list,\n\u001b[0;32m    618\u001b[0m \t\t\t\t\t\t\t\t\t\tdomain_edges,\n\u001b[0;32m    619\u001b[0m \t\t\t\t\t\t\t\t\t\tglobal_timestepping,\n\u001b[0;32m    620\u001b[0m \t\t\t\t\t\t\t\t\t\tdomain_edge_list\u001b[39m=\u001b[39;49m_domain_edge_list,\n\u001b[0;32m    621\u001b[0m \t\t\t\t\t\t\t\t\t\tedge_name_to_loc_bdry\u001b[39m=\u001b[39;49medge_name_to_loc_bdry)\n\u001b[0;32m    623\u001b[0m _num_timesteps \u001b[39m=\u001b[39m domain_list[\u001b[39m0\u001b[39m]\u001b[39m.\u001b[39msolver\u001b[39m.\u001b[39mparams[\u001b[39m\"\u001b[39m\u001b[39mNumTimeSteps\u001b[39m\u001b[39m\"\u001b[39m]\n\u001b[0;32m    625\u001b[0m \u001b[39mfor\u001b[39;00m domain \u001b[39min\u001b[39;00m domain_list:\n\u001b[0;32m    626\u001b[0m \t\u001b[39m# Attach domain topology to each domain\u001b[39;00m\n",
      "File \u001b[1;32m~\\Documents\\Volcano\\quail_volcano\\src\\quail:484\u001b[0m, in \u001b[0;36mdom_recursive_build\u001b[1;34m(deck, domain_list, domain_edges, global_timestepping, domain_edge_list, edge_name_to_loc_bdry)\u001b[0m\n\u001b[0;32m    482\u001b[0m \tdeck\u001b[39m.\u001b[39mTimeStepping \u001b[39m=\u001b[39m global_timestepping\n\u001b[0;32m    483\u001b[0m \u001b[39m# Build domain\u001b[39;00m\n\u001b[1;32m--> 484\u001b[0m solver, physics, mesh \u001b[39m=\u001b[39m driver(deck)\n\u001b[0;32m    485\u001b[0m dom \u001b[39m=\u001b[39m Domain(solver, physics, mesh, deck\u001b[39m.\u001b[39m\u001b[39m__name__\u001b[39m)\n\u001b[0;32m    487\u001b[0m \u001b[39m''' Add injections\u001b[39;00m\n\u001b[0;32m    488\u001b[0m \u001b[39mInjections are specified in the run parameter file by specifying\u001b[39;00m\n\u001b[0;32m    489\u001b[0m \u001b[39m\tlist[dict(\"Function\": Callable[solver, None](,\u001b[39;00m\n\u001b[1;32m   (...)\u001b[0m\n\u001b[0;32m    496\u001b[0m \u001b[39mThe argument solver can be modified as a side effect.\u001b[39;00m\n\u001b[0;32m    497\u001b[0m \u001b[39m'''\u001b[39;00m\n",
      "File \u001b[1;32m~\\Documents\\Volcano\\quail_volcano\\src\\quail:398\u001b[0m, in \u001b[0;36mdriver\u001b[1;34m(deck)\u001b[0m\n\u001b[0;32m    396\u001b[0m \u001b[39m# Source terms\u001b[39;00m\n\u001b[0;32m    397\u001b[0m \u001b[39mfor\u001b[39;00m sparams \u001b[39min\u001b[39;00m source_params\u001b[39m.\u001b[39mvalues():\n\u001b[1;32m--> 398\u001b[0m \tsname \u001b[39m=\u001b[39m sparams[\u001b[39m\"\u001b[39;49m\u001b[39mFunction\u001b[39;49m\u001b[39m\"\u001b[39;49m]\n\u001b[0;32m    399\u001b[0m \tsparams\u001b[39m.\u001b[39mpop(\u001b[39m\"\u001b[39m\u001b[39mFunction\u001b[39m\u001b[39m\"\u001b[39m)\n\u001b[0;32m    400\u001b[0m \tphysics\u001b[39m.\u001b[39mset_source(source_type\u001b[39m=\u001b[39msname, \u001b[39m*\u001b[39m\u001b[39m*\u001b[39msparams)\n",
      "\u001b[1;31mKeyError\u001b[0m: 'Function'"
     ]
    }
   ],
   "source": [
    "%%capture cap\n",
    "%run \"C:\\\\Users\\\\Fredric\\\\Documents\\\\Volcano\\\\quail_volcano\\\\src\\\\quail\" \"conduit.py\""
   ]
  },
  {
   "cell_type": "markdown",
   "metadata": {},
   "source": [
    "Import useful packages"
   ]
  },
  {
   "cell_type": "code",
   "execution_count": 55,
   "metadata": {},
   "outputs": [],
   "source": [
    "# Import quail modules\n",
    "os.chdir(source_dir)\n",
    "import argparse\n",
    "import importlib\n",
    "import sys\n",
    "\n",
    "import defaultparams as default_deck\n",
    "import errors\n",
    "from general import ShapeType, SolverType, PhysicsType\n",
    "\n",
    "import meshing.common as mesh_common\n",
    "import meshing.gmsh as mesh_gmsh\n",
    "import meshing.tools as mesh_tools\n",
    "\n",
    "import numerics.helpers.helpers as helpers\n",
    "import numerics.timestepping.tools as stepper_tools\n",
    "\n",
    "import physics.zerodimensional.zerodimensional as zerod\n",
    "import physics.euler.euler as euler\n",
    "import physics.navierstokes.navierstokes as navierstokes\n",
    "import physics.scalar.scalar as scalar\n",
    "import physics.chemistry.chemistry as chemistry\n",
    "import physics.multiphasevpT.multiphasevpT as multiphasevpT\n",
    "\n",
    "import processing.readwritedatafiles as readwritedatafiles\n",
    "import processing.post as post\n",
    "import processing.plot as plot\n",
    "\n",
    "import solver.DG as DG\n",
    "import solver.ADERDG as ADERDG\n",
    "import solver.tools as solver_tools\n",
    "\n",
    "import time\n",
    "import multiprocessing as mp\n",
    "from multidomain import Domain, Observer\n",
    "\n",
    "os.chdir(target_dir)"
   ]
  },
  {
   "cell_type": "markdown",
   "metadata": {},
   "source": [
    "Sample analysis"
   ]
  },
  {
   "cell_type": "code",
   "execution_count": 43,
   "metadata": {},
   "outputs": [],
   "source": [
    "%matplotlib tk\n",
    "file_idx = 200\n",
    "solver_from = lambda file_idx: readwritedatafiles.read_data_file(f\"conduitSteadyState_{file_idx}.pkl\")\n",
    "solver2D_from = lambda file_idx: readwritedatafiles.read_data_file(f\"atmSteadyState_{file_idx}.pkl\")\n",
    "solver = solver_from(file_idx)\n",
    "\n",
    "import processing.mdtools as mdt\n",
    "mdt.viz(solver_from(file_idx), \"pDensityWv\")\n",
    "# mdt.viz(solver_from(300), \"pDensityWv\")\n",
    "# mdt.viz(solver_from(400), \"pDensityWv\")\n",
    "plt.grid(True, 'both')\n",
    "plt.yscale(\"log\")\n",
    "# mdt.viz(solver_from(800), \"pDensityWv\")\n",
    "\n",
    "plt.figure(2)\n",
    "mdt.viz(readwritedatafiles.read_data_file(f\"atmSteadyState_{200}.pkl\"))\n",
    "\n",
    "plt.figure(3)\n",
    "mdt.viz(readwritedatafiles.read_data_file(f\"atmSteadyState_restart_{1}.pkl\"))\n",
    "\n",
    "plt.figure(4)\n",
    "mdt.viz(readwritedatafiles.read_data_file(f\"atmSteadyState_restart_{100}.pkl\"))"
   ]
  },
  {
   "cell_type": "code",
   "execution_count": 52,
   "metadata": {},
   "outputs": [],
   "source": [
    "plt.figure(5)\n",
    "plt.clf()\n",
    "mdt.viz(readwritedatafiles.read_data_file(f\"conduitSteadyState_{100}.pkl\"), \"Pressure\")\n",
    "mdt.viz(readwritedatafiles.read_data_file(f\"conduitSteadyState_{200}.pkl\"), \"Pressure\")\n",
    "plt.grid(True, 'both')\n",
    "# plt.yscale(\"log\")\n",
    "mdt.viz(readwritedatafiles.read_data_file(f\"conduitSteadyState_restart_{100}.pkl\"), \"Pressure\")"
   ]
  },
  {
   "cell_type": "code",
   "execution_count": 60,
   "metadata": {},
   "outputs": [
    {
     "data": {
      "text/plain": [
       "<module 'physics.multiphasevpT.functions' from 'C:\\\\Users\\\\Fredric\\\\Documents\\\\Volcano\\\\quail_volcano\\\\src\\\\physics\\\\multiphasevpT\\\\functions.py'>"
      ]
     },
     "execution_count": 60,
     "metadata": {},
     "output_type": "execute_result"
    }
   ],
   "source": [
    "import importlib\n",
    "importlib.reload(multiphasevpT.mpvpT_fcns)"
   ]
  },
  {
   "cell_type": "code",
   "execution_count": 115,
   "metadata": {},
   "outputs": [],
   "source": [
    "plt.figure(1)\n",
    "plt.clf()\n",
    "get_xy = lambda i: mdt.downsample(readwritedatafiles.read_data_file(f\"conduitSteadyState_inlet_{i}.pkl\"), \"pDensityWv\")\n",
    "\n",
    "plot_range = range(0,500,10)\n",
    "j_all = np.zeros((len(plot_range), *get_xy(0)[1].ravel().shape,))\n",
    "\n",
    "for i, file_idx in enumerate(plot_range):\n",
    "  x, j = get_xy(file_idx)\n",
    "  j_all[i,:] = j.ravel()\n",
    "  plt.plot(x.ravel(), j.ravel())"
   ]
  },
  {
   "cell_type": "code",
   "execution_count": 117,
   "metadata": {},
   "outputs": [
    {
     "data": {
      "text/plain": [
       "Text(0.5, 1.0, 'Water partial density (kg/m^3)')"
      ]
     },
     "execution_count": 117,
     "metadata": {},
     "output_type": "execute_result"
    }
   ],
   "source": [
    "plt.figure(2)\n",
    "plt.clf()\n",
    "plt.contourf(*np.meshgrid(x, plot_range), j_all, levels=100)\n",
    "plt.colorbar()\n",
    "plt.xlabel(\"x (m)\")\n",
    "plt.ylabel(\"t (cs)\")\n",
    "plt.title(\"Water partial density (kg/m^3)\")"
   ]
  },
  {
   "cell_type": "code",
   "execution_count": 4,
   "metadata": {},
   "outputs": [
    {
     "data": {
      "text/plain": [
       "[<matplotlib.lines.Line2D at 0x1cad7336cd0>]"
      ]
     },
     "execution_count": 4,
     "metadata": {},
     "output_type": "execute_result"
    },
    {
     "data": {
      "image/png": "[encoded data removed]",
      "text/plain": [
       "<Figure size 432x288 with 1 Axes>"
      ]
     },
     "metadata": {
      "needs_background": "light"
     },
     "output_type": "display_data"
    }
   ],
   "source": [
    "# Load a solver and interact\n",
    "file_idx = 25\n",
    "solver = readwritedatafiles.read_data_file(f\"conduit1D_{file_idx}.pkl\")\n",
    "\n",
    "# solver.state_coeffs holds the solution values at the nodes of each element\n",
    "# The shape of state_coeffs is\n",
    "#   [ne, nb, ns]\n",
    "# where ne is the number of elements, nb is the number of nodes (also finite\n",
    "# element basis dimension) in each element, and ns is the number of states\n",
    "# (ns is currently 7)\n",
    "\n",
    "# Partial density of air (i.e. mass of air per unit total volume)\n",
    "pDensityA = solver.state_coeffs[:, :, solver.physics.get_state_index(\"pDensityA\")]\n",
    "# Partial density of water vapour (exsolved water)\n",
    "pDensityWv = solver.state_coeffs[:, :, solver.physics.get_state_index(\"pDensityWv\")]\n",
    "# Partial density of magma (melt + dissolved water + crystals)\n",
    "pDensityM = solver.state_coeffs[:, :, solver.physics.get_state_index(\"pDensityM\")]\n",
    "# Momentum per unit volume\n",
    "x_momentum = solver.state_coeffs[:, :, solver.physics.get_state_index(\"XMomentum\")]\n",
    "# Total energy (including kinetic) per unit volume\n",
    "energy_density = solver.state_coeffs[:, :, solver.physics.get_state_index(\"Energy\")]\n",
    "\n",
    "# The following are advected states that do not participate directly in the\n",
    "# computation of pressure\n",
    "# Partial density of total water (exsolved water + dissolved water)\n",
    "# Note that dissolved water is Wt - Wv\n",
    "pDensityWt = solver.state_coeffs[:, :, solver.physics.get_state_index(\"pDensityWt\")]\n",
    "# Partial density of crystals\n",
    "pDensityC = solver.state_coeffs[:, :, solver.physics.get_state_index(\"pDensityC\")]\n",
    "\n",
    "# For additional variables:\n",
    "flag_non_physical = True\n",
    "p = solver.physics.compute_additional_variable(\n",
    "  \"Pressure\", solver.state_coeffs, flag_non_physical)\n",
    "T = solver.physics.compute_additional_variable(\n",
    "  \"Temperature\", solver.state_coeffs, flag_non_physical)\n",
    "soundspeed = solver.physics.compute_additional_variable(\n",
    "  \"SoundSpeed\", solver.state_coeffs, flag_non_physical)\n",
    "# For more variables, consult\n",
    "#   physics/multiphasevpT/multiphasevpT.py > MultiphasevpT > AdditionalVariables\n",
    "\n",
    "# Time\n",
    "t = solver.time\n",
    "\n",
    "# To get nodal points (x where each state is evaluated):\n",
    "# Get reference element nodes\n",
    "nodal_pts = solver.basis.get_nodes(solver.order)\n",
    "# Allocate [ne] x [nb, ndims]\n",
    "x = np.empty((solver.mesh.num_elems,) + nodal_pts.shape)\n",
    "for elem_ID in range(solver.mesh.num_elems):\n",
    "  # Fill coordinates in physical space\n",
    "  x[elem_ID] = mesh_tools.ref_to_phys(solver.mesh, elem_ID, nodal_pts)\n",
    "\n",
    "# Due to the shape, plotting requires unraveling the states\n",
    "plt.plot(x.ravel(), p.ravel())\n",
    "# In the plot, oscillations at the top of the expansion fan are caused by the\n",
    "# high order nature of the numerical method. Increasing the artificial viscosity\n",
    "# suppresses these oscillations somewhat."
   ]
  }
 ],
 "metadata": {
  "kernelspec": {
   "display_name": "Python 3.9.1 64-bit",
   "language": "python",
   "name": "python3"
  },
  "language_info": {
   "codemirror_mode": {
    "name": "ipython",
    "version": 3
   },
   "file_extension": ".py",
   "mimetype": "text/x-python",
   "name": "python",
   "nbconvert_exporter": "python",
   "pygments_lexer": "ipython3",
   "version": "3.9.1"
  },
  "orig_nbformat": 4,
  "vscode": {
   "interpreter": {
    "hash": "81794d4967e6c3204c66dcd87b604927b115b27c00565d3d43f05ba2f3a2cb0d"
   }
  }
 },
 "nbformat": 4,
 "nbformat_minor": 2
}
