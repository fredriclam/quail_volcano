{
 "cells": [
  {
   "cell_type": "markdown",
   "metadata": {},
   "source": [
    "#### Faster computation of sonic pressure if specified boundary pressure corresponds to supersonic flow"
   ]
  },
  {
   "cell_type": "code",
   "execution_count": 1,
   "metadata": {},
   "outputs": [],
   "source": [
    "# Config\n",
    "import copy\n",
    "import os\n",
    "import numpy as np\n",
    "from numpy.linalg import norm\n",
    "import matplotlib\n",
    "import matplotlib.pyplot as plt\n",
    "\n",
    "# Path for ffmpeg (if animations are needed)\n",
    "plt.rcParams['animation.ffmpeg_path'] = \"C:\\\\Users\\\\Fredric\\\\Documents\\\\ffmpeg\\\\ffmpeg-n4.4-latest-win64-gpl-4.4\\\\bin\\\\ffmpeg.exe\"\n",
    "\n",
    "# Path for .pkl files output\n",
    "# target_dir = \"C:\\\\Users\\\\Fredric\\\\Documents\\\\Volcano\\\\quail_volcano\\\\scenarios\\\\tungurahua\\\\\"\n",
    "target_dir = \"C:\\\\Users\\\\Fredric\\\\Documents\\\\Volcano\\\\quail_volcano\\\\scenarios\\\\test_oscillations\\\\\"\n",
    "# target_dir = \"C:\\\\Users\\\\Fredric\\\\Documents\\\\Volcano\\\\quail_volcano\\\\scenarios\\\\results_dx4m\\\\\"\n",
    "\n",
    "# Path for Quail source code\n",
    "source_dir = \"C:\\\\Users\\\\Fredric\\\\Documents\\\\Volcano\\\\quail_volcano\\\\src\\\\\"\n",
    "\n",
    "# Path for Quail entry point\n",
    "quail_path = os.path.join(source_dir, \"quail\")\n",
    "\n",
    "# Name of file to run (must be located in target_dir)\n",
    "target_file = \"conduit_p.py\""
   ]
  },
  {
   "cell_type": "code",
   "execution_count": 2,
   "metadata": {},
   "outputs": [],
   "source": [
    "%load_ext autoreload\n",
    "%autoreload 2\n",
    "\n",
    "# Import quail modules\n",
    "os.chdir(source_dir)\n",
    "import argparse\n",
    "import importlib\n",
    "import sys\n",
    "import scipy\n",
    "\n",
    "import defaultparams as default_deck\n",
    "import errors\n",
    "from general import ShapeType, SolverType, PhysicsType\n",
    "\n",
    "import meshing.common as mesh_common\n",
    "import meshing.gmsh as mesh_gmsh\n",
    "import meshing.tools as mesh_tools\n",
    "\n",
    "import numerics.helpers.helpers as helpers\n",
    "import numerics.timestepping.tools as stepper_tools\n",
    "\n",
    "import physics.zerodimensional.zerodimensional as zerod\n",
    "import physics.euler.euler as euler\n",
    "import physics.navierstokes.navierstokes as navierstokes\n",
    "import physics.scalar.scalar as scalar\n",
    "import physics.chemistry.chemistry as chemistry\n",
    "import physics.multiphasevpT.multiphasevpT as multiphasevpT\n",
    "\n",
    "import processing.readwritedatafiles as readwritedatafiles\n",
    "import processing.post as post\n",
    "import processing.plot as plot\n",
    "import processing\n",
    "import processing.mdtools as mdtools\n",
    "\n",
    "import solver.DG as DG\n",
    "import solver.ADERDG as ADERDG\n",
    "import solver.tools as solver_tools\n",
    "\n",
    "import time\n",
    "import multiprocessing as mp\n",
    "from multidomain import Domain, Observer\n",
    "\n",
    "os.chdir(target_dir)"
   ]
  },
  {
   "cell_type": "code",
   "execution_count": 36,
   "metadata": {},
   "outputs": [],
   "source": [
    "''' Attach some Quail output for suitable data input shapes. '''\n",
    "solver1D_par = lambda solver_idx, i: readwritedatafiles.read_data_file(\n",
    "  #f\"featuretest_conduit1_{i}.pkl\")\n",
    "  f\"oscillationtest_conduit1_BCIC_4s_par_sub{solver_idx}_{i}.pkl\")\n",
    "solver = solver1D_par(4,1)\n"
   ]
  },
  {
   "cell_type": "code",
   "execution_count": 37,
   "metadata": {},
   "outputs": [],
   "source": [
    "# Simulate input\n",
    "self = type(\"StandinClass\", (object,), {\"p\": 1e5})\n",
    "physics = solver.physics\n",
    "UqI = solver.state_coeffs[-1:,-1:,:]\n",
    "normals = np.array([[[1.0]]])\n",
    "x = normals.copy()\n",
    "t = 0.0"
   ]
  },
  {
   "cell_type": "code",
   "execution_count": 38,
   "metadata": {},
   "outputs": [],
   "source": [
    "import physics.multiphasevpT.atomics as atomics\n",
    "import scipy.optimize"
   ]
  },
  {
   "cell_type": "code",
   "execution_count": 200,
   "metadata": {},
   "outputs": [
    {
     "name": "stdout",
     "output_type": "stream",
     "text": [
      "=== Classical, without choked flow handling: \n",
      "U = [[[1.110389992953475e-06 2.176712647410851e-01 1.088622755440365e+01\n",
      "   1.305020883637493e+03 3.285910068841342e+07 3.192404259760995e-01\n",
      "   4.469319721637715e+00 5.877664178278679e+00]]]\n",
      "\u001b[32mWall t\u001b[0m = 0.420492799996282 ms\n",
      "p = [[[99999.99999983609]]]\n",
      "u = [[[117.52815604599705]]]\n",
      "=== Classical, with choked flow handling: \n",
      "U = [[[1.401066057405758e-06 2.746528900986730e-01 1.373600628289282e+01\n",
      "   1.336201871820033e+03 4.145721982440692e+07 4.028106591605508e-01\n",
      "   5.639290881058149e+00 7.416309431168485e+00]]]\n",
      "\u001b[32mWall t\u001b[0m = 2.82624080000096 ms\n",
      "p = [[[126401.42706337571]]]\n",
      "u = [[[95.3703692097269]]]\n"
     ]
    }
   ],
   "source": [
    "def classical_rootfinding(self, UqI, normals, x, t, is_handling_choking=True):\n",
    "  UqB = UqI.copy()\n",
    "  ''' Compute normal velocity. '''\n",
    "  arhoVec = UqI[:,:,physics.get_mass_slice()]\n",
    "  rhoI = atomics.rho(arhoVec)\n",
    "  velI = UqI[:, :, physics.get_momentum_slice()]/rhoI\n",
    "\n",
    "  ''' Compute interior pressure. '''\n",
    "  TI = atomics.temperature(arhoVec,\n",
    "    UqI[:,:,physics.get_momentum_slice()], \n",
    "    UqI[:,:,physics.get_state_slice(\"Energy\")], physics)\n",
    "  gas_volfrac = atomics.gas_volfrac(arhoVec, TI, physics)\n",
    "  pI = atomics.pressure(arhoVec, TI, gas_volfrac, physics)\n",
    "  if np.any(pI < 0.):\n",
    "    raise errors.NotPhysicalError\n",
    "  # Compute mass-weighted quantities\n",
    "  Gamma = atomics.Gamma(arhoVec, physics)\n",
    "  yI = atomics.massfrac(arhoVec)\n",
    "\n",
    "  ''' Short-circuit function for sonic exit based on interior '''\n",
    "  cI = atomics.sound_speed(Gamma, pI, rhoI, gas_volfrac, physics)\n",
    "  if np.any(velI >= cI):\n",
    "    return UqB\n",
    "  elif np.any(velI < 0):\n",
    "    raise ValueError(\"Inflow\")\n",
    "\n",
    "  ''' Compute boundary-satisfying primitive state that preserves Riemann\n",
    "  invariants (corresponding to ingoing acoustic waves) of the interior\n",
    "  solution. '''\n",
    "  p_target = self.p\n",
    "  _, u_target, T_target = atomics.velocity_RI_fixed_p_quadrature(\n",
    "    p_target, UqB, physics, normals, is_adaptive=True)\n",
    "\n",
    "  def constrained_sound_speed(p_target):\n",
    "    T_target = TI * (p_target / pI) ** ((Gamma-1)/Gamma)\n",
    "    rho = atomics.mixture_density(yI, p_target, T_target, physics)\n",
    "    return atomics.sound_speed(Gamma,\n",
    "      p_target, rho,\n",
    "      atomics.gas_volfrac(rho*yI, T_target, physics), physics)\n",
    "      \n",
    "  def mach_residual(p):\n",
    "    ''' Residual in equation c - u = 0''' \n",
    "    return constrained_sound_speed(p) - \\\n",
    "      atomics.velocity_RI_fixed_p_quadrature(\n",
    "        p, UqB, physics, normals, is_adaptive=True)[1] # Velocity\n",
    "  \n",
    "  if is_handling_choking:\n",
    "    ''' Recompute sonic pressure for supersonic boundary state. '''\n",
    "    if np.any(u_target > constrained_sound_speed(p_target)):\n",
    "      # Recompute based on sonic pressure\n",
    "      # TODO: Clean up\n",
    "      pSonic = scipy.optimize.brenth(mach_residual, p_target, pI)\n",
    "      _, u_target, T_target = atomics.velocity_RI_fixed_p_quadrature(\n",
    "        pSonic, UqB, physics, normals, is_adaptive=True)\n",
    "      p_target = pSonic\n",
    "\n",
    "  ''' Map to conservative variables '''\n",
    "  rho_target = atomics.mixture_density(yI, p_target, T_target, physics)\n",
    "  UqB[:,:,physics.get_mass_slice()] = rho_target * yI\n",
    "  UqB[:,:,physics.get_momentum_slice()] = rho_target * u_target\n",
    "  UqB[:,:,physics.get_state_slice(\"Energy\")] = \\\n",
    "    atomics.c_v(rho_target * yI, physics) * T_target \\\n",
    "    + (rho_target * yI[:,:,2:3]) * physics.Liquid[\"E_m0\"] \\\n",
    "    + 0.5 * rho_target * u_target * u_target\n",
    "  ''' Update adiabatically compressed/expanded tracer partial densities '''\n",
    "  UqB[:,:,5:] *= rho_target / rhoI\n",
    "\n",
    "  ''' Post-computation validity check '''\n",
    "  if np.any(T_target < 0.):\n",
    "    raise errors.NotPhysicalError\n",
    "\n",
    "  return UqB\n",
    "\n",
    "N_timing = 500\n",
    "t1 = time.perf_counter()\n",
    "for i in range(N_timing):\n",
    "  Uout = classical_rootfinding(self, UqI, normals, x, t, is_handling_choking=False)\n",
    "wall_clock = (time.perf_counter() - t1)/N_timing\n",
    "print(\"=== Classical, without choked flow handling: \")\n",
    "print(f\"U = {Uout}\")\n",
    "print(f\"\\x1b[32mWall t\\x1b[0m = {wall_clock*1e3} ms\")\n",
    "print(f\"p = {physics.compute_additional_variable('Pressure', Uout, False)}\")\n",
    "print(f\"u = {physics.compute_additional_variable('XVelocity', Uout, False)}\")\n",
    "\n",
    "t1 = time.perf_counter()\n",
    "for i in range(N_timing):\n",
    "  Uout = classical_rootfinding(self, UqI, normals, x, t, is_handling_choking=True)\n",
    "wall_clock = (time.perf_counter() - t1)/N_timing\n",
    "print(\"=== Classical, with choked flow handling: \")\n",
    "print(f\"U = {Uout}\")\n",
    "print(f\"\\x1b[32mWall t\\x1b[0m = {wall_clock*1e3} ms\")\n",
    "print(f\"p = {physics.compute_additional_variable('Pressure', Uout, False)}\")\n",
    "print(f\"u = {physics.compute_additional_variable('XVelocity', Uout, False)}\")"
   ]
  },
  {
   "cell_type": "code",
   "execution_count": 199,
   "metadata": {},
   "outputs": [
    {
     "name": "stdout",
     "output_type": "stream",
     "text": [
      "=== IVP-based, without choked flow handling: \n",
      "U = [[[1.399364490245420e-06 2.743193295675236e-01 1.371932417352216e+01\n",
      "   1.334568312905787e+03 4.140671640164762e+07 4.023214535404170e-01\n",
      "   5.632442073237789e+00 7.407302469282373e+00]]]\n",
      "\u001b[32mWall t\u001b[0m = 1.023553400002129 ms\n",
      "p = [[[126246.66214863956]]]\n",
      "u = [[[95.36959971534885]]]\n"
     ]
    }
   ],
   "source": [
    "def ivp_rootfinding(self, UqI, normals, x, t, is_handling_choking=True, get_soln_obj=False):\n",
    "  UqB = UqI.copy()\n",
    "  ''' Compute normal velocity. '''\n",
    "  arhoVec = UqI[:,:,physics.get_mass_slice()]\n",
    "  rhoI = atomics.rho(arhoVec)\n",
    "  velI = UqI[:, :, physics.get_momentum_slice()]/rhoI\n",
    "\n",
    "  ''' Compute interior pressure. '''\n",
    "  TI = atomics.temperature(arhoVec,\n",
    "    UqI[:,:,physics.get_momentum_slice()], \n",
    "    UqI[:,:,physics.get_state_slice(\"Energy\")], physics)\n",
    "  gas_volfrac = atomics.gas_volfrac(arhoVec, TI, physics)\n",
    "  pI = atomics.pressure(arhoVec, TI, gas_volfrac, physics)\n",
    "  if np.any(pI < 0.):\n",
    "    raise errors.NotPhysicalError\n",
    "  # Compute mass-weighted quantities\n",
    "  Gamma = atomics.Gamma(arhoVec, physics)\n",
    "  yI = atomics.massfrac(arhoVec)\n",
    "\n",
    "  ''' Short-circuit function for sonic exit based on interior '''\n",
    "  cI = atomics.sound_speed(Gamma, pI, rhoI, gas_volfrac, physics)\n",
    "  if np.any(velI >= cI):\n",
    "    return UqB\n",
    "  elif np.any(velI < 0):\n",
    "    raise ValueError(\"Inflow\")\n",
    "\n",
    "  ''' Compute boundary-satisfying primitive state that preserves Riemann\n",
    "  invariants (corresponding to ingoing acoustic waves) of the interior\n",
    "  solution. '''\n",
    "  # p_target = self.p\n",
    "  # _, u_target, T_target = atomics.velocity_RI_fixed_p_quadrature(\n",
    "  #   p_target, UqB, physics, normals, is_adaptive=True)\n",
    "\n",
    "  # Reformat initial conditions in state space\n",
    "  T1, p1, u1 = TI.ravel()[0], pI.ravel()[0], np.array([velI.ravel()[0],])\n",
    "  p2 = self.p\n",
    "\n",
    "  # Define affine mapping from progress variable t to pressure p\n",
    "  t2p = lambda t: p1 + t*(p2-p1)\n",
    "\n",
    "  # Locally define acoustic admittance integrand for speed\n",
    "  am2 = physics.Liquid[\"K\"] / physics.Liquid[\"rho0\"]\n",
    "  # Gas mole fraction (mole-weighted for each gas)\n",
    "  yR_g = yI[...,0].squeeze() * physics.Gas[0][\"R\"] \\\n",
    "    + yI[...,1].squeeze() * physics.Gas[1][\"R\"]\n",
    "  yM = yI[...,2].squeeze()\n",
    "  p_intercept = physics.Liquid[\"p0\"] - physics.Liquid[\"K\"]\n",
    "\n",
    "  def Y_s(p):\n",
    "    '''Isentropic admittance function'''\n",
    "    rhom_am2 = p - p_intercept\n",
    "    return np.sqrt((\n",
    "      yR_g * T1 * (p/p1)**((Gamma-1.0)/Gamma) / (p*p)\n",
    "      + yM * am2 / (rhom_am2*rhom_am2)\n",
    "    ) / Gamma)\n",
    "  \n",
    "  class ChokingEvent():\n",
    "    ''' Initial value problem termination event, returning u - c. '''\n",
    "    def __init__(self):\n",
    "      self.terminal = True\n",
    "\n",
    "    def __call__(self, t, u):\n",
    "      # Map progress variable t to pressure p\n",
    "      p = t2p(t)\n",
    "      # Compute temperature along isentrope\n",
    "      T = T1 * (p / p1) **((Gamma-1.0)/Gamma)\n",
    "      # Compute mixture density\n",
    "      rho = atomics.mixture_density(yI, p, T, physics)\n",
    "      # Return u - c\n",
    "      return u - atomics.sound_speed(Gamma, p, rho,\n",
    "        atomics.gas_volfrac(rho*yI, TI, physics), physics).ravel()[0]\n",
    "  \n",
    "  # Solve IVP for progress variable on [0,1], checking for choking, and \n",
    "  #   defaulting to one-step if possible\n",
    "  soln_obj = scipy.integrate.solve_ivp(\n",
    "    lambda t, u:\n",
    "      -normals * (p2-p1) * Y_s(t2p(t)),\n",
    "    (0, 1), u1, vectorized=True, first_step=1.0, events=[ChokingEvent()])\n",
    "  # Check for choking\n",
    "  if len(soln_obj.y_events[0]) == 0:\n",
    "    # Extract velocity at target pressure\n",
    "    u_target = soln_obj.y.ravel()[-1]\n",
    "  else:\n",
    "    # Extract velocity at choking\n",
    "    u_target = soln_obj.y_events[0][0]\n",
    "    # Re-evaluate target pressure\n",
    "    p2 = t2p(soln_obj.t_events[0][0])\n",
    "\n",
    "  # Compute temperature along isentrope\n",
    "  T_target = T1 * (p2 / p1) **((Gamma-1.0)/Gamma)\n",
    "\n",
    "  ''' Map to conservative variables '''\n",
    "  rho_target = atomics.mixture_density(yI, p2, T_target, physics)\n",
    "  UqB[:,:,physics.get_mass_slice()] = rho_target * yI\n",
    "  UqB[:,:,physics.get_momentum_slice()] = rho_target * u_target\n",
    "  UqB[:,:,physics.get_state_slice(\"Energy\")] = \\\n",
    "    atomics.c_v(rho_target * yI, physics) * T_target \\\n",
    "    + (rho_target * yI[:,:,2:3]) * physics.Liquid[\"E_m0\"] \\\n",
    "    + 0.5 * rho_target * u_target * u_target\n",
    "  ''' Update adiabatically compressed/expanded tracer partial densities '''\n",
    "  UqB[:,:,5:] *= rho_target / rhoI\n",
    "\n",
    "  ''' Post-computation validity check '''\n",
    "  if np.any(T_target < 0.):\n",
    "    raise errors.NotPhysicalError\n",
    "\n",
    "  if get_soln_obj:\n",
    "    return UqB, soln_obj\n",
    "  return UqB\n",
    "\n",
    "N_timing = 500\n",
    "t1 = time.perf_counter()\n",
    "for i in range(N_timing):\n",
    "  Uout = ivp_rootfinding(self, UqI, normals, x, t, is_handling_choking=False)\n",
    "wall_clock = (time.perf_counter() - t1)/N_timing\n",
    "print(\"=== IVP-based, without choked flow handling: \")\n",
    "print(f\"U = {Uout}\")\n",
    "print(f\"\\x1b[32mWall t\\x1b[0m = {wall_clock*1e3} ms\")\n",
    "print(f\"p = {physics.compute_additional_variable('Pressure', Uout, False)}\")\n",
    "print(f\"u = {physics.compute_additional_variable('XVelocity', Uout, False)}\")\n",
    "\n",
    "# t1 = time.perf_counter()\n",
    "# for i in range(N_timing):\n",
    "#   Uout = classical_rootfinding(self, UqI, normals, x, t, is_handling_choking=True)\n",
    "# wall_clock = (time.perf_counter() - t1)/N_timing\n",
    "# print(\"=== Classical, with choked flow handling: \")\n",
    "# print(f\"U = {Uout}\")\n",
    "# print(f\"\\x1b[32mWall t\\x1b[0m = {wall_clock*1e3} ms\")\n",
    "# print(f\"p = {physics.compute_additional_variable('Pressure', Uout, False)}\")\n",
    "# print(f\"u = {physics.compute_additional_variable('XVelocity', Uout, False)}\")"
   ]
  },
  {
   "cell_type": "code",
   "execution_count": 201,
   "metadata": {},
   "outputs": [
    {
     "data": {
      "text/plain": [
       "(array([[[1.399364490245420e-06, 2.743193295675236e-01,\n",
       "          1.371932417352216e+01, 1.334568312905787e+03,\n",
       "          4.140671640164762e+07, 4.023214535404170e-01,\n",
       "          5.632442073237789e+00, 7.407302469282373e+00]]]),\n",
       "   message: 'A termination event occurred.'\n",
       "      nfev: 7\n",
       "      njev: 0\n",
       "       nlu: 0\n",
       "       sol: None\n",
       "    status: 1\n",
       "   success: True\n",
       "         t: array([0.              , 0.85060825667491])\n",
       "  t_events: [array([0.85060825667491])]\n",
       "         y: array([[21.558407803150942, 95.36959971534885 ]])\n",
       "  y_events: [array([[95.36959971534885]])])"
      ]
     },
     "execution_count": 201,
     "metadata": {},
     "output_type": "execute_result"
    }
   ],
   "source": [
    "ivp_rootfinding(self, UqI, normals, x, t, is_handling_choking=False, get_soln_obj=True)"
   ]
  },
  {
   "cell_type": "code",
   "execution_count": 144,
   "metadata": {},
   "outputs": [],
   "source": [
    "# Reformat initial conditions in state space\n",
    "T1, p1, u1 = TI.ravel()[0], pI.ravel()[0], np.array([velI.ravel()[0],])\n",
    "p2 = self.p\n",
    "\n",
    "# Define affine mapping from progress variable t to pressure p\n",
    "t2p = lambda t: p1 + t *(p2-p1)\n",
    "\n",
    "# Locally define acoustic admittance integrand for speed\n",
    "am2 = physics.Liquid[\"K\"] / physics.Liquid[\"rho0\"]\n",
    "# Gas mole fraction (mole-weighted for each gas)\n",
    "yR_g = yI[...,0].squeeze() * physics.Gas[0][\"R\"] \\\n",
    "  + yI[...,1].squeeze() * physics.Gas[1][\"R\"]\n",
    "yM = yI[...,2].squeeze()\n",
    "p_intercept = physics.Liquid[\"p0\"] - physics.Liquid[\"K\"]\n",
    "def Y_s(p):\n",
    "  rhom_am2 = p - p_intercept\n",
    "  return np.sqrt((\n",
    "    yR_g * T1 * (p/p1)**((Gamma-1.0)/Gamma) / (p*p)\n",
    "    + yM * am2 / (rhom_am2*rhom_am2)\n",
    "  ) / Gamma)\n",
    "soln_obj = scipy.integrate.solve_ivp(\n",
    "  lambda t, u:\n",
    "    -normals * (p2-p1) * Y_s(t2p(t)),\n",
    "  (0, 1), u1, vectorized=True, first_step=1.0)"
   ]
  },
  {
   "cell_type": "code",
   "execution_count": 168,
   "metadata": {},
   "outputs": [
    {
     "data": {
      "text/plain": [
       "95.23545552688182"
      ]
     },
     "execution_count": 168,
     "metadata": {},
     "output_type": "execute_result"
    }
   ],
   "source": [
    "# Sound speed along an isentrope\n",
    "arhoVec = UqI[:,:,physics.get_mass_slice()]\n",
    "rhoI = atomics.rho(arhoVec)\n",
    "velI = UqI[:, :, physics.get_momentum_slice()]/rhoI\n",
    "\n",
    "''' Compute interior pressure. '''\n",
    "TI = atomics.temperature(arhoVec,\n",
    "  UqI[:,:,physics.get_momentum_slice()], \n",
    "  UqI[:,:,physics.get_state_slice(\"Energy\")], physics)\n",
    "gas_volfrac = atomics.gas_volfrac(arhoVec, TI, physics)\n",
    "pI = atomics.pressure(arhoVec, TI, gas_volfrac, physics)\n",
    "if np.any(pI < 0.):\n",
    "  raise errors.NotPhysicalError\n",
    "# Compute mass-weighted quantities\n",
    "Gamma = atomics.Gamma(arhoVec, physics)\n",
    "yI = atomics.massfrac(arhoVec)\n",
    "\n",
    "def c_s(p):\n",
    "  T = T1 * (p / p1) **((Gamma-1.0)/Gamma)\n",
    "  rho = atomics.mixture_density(yI, p, T, physics)\n",
    "  gas_volfrac = atomics.gas_volfrac(rho*yI, TI, physics)\n",
    "  return atomics.sound_speed(Gamma, p, rho,\n",
    "    gas_volfrac, physics).ravel()[0]\n",
    "c_s(1e5)"
   ]
  },
  {
   "cell_type": "code",
   "execution_count": 161,
   "metadata": {},
   "outputs": [
    {
     "data": {
      "text/plain": [
       "((1, 1, 1), (1, 1, 3))"
      ]
     },
     "execution_count": 161,
     "metadata": {},
     "output_type": "execute_result"
    }
   ],
   "source": [
    "(T1/p).shape, yI.shape"
   ]
  },
  {
   "cell_type": "code",
   "execution_count": 173,
   "metadata": {},
   "outputs": [
    {
     "data": {
      "text/plain": [
       "-91.05453678480656"
      ]
     },
     "execution_count": 173,
     "metadata": {},
     "output_type": "execute_result"
    }
   ],
   "source": [
    "class ChokingEvent():\n",
    "  def __init__(self):\n",
    "    self.terminal = True\n",
    "\n",
    "  def __call__(self, t, u):\n",
    "    # Map progress variable t to pressure p\n",
    "    p = t2p(t)\n",
    "    # Compute temperature along isentrope\n",
    "    T = T1 * (p / p1) **((Gamma-1.0)/Gamma)\n",
    "    # Compute mixture density\n",
    "    rho = atomics.mixture_density(yI, p, T, physics)\n",
    "    # Return u - c\n",
    "    return u - atomics.sound_speed(Gamma, p, rho,\n",
    "      atomics.gas_volfrac(rho*yI, TI, physics), physics).ravel()[0]\n",
    "ce = ChokingEvent()\n",
    "ce(0, 5)"
   ]
  },
  {
   "cell_type": "code",
   "execution_count": 81,
   "metadata": {},
   "outputs": [
    {
     "data": {
      "text/plain": [
       "(994.7657742105887,\n",
       " 275690.1791495234,\n",
       " array([21.558407803150942]),\n",
       " 100000.0,\n",
       " (275690.1791495234, 100000.0))"
      ]
     },
     "execution_count": 81,
     "metadata": {},
     "output_type": "execute_result"
    }
   ],
   "source": [
    "# Reformat initial conditions in state space\n",
    "T1, p1, u1 = TI.ravel()[0], pI.ravel()[0], np.array([velI.ravel()[0],])\n",
    "p2 = p_target\n",
    "T1, p1, u1, p2, (p1,p2)"
   ]
  },
  {
   "cell_type": "code",
   "execution_count": 89,
   "metadata": {},
   "outputs": [
    {
     "data": {
      "text/plain": [
       "  message: 'The solver successfully reached the end of the integration interval.'\n",
       "     nfev: 20\n",
       "     njev: 0\n",
       "      nlu: 0\n",
       "      sol: None\n",
       "   status: 0\n",
       "  success: True\n",
       "        t: array([0.               , 0.081392344190097, 0.895315786091066,\n",
       "       1.               ])\n",
       " t_events: None\n",
       "        y: array([[ 21.558407803150942,  26.602692895606012, 101.57082360129812 ,\n",
       "        117.53818554790806 ]])\n",
       " y_events: None"
      ]
     },
     "execution_count": 89,
     "metadata": {},
     "output_type": "execute_result"
    },
    {
     "data": {
      "image/png": "[encoded data removed]",
      "text/plain": [
       "<Figure size 432x288 with 1 Axes>"
      ]
     },
     "metadata": {
      "needs_background": "light"
     },
     "output_type": "display_data"
    }
   ],
   "source": [
    "# Define affine mapping from progress variable t to pressure\n",
    "t2p = lambda t: p1 + t *(p2-p1)\n",
    "u_out = scipy.integrate.solve_ivp(\n",
    "  lambda t, u:\n",
    "    -normals * (p2-p1) \\\n",
    "      * atomics.acousticRI_integrand_scalar(t2p(t), TI, p1, yI, Gamma, physics),\n",
    "  (0, 1), u1)\n",
    "plt.plot(t2p(u_out.t), u_out.y.ravel(), '.')\n",
    "u_out"
   ]
  }
 ],
 "metadata": {
  "kernelspec": {
   "display_name": "Python 3.9.1 64-bit",
   "language": "python",
   "name": "python3"
  },
  "language_info": {
   "codemirror_mode": {
    "name": "ipython",
    "version": 3
   },
   "file_extension": ".py",
   "mimetype": "text/x-python",
   "name": "python",
   "nbconvert_exporter": "python",
   "pygments_lexer": "ipython3",
   "version": "3.9.1"
  },
  "orig_nbformat": 4,
  "vscode": {
   "interpreter": {
    "hash": "81794d4967e6c3204c66dcd87b604927b115b27c00565d3d43f05ba2f3a2cb0d"
   }
  }
 },
 "nbformat": 4,
 "nbformat_minor": 2
}
