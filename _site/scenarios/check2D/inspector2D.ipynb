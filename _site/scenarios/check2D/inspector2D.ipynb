{
 "cells": [
  {
   "cell_type": "code",
   "execution_count": 16,
   "metadata": {},
   "outputs": [],
   "source": [
    "# Config\n",
    "import copy\n",
    "import os\n",
    "import numpy as np\n",
    "from numpy.linalg import norm\n",
    "import matplotlib\n",
    "import matplotlib.pyplot as plt\n",
    "\n",
    "# Path for ffmpeg (if animations are needed)\n",
    "plt.rcParams['animation.ffmpeg_path'] = \"C:\\\\Users\\\\Fredric\\\\Documents\\\\ffmpeg\\\\ffmpeg-n4.4-latest-win64-gpl-4.4\\\\bin\\\\ffmpeg.exe\"\n",
    "\n",
    "# Path for .pkl files output\n",
    "# target_dir = \"C:\\\\Users\\\\Fredric\\\\Documents\\\\Volcano\\\\quail_volcano\\\\scenarios\\\\tungurahua\\\\\"\n",
    "target_dir = \"C:\\\\Users\\\\Fredric\\\\Documents\\\\Volcano\\\\quail_volcano\\\\scenarios\\\\check2D\\\\\"\n",
    "# target_dir = \"C:\\\\Users\\\\Fredric\\\\Documents\\\\Volcano\\\\quail_volcano\\\\scenarios\\\\results_dx4m\\\\\"\n",
    "\n",
    "# Path for Quail source code\n",
    "source_dir = \"C:\\\\Users\\\\Fredric\\\\Documents\\\\Volcano\\\\quail_volcano\\\\src\\\\\"\n",
    "\n",
    "# Path for Quail entry point\n",
    "quail_path = os.path.join(source_dir, \"quail\")\n",
    "\n",
    "# Name of file to run (must be located in target_dir)\n",
    "target_file = \"conduit_p.py\""
   ]
  },
  {
   "cell_type": "code",
   "execution_count": 17,
   "metadata": {},
   "outputs": [
    {
     "name": "stdout",
     "output_type": "stream",
     "text": [
      "The autoreload extension is already loaded. To reload it, use:\n",
      "  %reload_ext autoreload\n"
     ]
    }
   ],
   "source": [
    "%load_ext autoreload\n",
    "%autoreload 2\n",
    "\n",
    "# Import quail modules\n",
    "os.chdir(source_dir)\n",
    "import argparse\n",
    "import importlib\n",
    "import sys\n",
    "import scipy\n",
    "\n",
    "import defaultparams as default_deck\n",
    "import errors\n",
    "from general import ShapeType, SolverType, PhysicsType\n",
    "\n",
    "import meshing.common as mesh_common\n",
    "import meshing.gmsh as mesh_gmsh\n",
    "import meshing.tools as mesh_tools\n",
    "\n",
    "import numerics.helpers.helpers as helpers\n",
    "import numerics.timestepping.tools as stepper_tools\n",
    "\n",
    "import physics.zerodimensional.zerodimensional as zerod\n",
    "import physics.euler.euler as euler\n",
    "import physics.navierstokes.navierstokes as navierstokes\n",
    "import physics.scalar.scalar as scalar\n",
    "import physics.chemistry.chemistry as chemistry\n",
    "import physics.multiphasevpT.multiphasevpT as multiphasevpT\n",
    "\n",
    "import processing.readwritedatafiles as readwritedatafiles\n",
    "import processing.post as post\n",
    "import processing.plot as plot\n",
    "import processing\n",
    "import processing.mdtools as mdtools\n",
    "\n",
    "import solver.DG as DG\n",
    "import solver.ADERDG as ADERDG\n",
    "import solver.tools as solver_tools\n",
    "\n",
    "import time\n",
    "import multiprocessing as mp\n",
    "from multidomain import Domain, Observer\n",
    "\n",
    "os.chdir(target_dir)"
   ]
  },
  {
   "cell_type": "code",
   "execution_count": 19,
   "metadata": {},
   "outputs": [],
   "source": [
    "# Pull data from 2D\n",
    "solver2D_from = lambda i: readwritedatafiles.read_data_file(\n",
    "  f\"check2D_atm_{i}.pkl\")\n"
   ]
  },
  {
   "cell_type": "code",
   "execution_count": 20,
   "metadata": {},
   "outputs": [],
   "source": [
    "''' Test load and get mesh. '''\n",
    "x, p0 = mdtools.downsample(solver2D_from(0), \"Pressure\")"
   ]
  },
  {
   "cell_type": "code",
   "execution_count": 21,
   "metadata": {},
   "outputs": [],
   "source": [
    "%matplotlib tk\n",
    "solver = solver2D_from(5)\n",
    "mdtools.viz(solver2D_from(5), \"Pressure\")\n"
   ]
  },
  {
   "cell_type": "code",
   "execution_count": 28,
   "metadata": {},
   "outputs": [
    {
     "data": {
      "text/plain": [
       "(-1.2383388821035624e-06, 3.3050309866666794e-06)"
      ]
     },
     "execution_count": 28,
     "metadata": {},
     "output_type": "execute_result"
    }
   ],
   "source": [
    "fidx = 10\n",
    "solver = solver2D_from(fidx)\n",
    "x, p0 = mdtools.downsample(solver2D_from(0), \"Pressure\")\n",
    "x, p = mdtools.downsample(solver, \"Pressure\")\n",
    "(p-p0).min(), (p-p0).max()"
   ]
  },
  {
   "cell_type": "code",
   "execution_count": null,
   "metadata": {},
   "outputs": [],
   "source": []
  },
  {
   "cell_type": "code",
   "execution_count": 31,
   "metadata": {},
   "outputs": [
    {
     "ename": "KeyboardInterrupt",
     "evalue": "",
     "output_type": "error",
     "traceback": [
      "\u001b[1;31m---------------------------------------------------------------------------\u001b[0m",
      "\u001b[1;31mKeyboardInterrupt\u001b[0m                         Traceback (most recent call last)",
      "\u001b[1;32mc:\\Users\\Fredric\\Documents\\Volcano\\quail_volcano\\scenarios\\check2D\\inspector2D.ipynb Cell 8\u001b[0m in \u001b[0;36m<cell line: 1>\u001b[1;34m()\u001b[0m\n\u001b[1;32m----> <a href='vscode-notebook-cell:/c%3A/Users/Fredric/Documents/Volcano/quail_volcano/scenarios/check2D/inspector2D.ipynb#Y224sZmlsZQ%3D%3D?line=0'>1</a>\u001b[0m mdtools\u001b[39m.\u001b[39;49mcustom_plot_2D(x, p\u001b[39m-\u001b[39;49mp0, solver)\n",
      "File \u001b[1;32m~\\Documents\\Volcano\\quail_volcano\\src\\processing\\mdtools.py:55\u001b[0m, in \u001b[0;36mcustom_plot_2D\u001b[1;34m(x, var_plot, solver, levels, clims)\u001b[0m\n\u001b[0;32m     53\u001b[0m tris, utri \u001b[39m=\u001b[39m plot\u001b[39m.\u001b[39mtriangulate(solver\u001b[39m.\u001b[39mphysics, x[elem_ID], var_plot[elem_ID])\n\u001b[0;32m     54\u001b[0m \u001b[39m# Plot\u001b[39;00m\n\u001b[1;32m---> 55\u001b[0m plt\u001b[39m.\u001b[39;49mtricontourf(tris, utri, levels\u001b[39m=\u001b[39;49mlevels, extend\u001b[39m=\u001b[39;49m\u001b[39m\"\u001b[39;49m\u001b[39mboth\u001b[39;49m\u001b[39m\"\u001b[39;49m)\n\u001b[0;32m     56\u001b[0m \u001b[39mif\u001b[39;00m np\u001b[39m.\u001b[39mmod(elem_ID,\u001b[39m100\u001b[39m) \u001b[39m==\u001b[39m \u001b[39m0\u001b[39m:\n\u001b[0;32m     57\u001b[0m \tplt\u001b[39m.\u001b[39mpause(\u001b[39m0.05\u001b[39m)\n",
      "File \u001b[1;32mc:\\Python39\\lib\\site-packages\\matplotlib\\pyplot.py:3219\u001b[0m, in \u001b[0;36mtricontourf\u001b[1;34m(*args, **kwargs)\u001b[0m\n\u001b[0;32m   3217\u001b[0m \u001b[39m@_copy_docstring_and_deprecators\u001b[39m(Axes\u001b[39m.\u001b[39mtricontourf)\n\u001b[0;32m   3218\u001b[0m \u001b[39mdef\u001b[39;00m \u001b[39mtricontourf\u001b[39m(\u001b[39m*\u001b[39margs, \u001b[39m*\u001b[39m\u001b[39m*\u001b[39mkwargs):\n\u001b[1;32m-> 3219\u001b[0m     __ret \u001b[39m=\u001b[39m gca()\u001b[39m.\u001b[39mtricontourf(\u001b[39m*\u001b[39margs, \u001b[39m*\u001b[39m\u001b[39m*\u001b[39mkwargs)\n\u001b[0;32m   3220\u001b[0m     \u001b[39mif\u001b[39;00m __ret\u001b[39m.\u001b[39m_A \u001b[39mis\u001b[39;00m \u001b[39mnot\u001b[39;00m \u001b[39mNone\u001b[39;00m: sci(__ret)  \u001b[39m# noqa\u001b[39;00m\n\u001b[0;32m   3221\u001b[0m     \u001b[39mreturn\u001b[39;00m __ret\n",
      "File \u001b[1;32mc:\\Python39\\lib\\site-packages\\matplotlib\\tri\\tricontour.py:323\u001b[0m, in \u001b[0;36mtricontourf\u001b[1;34m(ax, *args, **kwargs)\u001b[0m\n\u001b[0;32m    303\u001b[0m \u001b[39m\"\"\"\u001b[39;00m\n\u001b[0;32m    304\u001b[0m \u001b[39m%(_tricontour_doc)s\u001b[39;00m\n\u001b[0;32m    305\u001b[0m \n\u001b[1;32m   (...)\u001b[0m\n\u001b[0;32m    320\u001b[0m \u001b[39mincludes the lowest value).\u001b[39;00m\n\u001b[0;32m    321\u001b[0m \u001b[39m\"\"\"\u001b[39;00m\n\u001b[0;32m    322\u001b[0m kwargs[\u001b[39m'\u001b[39m\u001b[39mfilled\u001b[39m\u001b[39m'\u001b[39m] \u001b[39m=\u001b[39m \u001b[39mTrue\u001b[39;00m\n\u001b[1;32m--> 323\u001b[0m \u001b[39mreturn\u001b[39;00m TriContourSet(ax, \u001b[39m*\u001b[39margs, \u001b[39m*\u001b[39m\u001b[39m*\u001b[39mkwargs)\n",
      "File \u001b[1;32mc:\\Python39\\lib\\site-packages\\matplotlib\\tri\\tricontour.py:29\u001b[0m, in \u001b[0;36mTriContourSet.__init__\u001b[1;34m(self, ax, *args, **kwargs)\u001b[0m\n\u001b[0;32m     19\u001b[0m \u001b[39mdef\u001b[39;00m \u001b[39m__init__\u001b[39m(\u001b[39mself\u001b[39m, ax, \u001b[39m*\u001b[39margs, \u001b[39m*\u001b[39m\u001b[39m*\u001b[39mkwargs):\n\u001b[0;32m     20\u001b[0m     \u001b[39m\"\"\"\u001b[39;00m\n\u001b[0;32m     21\u001b[0m \u001b[39m    Draw triangular grid contour lines or filled regions,\u001b[39;00m\n\u001b[0;32m     22\u001b[0m \u001b[39m    depending on whether keyword arg 'filled' is False\u001b[39;00m\n\u001b[1;32m   (...)\u001b[0m\n\u001b[0;32m     27\u001b[0m \u001b[39m    are described in the docstring of `~.Axes.tricontour`.\u001b[39;00m\n\u001b[0;32m     28\u001b[0m \u001b[39m    \"\"\"\u001b[39;00m\n\u001b[1;32m---> 29\u001b[0m     \u001b[39msuper\u001b[39m()\u001b[39m.\u001b[39m\u001b[39m__init__\u001b[39m(ax, \u001b[39m*\u001b[39margs, \u001b[39m*\u001b[39m\u001b[39m*\u001b[39mkwargs)\n",
      "File \u001b[1;32mc:\\Python39\\lib\\site-packages\\matplotlib\\contour.py:876\u001b[0m, in \u001b[0;36mContourSet.__init__\u001b[1;34m(self, ax, levels, filled, linewidths, linestyles, hatches, alpha, origin, extent, cmap, colors, norm, vmin, vmax, extend, antialiased, nchunk, locator, transform, *args, **kwargs)\u001b[0m\n\u001b[0;32m    874\u001b[0m     col\u001b[39m.\u001b[39msticky_edges\u001b[39m.\u001b[39my[:] \u001b[39m=\u001b[39m [\u001b[39mself\u001b[39m\u001b[39m.\u001b[39m_mins[\u001b[39m1\u001b[39m], \u001b[39mself\u001b[39m\u001b[39m.\u001b[39m_maxs[\u001b[39m1\u001b[39m]]\n\u001b[0;32m    875\u001b[0m \u001b[39mself\u001b[39m\u001b[39m.\u001b[39maxes\u001b[39m.\u001b[39mupdate_datalim([\u001b[39mself\u001b[39m\u001b[39m.\u001b[39m_mins, \u001b[39mself\u001b[39m\u001b[39m.\u001b[39m_maxs])\n\u001b[1;32m--> 876\u001b[0m \u001b[39mself\u001b[39;49m\u001b[39m.\u001b[39;49maxes\u001b[39m.\u001b[39;49mautoscale_view(tight\u001b[39m=\u001b[39;49m\u001b[39mTrue\u001b[39;49;00m)\n\u001b[0;32m    878\u001b[0m \u001b[39mself\u001b[39m\u001b[39m.\u001b[39mchanged()  \u001b[39m# set the colors\u001b[39;00m\n\u001b[0;32m    880\u001b[0m \u001b[39mif\u001b[39;00m kwargs:\n",
      "File \u001b[1;32mc:\\Python39\\lib\\site-packages\\matplotlib\\axes\\_base.py:2682\u001b[0m, in \u001b[0;36m_AxesBase.autoscale_view\u001b[1;34m(self, tight, scalex, scaley)\u001b[0m\n\u001b[0;32m   2676\u001b[0m         x_stickies \u001b[39m=\u001b[39m np\u001b[39m.\u001b[39msort(np\u001b[39m.\u001b[39mconcatenate([\n\u001b[0;32m   2677\u001b[0m             artist\u001b[39m.\u001b[39msticky_edges\u001b[39m.\u001b[39mx\n\u001b[0;32m   2678\u001b[0m             \u001b[39mfor\u001b[39;00m ax \u001b[39min\u001b[39;00m \u001b[39mself\u001b[39m\u001b[39m.\u001b[39m_shared_x_axes\u001b[39m.\u001b[39mget_siblings(\u001b[39mself\u001b[39m)\n\u001b[0;32m   2679\u001b[0m             \u001b[39mif\u001b[39;00m \u001b[39mhasattr\u001b[39m(ax, \u001b[39m\"\u001b[39m\u001b[39mlines\u001b[39m\u001b[39m\"\u001b[39m)\n\u001b[0;32m   2680\u001b[0m             \u001b[39mfor\u001b[39;00m artist \u001b[39min\u001b[39;00m ax\u001b[39m.\u001b[39mget_children()]))\n\u001b[0;32m   2681\u001b[0m     \u001b[39mif\u001b[39;00m \u001b[39mself\u001b[39m\u001b[39m.\u001b[39m_ymargin \u001b[39mand\u001b[39;00m scaley \u001b[39mand\u001b[39;00m \u001b[39mself\u001b[39m\u001b[39m.\u001b[39m_autoscaleYon:\n\u001b[1;32m-> 2682\u001b[0m         y_stickies \u001b[39m=\u001b[39m np\u001b[39m.\u001b[39msort(np\u001b[39m.\u001b[39;49mconcatenate([\n\u001b[0;32m   2683\u001b[0m             artist\u001b[39m.\u001b[39;49msticky_edges\u001b[39m.\u001b[39;49my\n\u001b[0;32m   2684\u001b[0m             \u001b[39mfor\u001b[39;49;00m ax \u001b[39min\u001b[39;49;00m \u001b[39mself\u001b[39;49m\u001b[39m.\u001b[39;49m_shared_y_axes\u001b[39m.\u001b[39;49mget_siblings(\u001b[39mself\u001b[39;49m)\n\u001b[0;32m   2685\u001b[0m             \u001b[39mif\u001b[39;49;00m \u001b[39mhasattr\u001b[39;49m(ax, \u001b[39m\"\u001b[39;49m\u001b[39mlines\u001b[39;49m\u001b[39m\"\u001b[39;49m)\n\u001b[0;32m   2686\u001b[0m             \u001b[39mfor\u001b[39;49;00m artist \u001b[39min\u001b[39;49;00m ax\u001b[39m.\u001b[39;49mget_children()]))\n\u001b[0;32m   2687\u001b[0m \u001b[39mif\u001b[39;00m \u001b[39mself\u001b[39m\u001b[39m.\u001b[39mget_xscale() \u001b[39m==\u001b[39m \u001b[39m'\u001b[39m\u001b[39mlog\u001b[39m\u001b[39m'\u001b[39m:\n\u001b[0;32m   2688\u001b[0m     x_stickies \u001b[39m=\u001b[39m x_stickies[x_stickies \u001b[39m>\u001b[39m \u001b[39m0\u001b[39m]\n",
      "File \u001b[1;32m<__array_function__ internals>:5\u001b[0m, in \u001b[0;36mconcatenate\u001b[1;34m(*args, **kwargs)\u001b[0m\n",
      "\u001b[1;31mKeyboardInterrupt\u001b[0m: "
     ]
    }
   ],
   "source": [
    "mdtools.custom_plot_2D(x, p-p0, solver)"
   ]
  },
  {
   "cell_type": "code",
   "execution_count": 30,
   "metadata": {},
   "outputs": [
    {
     "data": {
      "text/plain": [
       "{'r1': <physics.multiphasevpT.functions.SlipWall at 0x21832d14c10>,\n",
       " 'ground': <physics.multiphasevpT.functions.SlipWall at 0x21832d14be0>,\n",
       " 'flare': <physics.multiphasevpT.functions.SlipWall at 0x21832d277f0>,\n",
       " 'pipewall': <physics.multiphasevpT.functions.SlipWall at 0x21832d27820>,\n",
       " 'x2': <physics.multiphasevpT.functions.SlipWall at 0x21832d27880>,\n",
       " 'symmetry': <physics.multiphasevpT.functions.SlipWall at 0x21832d278b0>}"
      ]
     },
     "execution_count": 30,
     "metadata": {},
     "output_type": "execute_result"
    }
   ],
   "source": [
    "solver.physics.BCs"
   ]
  },
  {
   "cell_type": "markdown",
   "metadata": {},
   "source": [
    "## Legacy"
   ]
  },
  {
   "cell_type": "code",
   "execution_count": 11,
   "metadata": {},
   "outputs": [
    {
     "data": {
      "text/plain": [
       "5000000.0"
      ]
     },
     "execution_count": 11,
     "metadata": {},
     "output_type": "execute_result"
    },
    {
     "data": {
      "image/png": "[encoded data removed]",
      "text/plain": [
       "<Figure size 432x288 with 1 Axes>"
      ]
     },
     "metadata": {
      "needs_background": "light"
     },
     "output_type": "display_data"
    }
   ],
   "source": [
    "%matplotlib inline\n",
    "x, p0 = mdtools.downsample(solver1D_from(0), \"Pressure\")\n",
    "plt.plot(x.ravel(), p0.ravel())\n",
    "# Check p_ref\n",
    "solver1D_from(0).physics.IC.f.mixture.magma.p_ref"
   ]
  },
  {
   "cell_type": "code",
   "execution_count": 436,
   "metadata": {},
   "outputs": [
    {
     "data": {
      "text/plain": [
       "{'x1': <physics.multiphasevpT.functions.VelocityInlet1D at 0x24eba2c0400>,\n",
       " 'x2': <physics.multiphasevpT.functions.PressureOutlet1D at 0x24eba2c01c0>}"
      ]
     },
     "execution_count": 436,
     "metadata": {},
     "output_type": "execute_result"
    }
   ],
   "source": [
    "i = 0\n",
    "solver1D_from(i).physics.BCs"
   ]
  },
  {
   "cell_type": "code",
   "execution_count": 437,
   "metadata": {},
   "outputs": [],
   "source": [
    "solb = solver1D_from(i).physics.Solubility\n",
    "_k, _n = solb[\"k\"], solb[\"n\"]\n",
    "\n",
    "q0 = solver1D_from(0).state_coeffs\n",
    "_rho = q0[:,:,0:3].sum(axis=-1, keepdims=True)\n",
    "yA = q0[:,:,0:1] / _rho\n",
    "yWv = q0[:,:,1:2] / _rho\n",
    "yM = q0[:,:,2:3] / _rho\n",
    "yWt = q0[:,:,5:6] / _rho\n",
    "yC = q0[:,:,6:7] / _rho\n",
    "yL = 1.0 - yA - yWt - yC"
   ]
  },
  {
   "cell_type": "code",
   "execution_count": 438,
   "metadata": {},
   "outputs": [
    {
     "data": {
      "text/plain": [
       "<matplotlib.legend.Legend at 0x24ebce64cd0>"
      ]
     },
     "execution_count": 438,
     "metadata": {},
     "output_type": "execute_result"
    },
    {
     "data": {
      "image/png": "[encoded data removed]",
      "text/plain": [
       "<Figure size 432x288 with 1 Axes>"
      ]
     },
     "metadata": {
      "needs_background": "light"
     },
     "output_type": "display_data"
    }
   ],
   "source": [
    "plt.semilogy(yA.ravel())\n",
    "plt.semilogy(yWt.ravel())\n",
    "plt.semilogy(yC.ravel())\n",
    "plt.semilogy(yL.ravel())\n",
    "plt.legend([\"air\", \"H2O\", \"crystal\", \"liquid melt\"])"
   ]
  },
  {
   "cell_type": "code",
   "execution_count": 439,
   "metadata": {},
   "outputs": [
    {
     "data": {
      "text/plain": [
       "array([2.022000355516731e+09])"
      ]
     },
     "execution_count": 439,
     "metadata": {},
     "output_type": "execute_result"
    }
   ],
   "source": [
    "p_sat = yWt / yL / _k ** (1/_n)\n",
    "p_sat[0,0]"
   ]
  },
  {
   "cell_type": "code",
   "execution_count": 412,
   "metadata": {},
   "outputs": [],
   "source": [
    "# solver1D_from(4).physics.compute_variable(\"phi\", solver1D_from(4).state_coeffs)"
   ]
  },
  {
   "cell_type": "code",
   "execution_count": 440,
   "metadata": {},
   "outputs": [],
   "source": [
    "solver = solver1D_from(2)\n",
    "x = solver.elem_helpers.x_elems"
   ]
  },
  {
   "cell_type": "code",
   "execution_count": 441,
   "metadata": {},
   "outputs": [
    {
     "name": "stdout",
     "output_type": "stream",
     "text": [
      "5.000000000000365\n"
     ]
    },
    {
     "data": {
      "text/plain": [
       "[<matplotlib.lines.Line2D at 0x24eb75a14c0>]"
      ]
     },
     "execution_count": 441,
     "metadata": {},
     "output_type": "execute_result"
    }
   ],
   "source": [
    "%matplotlib tk\n",
    "p0 = solver1D_from(0).physics.compute_variable(\"Pressure\", solver1D_from(0).state_coeffs)\n",
    "solver = solver1D_from(50)\n",
    "print(solver.time)\n",
    "p = solver.physics.compute_variable(\"Pressure\", solver.state_coeffs)\n",
    "plt.figure(1)\n",
    "plt.plot(x.ravel(), (p0).ravel(), 'k')\n",
    "plt.plot(x[:,0,0].ravel(), p[:,0,:].ravel(), '.-')\n",
    "plt.plot(x[:,1,0].ravel(), p[:,1,:].ravel(), '.-')"
   ]
  },
  {
   "cell_type": "code",
   "execution_count": 442,
   "metadata": {},
   "outputs": [
    {
     "data": {
      "text/plain": [
       "[<matplotlib.lines.Line2D at 0x24ebc807400>]"
      ]
     },
     "execution_count": 442,
     "metadata": {},
     "output_type": "execute_result"
    }
   ],
   "source": [
    "c = solver.physics.compute_variable(\"SoundSpeed\", solver.state_coeffs)\n",
    "plt.clf()\n",
    "plt.plot(c.ravel())"
   ]
  },
  {
   "cell_type": "code",
   "execution_count": 443,
   "metadata": {},
   "outputs": [
    {
     "name": "stdout",
     "output_type": "stream",
     "text": [
      "0.20000000000000015\n"
     ]
    },
    {
     "data": {
      "text/plain": [
       "[<matplotlib.lines.Line2D at 0x24eb7460f70>]"
      ]
     },
     "execution_count": 443,
     "metadata": {},
     "output_type": "execute_result"
    }
   ],
   "source": [
    "p0 = solver1D_from(0).physics.compute_variable(\"Pressure\", solver1D_from(0).state_coeffs)\n",
    "solver = solver1D_from(2)\n",
    "print(solver.time)\n",
    "deltap = lambda i: \\\n",
    "  solver.physics.compute_variable(\"Pressure\", solver1D_from(i).state_coeffs) - p0\n",
    "plt.figure(2)\n",
    "plt.plot(x.ravel(), deltap(2).ravel(), '.-')\n",
    "# plt.plot(x.ravel(), deltap(10).ravel(), '.-')\n",
    "# plt.plot(x.ravel(), deltap(40).ravel(), '.-')"
   ]
  },
  {
   "cell_type": "code",
   "execution_count": 444,
   "metadata": {},
   "outputs": [
    {
     "data": {
      "text/plain": [
       "[<matplotlib.lines.Line2D at 0x24ec1f16220>]"
      ]
     },
     "execution_count": 444,
     "metadata": {},
     "output_type": "execute_result"
    },
    {
     "data": {
      "image/png": "[encoded data removed]",
      "text/plain": [
       "<Figure size 432x288 with 1 Axes>"
      ]
     },
     "metadata": {
      "needs_background": "light"
     },
     "output_type": "display_data"
    }
   ],
   "source": [
    "''' Velocity '''\n",
    "%matplotlib inline\n",
    "solver = solver1D_from(0)\n",
    "plt.figure()\n",
    "plt.semilogy(x.ravel(), solver.physics.compute_variable(\"Velocity\", solver1D_from(0).state_coeffs).ravel(), '.-')\n",
    "plt.semilogy(x.ravel(), solver.physics.compute_variable(\"Velocity\", solver1D_from(2).state_coeffs).ravel(), '.-')\n",
    "# plt.semilogy(x.ravel(), solver.physics.compute_variable(\"Velocity\", solver1D_from(30).state_coeffs).ravel(), '.-')"
   ]
  },
  {
   "cell_type": "code",
   "execution_count": 445,
   "metadata": {},
   "outputs": [
    {
     "data": {
      "text/plain": [
       "Text(0, 0.5, '-(u-c0)')"
      ]
     },
     "execution_count": 445,
     "metadata": {},
     "output_type": "execute_result"
    }
   ],
   "source": [
    "%matplotlib tk\n",
    "# Burgers-like equation\n",
    "# d/dt (zeta) + (u+-c_0) d/dx (zeta) = +- (1/2) g / c_0\n",
    "# Characteristic variable of mass-momentum equation for pure liquid\n",
    "rho0 = solver.physics.Liquid[\"rho0\"]\n",
    "c0 = np.sqrt(solver.physics.Liquid[\"K\"] / rho0)\n",
    "dense_charvar = lambda rho, u: 0.5*(np.log(rho/rho0) + u / c0)\n",
    "# From exact equation or integrating u +- dp / rho c_0\n",
    "zeta_plus = lambda state_coeffs: dense_charvar(\n",
    "  state_coeffs[...,0:3].sum(axis=-1, keepdims=True),\n",
    "  solver.physics.compute_variable(\"XVelocity\", state_coeffs))\n",
    "zeta_minus = lambda state_coeffs: dense_charvar(\n",
    "  state_coeffs[...,0:3].sum(axis=-1, keepdims=True), \n",
    "  -solver.physics.compute_variable(\"XVelocity\", state_coeffs))\n",
    "\n",
    "solver = solver1D_from(2)\n",
    "rho = solver.state_coeffs[...,0:3].sum(axis=-1, keepdims=True)\n",
    "u = solver.physics.compute_variable(\"XVelocity\", solver.state_coeffs)\n",
    "\n",
    "# Approximate (u+-c0) * dp/dx for hydrostatic gradient with\n",
    "# c0 * dp/dx:\n",
    "g = 9.8\n",
    "hydroslope = -0.5 / (c0**2 / g)\n",
    "\n",
    "plt.subplot(3,2,1)\n",
    "plt.semilogy(x.ravel(), u.ravel())\n",
    "plt.ylabel(\"u\")\n",
    "plt.subplot(3,2,2)\n",
    "plt.semilogy(x.ravel(), rho.ravel() - rho0)\n",
    "plt.ylabel(\"rho - rho0\")\n",
    "plt.subplot(3,2,3)\n",
    "plt.semilogy(x.ravel(), dense_charvar(rho, u).ravel())\n",
    "plt.semilogy(x.ravel(), (hydroslope*(x - x.min()) + dense_charvar(rho, u).ravel()[0]).ravel(), '--')\n",
    "plt.ylabel(\"zeta+ characteristic var\")\n",
    "plt.legend([\"zeta+\", \"approx hydrostatic part\"])\n",
    "plt.subplot(3,2,4)\n",
    "plt.semilogy(x.ravel(), dense_charvar(rho, -u).ravel())\n",
    "plt.semilogy(x.ravel(), (hydroslope*(x - x.min()) + dense_charvar(rho, -u).ravel()[0]).ravel(), '--')\n",
    "plt.ylabel(\"zeta- characteristic var\")\n",
    "plt.legend([\"zeta-\", \"approx hydrostatic part\"])\n",
    "plt.subplot(3,2,5)\n",
    "plt.semilogy(x.ravel(), (u+c0).ravel())\n",
    "plt.ylabel(\"u+c0\")\n",
    "plt.subplot(3,2,6)\n",
    "plt.semilogy(x.ravel(), (c0-u).ravel())\n",
    "plt.ylabel(\"-(u-c0)\")"
   ]
  },
  {
   "cell_type": "code",
   "execution_count": 33,
   "metadata": {},
   "outputs": [
    {
     "data": {
      "text/plain": [
       "(250, 3, 1)"
      ]
     },
     "execution_count": 33,
     "metadata": {},
     "output_type": "execute_result"
    }
   ],
   "source": []
  },
  {
   "cell_type": "code",
   "execution_count": 23,
   "metadata": {},
   "outputs": [
    {
     "name": "stdout",
     "output_type": "stream",
     "text": [
      "104.99999999794908\n"
     ]
    },
    {
     "ename": "NameError",
     "evalue": "name 'fsolver' is not defined",
     "output_type": "error",
     "traceback": [
      "\u001b[1;31m---------------------------------------------------------------------------\u001b[0m",
      "\u001b[1;31mNameError\u001b[0m                                 Traceback (most recent call last)",
      "\u001b[1;32mc:\\Users\\Fredric\\Documents\\Volcano\\quail_volcano\\scenarios\\test_oscillations\\inspector_oscillations.ipynb Cell 20\u001b[0m in \u001b[0;36m<cell line: 14>\u001b[1;34m()\u001b[0m\n\u001b[0;32m     <a href='vscode-notebook-cell:/c%3A/Users/Fredric/Documents/Volcano/quail_volcano/scenarios/test_oscillations/inspector_oscillations.ipynb#Y222sZmlsZQ%3D%3D?line=11'>12</a>\u001b[0m \u001b[39m# plt.clf()\u001b[39;00m\n\u001b[0;32m     <a href='vscode-notebook-cell:/c%3A/Users/Fredric/Documents/Volcano/quail_volcano/scenarios/test_oscillations/inspector_oscillations.ipynb#Y222sZmlsZQ%3D%3D?line=12'>13</a>\u001b[0m \u001b[39mprint\u001b[39m(solver\u001b[39m.\u001b[39mtime)\n\u001b[1;32m---> <a href='vscode-notebook-cell:/c%3A/Users/Fredric/Documents/Volcano/quail_volcano/scenarios/test_oscillations/inspector_oscillations.ipynb#Y222sZmlsZQ%3D%3D?line=13'>14</a>\u001b[0m plt\u001b[39m.\u001b[39mtitle(fsolver\u001b[39m.\u001b[39mtime)\n\u001b[0;32m     <a href='vscode-notebook-cell:/c%3A/Users/Fredric/Documents/Volcano/quail_volcano/scenarios/test_oscillations/inspector_oscillations.ipynb#Y222sZmlsZQ%3D%3D?line=14'>15</a>\u001b[0m plt\u001b[39m.\u001b[39msubplot(\u001b[39m1\u001b[39m,\u001b[39m3\u001b[39m,\u001b[39m1\u001b[39m)\n\u001b[0;32m     <a href='vscode-notebook-cell:/c%3A/Users/Fredric/Documents/Volcano/quail_volcano/scenarios/test_oscillations/inspector_oscillations.ipynb#Y222sZmlsZQ%3D%3D?line=15'>16</a>\u001b[0m rho \u001b[39m=\u001b[39m solver\u001b[39m.\u001b[39mstate_coeffs[:,:,\u001b[39m0\u001b[39m:\u001b[39m3\u001b[39m]\u001b[39m.\u001b[39msum(axis\u001b[39m=\u001b[39m\u001b[39m-\u001b[39m\u001b[39m1\u001b[39m, keepdims\u001b[39m=\u001b[39m\u001b[39mTrue\u001b[39;00m)\n",
      "\u001b[1;31mNameError\u001b[0m: name 'fsolver' is not defined"
     ]
    }
   ],
   "source": [
    "''' Plot composition-related '''\n",
    "\n",
    "%matplotlib tk\n",
    "solver = solver1D_par(0,4200)\n",
    "# One-off load\n",
    "# solver = readwritedatafiles.read_data_file(\"sherlock_par1D_osc_sub0_571.pkl\")\n",
    "\n",
    "\n",
    "x = solver.elem_helpers.x_elems\n",
    "# solver = solver1D_from(600)\n",
    "plt.figure(3, figsize=(12,6))\n",
    "# plt.clf()\n",
    "print(solver.time)\n",
    "plt.title(f\"{solver.time}\")\n",
    "plt.subplot(1,3,1)\n",
    "rho = solver.state_coeffs[:,:,0:3].sum(axis=-1, keepdims=True)\n",
    "yC = solver.state_coeffs[:,:,6:7]/rho\n",
    "yWt = solver.state_coeffs[:,:,5:6]/rho\n",
    "plt.plot(x.ravel(), yC.ravel(), '.-')\n",
    "plt.ylabel(\"yC\")\n",
    "plt.subplot(1,3,2)\n",
    "plt.plot(x.ravel(), yWt.ravel(), '.-')\n",
    "plt.ylabel(\"yWt\")\n",
    "plt.subplot(1,3,3)\n",
    "plt.plot(x.ravel(), rho.ravel(), '.-')\n",
    "plt.ylabel(\"rho\")"
   ]
  },
  {
   "cell_type": "code",
   "execution_count": 49,
   "metadata": {},
   "outputs": [
    {
     "name": "stdout",
     "output_type": "stream",
     "text": [
      "179.99999999747155\n"
     ]
    },
    {
     "data": {
      "text/plain": [
       "[<matplotlib.lines.Line2D at 0x19876393040>]"
      ]
     },
     "execution_count": 49,
     "metadata": {},
     "output_type": "execute_result"
    }
   ],
   "source": [
    "''' Plot shear-related '''\n",
    "\n",
    "%matplotlib tk\n",
    "solver = solver1D_par(0,900)\n",
    "x = solver.elem_helpers.x_elems\n",
    "# solver = solver1D_from(600)\n",
    "plt.figure(3, figsize=(12,6))\n",
    "# plt.clf()\n",
    "print(solver.time)\n",
    "plt.subplot(1,3,1)\n",
    "rho = solver.state_coeffs[:,:,0:3].sum(axis=-1, keepdims=True)\n",
    "u = solver.state_coeffs[:,:,3:4]/rho\n",
    "plt.plot(x.ravel(), u.ravel(), '.-')"
   ]
  },
  {
   "cell_type": "code",
   "execution_count": 448,
   "metadata": {},
   "outputs": [
    {
     "data": {
      "text/plain": [
       "array([[[79.58028851472591 ],\n",
       "        [73.29531860172489 ],\n",
       "        [66.92204840122363 ]],\n",
       "\n",
       "       [[66.92096733896145 ],\n",
       "        [73.0936332358787  ],\n",
       "        [79.54627287163122 ]],\n",
       "\n",
       "       [[79.54733449399677 ],\n",
       "        [73.52016052399016 ],\n",
       "        [66.91945041529056 ]],\n",
       "\n",
       "       ...,\n",
       "\n",
       "       [[26.334304039760372],\n",
       "        [24.44535321392244 ],\n",
       "        [22.27562443172426 ]],\n",
       "\n",
       "       [[22.2876456495843  ],\n",
       "        [19.653447332839104],\n",
       "        [16.552253816502446]],\n",
       "\n",
       "       [[16.402333070964556],\n",
       "        [11.644277234434393],\n",
       "        [ 0.880779966756969]]])"
      ]
     },
     "execution_count": 448,
     "metadata": {},
     "output_type": "execute_result"
    }
   ],
   "source": [
    "solver.state_coeffs[:,:,5:6]"
   ]
  },
  {
   "cell_type": "code",
   "execution_count": 449,
   "metadata": {},
   "outputs": [
    {
     "data": {
      "text/plain": [
       "[<matplotlib.lines.Line2D at 0x24ec375e040>]"
      ]
     },
     "execution_count": 449,
     "metadata": {},
     "output_type": "execute_result"
    }
   ],
   "source": [
    "plt.clf()\n",
    "plt.plot(x.ravel(), solver.physics.compute_variable(\"Pressure\", solver1D_from(i).state_coeffs).ravel(), '.-')"
   ]
  },
  {
   "cell_type": "code",
   "execution_count": 20,
   "metadata": {},
   "outputs": [
    {
     "ename": "ValueError",
     "evalue": "operands could not be broadcast together with shapes (1250,2,1) (1250,3,1) ",
     "output_type": "error",
     "traceback": [
      "\u001b[1;31m---------------------------------------------------------------------------\u001b[0m",
      "\u001b[1;31mValueError\u001b[0m                                Traceback (most recent call last)",
      "\u001b[1;32mc:\\Users\\Fredric\\Documents\\Volcano\\quail_volcano\\scenarios\\test_oscillations\\inspector_oscillations.ipynb Cell 22\u001b[0m in \u001b[0;36m<cell line: 13>\u001b[1;34m()\u001b[0m\n\u001b[0;32m     <a href='vscode-notebook-cell:/c%3A/Users/Fredric/Documents/Volcano/quail_volcano/scenarios/test_oscillations/inspector_oscillations.ipynb#X20sZmlsZQ%3D%3D?line=13'>14</a>\u001b[0m   c \u001b[39m=\u001b[39m mdtools\u001b[39m.\u001b[39mdownsample(solver1D_from(i), \u001b[39m\"\u001b[39m\u001b[39mSoundSpeed\u001b[39m\u001b[39m\"\u001b[39m)[\u001b[39m1\u001b[39m]\n\u001b[0;32m     <a href='vscode-notebook-cell:/c%3A/Users/Fredric/Documents/Volcano/quail_volcano/scenarios/test_oscillations/inspector_oscillations.ipynb#X20sZmlsZQ%3D%3D?line=14'>15</a>\u001b[0m   p \u001b[39m=\u001b[39m mdtools\u001b[39m.\u001b[39mdownsample(solver1D_from(i), \u001b[39m\"\u001b[39m\u001b[39mPressure\u001b[39m\u001b[39m\"\u001b[39m)[\u001b[39m1\u001b[39m]\n\u001b[1;32m---> <a href='vscode-notebook-cell:/c%3A/Users/Fredric/Documents/Volcano/quail_volcano/scenarios/test_oscillations/inspector_oscillations.ipynb#X20sZmlsZQ%3D%3D?line=15'>16</a>\u001b[0m   w \u001b[39m=\u001b[39m p \u001b[39m+\u001b[39m c\u001b[39m*\u001b[39;49msolver1D_from(i)\u001b[39m.\u001b[39;49mstate_coeffs[\u001b[39m.\u001b[39;49m\u001b[39m.\u001b[39;49m\u001b[39m.\u001b[39;49m,\u001b[39m3\u001b[39;49m:\u001b[39m4\u001b[39;49m]\n\u001b[0;32m     <a href='vscode-notebook-cell:/c%3A/Users/Fredric/Documents/Volcano/quail_volcano/scenarios/test_oscillations/inspector_oscillations.ipynb#X20sZmlsZQ%3D%3D?line=16'>17</a>\u001b[0m   plt\u001b[39m.\u001b[39mplot(w\u001b[39m.\u001b[39mravel())\n\u001b[0;32m     <a href='vscode-notebook-cell:/c%3A/Users/Fredric/Documents/Volcano/quail_volcano/scenarios/test_oscillations/inspector_oscillations.ipynb#X20sZmlsZQ%3D%3D?line=17'>18</a>\u001b[0m plt\u001b[39m.\u001b[39mlegend(\u001b[39mrange\u001b[39m(\u001b[39m0\u001b[39m, imax, istep))\n",
      "\u001b[1;31mValueError\u001b[0m: operands could not be broadcast together with shapes (1250,2,1) (1250,3,1) "
     ]
    },
    {
     "data": {
      "image/png": "[encoded data removed]",
      "text/plain": [
       "<Figure size 432x288 with 1 Axes>"
      ]
     },
     "metadata": {
      "needs_background": "light"
     },
     "output_type": "display_data"
    },
    {
     "data": {
      "image/png": "[encoded data removed]",
      "text/plain": [
       "<Figure size 432x288 with 1 Axes>"
      ]
     },
     "metadata": {
      "needs_background": "light"
     },
     "output_type": "display_data"
    },
    {
     "data": {
      "text/plain": [
       "<Figure size 432x288 with 0 Axes>"
      ]
     },
     "metadata": {},
     "output_type": "display_data"
    }
   ],
   "source": [
    "''' Plot waves '''\n",
    "%matplotlib inline\n",
    "plt.figure()\n",
    "plt.plot(mdtools.downsample(solver1D_from(0), \"SoundSpeed\")[1].ravel())\n",
    "imax = 25\n",
    "istep = 5\n",
    "plt.figure()\n",
    "for i in range(0, imax, istep):\n",
    "  p = mdtools.downsample(solver1D_from(i), \"Pressure\")[1]\n",
    "  plt.plot(p.ravel())\n",
    "plt.legend(range(0, 90, 10))\n",
    "\n",
    "plt.figure()\n",
    "for i in range(0, imax, istep):\n",
    "  c = mdtools.downsample(solver1D_from(i), \"SoundSpeed\")[1]\n",
    "  p = mdtools.downsample(solver1D_from(i), \"Pressure\")[1]\n",
    "  w = p + c*solver1D_from(i).state_coeffs[...,3:4]\n",
    "  plt.plot(w.ravel())\n",
    "plt.legend(range(0, imax, istep))\n",
    "\n",
    "plt.figure()\n",
    "for i in range(0, imax, istep):\n",
    "  c = mdtools.downsample(solver1D_from(i), \"SoundSpeed\")[1]\n",
    "  p = mdtools.downsample(solver1D_from(i), \"Pressure\")[1]\n",
    "  w = p - c*solver1D_from(i).state_coeffs[...,3:4]\n",
    "  plt.plot(w.ravel())\n",
    "plt.legend(range(0, imax, istep))"
   ]
  },
  {
   "cell_type": "code",
   "execution_count": 424,
   "metadata": {},
   "outputs": [
    {
     "name": "stdout",
     "output_type": "stream",
     "text": [
      "0\n"
     ]
    },
    {
     "data": {
      "text/plain": [
       "Text(0, 0.5, 'pressure')"
      ]
     },
     "execution_count": 424,
     "metadata": {},
     "output_type": "execute_result"
    },
    {
     "data": {
      "image/png": "[encoded data removed]",
      "text/plain": [
       "<Figure size 432x288 with 1 Axes>"
      ]
     },
     "metadata": {
      "needs_background": "light"
     },
     "output_type": "display_data"
    },
    {
     "data": {
      "image/png": "[encoded data removed]",
      "text/plain": [
       "<Figure size 432x288 with 1 Axes>"
      ]
     },
     "metadata": {
      "needs_background": "light"
     },
     "output_type": "display_data"
    }
   ],
   "source": [
    "''' Plot residual '''\n",
    "%matplotlib inline\n",
    "print(i)\n",
    "U = solver1D_from(i).state_coeffs\n",
    "res = np.zeros_like(U)\n",
    "solver1D_from(i).get_residual(U, res)\n",
    "plt.plot(res[...,3])\n",
    "plt.ylabel(\"residual\")\n",
    "plt.figure()\n",
    "plt.plot(mdtools.downsample(solver1D_from(i), \"Pressure\")[1].ravel())\n",
    "plt.ylabel(\"pressure\")\n"
   ]
  },
  {
   "cell_type": "code",
   "execution_count": 512,
   "metadata": {},
   "outputs": [
    {
     "data": {
      "text/plain": [
       "[<matplotlib.lines.Line2D at 0x13603bda520>]"
      ]
     },
     "execution_count": 512,
     "metadata": {},
     "output_type": "execute_result"
    },
    {
     "data": {
      "image/png": "[encoded data removed]",
      "text/plain": [
       "<Figure size 432x288 with 1 Axes>"
      ]
     },
     "metadata": {
      "needs_background": "light"
     },
     "output_type": "display_data"
    }
   ],
   "source": [
    "''' Pressure gradient computation '''\n",
    "# Unpack\n",
    "solver = solver1D_from(i)\n",
    "physics = solver.physics\n",
    "elem_helpers = solver.elem_helpers\n",
    "quad_wts = elem_helpers.quad_wts # [nq, 1]\n",
    "basis_phys_grad_elems = elem_helpers.basis_phys_grad_elems\n",
    "    # [ne, nq, nb, dim]\n",
    "basis_val = elem_helpers.basis_val # [nq, nb]\n",
    "djac_elems = elem_helpers.djac_elems # [ne, nq, 1]\n",
    "vol_elems = elem_helpers.vol_elems # [ne]\n",
    "ndims = basis_phys_grad_elems.shape[3]\n",
    "\n",
    "# Evaluate solution at quadrature points\n",
    "Uq = helpers.evaluate_state(solver.state_coeffs, basis_val)\n",
    "# Evaluate solution gradient at quadrature points\n",
    "grad_Uq = np.einsum('ijnl, ink -> ijkl', basis_phys_grad_elems, solver.state_coeffs)\n",
    "pressure = physics.compute_additional_variable(\"Pressure\", Uq,\n",
    "\t\t\tflag_non_physical=False)[:, :, 0]\n",
    "pgrad = physics.compute_pressure_gradient(Uq, grad_Uq)\n",
    "f1 = np.linalg.norm(grad_Uq[:, :, 0], axis=2) / (Uq[:, :, 0] + 1e-12)\n",
    "f2 = np.linalg.norm(pgrad, axis=2) / (pressure + 1e-12)\n",
    "plt.plot(f1.ravel())\n",
    "plt.plot(f2.ravel())"
   ]
  },
  {
   "cell_type": "code",
   "execution_count": 514,
   "metadata": {},
   "outputs": [
    {
     "data": {
      "text/plain": [
       "1"
      ]
     },
     "execution_count": 514,
     "metadata": {},
     "output_type": "execute_result"
    }
   ],
   "source": [
    "solver.order"
   ]
  },
  {
   "cell_type": "code",
   "execution_count": 516,
   "metadata": {},
   "outputs": [],
   "source": [
    "# Compute s_k\n",
    "p = solver.order\n",
    "av_param = 500\n",
    "s = np.zeros((solver.state_coeffs.shape[0], ndims))\n",
    "# Loop over dimensions\n",
    "for k in range(ndims):\n",
    "  # Loop over number of faces per element\n",
    "  for i in range(elem_helpers.normals_elems.shape[1]):\n",
    "    # Integrate normals\n",
    "    s[:, k] += np.einsum('jx, ij -> i', elem_helpers.face_quad_wts,\n",
    "        np.abs(elem_helpers.normals_elems[:, i, :, k]))\n",
    "  s[:, k] = 2 * vol_elems / s[:, k]\n",
    "# Compute h_k (the length scale in the kth direction)\n",
    "h = np.empty_like(s)\n",
    "# Loop over dimensions\n",
    "for k in range(ndims):\n",
    "  h[:, k] = s[:, k] * (vol_elems / np.prod(s, axis=1))**(1/3) # TODO: Check 1/3 for ndims == 2. For ndims == 1, s==2V/2==V so pow (1/3) does nothing\n",
    "# Scale with polynomial order\n",
    "h_tilde = h / (p + 1)\n",
    "# Compute dissipation scaling\n",
    "epsilon = av_param *  np.einsum('ij, il -> ijl', f1 + f2, h_tilde**3)\n",
    "# Calculate integral, with state coeffs factored out\n",
    "integral = np.einsum('ijm, ijpm, ijnm, jx, ijx -> ipn', epsilon,\n",
    "      basis_phys_grad_elems, basis_phys_grad_elems, quad_wts,\n",
    "      djac_elems)\n",
    "# Calculate residual\n",
    "res_elem = np.einsum('ipn, ipk -> ink', integral, solver.state_coeffs)"
   ]
  },
  {
   "cell_type": "code",
   "execution_count": 524,
   "metadata": {},
   "outputs": [
    {
     "data": {
      "text/plain": [
       "Text(0.5, 0, 'Depth / m')"
      ]
     },
     "execution_count": 524,
     "metadata": {},
     "output_type": "execute_result"
    },
    {
     "data": {
      "image/png": "[encoded data removed]",
      "text/plain": [
       "<Figure size 432x720 with 2 Axes>"
      ]
     },
     "metadata": {
      "needs_background": "light"
     },
     "output_type": "display_data"
    }
   ],
   "source": [
    "plt.figure(figsize=(6,10))\n",
    "plt.subplot(2,1,1)\n",
    "plt.plot(-res_elem[...,3].ravel())\n",
    "plt.ylabel(\"AV contribution\")\n",
    "\n",
    "\n",
    "# Total residual\n",
    "res = np.zeros_like(U)\n",
    "solver1D_from(i).get_residual(U, res)\n",
    "plt.subplot(2,1,2)\n",
    "plt.plot((res+res_elem)[...,3].ravel())\n",
    "plt.ylabel(\"Total residual\")\n",
    "plt.xlabel(\"Depth / m\")"
   ]
  },
  {
   "cell_type": "code",
   "execution_count": 544,
   "metadata": {},
   "outputs": [
    {
     "data": {
      "text/plain": [
       "[<matplotlib.lines.Line2D at 0x13607026700>]"
      ]
     },
     "execution_count": 544,
     "metadata": {},
     "output_type": "execute_result"
    },
    {
     "data": {
      "image/png": "[encoded data removed]",
      "text/plain": [
       "<Figure size 432x288 with 1 Axes>"
      ]
     },
     "metadata": {
      "needs_background": "light"
     },
     "output_type": "display_data"
    }
   ],
   "source": [
    "plt.plot((res_elem[...,3]*res[...,3]).ravel())"
   ]
  },
  {
   "cell_type": "code",
   "execution_count": 477,
   "metadata": {},
   "outputs": [],
   "source": [
    "x, _ = mdtools.downsample(solver1D_from(i), \"XVelocity\")"
   ]
  },
  {
   "cell_type": "code",
   "execution_count": 478,
   "metadata": {},
   "outputs": [
    {
     "data": {
      "text/plain": [
       "1924.5008972987525"
      ]
     },
     "execution_count": 478,
     "metadata": {},
     "output_type": "execute_result"
    }
   ],
   "source": [
    "np.sqrt(f.mixture.magma.K / f.mixture.magma.rho0)"
   ]
  },
  {
   "cell_type": "code",
   "execution_count": 489,
   "metadata": {},
   "outputs": [
    {
     "name": "stdout",
     "output_type": "stream",
     "text": [
      "0.02000000000000006\n",
      "0.11999999999999494\n",
      "0.21999999999998393\n",
      "0.3199999999999729\n",
      "0.4199999999999619\n",
      "0.519999999999951\n",
      "0.6199999999999399\n",
      "0.7199999999999289\n",
      "0.8199999999999179\n",
      "0.9199999999999069\n",
      "1.0199999999999403\n",
      "1.1200000000001513\n",
      "1.2200000000003624\n"
     ]
    },
    {
     "data": {
      "image/png": "[encoded data removed]",
      "text/plain": [
       "<Figure size 432x288 with 1 Axes>"
      ]
     },
     "metadata": {
      "needs_background": "light"
     },
     "output_type": "display_data"
    }
   ],
   "source": [
    "%matplotlib inline\n",
    "# p0 = mdtools.downsample(solver1D_from(0), \"Pressure\")[1]\n",
    "M_ = lambda i: (mdtools.downsample(solver1D_from(i), \"XVelocity\")[1]/\n",
    "  mdtools.downsample(solver1D_from(i), \"SoundSpeed\")[1]).ravel()\n",
    "\n",
    "for i in range(1,65,5):\n",
    "  print(solver1D_from(i).time)\n",
    "  plt.plot(M_(i), linewidth=1)"
   ]
  },
  {
   "cell_type": "code",
   "execution_count": 484,
   "metadata": {},
   "outputs": [
    {
     "name": "stdout",
     "output_type": "stream",
     "text": [
      "0.02000000000000006\n",
      "0.11999999999999494\n",
      "0.21999999999998393\n",
      "0.3199999999999729\n",
      "0.4199999999999619\n",
      "0.519999999999951\n",
      "0.6199999999999399\n",
      "0.7199999999999289\n",
      "0.8199999999999179\n",
      "0.9199999999999069\n",
      "1.0199999999999403\n",
      "1.1200000000001513\n",
      "1.2200000000003624\n"
     ]
    },
    {
     "data": {
      "image/png": "[encoded data removed]",
      "text/plain": [
       "<Figure size 432x288 with 1 Axes>"
      ]
     },
     "metadata": {
      "needs_background": "light"
     },
     "output_type": "display_data"
    }
   ],
   "source": [
    "%matplotlib inline\n",
    "p0 = mdtools.downsample(solver1D_from(0), \"Pressure\")[1]\n",
    "deltap = lambda i: (mdtools.downsample(solver1D_from(i), \"Pressure\")[1] - p0).ravel()\n",
    "\n",
    "for i in range(1,65,5):\n",
    "  print(solver1D_from(i).time)\n",
    "  plt.plot(deltap(i), linewidth=1)"
   ]
  },
  {
   "cell_type": "code",
   "execution_count": null,
   "metadata": {},
   "outputs": [],
   "source": []
  },
  {
   "cell_type": "code",
   "execution_count": 430,
   "metadata": {},
   "outputs": [
    {
     "data": {
      "text/plain": [
       "10.0"
      ]
     },
     "execution_count": 430,
     "metadata": {},
     "output_type": "execute_result"
    }
   ],
   "source": [
    "solver1D_from(5).physics.source_terms[3].tau_f"
   ]
  },
  {
   "cell_type": "code",
   "execution_count": 371,
   "metadata": {},
   "outputs": [
    {
     "data": {
      "text/plain": [
       "[<matplotlib.lines.Line2D at 0x135b4c849a0>]"
      ]
     },
     "execution_count": 371,
     "metadata": {},
     "output_type": "execute_result"
    },
    {
     "data": {
      "image/png": "[encoded data removed]",
      "text/plain": [
       "<Figure size 432x288 with 1 Axes>"
      ]
     },
     "metadata": {
      "needs_background": "light"
     },
     "output_type": "display_data"
    }
   ],
   "source": [
    "i = 0\n",
    "L = solver1D_from(i).physics.source_terms[1].get_source(\n",
    "  solver1D_from(i).physics, solver1D_from(i).state_coeffs, x, None,\n",
    ")\n",
    "plt.plot(x.ravel(), L[...,3].ravel())"
   ]
  },
  {
   "cell_type": "code",
   "execution_count": 446,
   "metadata": {},
   "outputs": [
    {
     "data": {
      "text/plain": [
       "array([[[  347031.20061454957],\n",
       "        [  382922.8153928215 ]],\n",
       "\n",
       "       [[  383200.6521631435 ],\n",
       "        [  411015.1841422915 ]],\n",
       "\n",
       "       [[  411108.3513920274 ],\n",
       "        [  422843.3461433982 ]],\n",
       "\n",
       "       ...,\n",
       "\n",
       "       [[10741653.381455228  ],\n",
       "        [10741655.95779703   ]],\n",
       "\n",
       "       [[10741654.512755264  ],\n",
       "        [10741680.344079213  ]],\n",
       "\n",
       "       [[10741686.860622857  ],\n",
       "        [10741689.96793804   ]]])"
      ]
     },
     "execution_count": 446,
     "metadata": {},
     "output_type": "execute_result"
    }
   ],
   "source": [
    "fsource = solver1D_from(i).physics.source_terms[1]\n",
    "\n",
    "fsource.get_source(\n",
    "    solver1D_from(i).physics, solver1D_from(i).state_coeffs, x, None,\n",
    "  )\n",
    "fsource.compute_viscosity(solver1D_from(i).state_coeffs, solver1D_from(i).physics)"
   ]
  },
  {
   "cell_type": "code",
   "execution_count": 462,
   "metadata": {},
   "outputs": [
    {
     "data": {
      "text/plain": [
       "[<matplotlib.lines.Line2D at 0x135b53fb880>]"
      ]
     },
     "execution_count": 462,
     "metadata": {},
     "output_type": "execute_result"
    }
   ],
   "source": [
    "%matplotlib tk\n",
    "plt.figure(2)\n",
    "# plt.plot(fsource.compute_viscosity(solver1D_from(i).state_coeffs, solver1D_from(i).physics).ravel())\n",
    "drag = solver1D_from(i).physics.source_terms[0].get_source(\n",
    "    solver1D_from(i).physics, solver1D_from(i).state_coeffs, x, None,\n",
    "  )[...,4]\n",
    "dragrate = drag/solver1D_from(i).state_coeffs[...,4]\n",
    "# plt.plot(drag.ravel(), '.-')\n",
    "plt.plot(solver1D_from(i).state_coeffs[...,3].ravel(), '.-')"
   ]
  },
  {
   "cell_type": "code",
   "execution_count": 459,
   "metadata": {},
   "outputs": [
    {
     "data": {
      "text/plain": [
       "<physics.multiphasevpT.functions.GravitySource at 0x135ffc30d30>"
      ]
     },
     "execution_count": 459,
     "metadata": {},
     "output_type": "execute_result"
    }
   ],
   "source": [
    "solver1D_from(i).physics.source_terms[0]"
   ]
  },
  {
   "cell_type": "code",
   "execution_count": 485,
   "metadata": {},
   "outputs": [],
   "source": [
    "%matplotlib tk\n",
    "# plt.figure()\n",
    "plt.figure(figsize=(12,5))\n",
    "for i in range(0,16,5):\n",
    "  U = solver1D_from(i).state_coeffs\n",
    "  rho = U[:,:,0:3].sum(axis=-1, keepdims=True)\n",
    "  yWt = U[:,:,5:6]/rho\n",
    "  u = mdtools.downsample(solver1D_from(i), \"XVelocity\")[1]\n",
    "  j = rho*u\n",
    "  # plt.plot(U[:,:,4:5].ravel())\n",
    "\n",
    "  L = solver1D_from(i).physics.source_terms[1].get_source(\n",
    "    solver1D_from(i).physics, solver1D_from(i).state_coeffs, x, None,\n",
    "  )\n",
    "  plt.plot(L.ravel(), '.-')\n",
    "\n",
    "  # q = mdtools.downsample(solver1D_from(i), \"XVelocity\")[1]\n",
    "  # plt.plot(rho.ravel())\n",
    "  # plt.plot(u.ravel())\n"
   ]
  },
  {
   "cell_type": "code",
   "execution_count": 201,
   "metadata": {},
   "outputs": [],
   "source": [
    "x, p0 = mdtools.downsample(solver1D_from(0), \"Pressure\")"
   ]
  },
  {
   "cell_type": "code",
   "execution_count": 202,
   "metadata": {},
   "outputs": [],
   "source": [
    "x_phy = np.unique(x)\n",
    "outs = solver1D_from(0).physics.IC.f(x_phy, True)"
   ]
  },
  {
   "cell_type": "code",
   "execution_count": 203,
   "metadata": {},
   "outputs": [
    {
     "data": {
      "text/plain": [
       "({'K': 10000000000.0,\n",
       "  'rho0': 2700.0,\n",
       "  'p0': 5000000.0,\n",
       "  'E_m0': 0,\n",
       "  'c_m': 3000.0},\n",
       " (10000000000.0, 2700.0, 10000000.0, 3000.0))"
      ]
     },
     "execution_count": 203,
     "metadata": {},
     "output_type": "execute_result"
    }
   ],
   "source": [
    "solver1D_from(0).physics.Liquid, \\\n",
    "  (solver1D_from(0).physics.IC.f.mixture.magma.K,\n",
    "  solver1D_from(0).physics.IC.f.mixture.magma.rho0,\n",
    "  solver1D_from(0).physics.IC.f.mixture.magma.p_ref,\n",
    "  solver1D_from(0).physics.IC.f.mixture.magma.c_v)"
   ]
  },
  {
   "cell_type": "code",
   "execution_count": 242,
   "metadata": {},
   "outputs": [
    {
     "data": {
      "text/plain": [
       "<compressible_conduit_steady.steady_state.SteadyState at 0x135ffdb12e0>"
      ]
     },
     "execution_count": 242,
     "metadata": {},
     "output_type": "execute_result"
    }
   ],
   "source": []
  },
  {
   "cell_type": "code",
   "execution_count": 486,
   "metadata": {},
   "outputs": [
    {
     "name": "stdout",
     "output_type": "stream",
     "text": [
      "Computing minimum possible pressure.\n",
      "Minimum vent pressure is 287513.4485509206.\n",
      "Choked flow.\n"
     ]
    },
    {
     "ename": "ValueError",
     "evalue": "x and y must have same first dimension, but have shapes (3001,) and (3000,)",
     "output_type": "error",
     "traceback": [
      "\u001b[1;31m---------------------------------------------------------------------------\u001b[0m",
      "\u001b[1;31mValueError\u001b[0m                                Traceback (most recent call last)",
      "\u001b[1;32mc:\\Users\\Fredric\\Documents\\Volcano\\quail_volcano\\scenarios\\test_oscillations\\inspector_oscillations.ipynb Cell 27\u001b[0m in \u001b[0;36m<cell line: 4>\u001b[1;34m()\u001b[0m\n\u001b[0;32m      <a href='vscode-notebook-cell:/c%3A/Users/Fredric/Documents/Volcano/quail_volcano/scenarios/test_oscillations/inspector_oscillations.ipynb#X13sZmlsZQ%3D%3D?line=1'>2</a>\u001b[0m solver1D_from(\u001b[39m0\u001b[39m)\u001b[39m.\u001b[39mphysics\u001b[39m.\u001b[39mIC\u001b[39m.\u001b[39mf\u001b[39m.\u001b[39m_set_cache(\u001b[39m1e5\u001b[39m, \u001b[39m1.0\u001b[39m, \u001b[39m\"\u001b[39m\u001b[39mu\u001b[39m\u001b[39m\"\u001b[39m)\n\u001b[0;32m      <a href='vscode-notebook-cell:/c%3A/Users/Fredric/Documents/Volcano/quail_volcano/scenarios/test_oscillations/inspector_oscillations.ipynb#X13sZmlsZQ%3D%3D?line=2'>3</a>\u001b[0m q1_fixed \u001b[39m=\u001b[39m solver1D_from(\u001b[39m0\u001b[39m)\u001b[39m.\u001b[39mphysics\u001b[39m.\u001b[39mIC\u001b[39m.\u001b[39mf(x_phy, \u001b[39mTrue\u001b[39;00m)\n\u001b[1;32m----> <a href='vscode-notebook-cell:/c%3A/Users/Fredric/Documents/Volcano/quail_volcano/scenarios/test_oscillations/inspector_oscillations.ipynb#X13sZmlsZQ%3D%3D?line=3'>4</a>\u001b[0m plt\u001b[39m.\u001b[39;49mplot(x_phy, q1_fixed[\u001b[39m0\u001b[39;49m,:])\n\u001b[0;32m      <a href='vscode-notebook-cell:/c%3A/Users/Fredric/Documents/Volcano/quail_volcano/scenarios/test_oscillations/inspector_oscillations.ipynb#X13sZmlsZQ%3D%3D?line=4'>5</a>\u001b[0m plt\u001b[39m.\u001b[39mplot(x\u001b[39m.\u001b[39mravel(), mdtools\u001b[39m.\u001b[39mdownsample(solver1D_from(\u001b[39m0\u001b[39m), \u001b[39m\"\u001b[39m\u001b[39mPressure\u001b[39m\u001b[39m\"\u001b[39m)[\u001b[39m1\u001b[39m]\u001b[39m.\u001b[39mravel(), \u001b[39m'\u001b[39m\u001b[39m.\u001b[39m\u001b[39m'\u001b[39m)\n\u001b[0;32m      <a href='vscode-notebook-cell:/c%3A/Users/Fredric/Documents/Volcano/quail_volcano/scenarios/test_oscillations/inspector_oscillations.ipynb#X13sZmlsZQ%3D%3D?line=5'>6</a>\u001b[0m plt\u001b[39m.\u001b[39mlegend([\u001b[39m\"\u001b[39m\u001b[39mNative phyy\u001b[39m\u001b[39m\"\u001b[39m, \u001b[39m\"\u001b[39m\u001b[39mQuail\u001b[39m\u001b[39m\"\u001b[39m])\n",
      "File \u001b[1;32mc:\\Python39\\lib\\site-packages\\matplotlib\\pyplot.py:3019\u001b[0m, in \u001b[0;36mplot\u001b[1;34m(scalex, scaley, data, *args, **kwargs)\u001b[0m\n\u001b[0;32m   3017\u001b[0m \u001b[39m@_copy_docstring_and_deprecators\u001b[39m(Axes\u001b[39m.\u001b[39mplot)\n\u001b[0;32m   3018\u001b[0m \u001b[39mdef\u001b[39;00m \u001b[39mplot\u001b[39m(\u001b[39m*\u001b[39margs, scalex\u001b[39m=\u001b[39m\u001b[39mTrue\u001b[39;00m, scaley\u001b[39m=\u001b[39m\u001b[39mTrue\u001b[39;00m, data\u001b[39m=\u001b[39m\u001b[39mNone\u001b[39;00m, \u001b[39m*\u001b[39m\u001b[39m*\u001b[39mkwargs):\n\u001b[1;32m-> 3019\u001b[0m     \u001b[39mreturn\u001b[39;00m gca()\u001b[39m.\u001b[39mplot(\n\u001b[0;32m   3020\u001b[0m         \u001b[39m*\u001b[39margs, scalex\u001b[39m=\u001b[39mscalex, scaley\u001b[39m=\u001b[39mscaley,\n\u001b[0;32m   3021\u001b[0m         \u001b[39m*\u001b[39m\u001b[39m*\u001b[39m({\u001b[39m\"\u001b[39m\u001b[39mdata\u001b[39m\u001b[39m\"\u001b[39m: data} \u001b[39mif\u001b[39;00m data \u001b[39mis\u001b[39;00m \u001b[39mnot\u001b[39;00m \u001b[39mNone\u001b[39;00m \u001b[39melse\u001b[39;00m {}), \u001b[39m*\u001b[39m\u001b[39m*\u001b[39mkwargs)\n",
      "File \u001b[1;32mc:\\Python39\\lib\\site-packages\\matplotlib\\axes\\_axes.py:1605\u001b[0m, in \u001b[0;36mAxes.plot\u001b[1;34m(self, scalex, scaley, data, *args, **kwargs)\u001b[0m\n\u001b[0;32m   1363\u001b[0m \u001b[39m\"\"\"\u001b[39;00m\n\u001b[0;32m   1364\u001b[0m \u001b[39mPlot y versus x as lines and/or markers.\u001b[39;00m\n\u001b[0;32m   1365\u001b[0m \n\u001b[1;32m   (...)\u001b[0m\n\u001b[0;32m   1602\u001b[0m \u001b[39m(``'green'``) or hex strings (``'#008000'``).\u001b[39;00m\n\u001b[0;32m   1603\u001b[0m \u001b[39m\"\"\"\u001b[39;00m\n\u001b[0;32m   1604\u001b[0m kwargs \u001b[39m=\u001b[39m cbook\u001b[39m.\u001b[39mnormalize_kwargs(kwargs, mlines\u001b[39m.\u001b[39mLine2D)\n\u001b[1;32m-> 1605\u001b[0m lines \u001b[39m=\u001b[39m [\u001b[39m*\u001b[39m\u001b[39mself\u001b[39m\u001b[39m.\u001b[39m_get_lines(\u001b[39m*\u001b[39margs, data\u001b[39m=\u001b[39mdata, \u001b[39m*\u001b[39m\u001b[39m*\u001b[39mkwargs)]\n\u001b[0;32m   1606\u001b[0m \u001b[39mfor\u001b[39;00m line \u001b[39min\u001b[39;00m lines:\n\u001b[0;32m   1607\u001b[0m     \u001b[39mself\u001b[39m\u001b[39m.\u001b[39madd_line(line)\n",
      "File \u001b[1;32mc:\\Python39\\lib\\site-packages\\matplotlib\\axes\\_base.py:315\u001b[0m, in \u001b[0;36m_process_plot_var_args.__call__\u001b[1;34m(self, data, *args, **kwargs)\u001b[0m\n\u001b[0;32m    313\u001b[0m     this \u001b[39m+\u001b[39m\u001b[39m=\u001b[39m args[\u001b[39m0\u001b[39m],\n\u001b[0;32m    314\u001b[0m     args \u001b[39m=\u001b[39m args[\u001b[39m1\u001b[39m:]\n\u001b[1;32m--> 315\u001b[0m \u001b[39myield from\u001b[39;00m \u001b[39mself\u001b[39;49m\u001b[39m.\u001b[39;49m_plot_args(this, kwargs)\n",
      "File \u001b[1;32mc:\\Python39\\lib\\site-packages\\matplotlib\\axes\\_base.py:501\u001b[0m, in \u001b[0;36m_process_plot_var_args._plot_args\u001b[1;34m(self, tup, kwargs, return_kwargs)\u001b[0m\n\u001b[0;32m    498\u001b[0m     \u001b[39mself\u001b[39m\u001b[39m.\u001b[39maxes\u001b[39m.\u001b[39myaxis\u001b[39m.\u001b[39mupdate_units(y)\n\u001b[0;32m    500\u001b[0m \u001b[39mif\u001b[39;00m x\u001b[39m.\u001b[39mshape[\u001b[39m0\u001b[39m] \u001b[39m!=\u001b[39m y\u001b[39m.\u001b[39mshape[\u001b[39m0\u001b[39m]:\n\u001b[1;32m--> 501\u001b[0m     \u001b[39mraise\u001b[39;00m \u001b[39mValueError\u001b[39;00m(\u001b[39mf\u001b[39m\u001b[39m\"\u001b[39m\u001b[39mx and y must have same first dimension, but \u001b[39m\u001b[39m\"\u001b[39m\n\u001b[0;32m    502\u001b[0m                      \u001b[39mf\u001b[39m\u001b[39m\"\u001b[39m\u001b[39mhave shapes \u001b[39m\u001b[39m{\u001b[39;00mx\u001b[39m.\u001b[39mshape\u001b[39m}\u001b[39;00m\u001b[39m and \u001b[39m\u001b[39m{\u001b[39;00my\u001b[39m.\u001b[39mshape\u001b[39m}\u001b[39;00m\u001b[39m\"\u001b[39m)\n\u001b[0;32m    503\u001b[0m \u001b[39mif\u001b[39;00m x\u001b[39m.\u001b[39mndim \u001b[39m>\u001b[39m \u001b[39m2\u001b[39m \u001b[39mor\u001b[39;00m y\u001b[39m.\u001b[39mndim \u001b[39m>\u001b[39m \u001b[39m2\u001b[39m:\n\u001b[0;32m    504\u001b[0m     \u001b[39mraise\u001b[39;00m \u001b[39mValueError\u001b[39;00m(\u001b[39mf\u001b[39m\u001b[39m\"\u001b[39m\u001b[39mx and y can be no greater than 2D, but have \u001b[39m\u001b[39m\"\u001b[39m\n\u001b[0;32m    505\u001b[0m                      \u001b[39mf\u001b[39m\u001b[39m\"\u001b[39m\u001b[39mshapes \u001b[39m\u001b[39m{\u001b[39;00mx\u001b[39m.\u001b[39mshape\u001b[39m}\u001b[39;00m\u001b[39m and \u001b[39m\u001b[39m{\u001b[39;00my\u001b[39m.\u001b[39mshape\u001b[39m}\u001b[39;00m\u001b[39m\"\u001b[39m)\n",
      "\u001b[1;31mValueError\u001b[0m: x and y must have same first dimension, but have shapes (3001,) and (3000,)"
     ]
    }
   ],
   "source": [
    "solver1D_from(0).physics.IC.f.mixture.magma.p_ref = 5e6\n",
    "solver1D_from(0).physics.IC.f._set_cache(1e5, 1.0, \"u\")\n",
    "q1_fixed = solver1D_from(0).physics.IC.f(x_phy, True)\n",
    "plt.plot(x_phy, q1_fixed[0,:])\n",
    "plt.plot(x.ravel(), mdtools.downsample(solver1D_from(0), \"Pressure\")[1].ravel(), '.')\n",
    "plt.legend([\"Native phyy\", \"Quail\"])"
   ]
  },
  {
   "cell_type": "code",
   "execution_count": 42,
   "metadata": {},
   "outputs": [
    {
     "data": {
      "text/plain": [
       "(3, 3000)"
      ]
     },
     "execution_count": 42,
     "metadata": {},
     "output_type": "execute_result"
    }
   ],
   "source": [
    "outs.shape"
   ]
  },
  {
   "cell_type": "code",
   "execution_count": 12,
   "metadata": {},
   "outputs": [
    {
     "data": {
      "text/plain": [
       "(3000, 2, 1)"
      ]
     },
     "execution_count": 12,
     "metadata": {},
     "output_type": "execute_result"
    }
   ],
   "source": [
    "x.shape"
   ]
  },
  {
   "cell_type": "code",
   "execution_count": 23,
   "metadata": {},
   "outputs": [],
   "source": [
    "import compressible_conduit_steady.steady_state\n",
    "U1_fixed = solver1D_from(0).physics.IC.f(np.unique(x))\n"
   ]
  },
  {
   "cell_type": "code",
   "execution_count": 22,
   "metadata": {},
   "outputs": [
    {
     "data": {
      "text/plain": [
       "((3001,), (3000, 2, 1))"
      ]
     },
     "execution_count": 22,
     "metadata": {},
     "output_type": "execute_result"
    }
   ],
   "source": [
    "x_phy.shape, x.shape"
   ]
  },
  {
   "cell_type": "code",
   "execution_count": 24,
   "metadata": {},
   "outputs": [
    {
     "data": {
      "text/plain": [
       "(3001, 1, 8)"
      ]
     },
     "execution_count": 24,
     "metadata": {},
     "output_type": "execute_result"
    }
   ],
   "source": [
    "np.expand_dims(U1_fixed, axis=1).shape"
   ]
  },
  {
   "cell_type": "code",
   "execution_count": 25,
   "metadata": {},
   "outputs": [],
   "source": [
    "U1_fixed.shape\n",
    "U2 = np.zeros((U1_fixed.shape[0]-1, 1, U1_fixed.shape[1]))\n",
    "U2.shape\n",
    "U2[:] = np.expand_dims(U1_fixed, axis=1)[:-1,...]\n"
   ]
  },
  {
   "cell_type": "code",
   "execution_count": 26,
   "metadata": {},
   "outputs": [],
   "source": [
    "p_ = solver1D_from(0).physics.compute_additional_variable(\"Pressure\", U2, False)"
   ]
  },
  {
   "cell_type": "code",
   "execution_count": 211,
   "metadata": {},
   "outputs": [],
   "source": [
    "state_name = \"Pressure\"\n",
    "\n",
    "x, pQ = mdtools.downsample(solver1D_from(0), state_name)\n",
    "x, hvolQ = mdtools.downsample(solver1D_from(0), \"Enthalpy\")\n",
    "UQ = solver1D_from(0).state_coeffs\n",
    "rhoQ = UQ[...,0:3].sum(axis=-1, keepdims=True)\n",
    "Y_awm = UQ[...,0:3]/rhoQ\n",
    "Y_wt = UQ[...,5:6]/rhoQ\n",
    "hspec = hvolQ / rhoQ\n",
    "# More quantities\n",
    "_, phiQ = mdtools.downsample(solver1D_from(0), \"phi\")\n",
    "_, TQ = mdtools.downsample(solver1D_from(0), \"Temperature\")\n",
    "# _, phiQ = mdtools.downsample(solver1D_from(0), \"phi\")"
   ]
  },
  {
   "cell_type": "code",
   "execution_count": 46,
   "metadata": {},
   "outputs": [
    {
     "data": {
      "text/plain": [
       "(3000,)"
      ]
     },
     "execution_count": 46,
     "metadata": {},
     "output_type": "execute_result"
    }
   ],
   "source": [
    "p_phy.shape"
   ]
  },
  {
   "cell_type": "code",
   "execution_count": 213,
   "metadata": {},
   "outputs": [],
   "source": [
    "# Unpack native phy\n",
    "p_phy, h_phy, y_phy, yF_phy = outs\n",
    "f = solver1D_from(0).physics.IC.f\n",
    "\n",
    "from types import SimpleNamespace\n",
    "odenative = SimpleNamespace(**{\n",
    "  \"p\": p_phy,\n",
    "  \"h\": h_phy,\n",
    "  \"y\": y_phy,\n",
    "  \"yF\": yF_phy,\n",
    "})"
   ]
  },
  {
   "cell_type": "code",
   "execution_count": 214,
   "metadata": {},
   "outputs": [],
   "source": [
    "odenative.T = f.T_ph(odenative.p, odenative.h, odenative.y)\n",
    "odenative.vf_g = f.vf_g(odenative.p, odenative.T, odenative.y)\n",
    "odenative.parvol_m = (1-odenative.y) * f.mixture.magma.v_pT(odenative.p, odenative.T)\n",
    "odenative.parvol_wv = odenative.y * f.mixture.waterEx.v_pT(odenative.p, odenative.T)\n",
    "odenative.e_edf = f.mixture.magma.e_dfm(odenative.p)"
   ]
  },
  {
   "cell_type": "code",
   "execution_count": 57,
   "metadata": {},
   "outputs": [],
   "source": [
    "# defo = f.mixture.magma.e_dfm(pQ)\n",
    "# T_phy = f.mixture.T_ph(p_phy, h_phy)\n",
    "# phi_phy = f.vf_g(p, T, y)"
   ]
  },
  {
   "cell_type": "code",
   "execution_count": 243,
   "metadata": {},
   "outputs": [],
   "source": [
    "f = solver1D_from(0).physics.IC.f"
   ]
  },
  {
   "cell_type": "code",
   "execution_count": 244,
   "metadata": {},
   "outputs": [
    {
     "data": {
      "text/plain": [
       "10000000.0"
      ]
     },
     "execution_count": 244,
     "metadata": {},
     "output_type": "execute_result"
    }
   ],
   "source": [
    "f.mixture.magma.p_ref"
   ]
  },
  {
   "cell_type": "code",
   "execution_count": 216,
   "metadata": {},
   "outputs": [
    {
     "name": "stdout",
     "output_type": "stream",
     "text": [
      "Native: h = 3248186.393718305\n",
      "Native density = 1780.632908406347\n",
      "Native energy = 3204471.977277096\n",
      "Native p = 77839328.48699613\n",
      "Native T = 1073.1500000000003\n",
      "Quail e_tot = [3204473.1421508775]\n",
      "Quail e = [[[3204471.9772770954]]]\n",
      "Quail density = [1780.6329084063473]\n",
      "Quail pressure = [[[25956.423639297485]]]\n",
      "Quail temperature = [[[1068.1615848797703]]]\n"
     ]
    }
   ],
   "source": [
    "h_sample = odenative.h[0]\n",
    "print(f\"Native: h = {h_sample}\")\n",
    "# p, h, y -> cons\n",
    "rho = 1 / f.v_mix(odenative.p[0], odenative.h[0], odenative.y[0])\n",
    "print(f\"Native density = {rho}\")\n",
    "print(f\"Native energy = {odenative.h[0] - odenative.p[0]/rho}\")\n",
    "print(f\"Native p = {odenative.p[0]}\")\n",
    "print(f\"Native T = {f.T_ph(odenative.p[0], odenative.h[0], odenative.y[0])}\")\n",
    "e_vol = rho * (odenative.h[0] - odenative.p[0] / rho) + 0.5 * f.j0**2 / rho\n",
    "U_sample = np.array([f.yA*rho, odenative.y[0]*rho, (1-f.yA-odenative.y[0])*rho,\n",
    "  f.j0, e_vol, f.yWt*rho, f.yC*rho, 0])\n",
    "# Remap\n",
    "Et_recons = U_sample[...,4:5]\n",
    "E_recons = solver1D_from(0).physics.compute_variable(\"InternalEnergy\", np.expand_dims(U_sample,axis=(0,1)))\n",
    "rho_recons = U_sample[...,0:3].sum(axis=-1, keepdims=True)\n",
    "p_recons = solver1D_from(0).physics.compute_variable(\"Pressure\", np.expand_dims(U_sample,axis=(0,1)))\n",
    "T_recons = solver1D_from(0).physics.compute_variable(\"Temperature\", np.expand_dims(U_sample,axis=(0,1)))\n",
    "print(f\"Quail e_tot = {Et_recons/rho_recons}\")\n",
    "print(f\"Quail e = {E_recons/rho_recons}\")\n",
    "print(f\"Quail density = {rho_recons}\")\n",
    "print(f\"Quail pressure = {p_recons}\")\n",
    "print(f\"Quail temperature = {T_recons}\")"
   ]
  },
  {
   "cell_type": "code",
   "execution_count": 232,
   "metadata": {},
   "outputs": [
    {
     "data": {
      "text/plain": [
       "(0.000369072329111189,\n",
       " 0.0003678750917774897,\n",
       " 0.0003678747328857402,\n",
       " 0.0003678747328857402)"
      ]
     },
     "execution_count": 232,
     "metadata": {},
     "output_type": "execute_result"
    }
   ],
   "source": [
    "f.v_mix(odenative.p[0], odenative.h[0], 0.0), \\\n",
    "  f.mixture.v_mix(odenative.p[0], f.T_ph(odenative.p[0], odenative.h[0], odenative.y[0]), f.yA, 0.0, 1.0-f.yA), \\\n",
    "  f.mixture.magma.v_pT(odenative.p[0], f.T_ph(odenative.p[0], odenative.h[0], odenative.y[0])), \\\n",
    "  f.mixture.magma.v_pT(odenative.p[0], None)"
   ]
  },
  {
   "cell_type": "code",
   "execution_count": 241,
   "metadata": {},
   "outputs": [
    {
     "data": {
      "text/plain": [
       "(1.0, 1.0, 2.0)"
      ]
     },
     "execution_count": 241,
     "metadata": {},
     "output_type": "execute_result"
    }
   ],
   "source": [
    "f.mixture.magma.K / physics.Liquid[\"K\"], \\\n",
    "  f.mixture.magma.rho0 / physics.Liquid[\"rho0\"], \\\n",
    "  f.mixture.magma.p_ref / physics.Liquid[\"p0\"]"
   ]
  },
  {
   "cell_type": "code",
   "execution_count": 233,
   "metadata": {},
   "outputs": [
    {
     "data": {
      "text/plain": [
       "(0.00036769208884915804, 0.0003676921256183706)"
      ]
     },
     "execution_count": 233,
     "metadata": {},
     "output_type": "execute_result"
    }
   ],
   "source": [
    "rho_m_assay = (1 + (odenative.p[0] - physics.Liquid[\"p0\"]) / physics.Liquid[\"K\"]) * physics.Liquid[\"rho0\"]\n",
    "1 / rho_m_assay * (1.0-f.yA), 1 / rho_m_assay"
   ]
  },
  {
   "cell_type": "code",
   "execution_count": 217,
   "metadata": {},
   "outputs": [
    {
     "data": {
      "text/plain": [
       "(10000000000.0,\n",
       " 2700.0,\n",
       " 3000.0,\n",
       " 10000000.0,\n",
       " {'K': 10000000000.0,\n",
       "  'rho0': 2700.0,\n",
       "  'p0': 5000000.0,\n",
       "  'E_m0': 0,\n",
       "  'c_m': 3000.0})"
      ]
     },
     "execution_count": 217,
     "metadata": {},
     "output_type": "execute_result"
    }
   ],
   "source": [
    "f.mixture.magma.p_ref, physics.Liquid[\"p0\"]\n",
    "# dir(f.mixture.air)\n",
    "f.mixture.air.R, f.mixture.air.c_v, f.mixture.air.c_p, f.mixture.air.gamma, \\\n",
    "  physics.Gas[0]\n",
    "f.mixture.waterEx.R, f.mixture.waterEx.c_v, f.mixture.waterEx.c_p, f.mixture.waterEx.gamma, \\\n",
    "  physics.Gas[1]\n",
    "f.mixture.magma.K, f.mixture.magma.rho0, f.mixture.magma.c_v, f.mixture.magma.p_ref, physics.Liquid\n"
   ]
  },
  {
   "cell_type": "code",
   "execution_count": 218,
   "metadata": {},
   "outputs": [
    {
     "data": {
      "text/plain": [
       "array([[[0.340184796148306]]])"
      ]
     },
     "execution_count": 218,
     "metadata": {},
     "output_type": "execute_result"
    }
   ],
   "source": [
    "phi = solver1D_from(0).physics.compute_variable(\"phi\", np.expand_dims(U_sample,axis=(0,1)))\n",
    "phi"
   ]
  },
  {
   "cell_type": "code",
   "execution_count": 219,
   "metadata": {},
   "outputs": [
    {
     "data": {
      "text/plain": [
       "(array([[[25956.423638422973]]]), array([[[25956.42363872625]]]))"
      ]
     },
     "execution_count": 219,
     "metadata": {},
     "output_type": "execute_result"
    }
   ],
   "source": [
    "physics = solver1D_from(0).physics\n",
    "rho_m = U_sample[...,2]/(1 - phi)\n",
    "p_m = (rho_m - physics.Liquid[\"rho0\"]) * physics.Liquid[\"K\"] / physics.Liquid[\"rho0\"] + physics.Liquid[\"p0\"]\n",
    "\n",
    "# Sum partial pressures\n",
    "p_gas = (U_sample[...,0] * physics.Gas[0][\"R\"] * T_recons \\\n",
    "  + U_sample[...,1] * physics.Gas[1][\"R\"] * T_recons) / phi\n",
    "\n",
    "# rho_a = U_sample[...,0]\n",
    "p_m, p_gas"
   ]
  },
  {
   "cell_type": "code",
   "execution_count": 123,
   "metadata": {},
   "outputs": [
    {
     "data": {
      "text/plain": [
       "[<matplotlib.lines.Line2D at 0x135a9a158b0>]"
      ]
     },
     "execution_count": 123,
     "metadata": {},
     "output_type": "execute_result"
    },
    {
     "data": {
      "image/png": "[encoded data removed]",
      "text/plain": [
       "<Figure size 432x288 with 1 Axes>"
      ]
     },
     "metadata": {
      "needs_background": "light"
     },
     "output_type": "display_data"
    }
   ],
   "source": [
    "# Constraint violation\n",
    "# plt.semilogy(odenative.y)\n",
    "plt.semilogy(-odenative.y * 3e3 * 1000) # approx [[y]] * c_m * T"
   ]
  },
  {
   "cell_type": "code",
   "execution_count": 58,
   "metadata": {},
   "outputs": [
    {
     "data": {
      "text/plain": [
       "((3000, 2, 1), (3000, 2, 1))"
      ]
     },
     "execution_count": 58,
     "metadata": {},
     "output_type": "execute_result"
    }
   ],
   "source": [
    "pQ.shape, defo.shape"
   ]
  },
  {
   "cell_type": "code",
   "execution_count": 116,
   "metadata": {},
   "outputs": [
    {
     "data": {
      "text/plain": [
       "<matplotlib.legend.Legend at 0x135aa1056d0>"
      ]
     },
     "execution_count": 116,
     "metadata": {},
     "output_type": "execute_result"
    },
    {
     "data": {
      "image/png": "[encoded data removed]",
      "text/plain": [
       "<Figure size 1440x504 with 4 Axes>"
      ]
     },
     "metadata": {
      "needs_background": "light"
     },
     "output_type": "display_data"
    },
    {
     "data": {
      "image/png": "[encoded data removed]",
      "text/plain": [
       "<Figure size 1440x504 with 3 Axes>"
      ]
     },
     "metadata": {
      "needs_background": "light"
     },
     "output_type": "display_data"
    }
   ],
   "source": [
    "plt.figure(figsize=(20,7))\n",
    "plt.subplot(1,4,1)\n",
    "plt.plot(x.ravel(), pQ.ravel(), '.-')\n",
    "# plt.plot(x_phy[:-1], outs[0,:])\n",
    "plt.plot(x_phy[:-1], odenative.p)\n",
    "\n",
    "plt.subplot(1,4,2)\n",
    "plt.plot(x.ravel()[:-1], hspec.ravel()[:-1], '.-')\n",
    "plt.plot(x.ravel()[:-1], (hspec + defo).ravel()[:-1], '.-')\n",
    "# plt.plot(x_phy[:-1], outs[0,:])\n",
    "plt.plot(x_phy[:-1], odenative.h)\n",
    "\n",
    "plt.subplot(1,4,3)\n",
    "plt.plot(x.ravel()[:-1], Y_awm[...,1].ravel()[:-1], '.-')\n",
    "# plt.plot(x_phy[:-1], outs[0,:])\n",
    "plt.plot(x_phy[:-1], odenative.y), 'o-'\n",
    "\n",
    "plt.subplot(1,4,4)\n",
    "plt.plot(x.ravel(), phiQ.ravel(), '.-')\n",
    "# plt.plot(x_phy[:-1], q1_fixed[0,:])\n",
    "plt.plot(x_phy[:-1], odenative.vf_g), 'o-'\n",
    "\n",
    "plt.figure(figsize=(20,7))\n",
    "plt.subplot(1,4,1)\n",
    "# TODO: boundary fix needed\n",
    "plt.plot(x.ravel(), TQ.ravel(), '.-')\n",
    "plt.plot(x_phy[:-1], odenative.T), 'o-'\n",
    "plt.ylim((500,1500))\n",
    "plt.ylabel(\"Temperature\")\n",
    "\n",
    "odenative.rho = 1/odenative.parvol_m + 1/odenative.parvol_wv\n",
    "odenative.v_corrected = np.clip(1-odenative.y,0, 1) * f.mixture.magma.v_pT(odenative.p, odenative.T) \\\n",
    "  + np.clip(odenative.y,0, 1) * f.mixture.waterEx.v_pT(odenative.p, odenative.T)\n",
    "odenative.rho_corected = 1.0 / odenative.v_corrected\n",
    "plt.subplot(1,4,2)\n",
    "plt.plot(x.ravel(), rhoQ.ravel(), '.-')\n",
    "# plt.plot(x_phy[:-1], odenative.rho, 'o-')\n",
    "plt.plot(x_phy[:-1], odenative.rho_corected, 'o-')\n",
    "plt.ylabel(\"Density mix\")\n",
    "\n",
    "plt.subplot(1,4,3)\n",
    "plt.semilogy(x_phy[:-1], odenative.parvol_m, 'o-')\n",
    "plt.semilogy(x_phy[:-1], odenative.parvol_wv, 'o-')\n",
    "plt.ylabel(\"Partial volumes\")\n",
    "plt.legend([\"M\", \"WV\"])"
   ]
  },
  {
   "cell_type": "code",
   "execution_count": 32,
   "metadata": {},
   "outputs": [
    {
     "data": {
      "text/plain": [
       "[<matplotlib.lines.Line2D at 0x1aba2399b80>]"
      ]
     },
     "execution_count": 32,
     "metadata": {},
     "output_type": "execute_result"
    },
    {
     "data": {
      "image/png": "[encoded data removed]",
      "text/plain": [
       "<Figure size 432x288 with 1 Axes>"
      ]
     },
     "metadata": {
      "needs_background": "light"
     },
     "output_type": "display_data"
    }
   ],
   "source": [
    "x, p0 = mdtools.downsample(solver1D_from(0), \"Pressure\")\n",
    "plt.plot(x.ravel(), p0.ravel())"
   ]
  },
  {
   "cell_type": "code",
   "execution_count": 902,
   "metadata": {},
   "outputs": [],
   "source": [
    "x, u = mdtools.downsample(solver, \"XVelocity\")\n",
    "_, c = mdtools.downsample(solver, \"SoundSpeed\")\n",
    "_, p = mdtools.downsample(solver, \"Pressure\")\n",
    "_, phi = mdtools.downsample(solver, \"phi\")\n",
    "_, T = mdtools.downsample(solver, \"Temperature\")\n",
    "_, Gamma = mdtools.downsample(solver, \"Gamma\")"
   ]
  },
  {
   "cell_type": "code",
   "execution_count": 903,
   "metadata": {},
   "outputs": [],
   "source": [
    "# solver.state_coeffs[...,-3]"
   ]
  },
  {
   "cell_type": "code",
   "execution_count": 904,
   "metadata": {},
   "outputs": [],
   "source": [
    "# Secondary computations\n",
    "rho    = solver.state_coeffs[...,0:3].sum(axis=-1, keepdims=True)\n",
    "arhoWt = solver.state_coeffs[...,-3:-2]\n",
    "yWt = arhoWt / rho\n",
    "yWv = solver.state_coeffs[...,1:2] / rho\n",
    "yM  = solver.state_coeffs[...,2:3] / rho\n",
    "sRatio = T ** Gamma / p ** (Gamma-1)\n",
    "# Soluble concentration\n",
    "xd = solver.physics.Solubility[\"k\"] * p ** solver.physics.Solubility[\"n\"]"
   ]
  },
  {
   "cell_type": "code",
   "execution_count": 905,
   "metadata": {},
   "outputs": [
    {
     "data": {
      "text/plain": [
       "0.8"
      ]
     },
     "execution_count": 905,
     "metadata": {},
     "output_type": "execute_result"
    }
   ],
   "source": [
    "solver.physics.source_terms[1].crit_volfrac"
   ]
  },
  {
   "cell_type": "code",
   "execution_count": 906,
   "metadata": {},
   "outputs": [
    {
     "data": {
      "text/plain": [
       "array([[[2721.6918]]])"
      ]
     },
     "execution_count": 906,
     "metadata": {},
     "output_type": "execute_result"
    }
   ],
   "source": [
    "atomics.mixture_density(np.array([[[0,0,1]]]),2e8 - 9.8*2.6e3*4500, 300, solver.physics)"
   ]
  },
  {
   "cell_type": "code",
   "execution_count": 907,
   "metadata": {},
   "outputs": [
    {
     "data": {
      "text/plain": [
       "(3000, 2, 1)"
      ]
     },
     "execution_count": 907,
     "metadata": {},
     "output_type": "execute_result"
    }
   ],
   "source": [
    "phi.shape"
   ]
  },
  {
   "cell_type": "code",
   "execution_count": 908,
   "metadata": {},
   "outputs": [
    {
     "data": {
      "text/plain": [
       "Text(0, 0.5, 'sRatio')"
      ]
     },
     "execution_count": 908,
     "metadata": {},
     "output_type": "execute_result"
    },
    {
     "data": {
      "image/png": "[encoded data removed]",
      "text/plain": [
       "<Figure size 864x288 with 1 Axes>"
      ]
     },
     "metadata": {
      "needs_background": "light"
     },
     "output_type": "display_data"
    },
    {
     "data": {
      "image/png": "[encoded data removed]",
      "text/plain": [
       "<Figure size 864x288 with 1 Axes>"
      ]
     },
     "metadata": {
      "needs_background": "light"
     },
     "output_type": "display_data"
    },
    {
     "data": {
      "image/png": "[encoded data removed]",
      "text/plain": [
       "<Figure size 864x288 with 1 Axes>"
      ]
     },
     "metadata": {
      "needs_background": "light"
     },
     "output_type": "display_data"
    },
    {
     "data": {
      "image/png": "[encoded data removed]",
      "text/plain": [
       "<Figure size 864x288 with 1 Axes>"
      ]
     },
     "metadata": {
      "needs_background": "light"
     },
     "output_type": "display_data"
    },
    {
     "data": {
      "image/png": "[encoded data removed]",
      "text/plain": [
       "<Figure size 864x288 with 1 Axes>"
      ]
     },
     "metadata": {
      "needs_background": "light"
     },
     "output_type": "display_data"
    }
   ],
   "source": [
    "plt.figure(figsize=(12,4))\n",
    "plt.plot(x.ravel(), phi.ravel(), '.'); plt.ylabel(\"phi\")\n",
    "plt.figure(figsize=(12,4))\n",
    "plt.plot(x.ravel(), yWt.ravel(), '.'); plt.ylabel(\"Total water massfrac\")\n",
    "plt.figure(figsize=(12,4))\n",
    "plt.plot(x.ravel(), yWv.ravel(), '.'); plt.ylabel(\"Water vapour massfrac\")\n",
    "plt.figure(figsize=(12,4))\n",
    "plt.plot(x.ravel(), (yWt-(xd/(1+xd))*yM).ravel(), '-'); plt.ylabel(\"Exsolvable water mass frac\")\n",
    "plt.figure(figsize=(12,4))\n",
    "plt.semilogy(x.ravel(), np.abs(sRatio-sRatio[0,0,0]).ravel(), '.'); plt.ylabel(\"sRatio\")"
   ]
  },
  {
   "cell_type": "code",
   "execution_count": 453,
   "metadata": {},
   "outputs": [
    {
     "data": {
      "text/plain": [
       "'Approx rate: 1185.1851851851852'"
      ]
     },
     "execution_count": 453,
     "metadata": {},
     "output_type": "execute_result"
    }
   ],
   "source": [
    "f\"Approx rate: {(1e7 / 2.7e3) * 8 / 50*2}\""
   ]
  },
  {
   "cell_type": "code",
   "execution_count": 909,
   "metadata": {},
   "outputs": [
    {
     "data": {
      "text/plain": [
       "(1500.0, 2034.24868944663)"
      ]
     },
     "execution_count": 909,
     "metadata": {},
     "output_type": "execute_result"
    },
    {
     "data": {
      "image/png": "[encoded data removed]",
      "text/plain": [
       "<Figure size 864x288 with 1 Axes>"
      ]
     },
     "metadata": {
      "needs_background": "light"
     },
     "output_type": "display_data"
    }
   ],
   "source": [
    "plt.figure(figsize=(12,4))\n",
    "plt.plot(x.ravel(), np.abs(u-c).ravel(), '.'); plt.ylabel(\"u-c\")\n",
    "plt.ylim(bottom=1.5e3)"
   ]
  },
  {
   "cell_type": "code",
   "execution_count": 910,
   "metadata": {},
   "outputs": [
    {
     "data": {
      "text/plain": [
       "(-2000.0, -1500.0)"
      ]
     },
     "execution_count": 910,
     "metadata": {},
     "output_type": "execute_result"
    },
    {
     "data": {
      "image/png": "[encoded data removed]",
      "text/plain": [
       "<Figure size 432x288 with 1 Axes>"
      ]
     },
     "metadata": {
      "needs_background": "light"
     },
     "output_type": "display_data"
    }
   ],
   "source": [
    "plt.semilogy(x.ravel(), np.abs(phi).ravel(), '.'); plt.xlim((-2000,-1500))"
   ]
  },
  {
   "cell_type": "code",
   "execution_count": 819,
   "metadata": {},
   "outputs": [
    {
     "data": {
      "text/plain": [
       "1924.5008972987525"
      ]
     },
     "execution_count": 819,
     "metadata": {},
     "output_type": "execute_result"
    }
   ],
   "source": [
    "np.sqrt(solver.physics.Liquid[\"K\"] / solver.physics.Liquid[\"rho0\"])"
   ]
  },
  {
   "cell_type": "code",
   "execution_count": 912,
   "metadata": {},
   "outputs": [
    {
     "data": {
      "text/plain": [
       "[<physics.multiphasevpT.functions.GravitySource at 0x22b13ad4310>,\n",
       " <physics.multiphasevpT.functions.FrictionVolFracVariableMu at 0x22b13ad4400>]"
      ]
     },
     "execution_count": 912,
     "metadata": {},
     "output_type": "execute_result"
    }
   ],
   "source": [
    "solver.physics.source_terms"
   ]
  },
  {
   "cell_type": "code",
   "execution_count": 911,
   "metadata": {},
   "outputs": [
    {
     "data": {
      "text/plain": [
       "Text(0, 0.5, 'p')"
      ]
     },
     "execution_count": 911,
     "metadata": {},
     "output_type": "execute_result"
    },
    {
     "data": {
      "image/png": "[encoded data removed]",
      "text/plain": [
       "<Figure size 864x288 with 1 Axes>"
      ]
     },
     "metadata": {
      "needs_background": "light"
     },
     "output_type": "display_data"
    },
    {
     "data": {
      "image/png": "[encoded data removed]",
      "text/plain": [
       "<Figure size 864x288 with 1 Axes>"
      ]
     },
     "metadata": {
      "needs_background": "light"
     },
     "output_type": "display_data"
    }
   ],
   "source": [
    "plt.figure(figsize=(12,4))\n",
    "plt.plot(x.ravel(), u.ravel(), '-'); plt.ylabel(\"u\")\n",
    "plt.figure(figsize=(12,4))\n",
    "plt.plot(x.ravel(), p.ravel(), '-'); plt.ylabel(\"p\")"
   ]
  },
  {
   "cell_type": "code",
   "execution_count": 835,
   "metadata": {},
   "outputs": [
    {
     "data": {
      "text/plain": [
       "1920.6315525692573"
      ]
     },
     "execution_count": 835,
     "metadata": {},
     "output_type": "execute_result"
    },
    {
     "data": {
      "image/png": "[encoded data removed]",
      "text/plain": [
       "<Figure size 432x288 with 1 Axes>"
      ]
     },
     "metadata": {
      "needs_background": "light"
     },
     "output_type": "display_data"
    }
   ],
   "source": [
    "plt.plot(x.ravel(), c.ravel())\n",
    "c.max()"
   ]
  },
  {
   "cell_type": "code",
   "execution_count": 833,
   "metadata": {},
   "outputs": [],
   "source": [
    "_c = solver1D_from(64).physics.compute_additional_variable(\"SoundSpeed\", solver1D_fromAV(64).state_coeffs, False)"
   ]
  },
  {
   "cell_type": "code",
   "execution_count": 836,
   "metadata": {},
   "outputs": [
    {
     "data": {
      "text/plain": [
       "[<matplotlib.lines.Line2D at 0x22b0be806a0>]"
      ]
     },
     "execution_count": 836,
     "metadata": {},
     "output_type": "execute_result"
    },
    {
     "data": {
      "image/png": "[encoded data removed]",
      "text/plain": [
       "<Figure size 864x288 with 1 Axes>"
      ]
     },
     "metadata": {
      "needs_background": "light"
     },
     "output_type": "display_data"
    }
   ],
   "source": [
    "plt.figure(figsize=(12,4))\n",
    "plt.plot(x.ravel(), mdtools.downsample(solver1D_from(0), \"Pressure\")[1].ravel(), '-')\n",
    "plt.ylabel(\"p\")\n",
    "plt.plot(x.ravel(), mdtools.downsample(solver1D_from(7), \"Pressure\")[1].ravel(), '-')\n",
    "plt.plot(x.ravel(), mdtools.downsample(solver1D_from(14), \"Pressure\")[1].ravel(), '-')\n",
    "\n",
    "plt.plot(x.ravel(), mdtools.downsample(solver1D_from(16), \"Pressure\")[1].ravel(), '-')\n",
    "plt.plot(x.ravel(), mdtools.downsample(solver1D_from(32), \"Pressure\")[1].ravel(), '-')\n",
    "plt.plot(x.ravel(), mdtools.downsample(solver1D_from(48), \"Pressure\")[1].ravel(), '-')\n",
    "plt.plot(x.ravel(), mdtools.downsample(solver1D_from(64), \"Pressure\")[1].ravel(), '-')"
   ]
  },
  {
   "cell_type": "code",
   "execution_count": 696,
   "metadata": {},
   "outputs": [
    {
     "data": {
      "text/plain": [
       "(3000, 2, 8)"
      ]
     },
     "execution_count": 696,
     "metadata": {},
     "output_type": "execute_result"
    }
   ],
   "source": [
    "solver1D_from(16).state_coeffs.shape"
   ]
  },
  {
   "cell_type": "code",
   "execution_count": 691,
   "metadata": {},
   "outputs": [
    {
     "data": {
      "text/plain": [
       "(3000,)"
      ]
     },
     "execution_count": 691,
     "metadata": {},
     "output_type": "execute_result"
    }
   ],
   "source": [
    "q = solver1D_from(1).state_coeffs[:,:,0]\n",
    "q.mean(axis=1).ravel().shape"
   ]
  },
  {
   "cell_type": "code",
   "execution_count": 716,
   "metadata": {},
   "outputs": [
    {
     "data": {
      "text/plain": [
       "(1e-07, 1000.0)"
      ]
     },
     "execution_count": 716,
     "metadata": {},
     "output_type": "execute_result"
    },
    {
     "data": {
      "image/png": "[encoded data removed]",
      "text/plain": [
       "<Figure size 864x576 with 7 Axes>"
      ]
     },
     "metadata": {
      "needs_background": "light"
     },
     "output_type": "display_data"
    }
   ],
   "source": [
    "ddx_approx = lambda q: (1/2)*(np.diff(q.mean(axis=1).ravel(), append=q.mean(axis=1).ravel()[0]) / q.mean(axis=1).ravel())\n",
    "plt.figure(figsize=(12,8))\n",
    "for state_idx in range(6):\n",
    "  plt.subplot(3,3,state_idx+1)\n",
    "  plt.semilogy(x.mean(axis=1).ravel(), ddx_approx(solver1D_from(60).state_coeffs[:,:,state_idx]))\n",
    "  plt.ylim((1e-7, 1e3))\n",
    "# plt.legend(range(6), loc=\"best\")\n",
    "\n",
    "plt.subplot(3,3,7)\n",
    "get_p = lambda U: solver1D_from(60).physics.compute_additional_variable(\"Pressure\", U, False)\n",
    "plt.semilogy(x.mean(axis=1).ravel(), ddx_approx(get_p(solver1D_from(60).state_coeffs[:,:,:])))\n",
    "plt.ylim((1e-7, 1e3))"
   ]
  },
  {
   "cell_type": "code",
   "execution_count": 686,
   "metadata": {},
   "outputs": [
    {
     "data": {
      "text/plain": [
       "0.31999999999996886"
      ]
     },
     "execution_count": 686,
     "metadata": {},
     "output_type": "execute_result"
    }
   ],
   "source": [
    "solver1D_from(16).time"
   ]
  },
  {
   "cell_type": "code",
   "execution_count": 399,
   "metadata": {},
   "outputs": [
    {
     "name": "stderr",
     "output_type": "stream",
     "text": [
      "C:\\Users\\Fredric\\Documents\\Volcano\\quail_volcano\\src\\physics\\multiphasevpT\\functions.py:2347: RuntimeWarning: invalid value encountered in log\n",
      "  physics.get_state_indices()\n"
     ]
    },
    {
     "data": {
      "text/plain": [
       "[<matplotlib.lines.Line2D at 0x22a8dce14c0>]"
      ]
     },
     "execution_count": 399,
     "metadata": {},
     "output_type": "execute_result"
    },
    {
     "data": {
      "image/png": "[encoded data removed]",
      "text/plain": [
       "<Figure size 432x288 with 1 Axes>"
      ]
     },
     "metadata": {
      "needs_background": "light"
     },
     "output_type": "display_data"
    },
    {
     "data": {
      "image/png": "[encoded data removed]",
      "text/plain": [
       "<Figure size 432x288 with 1 Axes>"
      ]
     },
     "metadata": {
      "needs_background": "light"
     },
     "output_type": "display_data"
    }
   ],
   "source": [
    "solver = solver1D_from(80)\n",
    "solver.physics.source_terms[1].get_source(solver.physics, solver.state_coeffs, x, 000)\n",
    "S = solver.physics.source_terms[1].get_source(solver.physics, solver.state_coeffs, x, 000)\n",
    "u = solver.physics.compute_variable(\"XVelocity\", solver.state_coeffs)\n",
    "\n",
    "plt.plot(x.ravel(), S[...,3].ravel())\n",
    "plt.figure()\n",
    "_fric = S[...,3].ravel()\n",
    "_p = mdtools.downsample(solver1D_from(80), \"Pressure\")[1].ravel()\n",
    "plt.plot(x.ravel(), (_fric.ravel() / u.ravel()).ravel() / 8 * 50**2)\n",
    "# plt.plot(x.ravel(), _p / _p.max())\n",
    "# plt.xlim((-2000,-1000))\n"
   ]
  },
  {
   "cell_type": "code",
   "execution_count": null,
   "metadata": {},
   "outputs": [],
   "source": []
  },
  {
   "cell_type": "code",
   "execution_count": 387,
   "metadata": {},
   "outputs": [
    {
     "data": {
      "text/plain": [
       "[<matplotlib.lines.Line2D at 0x22a8c16f490>]"
      ]
     },
     "execution_count": 387,
     "metadata": {},
     "output_type": "execute_result"
    },
    {
     "data": {
      "image/png": "[encoded data removed]",
      "text/plain": [
       "<Figure size 432x288 with 1 Axes>"
      ]
     },
     "metadata": {
      "needs_background": "light"
     },
     "output_type": "display_data"
    },
    {
     "data": {
      "image/png": "[encoded data removed]",
      "text/plain": [
       "<Figure size 432x288 with 1 Axes>"
      ]
     },
     "metadata": {
      "needs_background": "light"
     },
     "output_type": "display_data"
    }
   ],
   "source": [
    "solver = solver1D_from(60)\n",
    "rho = solver.state_coeffs[...,0:3].sum(axis=-1, keepdims=True)\n",
    "ywt = solver.state_coeffs[...,5:6] / rho\n",
    "ywv = solver.state_coeffs[...,1:2] / rho\n",
    "ym = solver.state_coeffs[...,2:3] / rho\n",
    "yc = solver.state_coeffs[...,6:7] / rho\n",
    "ya = solver.state_coeffs[...,0:1] / rho\n",
    "yd = ywt - ywv\n",
    "yl = ym - yd - yc\n",
    "phi = solver.physics.compute_variable(\"phi\", solver.state_coeffs)\n",
    "crit_volfrac = solver.physics.source_terms[1].crit_volfrac\n",
    "T = solver.physics.compute_variable(\"Temperature\", solver.state_coeffs)\n",
    "plt.plot(yd.ravel())\n",
    "plt.plot(yl.ravel())\n",
    "plt.plot((1 - ywt - yc - ya).ravel(), '--')\n",
    "plt.title(\"Check plot (dissolved and liquid melt)\")\n",
    "plt.figure()\n",
    "\n",
    "mfWd = np.where(phi > crit_volfrac, 0, yd/yl)\n",
    "# plt.plot((yd/yl).ravel())\n",
    "plt.plot(mfWd.ravel())"
   ]
  },
  {
   "cell_type": "code",
   "execution_count": 401,
   "metadata": {},
   "outputs": [
    {
     "name": "stderr",
     "output_type": "stream",
     "text": [
      "C:\\Users\\Fredric\\AppData\\Local\\Temp\\ipykernel_86340\\722075693.py:2: RuntimeWarning: divide by zero encountered in log10\n",
      "  log_mfWd = np.log10(mfWd*100)\n",
      "C:\\Users\\Fredric\\AppData\\Local\\Temp\\ipykernel_86340\\722075693.py:3: RuntimeWarning: invalid value encountered in true_divide\n",
      "  return 10**(-3.545 + 0.833 * log_mfWd + (9601 - 2368 * log_mfWd) / (temp - 195.7 - 32.25 * log_mfWd))\n"
     ]
    },
    {
     "data": {
      "text/plain": [
       "[<matplotlib.lines.Line2D at 0x22a9046e700>]"
      ]
     },
     "execution_count": 401,
     "metadata": {},
     "output_type": "execute_result"
    },
    {
     "data": {
      "image/png": "[encoded data removed]",
      "text/plain": [
       "<Figure size 432x288 with 1 Axes>"
      ]
     },
     "metadata": {
      "needs_background": "light"
     },
     "output_type": "display_data"
    }
   ],
   "source": [
    "def mu_like(mfWd, temp):\n",
    "  log_mfWd = np.log10(mfWd*100)\n",
    "  return 10**(-3.545 + 0.833 * log_mfWd + (9601 - 2368 * log_mfWd) / (temp - 195.7 - 32.25 * log_mfWd))\n",
    "\n",
    "plt.plot(x.ravel(), mu_like(mfWd, T).ravel())"
   ]
  },
  {
   "cell_type": "code",
   "execution_count": 413,
   "metadata": {},
   "outputs": [
    {
     "name": "stderr",
     "output_type": "stream",
     "text": [
      "C:\\Users\\Fredric\\AppData\\Local\\Temp\\ipykernel_86340\\722075693.py:2: RuntimeWarning: divide by zero encountered in log10\n",
      "  log_mfWd = np.log10(mfWd*100)\n",
      "C:\\Users\\Fredric\\AppData\\Local\\Temp\\ipykernel_86340\\722075693.py:3: RuntimeWarning: invalid value encountered in true_divide\n",
      "  return 10**(-3.545 + 0.833 * log_mfWd + (9601 - 2368 * log_mfWd) / (temp - 195.7 - 32.25 * log_mfWd))\n"
     ]
    },
    {
     "data": {
      "text/plain": [
       "15512177.862548288"
      ]
     },
     "execution_count": 413,
     "metadata": {},
     "output_type": "execute_result"
    }
   ],
   "source": [
    "np.where((mu_like(mfWd, T).ravel() > 1), mu_like(mfWd, T).ravel(), 9e9*np.ones_like(T.ravel())).min()"
   ]
  },
  {
   "cell_type": "code",
   "execution_count": 274,
   "metadata": {},
   "outputs": [
    {
     "data": {
      "text/plain": [
       "(0.0, 300000000.0)"
      ]
     },
     "execution_count": 274,
     "metadata": {},
     "output_type": "execute_result"
    },
    {
     "data": {
      "image/png": "[encoded data removed]",
      "text/plain": [
       "<Figure size 432x288 with 1 Axes>"
      ]
     },
     "metadata": {
      "needs_background": "light"
     },
     "output_type": "display_data"
    }
   ],
   "source": [
    "plt.plot(mdtools.downsample(solver1D_from(0), \"Pressure\")[1].ravel(), x.ravel(), '-')\n",
    "plt.plot(mdtools.downsample(solver1D_from(16), \"Pressure\")[1].ravel(), x.ravel(), '-')\n",
    "plt.xlim((0, 3e8))"
   ]
  },
  {
   "cell_type": "code",
   "execution_count": 119,
   "metadata": {},
   "outputs": [
    {
     "data": {
      "text/plain": [
       "array([[[-1,  0]]])"
      ]
     },
     "execution_count": 119,
     "metadata": {},
     "output_type": "execute_result"
    }
   ],
   "source": [
    "np.expand_dims(np.array([-1,0]),axis=(0,1))"
   ]
  },
  {
   "cell_type": "code",
   "execution_count": 122,
   "metadata": {},
   "outputs": [
    {
     "data": {
      "text/plain": [
       "array([[[1.016739023211737]]])"
      ]
     },
     "execution_count": 122,
     "metadata": {},
     "output_type": "execute_result"
    }
   ],
   "source": [
    "mfinlet = solver.physics.BCs[\"x1\"]\n",
    "Ub = mfinlet.get_boundary_state(solver.physics, solver.state_coeffs[0:1,0:1,:], np.expand_dims(np.array([-1]),axis=(0,1)), 000, 000)\n",
    "solver.physics.compute_variable(\"XVelocity\", Ub)"
   ]
  },
  {
   "cell_type": "code",
   "execution_count": 147,
   "metadata": {},
   "outputs": [
    {
     "data": {
      "text/plain": [
       "array([4.911705376922283e+08])"
      ]
     },
     "execution_count": 147,
     "metadata": {},
     "output_type": "execute_result"
    }
   ],
   "source": [
    "import physics.multiphasevpT.atomics as atomics\n",
    "e = solver.physics.Liquid[\"c_m\"] * 2608.686 * 1000\n",
    "arhoVec = np.array([1e-1, 8.686, 2600])\n",
    "mom = np.array([[[0]]])\n",
    "# atomics.temperature(arhoVec, mom, e, solver.physics)\n",
    "atomics.pressure(arhoVec, 1000, atomics.gas_volfrac(arhoVec, 1000, solver.physics), solver.physics)"
   ]
  },
  {
   "cell_type": "code",
   "execution_count": 168,
   "metadata": {},
   "outputs": [],
   "source": [
    "actual_jump = np.abs(np.diff(p0.ravel())).max()\n",
    "# Hydrostatic pressure of magma column \n",
    "p_hyd = np.max(p0.ravel()) - p0.ravel()[np.abs(np.diff(p0.ravel())).argmax()]\n",
    "desired_jump = 2e8 - p_hyd"
   ]
  },
  {
   "cell_type": "code",
   "execution_count": 171,
   "metadata": {},
   "outputs": [
    {
     "data": {
      "text/plain": [
       "0.17054936309292384"
      ]
     },
     "execution_count": 171,
     "metadata": {},
     "output_type": "execute_result"
    }
   ],
   "source": [
    "factor = desired_jump/actual_jump\n",
    "factor"
   ]
  },
  {
   "cell_type": "code",
   "execution_count": 125,
   "metadata": {},
   "outputs": [
    {
     "data": {
      "text/plain": [
       "[<matplotlib.lines.Line2D at 0x22a898e7af0>]"
      ]
     },
     "execution_count": 125,
     "metadata": {},
     "output_type": "execute_result"
    },
    {
     "data": {
      "image/png": "[encoded data removed]",
      "text/plain": [
       "<Figure size 432x288 with 1 Axes>"
      ]
     },
     "metadata": {
      "needs_background": "light"
     },
     "output_type": "display_data"
    }
   ],
   "source": [
    "plt.plot(p0.ravel())"
   ]
  },
  {
   "cell_type": "code",
   "execution_count": 123,
   "metadata": {},
   "outputs": [
    {
     "data": {
      "text/plain": [
       "[<matplotlib.lines.Line2D at 0x22a8bc1cd60>]"
      ]
     },
     "execution_count": 123,
     "metadata": {},
     "output_type": "execute_result"
    },
    {
     "data": {
      "image/png": "[encoded data removed]",
      "text/plain": [
       "<Figure size 432x288 with 1 Axes>"
      ]
     },
     "metadata": {
      "needs_background": "light"
     },
     "output_type": "display_data"
    }
   ],
   "source": [
    "plt.plot(mdtools.downsample(solver1D_from(40), \"Temperature\")[1].ravel(), x.ravel(), '-')"
   ]
  },
  {
   "cell_type": "code",
   "execution_count": 35,
   "metadata": {},
   "outputs": [
    {
     "data": {
      "text/plain": [
       "Text(0, 0.5, 'Delta p')"
      ]
     },
     "execution_count": 35,
     "metadata": {},
     "output_type": "execute_result"
    },
    {
     "data": {
      "image/png": "[encoded data removed]",
      "text/plain": [
       "<Figure size 864x288 with 1 Axes>"
      ]
     },
     "metadata": {
      "needs_background": "light"
     },
     "output_type": "display_data"
    }
   ],
   "source": [
    "plt.figure(figsize=(12,4))\n",
    "plt.plot(x.ravel(), (p-p0).ravel(), '.'); plt.ylabel(\"Delta p\")\n",
    "# plt.figure(figsize=(12,4))\n",
    "# plt.plot(x.ravel(), p.ravel(), '.'); plt.ylabel(\"u\")"
   ]
  },
  {
   "cell_type": "code",
   "execution_count": 117,
   "metadata": {},
   "outputs": [
    {
     "data": {
      "text/plain": [
       "(16000,)"
      ]
     },
     "execution_count": 117,
     "metadata": {},
     "output_type": "execute_result"
    }
   ],
   "source": [
    "#  'compute_indicator',\n",
    "#  'compute_viscosity',\n",
    "#  'conduit_radius',\n",
    "#  'crit_volfrac',\n",
    "#  'get_indicator_deriv',\n",
    "#  'get_jacobian',\n",
    "#  'get_phi_gradient',\n",
    "#  'get_source',\n",
    "#  'logistic_scale',\n",
    "#  'source_treatment']\n",
    "\n",
    "friction_term = solver.physics.source_terms[1]\n",
    "# plt.semilogy(friction_term.compute_indicator(phi).ravel())\n",
    "# plt.plot(friction_term.compute_viscosity(solver.state_coeffs, solver.physics).ravel())\n",
    "# plt.plot(, '-')\n",
    "# F = friction_term.get_source(solver.physics, solver.state_coeffs, 000, 000).ravel()\n",
    "# x = np.array([solver.mesh.node_coords[0:-1,0], solver.mesh.node_coords[1:,0]]\n",
    "# F.shape"
   ]
  },
  {
   "cell_type": "code",
   "execution_count": 127,
   "metadata": {},
   "outputs": [],
   "source": [
    "''' Simulate .get_source '''\n",
    "Uq = solver.state_coeffs\n",
    "physics = solver.physics\n",
    "\n",
    "if physics.NDIMS != 1:\n",
    "  raise Exception(f\"Conduit friction source not suitable for use in \" +\n",
    "                  f\"{physics.NDIMS} spatial dimensions.\")\n",
    "iarhoA, iarhoWv, iarhoM, imom, ie, iarhoWt, iarhoC, iarhoFm = \\\n",
    "  physics.get_state_indices()\n",
    "\n",
    "''' Compute mixture density, u, friction coefficient '''\n",
    "rho = np.sum(Uq[:, :, physics.get_mass_slice()],axis=2,keepdims=True)\n",
    "u = Uq[:, :, physics.get_momentum_slice()] / (rho + 1e-15)\n",
    "mu = friction_term.compute_viscosity(Uq, physics)\n",
    "fric_coeff = 8.0 * mu / friction_term.conduit_radius**2.0\n",
    "''' Compute indicator based on magma porosity '''\n",
    "#I = self.compute_indicator( \\\n",
    "#\tphysics.compute_additional_variable(\"phi\", Uq, True))\n",
    "''' Compute source vector at each element [ne, nq] '''\n",
    "S = np.zeros_like(Uq)\n",
    "S[:, :, physics.get_momentum_slice()] = -fric_coeff * u\n",
    "S[:, :, physics.get_state_slice(\"Energy\")] = -fric_coeff * u**2.0\n",
    "\n",
    "mu = friction_term.compute_viscosity(solver.state_coeffs, solver.physics)"
   ]
  },
  {
   "cell_type": "code",
   "execution_count": 147,
   "metadata": {},
   "outputs": [
    {
     "data": {
      "text/plain": [
       "5e-05"
      ]
     },
     "execution_count": 147,
     "metadata": {},
     "output_type": "execute_result"
    }
   ],
   "source": []
  },
  {
   "cell_type": "code",
   "execution_count": 169,
   "metadata": {},
   "outputs": [],
   "source": [
    "# plt.figure(figsize=(12,4))\n",
    "# plt.plot(S[:,:,3].ravel())\n",
    "plt.figure(figsize=(12,4))\n",
    "plt.plot(mu.ravel())\n",
    "\n",
    "coeff = 8.0 * mu / friction_term.conduit_radius**2.0\n",
    "# Plot friction coefficient\n",
    "# plt.figure(figsize=(12,4))\n",
    "# plt.plot(coeff.ravel())\n",
    "# Plot source lambda\n",
    "plt.figure(figsize=(12,4))\n",
    "ll = coeff / rho\n",
    "plt.plot(ll.ravel())\n",
    "plt.ylabel(\"1/timescale of friction term (1/s)\")\n",
    "plt.title(f\"Max supported rate 1/dt: {1/solver.stepper.dt}\")\n",
    "\n",
    "# Friction reaction plot\n",
    "plt.figure(figsize=(12,4))\n",
    "plt.plot(u.ravel(), S[:,:,3].ravel(), '.')\n",
    "plt.xlim((-1,1))\n",
    "plt.ylim((-2e5,2e5))\n",
    "plt.xlabel(\"u\")\n",
    "plt.ylabel(\"drag term\")\n",
    "plt.grid(\"both\")"
   ]
  },
  {
   "cell_type": "code",
   "execution_count": 184,
   "metadata": {},
   "outputs": [
    {
     "data": {
      "text/plain": [
       "array([3.])"
      ]
     },
     "execution_count": 184,
     "metadata": {},
     "output_type": "execute_result"
    }
   ],
   "source": []
  },
  {
   "cell_type": "code",
   "execution_count": 204,
   "metadata": {},
   "outputs": [
    {
     "data": {
      "text/plain": [
       "[<matplotlib.lines.Line2D at 0x1c3fe961340>]"
      ]
     },
     "execution_count": 204,
     "metadata": {},
     "output_type": "execute_result"
    },
    {
     "data": {
      "image/png": "[encoded data removed]",
      "text/plain": [
       "<Figure size 432x288 with 1 Axes>"
      ]
     },
     "metadata": {
      "needs_background": "light"
     },
     "output_type": "display_data"
    }
   ],
   "source": [
    "# d(Delta p)/dx removing hydrostatic\n",
    "# plt.plot(x.ravel(), (p - p0).ravel())\n",
    "\n",
    "semilogyabs = lambda dat: plt.semilogy(x.ravel(), np.abs(dat).ravel())\n",
    "\n",
    "\n",
    "# Approximate dp/dx\n",
    "dx = solver.mesh.node_coords[1] - solver.mesh.node_coords[0]\n",
    "pdx_approx =  np.diff((p - p0).ravel(), prepend=(p-p0)[0,0]) / dx\n",
    "\n",
    "# Compute gravity source\n",
    "Sgrav = solver.physics.source_terms[0].get_source(solver.physics, solver.state_coeffs, 000, 000)\n",
    "\n",
    "semilogyabs(pdx_approx)\n",
    "semilogyabs(S[...,3])\n",
    "# semilogyabs(Sgrav[...,3])"
   ]
  },
  {
   "cell_type": "code",
   "execution_count": 200,
   "metadata": {},
   "outputs": [
    {
     "data": {
      "text/plain": [
       "array([-26910.31117181584 , -26910.06048930237 , -26910.060463256596, ...,\n",
       "       -17184.358235029173, -16390.74406601727 , -13623.128676371585])"
      ]
     },
     "execution_count": 200,
     "metadata": {},
     "output_type": "execute_result"
    }
   ],
   "source": [
    "Sgrav[:,:,3].ravel()"
   ]
  },
  {
   "cell_type": "code",
   "execution_count": 170,
   "metadata": {},
   "outputs": [
    {
     "data": {
      "text/plain": [
       "[<matplotlib.lines.Line2D at 0x1c3fad378b0>]"
      ]
     },
     "execution_count": 170,
     "metadata": {},
     "output_type": "execute_result"
    },
    {
     "data": {
      "image/png": "[encoded data removed]",
      "text/plain": [
       "<Figure size 432x288 with 1 Axes>"
      ]
     },
     "metadata": {
      "needs_background": "light"
     },
     "output_type": "display_data"
    }
   ],
   "source": [
    "%matplotlib inline\n",
    "plt.semilogy(solver.state_coeffs[:,:,2].ravel(), '.')"
   ]
  },
  {
   "cell_type": "code",
   "execution_count": 158,
   "metadata": {},
   "outputs": [
    {
     "data": {
      "text/plain": [
       "(True, 500)"
      ]
     },
     "execution_count": 158,
     "metadata": {},
     "output_type": "execute_result"
    }
   ],
   "source": [
    "solver.params[\"ArtificialViscosity\"], solver.params[\"AVParameter\"]"
   ]
  },
  {
   "cell_type": "code",
   "execution_count": 5,
   "metadata": {},
   "outputs": [
    {
     "ename": "TypeError",
     "evalue": "<lambda>() missing 1 required positional argument: 'name'",
     "output_type": "error",
     "traceback": [
      "\u001b[1;31m---------------------------------------------------------------------------\u001b[0m",
      "\u001b[1;31mTypeError\u001b[0m                                 Traceback (most recent call last)",
      "\u001b[1;32mc:\\Users\\Fredric\\Documents\\Volcano\\quail_volcano\\scenarios\\inspector.ipynb Cell 4\u001b[0m in \u001b[0;36m<cell line: 2>\u001b[1;34m()\u001b[0m\n\u001b[0;32m      <a href='vscode-notebook-cell:/c%3A/Users/Fredric/Documents/Volcano/quail_volcano/scenarios/inspector.ipynb#W3sZmlsZQ%3D%3D?line=0'>1</a>\u001b[0m get_var \u001b[39m=\u001b[39m \u001b[39mlambda\u001b[39;00m coeffs, name: solver\u001b[39m.\u001b[39mphysics\u001b[39m.\u001b[39mcompute_variable(name, solver\u001b[39m.\u001b[39mstate_coeffs)\n\u001b[1;32m----> <a href='vscode-notebook-cell:/c%3A/Users/Fredric/Documents/Volcano/quail_volcano/scenarios/inspector.ipynb#W3sZmlsZQ%3D%3D?line=1'>2</a>\u001b[0m get_var(\u001b[39m\"\u001b[39;49m\u001b[39mPressure\u001b[39;49m\u001b[39m\"\u001b[39;49m)\n",
      "\u001b[1;31mTypeError\u001b[0m: <lambda>() missing 1 required positional argument: 'name'"
     ]
    }
   ],
   "source": [
    "get_var = lambda name: solver.physics.compute_variable(name, solver.state_coeffs)\n",
    "plt.plot(get_var(\"Pressure\"))"
   ]
  }
 ],
 "metadata": {
  "kernelspec": {
   "display_name": "Python 3.9.1 64-bit",
   "language": "python",
   "name": "python3"
  },
  "language_info": {
   "codemirror_mode": {
    "name": "ipython",
    "version": 3
   },
   "file_extension": ".py",
   "mimetype": "text/x-python",
   "name": "python",
   "nbconvert_exporter": "python",
   "pygments_lexer": "ipython3",
   "version": "3.9.1"
  },
  "orig_nbformat": 4,
  "vscode": {
   "interpreter": {
    "hash": "81794d4967e6c3204c66dcd87b604927b115b27c00565d3d43f05ba2f3a2cb0d"
   }
  }
 },
 "nbformat": 4,
 "nbformat_minor": 2
}
