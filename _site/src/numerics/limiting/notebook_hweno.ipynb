{
 "cells": [
  {
   "cell_type": "code",
   "execution_count": 1,
   "metadata": {},
   "outputs": [],
   "source": [
    "# Config\n",
    "import copy\n",
    "import os\n",
    "import numpy as np\n",
    "from numpy.linalg import norm\n",
    "import matplotlib\n",
    "import matplotlib.pyplot as plt\n",
    "\n",
    "# Path for ffmpeg (if animations are needed)\n",
    "plt.rcParams['animation.ffmpeg_path'] = \"C:\\\\Users\\\\Fredric\\\\Documents\\\\ffmpeg\\\\ffmpeg-n4.4-latest-win64-gpl-4.4\\\\bin\\\\ffmpeg.exe\"\n",
    "\n",
    "# Path for .pkl files output\n",
    "target_dir = \"C:\\\\Users\\\\Fredric\\\\Documents\\\\Volcano\\\\quail_volcano\\\\scenarios\\\\tungurahua\\\\\"\n",
    "\n",
    "# Path for Quail source code\n",
    "source_dir = \"C:\\\\Users\\\\Fredric\\\\Documents\\\\Volcano\\\\quail_volcano\\\\src\\\\\"\n",
    "\n",
    "# Path for Quail entry point\n",
    "quail_path = os.path.join(source_dir, \"quail\")\n",
    "\n",
    "# Name of file to run (must be located in target_dir)\n",
    "target_file = \"conduit_p.py\""
   ]
  },
  {
   "cell_type": "code",
   "execution_count": 2,
   "metadata": {},
   "outputs": [],
   "source": [
    "%load_ext autoreload\n",
    "%autoreload 2\n",
    "\n",
    "# Import quail modules\n",
    "os.chdir(source_dir)\n",
    "import argparse\n",
    "import importlib\n",
    "import sys\n",
    "\n",
    "import defaultparams as default_deck\n",
    "import errors\n",
    "from general import ShapeType, SolverType, PhysicsType\n",
    "\n",
    "import meshing.common as mesh_common\n",
    "import meshing.gmsh as mesh_gmsh\n",
    "import meshing.tools as mesh_tools\n",
    "\n",
    "import numerics.helpers.helpers as helpers\n",
    "import numerics.timestepping.tools as stepper_tools\n",
    "\n",
    "import physics.zerodimensional.zerodimensional as zerod\n",
    "import physics.euler.euler as euler\n",
    "import physics.navierstokes.navierstokes as navierstokes\n",
    "import physics.scalar.scalar as scalar\n",
    "import physics.chemistry.chemistry as chemistry\n",
    "import physics.multiphasevpT.multiphasevpT as multiphasevpT\n",
    "\n",
    "import processing.readwritedatafiles as readwritedatafiles\n",
    "import processing.post as post\n",
    "import processing.plot as plot\n",
    "import processing\n",
    "import processing.mdtools as mdtools\n",
    "\n",
    "import solver.DG as DG\n",
    "import solver.ADERDG as ADERDG\n",
    "import solver.tools as solver_tools\n",
    "\n",
    "import time\n",
    "import multiprocessing as mp\n",
    "from multidomain import Domain, Observer\n",
    "\n",
    "os.chdir(target_dir)"
   ]
  },
  {
   "cell_type": "code",
   "execution_count": 137,
   "metadata": {},
   "outputs": [],
   "source": [
    "# Take sample\n",
    "# solver1D_from = lambda i: readwritedatafiles.read_data_file(\n",
    "  # f\"tung_conduit1_{i}.pkl\")\n",
    "# solver2D_from = lambda i, j: readwritedatafiles.read_data_file(\n",
    "  # f\"tung_atm{j}_{i}.pkl\")\n",
    "solver1D_from = lambda i: readwritedatafiles.read_data_file(\n",
    "  f\"featuretest_conduit1_{i}.pkl\")\n",
    "solver = solver1D_from(1)"
   ]
  },
  {
   "cell_type": "code",
   "execution_count": null,
   "metadata": {},
   "outputs": [],
   "source": [
    "solver\n",
    "''' KXRCF detector? '''\n",
    "# Relative inflow boundary integration, interior\n",
    "\n",
    "# Relative inflow boundary integration, neighbour\n",
    "\n",
    "# Abs diff\n",
    "\n",
    "# Interior integration\n",
    "\n",
    "# Relative inflow boundary measure\n",
    "\n",
    "# Mesh size scale\n",
    "dx = solver.mesh.node_coords[1] - solver.mesh.node_coords[0]\n",
    "k = solver.order\n",
    "sc = dx ** (0.5*(k+1))"
   ]
  },
  {
   "cell_type": "code",
   "execution_count": 87,
   "metadata": {},
   "outputs": [],
   "source": [
    "U = solver.state_coeffs\n",
    "U_elem_faces = helpers.evaluate_state(U, lll.basis_val_elem_faces, \n",
    "  skip_interp=solver.basis.skip_interp)\n",
    "nq_elem = lll.quad_wts_elem.shape[0]\n",
    "U_elem = U_elem_faces[:, :nq_elem, :]\n",
    "U_face = U_elem_faces[:, nq_elem:, :]\n",
    "U_bar = lambda U: helpers.get_element_mean(U_elem, lll.quad_wts_elem, lll.djac_elems, lll.elem_vols)\n",
    "# U_bar(solver.state_coeffs[0:2,:,:])\n"
   ]
  },
  {
   "cell_type": "code",
   "execution_count": 59,
   "metadata": {},
   "outputs": [
    {
     "data": {
      "text/plain": [
       "array([[ 0.9  , -0.15 ,  0.3  ],\n",
       "       [-0.15 ,  0.225, -0.15 ],\n",
       "       [ 0.3  , -0.15 ,  0.9  ]])"
      ]
     },
     "execution_count": 59,
     "metadata": {},
     "output_type": "execute_result"
    }
   ],
   "source": [
    "# Inverse mass matrix\n",
    "solver.elem_helpers.iMM_elems[0,]"
   ]
  },
  {
   "cell_type": "code",
   "execution_count": 86,
   "metadata": {},
   "outputs": [
    {
     "data": {
      "text/plain": [
       "{'pDensityA': 0,\n",
       " 'pDensityWv': 1,\n",
       " 'pDensityM': 2,\n",
       " 'XMomentum': 3,\n",
       " 'Energy': 4,\n",
       " 'pDensityWt': 5,\n",
       " 'pDensityC': 6,\n",
       " 'pDensityFm': 7}"
      ]
     },
     "execution_count": 86,
     "metadata": {},
     "output_type": "execute_result"
    }
   ],
   "source": [
    "physics = solver.physics\n",
    "physics.state_indices\n",
    "# physics.NUM_STATE_VARS, physics.NDIMS"
   ]
  },
  {
   "cell_type": "code",
   "execution_count": 252,
   "metadata": {},
   "outputs": [
    {
     "data": {
      "text/plain": [
       "(False, array([78, 79, 80, 81, 82, 83], dtype=int64), 1.360664577402258e-05)"
      ]
     },
     "execution_count": 252,
     "metadata": {},
     "output_type": "execute_result"
    },
    {
     "data": {
      "image/png": "[encoded data removed]",
      "text/plain": [
       "<Figure size 432x288 with 1 Axes>"
      ]
     },
     "metadata": {
      "needs_background": "light"
     },
     "output_type": "display_data"
    }
   ],
   "source": [
    "solver = solver1D_from(1)\n",
    "\n",
    "from numerics.limiting.hwenolimiter import HWENO\n",
    "# Simulate limiter\n",
    "lll = HWENO(0)\n",
    "lll.precompute_helpers(solver)\n",
    "# ll.get_nonlinearwts(solver.order, p, [1e-3, 1-2e-3, 1e-3]], basis_phys_grad, quad_wts, \n",
    "\t\t\t# vols, djacs):\n",
    "# Package locals\n",
    "from numerics.limiting.tools import minmod_shock_indicator\n",
    "class HWENOLoc:\n",
    "  pass\n",
    "hwl = HWENOLoc()\n",
    "lll.shock_indicator = minmod_shock_indicator\n",
    "lll.tvb_param = 1e-6\n",
    "\n",
    "Vc = np.einsum('elij, elj -> eli', lll.left_eigen, U)\n",
    "shock_indicated = lll.shock_indicator(lll, solver, U)\n",
    "shock_indicated\n",
    "\n",
    "\n",
    "\n",
    "# Try limiter\n",
    "U0 = solver.state_coeffs.copy()\n",
    "Uc = U0.copy()\n",
    "# Modifies in-place\n",
    "Uc = lll.limit_solution(solver, Uc)\n",
    "\n",
    "# Plot solution\n",
    "# plt.plot(Uc[...,0].ravel(), '^')\n",
    "plt.plot(solver.state_coeffs[...,4].ravel(), '.')\n",
    "\n",
    "\n",
    "np.all(Uc == U0), shock_indicated, np.linalg.norm((Uc-U0)[...,0].ravel())"
   ]
  },
  {
   "cell_type": "code",
   "execution_count": 213,
   "metadata": {},
   "outputs": [
    {
     "data": {
      "text/plain": [
       "[<matplotlib.lines.Line2D at 0x1ca6175fca0>]"
      ]
     },
     "execution_count": 213,
     "metadata": {},
     "output_type": "execute_result"
    },
    {
     "data": {
      "image/png": "[encoded data removed]",
      "text/plain": [
       "<Figure size 432x288 with 1 Axes>"
      ]
     },
     "metadata": {
      "needs_background": "light"
     },
     "output_type": "display_data"
    }
   ],
   "source": [
    "plt.plot((Uc/U0-1)[...,4].ravel(), '.')\n",
    "plt.plot(U0[...,4].ravel()/U0.max())\n",
    "# plt.plot(Uc[...,4].ravel(), '.')\n",
    "# U0.max()"
   ]
  },
  {
   "cell_type": "code",
   "execution_count": 154,
   "metadata": {},
   "outputs": [
    {
     "data": {
      "text/plain": [
       "array([79, 80, 81], dtype=int64)"
      ]
     },
     "execution_count": 154,
     "metadata": {},
     "output_type": "execute_result"
    }
   ],
   "source": []
  },
  {
   "cell_type": "code",
   "execution_count": 112,
   "metadata": {},
   "outputs": [
    {
     "data": {
      "text/plain": [
       "(array([[[[ 5.859295709613514e+05, -5.746504144254588e+05,\n",
       "           -5.154244565473484e-03, ...,  0.000000000000000e+00,\n",
       "            0.000000000000000e+00,  0.000000000000000e+00],\n",
       "          [-3.708999391844238e+05,  3.596207826485313e+05,\n",
       "            5.154244565473484e-03, ...,  0.000000000000000e+00,\n",
       "            0.000000000000000e+00,  0.000000000000000e+00],\n",
       "          [-2.150296317769275e+05,  0.000000000000000e+00,\n",
       "            0.000000000000000e+00, ...,  0.000000000000000e+00,\n",
       "            0.000000000000000e+00,  0.000000000000000e+00],\n",
       "          ...,\n",
       "          [ 0.000000000000000e+00,  0.000000000000000e+00,\n",
       "            0.000000000000000e+00, ...,  1.000000000000000e+00,\n",
       "            0.000000000000000e+00,  0.000000000000000e+00],\n",
       "          [ 0.000000000000000e+00,  0.000000000000000e+00,\n",
       "            0.000000000000000e+00, ...,  0.000000000000000e+00,\n",
       "            1.000000000000000e+00,  0.000000000000000e+00],\n",
       "          [ 0.000000000000000e+00,  0.000000000000000e+00,\n",
       "            0.000000000000000e+00, ...,  0.000000000000000e+00,\n",
       "            0.000000000000000e+00,  1.000000000000000e+00]]],\n",
       " \n",
       " \n",
       "        [[[ 5.847295287041346e+05, -5.734084211456958e+05,\n",
       "           -5.154110992428125e-03, ...,  0.000000000000000e+00,\n",
       "            0.000000000000000e+00,  0.000000000000000e+00],\n",
       "          [-3.701692488104967e+05,  3.588481412520579e+05,\n",
       "            5.154110992428125e-03, ...,  0.000000000000000e+00,\n",
       "            0.000000000000000e+00,  0.000000000000000e+00],\n",
       "          [-2.145602798936380e+05,  0.000000000000000e+00,\n",
       "            0.000000000000000e+00, ...,  0.000000000000000e+00,\n",
       "            0.000000000000000e+00,  0.000000000000000e+00],\n",
       "          ...,\n",
       "          [ 0.000000000000000e+00,  0.000000000000000e+00,\n",
       "            0.000000000000000e+00, ...,  1.000000000000000e+00,\n",
       "            0.000000000000000e+00,  0.000000000000000e+00],\n",
       "          [ 0.000000000000000e+00,  0.000000000000000e+00,\n",
       "            0.000000000000000e+00, ...,  0.000000000000000e+00,\n",
       "            1.000000000000000e+00,  0.000000000000000e+00],\n",
       "          [ 0.000000000000000e+00,  0.000000000000000e+00,\n",
       "            0.000000000000000e+00, ...,  0.000000000000000e+00,\n",
       "            0.000000000000000e+00,  1.000000000000000e+00]]],\n",
       " \n",
       " \n",
       "        [[[ 5.841123789381022e+05, -5.727693972409115e+05,\n",
       "           -5.154172297966777e-03, ...,  0.000000000000000e+00,\n",
       "            0.000000000000000e+00,  0.000000000000000e+00],\n",
       "          [-3.697936429418195e+05,  3.584506612446288e+05,\n",
       "            5.154172297966777e-03, ...,  0.000000000000000e+00,\n",
       "            0.000000000000000e+00,  0.000000000000000e+00],\n",
       "          [-2.143187359962827e+05,  0.000000000000000e+00,\n",
       "            0.000000000000000e+00, ...,  0.000000000000000e+00,\n",
       "            0.000000000000000e+00,  0.000000000000000e+00],\n",
       "          ...,\n",
       "          [ 0.000000000000000e+00,  0.000000000000000e+00,\n",
       "            0.000000000000000e+00, ...,  1.000000000000000e+00,\n",
       "            0.000000000000000e+00,  0.000000000000000e+00],\n",
       "          [ 0.000000000000000e+00,  0.000000000000000e+00,\n",
       "            0.000000000000000e+00, ...,  0.000000000000000e+00,\n",
       "            1.000000000000000e+00,  0.000000000000000e+00],\n",
       "          [ 0.000000000000000e+00,  0.000000000000000e+00,\n",
       "            0.000000000000000e+00, ...,  0.000000000000000e+00,\n",
       "            0.000000000000000e+00,  1.000000000000000e+00]]],\n",
       " \n",
       " \n",
       "        ...,\n",
       " \n",
       " \n",
       "        [[[ 2.761144791793767e+05,  7.906588827398002e+04,\n",
       "           -3.981329445524560e-01, ...,  0.000000000000000e+00,\n",
       "            0.000000000000000e+00,  0.000000000000000e+00],\n",
       "          [-3.555787596972325e+05,  3.983922438757660e+02,\n",
       "            3.981329445524560e-01, ...,  0.000000000000000e+00,\n",
       "            0.000000000000000e+00,  0.000000000000000e+00],\n",
       "          [ 7.946428051785579e+04,  0.000000000000000e+00,\n",
       "            0.000000000000000e+00, ...,  0.000000000000000e+00,\n",
       "            0.000000000000000e+00,  0.000000000000000e+00],\n",
       "          ...,\n",
       "          [ 0.000000000000000e+00,  0.000000000000000e+00,\n",
       "            0.000000000000000e+00, ...,  1.000000000000000e+00,\n",
       "            0.000000000000000e+00,  0.000000000000000e+00],\n",
       "          [ 0.000000000000000e+00,  0.000000000000000e+00,\n",
       "            0.000000000000000e+00, ...,  0.000000000000000e+00,\n",
       "            1.000000000000000e+00,  0.000000000000000e+00],\n",
       "          [ 0.000000000000000e+00,  0.000000000000000e+00,\n",
       "            0.000000000000000e+00, ...,  0.000000000000000e+00,\n",
       "            0.000000000000000e+00,  1.000000000000000e+00]]],\n",
       " \n",
       " \n",
       "        [[[ 2.754271880407151e+05,  7.886910983451124e+04,\n",
       "           -3.981329444840970e-01, ...,  0.000000000000000e+00,\n",
       "            0.000000000000000e+00,  0.000000000000000e+00],\n",
       "          [-3.546936986198327e+05,  3.974007446063109e+02,\n",
       "            3.981329444840970e-01, ...,  0.000000000000000e+00,\n",
       "            0.000000000000000e+00,  0.000000000000000e+00],\n",
       "          [ 7.926651057911754e+04,  0.000000000000000e+00,\n",
       "            0.000000000000000e+00, ...,  0.000000000000000e+00,\n",
       "            0.000000000000000e+00,  0.000000000000000e+00],\n",
       "          ...,\n",
       "          [ 0.000000000000000e+00,  0.000000000000000e+00,\n",
       "            0.000000000000000e+00, ...,  1.000000000000000e+00,\n",
       "            0.000000000000000e+00,  0.000000000000000e+00],\n",
       "          [ 0.000000000000000e+00,  0.000000000000000e+00,\n",
       "            0.000000000000000e+00, ...,  0.000000000000000e+00,\n",
       "            1.000000000000000e+00,  0.000000000000000e+00],\n",
       "          [ 0.000000000000000e+00,  0.000000000000000e+00,\n",
       "            0.000000000000000e+00, ...,  0.000000000000000e+00,\n",
       "            0.000000000000000e+00,  1.000000000000000e+00]]],\n",
       " \n",
       " \n",
       "        [[[ 2.842589151854088e+05,  8.139773934586557e+04,\n",
       "           -3.981329453632146e-01, ...,  0.000000000000000e+00,\n",
       "            0.000000000000000e+00,  0.000000000000000e+00],\n",
       "          [-3.660667961700773e+05,  4.101416388029444e+02,\n",
       "            3.981329453632146e-01, ...,  0.000000000000000e+00,\n",
       "            0.000000000000000e+00,  0.000000000000000e+00],\n",
       "          [ 8.180788098466852e+04,  0.000000000000000e+00,\n",
       "            0.000000000000000e+00, ...,  0.000000000000000e+00,\n",
       "            0.000000000000000e+00,  0.000000000000000e+00],\n",
       "          ...,\n",
       "          [ 0.000000000000000e+00,  0.000000000000000e+00,\n",
       "            0.000000000000000e+00, ...,  1.000000000000000e+00,\n",
       "            0.000000000000000e+00,  0.000000000000000e+00],\n",
       "          [ 0.000000000000000e+00,  0.000000000000000e+00,\n",
       "            0.000000000000000e+00, ...,  0.000000000000000e+00,\n",
       "            1.000000000000000e+00,  0.000000000000000e+00],\n",
       "          [ 0.000000000000000e+00,  0.000000000000000e+00,\n",
       "            0.000000000000000e+00, ...,  0.000000000000000e+00,\n",
       "            0.000000000000000e+00,  1.000000000000000e+00]]]]),\n",
       " array([[[[ 8.370210826592890e-05,  1.337504769560199e-04,\n",
       "           -7.275757164864521e-06, ...,  0.000000000000000e+00,\n",
       "            0.000000000000000e+00,  0.000000000000000e+00],\n",
       "          [ 8.130394863433462e-05,  1.326990821412099e-04,\n",
       "           -7.346400317808133e-06, ...,  0.000000000000000e+00,\n",
       "            0.000000000000000e+00,  0.000000000000000e+00],\n",
       "          [ 2.565360805280519e+02,  4.099278242637704e+02,\n",
       "           -8.046004986523865e+00, ...,  0.000000000000000e+00,\n",
       "            0.000000000000000e+00,  0.000000000000000e+00],\n",
       "          ...,\n",
       "          [-7.393080296720392e-01, -1.181365729523799e+00,\n",
       "            2.318769073693090e-02, ...,  1.000000000000000e+00,\n",
       "            0.000000000000000e+00,  0.000000000000000e+00],\n",
       "          [-5.709123891295865e-04, -9.122805434393037e-04,\n",
       "            1.790612219225010e-05, ...,  0.000000000000000e+00,\n",
       "            1.000000000000000e+00,  0.000000000000000e+00],\n",
       "          [-5.709123901556019e-04, -9.122805450788089e-04,\n",
       "            1.790612222443010e-05, ...,  0.000000000000000e+00,\n",
       "            0.000000000000000e+00,  1.000000000000000e+00]]],\n",
       " \n",
       " \n",
       "        [[[ 8.388228957625105e-05,  1.340366737310152e-04,\n",
       "           -7.307052257294328e-06, ...,  0.000000000000000e+00,\n",
       "            0.000000000000000e+00,  0.000000000000000e+00],\n",
       "          [ 8.148363453597002e-05,  1.329905236848942e-04,\n",
       "           -7.378416139366257e-06, ...,  0.000000000000000e+00,\n",
       "            0.000000000000000e+00,  0.000000000000000e+00],\n",
       "          [ 2.570970078958204e+02,  4.108188741467982e+02,\n",
       "           -8.111015621300984e+00, ...,  0.000000000000000e+00,\n",
       "            0.000000000000000e+00,  0.000000000000000e+00],\n",
       "          ...,\n",
       "          [-7.393237732812414e-01, -1.181375709916177e+00,\n",
       "            2.332452956631345e-02, ...,  1.000000000000000e+00,\n",
       "            0.000000000000000e+00,  0.000000000000000e+00],\n",
       "          [-5.709245467434389e-04, -9.122882505511270e-04,\n",
       "            1.801179260278674e-05, ...,  0.000000000000000e+00,\n",
       "            1.000000000000000e+00,  0.000000000000000e+00],\n",
       "          [-5.709245870807194e-04, -9.122883150066268e-04,\n",
       "            1.801179387536599e-05, ...,  0.000000000000000e+00,\n",
       "            0.000000000000000e+00,  1.000000000000000e+00]]],\n",
       " \n",
       " \n",
       "        [[[ 8.397313037793667e-05,  1.341809193599964e-04,\n",
       "           -7.323232960401436e-06, ...,  0.000000000000000e+00,\n",
       "            0.000000000000000e+00,  0.000000000000000e+00],\n",
       "          [ 8.157422597774909e-05,  1.331374869778790e-04,\n",
       "           -7.394972345297218e-06, ...,  0.000000000000000e+00,\n",
       "            0.000000000000000e+00,  0.000000000000000e+00],\n",
       "          [ 2.573801811828883e+02,  4.112685710384886e+02,\n",
       "           -8.144659781741124e+00, ...,  0.000000000000000e+00,\n",
       "            0.000000000000000e+00,  0.000000000000000e+00],\n",
       "          ...,\n",
       "          [-7.393131163859525e-01, -1.181350667831343e+00,\n",
       "            2.339517277131486e-02, ...,  1.000000000000000e+00,\n",
       "            0.000000000000000e+00,  0.000000000000000e+00],\n",
       "          [-5.709163172189295e-04, -9.122689124188359e-04,\n",
       "            1.806634507526701e-05, ...,  0.000000000000000e+00,\n",
       "            1.000000000000000e+00,  0.000000000000000e+00],\n",
       "          [-5.709178253114781e-04, -9.122713222044869e-04,\n",
       "            1.806639279805853e-05, ...,  0.000000000000000e+00,\n",
       "            0.000000000000000e+00,  1.000000000000000e+00]]],\n",
       " \n",
       " \n",
       "        ...,\n",
       " \n",
       " \n",
       "        [[[-3.821970870064268e-13,  7.132024556948804e-11,\n",
       "            1.258459095052025e-05, ...,  0.000000000000000e+00,\n",
       "            0.000000000000000e+00,  0.000000000000000e+00],\n",
       "          [ 1.253973722780361e-05,  2.089444083438071e-05,\n",
       "            4.992452353310648e-05, ...,  0.000000000000000e+00,\n",
       "            0.000000000000000e+00,  0.000000000000000e+00],\n",
       "          [-1.259246644872133e-02,  2.499131347941924e+00,\n",
       "            1.122661630512435e+01, ...,  0.000000000000000e+00,\n",
       "            0.000000000000000e+00,  0.000000000000000e+00],\n",
       "          ...,\n",
       "          [-1.234865056617530e-05,  3.290610658807952e-03,\n",
       "            1.476740102946492e-02, ...,  1.000000000000000e+00,\n",
       "            0.000000000000000e+00,  0.000000000000000e+00],\n",
       "          [-1.063621926457822e-08,  2.834289973133467e-06,\n",
       "            1.271955299695515e-05, ...,  0.000000000000000e+00,\n",
       "            1.000000000000000e+00,  0.000000000000000e+00],\n",
       "          [-1.105439998117860e-08,  2.945724815019948e-06,\n",
       "            1.321964345718262e-05, ...,  0.000000000000000e+00,\n",
       "            0.000000000000000e+00,  1.000000000000000e+00]]],\n",
       " \n",
       " \n",
       "        [[[-4.394695177592986e-13,  7.144234272408707e-11,\n",
       "            1.261598944982555e-05, ...,  0.000000000000000e+00,\n",
       "            0.000000000000000e+00,  0.000000000000000e+00],\n",
       "          [ 1.256446198638860e-05,  2.094001057659242e-05,\n",
       "            5.004251275114814e-05, ...,  0.000000000000000e+00,\n",
       "            0.000000000000000e+00,  0.000000000000000e+00],\n",
       "          [-1.259246693907900e-02,  2.499131347882364e+00,\n",
       "            1.122661313554944e+01, ...,  0.000000000000000e+00,\n",
       "            0.000000000000000e+00,  0.000000000000000e+00],\n",
       "          ...,\n",
       "          [-1.937066897734557e-06,  3.301022241952613e-03,\n",
       "            1.477780844085486e-02, ...,  1.000000000000000e+00,\n",
       "            0.000000000000000e+00,  0.000000000000000e+00],\n",
       "          [-1.668446940339844e-09,  2.843257745006560e-06,\n",
       "            1.272851717558559e-05, ...,  0.000000000000000e+00,\n",
       "            1.000000000000000e+00,  0.000000000000000e+00],\n",
       "          [-1.734093827733910e-09,  2.955128860896366e-06,\n",
       "            1.322933474042161e-05, ...,  0.000000000000000e+00,\n",
       "            0.000000000000000e+00,  1.000000000000000e+00]]],\n",
       " \n",
       " \n",
       "        [[[-6.737713529722931e-13,  6.896916692831566e-11,\n",
       "            1.222407214086011e-05, ...,  0.000000000000000e+00,\n",
       "            0.000000000000000e+00,  0.000000000000000e+00],\n",
       "          [ 1.214524786717343e-05,  2.026060917913410e-05,\n",
       "            4.845916138595511e-05, ...,  0.000000000000000e+00,\n",
       "            0.000000000000000e+00,  0.000000000000000e+00],\n",
       "          [-1.259246059581075e-02,  2.499131348892772e+00,\n",
       "            1.122665095625667e+01, ...,  0.000000000000000e+00,\n",
       "            0.000000000000000e+00,  0.000000000000000e+00],\n",
       "          ...,\n",
       "          [ 4.538445666951811e-05,  3.348343772610139e-03,\n",
       "            1.482517975405767e-02, ...,  1.000000000000000e+00,\n",
       "            0.000000000000000e+00,  0.000000000000000e+00],\n",
       "          [ 3.909083261801738e-08,  2.884017030671959e-06,\n",
       "            1.276931934027364e-05, ...,  0.000000000000000e+00,\n",
       "            1.000000000000000e+00,  0.000000000000000e+00],\n",
       "          [ 4.062667235847922e-08,  2.997327177098290e-06,\n",
       "            1.327101313362612e-05, ...,  0.000000000000000e+00,\n",
       "            0.000000000000000e+00,  1.000000000000000e+00]]]]))"
      ]
     },
     "execution_count": 112,
     "metadata": {},
     "output_type": "execute_result"
    }
   ],
   "source": [
    "# Set example coefficients\n",
    "U = solver.state_coeffs\n",
    "U_elem_faces = helpers.evaluate_state(U, lll.basis_val_elem_faces, \n",
    "  skip_interp=solver.basis.skip_interp)\n",
    "nq_elem = lll.quad_wts_elem.shape[0]\n",
    "U_elem = U_elem_faces[:, :nq_elem, :]\n",
    "U_face = U_elem_faces[:, nq_elem:, :]\n",
    "elt_mean_from = lambda U: helpers.get_element_mean(U_elem, lll.quad_wts_elem, lll.djac_elems, lll.elem_vols)\n",
    "# U_bar(solver.state_coeffs[0:2,:,:])\n",
    "\n",
    "get_eigenvector_function = getattr(physics, \n",
    "\t\t\t\t\"get_conv_eigenvectors\", None)\n",
    "physics.get_conv_eigenvectors(elt_mean_from(U))\n",
    "\n"
   ]
  },
  {
   "cell_type": "code",
   "execution_count": 111,
   "metadata": {},
   "outputs": [
    {
     "data": {
      "text/plain": [
       "(array([[[[ 5.859295709613514e+05, -5.746504144254588e+05,\n",
       "           -5.154244565473484e-03, ...,  0.000000000000000e+00,\n",
       "            0.000000000000000e+00,  0.000000000000000e+00],\n",
       "          [-3.708999391844238e+05,  3.596207826485313e+05,\n",
       "            5.154244565473484e-03, ...,  0.000000000000000e+00,\n",
       "            0.000000000000000e+00,  0.000000000000000e+00],\n",
       "          [-2.150296317769275e+05,  0.000000000000000e+00,\n",
       "            0.000000000000000e+00, ...,  0.000000000000000e+00,\n",
       "            0.000000000000000e+00,  0.000000000000000e+00],\n",
       "          ...,\n",
       "          [ 0.000000000000000e+00,  0.000000000000000e+00,\n",
       "            0.000000000000000e+00, ...,  1.000000000000000e+00,\n",
       "            0.000000000000000e+00,  0.000000000000000e+00],\n",
       "          [ 0.000000000000000e+00,  0.000000000000000e+00,\n",
       "            0.000000000000000e+00, ...,  0.000000000000000e+00,\n",
       "            1.000000000000000e+00,  0.000000000000000e+00],\n",
       "          [ 0.000000000000000e+00,  0.000000000000000e+00,\n",
       "            0.000000000000000e+00, ...,  0.000000000000000e+00,\n",
       "            0.000000000000000e+00,  1.000000000000000e+00]]],\n",
       " \n",
       " \n",
       "        [[[ 5.847295287041346e+05, -5.734084211456958e+05,\n",
       "           -5.154110992428125e-03, ...,  0.000000000000000e+00,\n",
       "            0.000000000000000e+00,  0.000000000000000e+00],\n",
       "          [-3.701692488104967e+05,  3.588481412520579e+05,\n",
       "            5.154110992428125e-03, ...,  0.000000000000000e+00,\n",
       "            0.000000000000000e+00,  0.000000000000000e+00],\n",
       "          [-2.145602798936380e+05,  0.000000000000000e+00,\n",
       "            0.000000000000000e+00, ...,  0.000000000000000e+00,\n",
       "            0.000000000000000e+00,  0.000000000000000e+00],\n",
       "          ...,\n",
       "          [ 0.000000000000000e+00,  0.000000000000000e+00,\n",
       "            0.000000000000000e+00, ...,  1.000000000000000e+00,\n",
       "            0.000000000000000e+00,  0.000000000000000e+00],\n",
       "          [ 0.000000000000000e+00,  0.000000000000000e+00,\n",
       "            0.000000000000000e+00, ...,  0.000000000000000e+00,\n",
       "            1.000000000000000e+00,  0.000000000000000e+00],\n",
       "          [ 0.000000000000000e+00,  0.000000000000000e+00,\n",
       "            0.000000000000000e+00, ...,  0.000000000000000e+00,\n",
       "            0.000000000000000e+00,  1.000000000000000e+00]]],\n",
       " \n",
       " \n",
       "        [[[ 5.841123789381022e+05, -5.727693972409115e+05,\n",
       "           -5.154172297966777e-03, ...,  0.000000000000000e+00,\n",
       "            0.000000000000000e+00,  0.000000000000000e+00],\n",
       "          [-3.697936429418195e+05,  3.584506612446288e+05,\n",
       "            5.154172297966777e-03, ...,  0.000000000000000e+00,\n",
       "            0.000000000000000e+00,  0.000000000000000e+00],\n",
       "          [-2.143187359962827e+05,  0.000000000000000e+00,\n",
       "            0.000000000000000e+00, ...,  0.000000000000000e+00,\n",
       "            0.000000000000000e+00,  0.000000000000000e+00],\n",
       "          ...,\n",
       "          [ 0.000000000000000e+00,  0.000000000000000e+00,\n",
       "            0.000000000000000e+00, ...,  1.000000000000000e+00,\n",
       "            0.000000000000000e+00,  0.000000000000000e+00],\n",
       "          [ 0.000000000000000e+00,  0.000000000000000e+00,\n",
       "            0.000000000000000e+00, ...,  0.000000000000000e+00,\n",
       "            1.000000000000000e+00,  0.000000000000000e+00],\n",
       "          [ 0.000000000000000e+00,  0.000000000000000e+00,\n",
       "            0.000000000000000e+00, ...,  0.000000000000000e+00,\n",
       "            0.000000000000000e+00,  1.000000000000000e+00]]],\n",
       " \n",
       " \n",
       "        ...,\n",
       " \n",
       " \n",
       "        [[[ 2.761144791793767e+05,  7.906588827398002e+04,\n",
       "           -3.981329445524560e-01, ...,  0.000000000000000e+00,\n",
       "            0.000000000000000e+00,  0.000000000000000e+00],\n",
       "          [-3.555787596972325e+05,  3.983922438757660e+02,\n",
       "            3.981329445524560e-01, ...,  0.000000000000000e+00,\n",
       "            0.000000000000000e+00,  0.000000000000000e+00],\n",
       "          [ 7.946428051785579e+04,  0.000000000000000e+00,\n",
       "            0.000000000000000e+00, ...,  0.000000000000000e+00,\n",
       "            0.000000000000000e+00,  0.000000000000000e+00],\n",
       "          ...,\n",
       "          [ 0.000000000000000e+00,  0.000000000000000e+00,\n",
       "            0.000000000000000e+00, ...,  1.000000000000000e+00,\n",
       "            0.000000000000000e+00,  0.000000000000000e+00],\n",
       "          [ 0.000000000000000e+00,  0.000000000000000e+00,\n",
       "            0.000000000000000e+00, ...,  0.000000000000000e+00,\n",
       "            1.000000000000000e+00,  0.000000000000000e+00],\n",
       "          [ 0.000000000000000e+00,  0.000000000000000e+00,\n",
       "            0.000000000000000e+00, ...,  0.000000000000000e+00,\n",
       "            0.000000000000000e+00,  1.000000000000000e+00]]],\n",
       " \n",
       " \n",
       "        [[[ 2.754271880407151e+05,  7.886910983451124e+04,\n",
       "           -3.981329444840970e-01, ...,  0.000000000000000e+00,\n",
       "            0.000000000000000e+00,  0.000000000000000e+00],\n",
       "          [-3.546936986198327e+05,  3.974007446063109e+02,\n",
       "            3.981329444840970e-01, ...,  0.000000000000000e+00,\n",
       "            0.000000000000000e+00,  0.000000000000000e+00],\n",
       "          [ 7.926651057911754e+04,  0.000000000000000e+00,\n",
       "            0.000000000000000e+00, ...,  0.000000000000000e+00,\n",
       "            0.000000000000000e+00,  0.000000000000000e+00],\n",
       "          ...,\n",
       "          [ 0.000000000000000e+00,  0.000000000000000e+00,\n",
       "            0.000000000000000e+00, ...,  1.000000000000000e+00,\n",
       "            0.000000000000000e+00,  0.000000000000000e+00],\n",
       "          [ 0.000000000000000e+00,  0.000000000000000e+00,\n",
       "            0.000000000000000e+00, ...,  0.000000000000000e+00,\n",
       "            1.000000000000000e+00,  0.000000000000000e+00],\n",
       "          [ 0.000000000000000e+00,  0.000000000000000e+00,\n",
       "            0.000000000000000e+00, ...,  0.000000000000000e+00,\n",
       "            0.000000000000000e+00,  1.000000000000000e+00]]],\n",
       " \n",
       " \n",
       "        [[[ 2.842589151854088e+05,  8.139773934586557e+04,\n",
       "           -3.981329453632146e-01, ...,  0.000000000000000e+00,\n",
       "            0.000000000000000e+00,  0.000000000000000e+00],\n",
       "          [-3.660667961700773e+05,  4.101416388029444e+02,\n",
       "            3.981329453632146e-01, ...,  0.000000000000000e+00,\n",
       "            0.000000000000000e+00,  0.000000000000000e+00],\n",
       "          [ 8.180788098466852e+04,  0.000000000000000e+00,\n",
       "            0.000000000000000e+00, ...,  0.000000000000000e+00,\n",
       "            0.000000000000000e+00,  0.000000000000000e+00],\n",
       "          ...,\n",
       "          [ 0.000000000000000e+00,  0.000000000000000e+00,\n",
       "            0.000000000000000e+00, ...,  1.000000000000000e+00,\n",
       "            0.000000000000000e+00,  0.000000000000000e+00],\n",
       "          [ 0.000000000000000e+00,  0.000000000000000e+00,\n",
       "            0.000000000000000e+00, ...,  0.000000000000000e+00,\n",
       "            1.000000000000000e+00,  0.000000000000000e+00],\n",
       "          [ 0.000000000000000e+00,  0.000000000000000e+00,\n",
       "            0.000000000000000e+00, ...,  0.000000000000000e+00,\n",
       "            0.000000000000000e+00,  1.000000000000000e+00]]]]),\n",
       " array([[[[ 8.370210826592890e-05,  1.337504769560199e-04,\n",
       "           -7.275757164864521e-06, ...,  0.000000000000000e+00,\n",
       "            0.000000000000000e+00,  0.000000000000000e+00],\n",
       "          [ 8.130394863433462e-05,  1.326990821412099e-04,\n",
       "           -7.346400317808133e-06, ...,  0.000000000000000e+00,\n",
       "            0.000000000000000e+00,  0.000000000000000e+00],\n",
       "          [ 2.565360805280519e+02,  4.099278242637704e+02,\n",
       "           -8.046004986523865e+00, ...,  0.000000000000000e+00,\n",
       "            0.000000000000000e+00,  0.000000000000000e+00],\n",
       "          ...,\n",
       "          [-7.393080296720392e-01, -1.181365729523799e+00,\n",
       "            2.318769073693090e-02, ...,  1.000000000000000e+00,\n",
       "            0.000000000000000e+00,  0.000000000000000e+00],\n",
       "          [-5.709123891295865e-04, -9.122805434393037e-04,\n",
       "            1.790612219225010e-05, ...,  0.000000000000000e+00,\n",
       "            1.000000000000000e+00,  0.000000000000000e+00],\n",
       "          [-5.709123901556019e-04, -9.122805450788089e-04,\n",
       "            1.790612222443010e-05, ...,  0.000000000000000e+00,\n",
       "            0.000000000000000e+00,  1.000000000000000e+00]]],\n",
       " \n",
       " \n",
       "        [[[ 8.388228957625105e-05,  1.340366737310152e-04,\n",
       "           -7.307052257294328e-06, ...,  0.000000000000000e+00,\n",
       "            0.000000000000000e+00,  0.000000000000000e+00],\n",
       "          [ 8.148363453597002e-05,  1.329905236848942e-04,\n",
       "           -7.378416139366257e-06, ...,  0.000000000000000e+00,\n",
       "            0.000000000000000e+00,  0.000000000000000e+00],\n",
       "          [ 2.570970078958204e+02,  4.108188741467982e+02,\n",
       "           -8.111015621300984e+00, ...,  0.000000000000000e+00,\n",
       "            0.000000000000000e+00,  0.000000000000000e+00],\n",
       "          ...,\n",
       "          [-7.393237732812414e-01, -1.181375709916177e+00,\n",
       "            2.332452956631345e-02, ...,  1.000000000000000e+00,\n",
       "            0.000000000000000e+00,  0.000000000000000e+00],\n",
       "          [-5.709245467434389e-04, -9.122882505511270e-04,\n",
       "            1.801179260278674e-05, ...,  0.000000000000000e+00,\n",
       "            1.000000000000000e+00,  0.000000000000000e+00],\n",
       "          [-5.709245870807194e-04, -9.122883150066268e-04,\n",
       "            1.801179387536599e-05, ...,  0.000000000000000e+00,\n",
       "            0.000000000000000e+00,  1.000000000000000e+00]]],\n",
       " \n",
       " \n",
       "        [[[ 8.397313037793667e-05,  1.341809193599964e-04,\n",
       "           -7.323232960401436e-06, ...,  0.000000000000000e+00,\n",
       "            0.000000000000000e+00,  0.000000000000000e+00],\n",
       "          [ 8.157422597774909e-05,  1.331374869778790e-04,\n",
       "           -7.394972345297218e-06, ...,  0.000000000000000e+00,\n",
       "            0.000000000000000e+00,  0.000000000000000e+00],\n",
       "          [ 2.573801811828883e+02,  4.112685710384886e+02,\n",
       "           -8.144659781741124e+00, ...,  0.000000000000000e+00,\n",
       "            0.000000000000000e+00,  0.000000000000000e+00],\n",
       "          ...,\n",
       "          [-7.393131163859525e-01, -1.181350667831343e+00,\n",
       "            2.339517277131486e-02, ...,  1.000000000000000e+00,\n",
       "            0.000000000000000e+00,  0.000000000000000e+00],\n",
       "          [-5.709163172189295e-04, -9.122689124188359e-04,\n",
       "            1.806634507526701e-05, ...,  0.000000000000000e+00,\n",
       "            1.000000000000000e+00,  0.000000000000000e+00],\n",
       "          [-5.709178253114781e-04, -9.122713222044869e-04,\n",
       "            1.806639279805853e-05, ...,  0.000000000000000e+00,\n",
       "            0.000000000000000e+00,  1.000000000000000e+00]]],\n",
       " \n",
       " \n",
       "        ...,\n",
       " \n",
       " \n",
       "        [[[-3.821970870064268e-13,  7.132024556948804e-11,\n",
       "            1.258459095052025e-05, ...,  0.000000000000000e+00,\n",
       "            0.000000000000000e+00,  0.000000000000000e+00],\n",
       "          [ 1.253973722780361e-05,  2.089444083438071e-05,\n",
       "            4.992452353310648e-05, ...,  0.000000000000000e+00,\n",
       "            0.000000000000000e+00,  0.000000000000000e+00],\n",
       "          [-1.259246644872133e-02,  2.499131347941924e+00,\n",
       "            1.122661630512435e+01, ...,  0.000000000000000e+00,\n",
       "            0.000000000000000e+00,  0.000000000000000e+00],\n",
       "          ...,\n",
       "          [-1.234865056617530e-05,  3.290610658807952e-03,\n",
       "            1.476740102946492e-02, ...,  1.000000000000000e+00,\n",
       "            0.000000000000000e+00,  0.000000000000000e+00],\n",
       "          [-1.063621926457822e-08,  2.834289973133467e-06,\n",
       "            1.271955299695515e-05, ...,  0.000000000000000e+00,\n",
       "            1.000000000000000e+00,  0.000000000000000e+00],\n",
       "          [-1.105439998117860e-08,  2.945724815019948e-06,\n",
       "            1.321964345718262e-05, ...,  0.000000000000000e+00,\n",
       "            0.000000000000000e+00,  1.000000000000000e+00]]],\n",
       " \n",
       " \n",
       "        [[[-4.394695177592986e-13,  7.144234272408707e-11,\n",
       "            1.261598944982555e-05, ...,  0.000000000000000e+00,\n",
       "            0.000000000000000e+00,  0.000000000000000e+00],\n",
       "          [ 1.256446198638860e-05,  2.094001057659242e-05,\n",
       "            5.004251275114814e-05, ...,  0.000000000000000e+00,\n",
       "            0.000000000000000e+00,  0.000000000000000e+00],\n",
       "          [-1.259246693907900e-02,  2.499131347882364e+00,\n",
       "            1.122661313554944e+01, ...,  0.000000000000000e+00,\n",
       "            0.000000000000000e+00,  0.000000000000000e+00],\n",
       "          ...,\n",
       "          [-1.937066897734557e-06,  3.301022241952613e-03,\n",
       "            1.477780844085486e-02, ...,  1.000000000000000e+00,\n",
       "            0.000000000000000e+00,  0.000000000000000e+00],\n",
       "          [-1.668446940339844e-09,  2.843257745006560e-06,\n",
       "            1.272851717558559e-05, ...,  0.000000000000000e+00,\n",
       "            1.000000000000000e+00,  0.000000000000000e+00],\n",
       "          [-1.734093827733910e-09,  2.955128860896366e-06,\n",
       "            1.322933474042161e-05, ...,  0.000000000000000e+00,\n",
       "            0.000000000000000e+00,  1.000000000000000e+00]]],\n",
       " \n",
       " \n",
       "        [[[-6.737713529722931e-13,  6.896916692831566e-11,\n",
       "            1.222407214086011e-05, ...,  0.000000000000000e+00,\n",
       "            0.000000000000000e+00,  0.000000000000000e+00],\n",
       "          [ 1.214524786717343e-05,  2.026060917913410e-05,\n",
       "            4.845916138595511e-05, ...,  0.000000000000000e+00,\n",
       "            0.000000000000000e+00,  0.000000000000000e+00],\n",
       "          [-1.259246059581075e-02,  2.499131348892772e+00,\n",
       "            1.122665095625667e+01, ...,  0.000000000000000e+00,\n",
       "            0.000000000000000e+00,  0.000000000000000e+00],\n",
       "          ...,\n",
       "          [ 4.538445666951811e-05,  3.348343772610139e-03,\n",
       "            1.482517975405767e-02, ...,  1.000000000000000e+00,\n",
       "            0.000000000000000e+00,  0.000000000000000e+00],\n",
       "          [ 3.909083261801738e-08,  2.884017030671959e-06,\n",
       "            1.276931934027364e-05, ...,  0.000000000000000e+00,\n",
       "            1.000000000000000e+00,  0.000000000000000e+00],\n",
       "          [ 4.062667235847922e-08,  2.997327177098290e-06,\n",
       "            1.327101313362612e-05, ...,  0.000000000000000e+00,\n",
       "            0.000000000000000e+00,  1.000000000000000e+00]]]]))"
      ]
     },
     "execution_count": 111,
     "metadata": {},
     "output_type": "execute_result"
    }
   ],
   "source": []
  },
  {
   "cell_type": "code",
   "execution_count": 100,
   "metadata": {},
   "outputs": [
    {
     "data": {
      "text/plain": [
       "3.026882218292771e-07"
      ]
     },
     "execution_count": 100,
     "metadata": {},
     "output_type": "execute_result"
    }
   ],
   "source": [
    "solver.physics.get_essential_eigenvectors_L(U).shape\n",
    "R = solver.physics.get_eigenvectors_R(U)\n",
    "L  =solver.physics.get_eigenvectors_L(U)\n",
    "T = R@L\n",
    "T.shape, R.shape\n",
    "np.linalg.norm(\n",
    "  np.linalg.norm(T-np.eye(8), ord=\"fro\", axis=(-1,-2))\n",
    ")"
   ]
  },
  {
   "cell_type": "code",
   "execution_count": 64,
   "metadata": {},
   "outputs": [],
   "source": [
    "# Constant 1^T * M * 1 as int 1 ^2 d\\mu = mu(elem)\n",
    "invM = solver.elem_helpers.iMM_elems[0,]\n",
    "M = np.linalg.inv(invM)\n",
    "b = "
   ]
  },
  {
   "cell_type": "code",
   "execution_count": 50,
   "metadata": {},
   "outputs": [
    {
     "data": {
      "text/plain": [
       "((120, 3, 7), (120, 2, 7), (120, 5, 7))"
      ]
     },
     "execution_count": 50,
     "metadata": {},
     "output_type": "execute_result"
    }
   ],
   "source": [
    "U_elem.shape, U_face.shape, U_elem_faces.shape"
   ]
  },
  {
   "cell_type": "code",
   "execution_count": 34,
   "metadata": {},
   "outputs": [
    {
     "data": {
      "text/plain": [
       "(array([ -1,   0,   1,   2,   3,   4,   5,   6,   7,   8,   9,  10,  11,\n",
       "         12,  13,  14,  15,  16,  17,  18,  19,  20,  21,  22,  23,  24,\n",
       "         25,  26,  27,  28,  29,  30,  31,  32,  33,  34,  35,  36,  37,\n",
       "         38,  39,  40,  41,  42,  43,  44,  45,  46,  47,  48,  49,  50,\n",
       "         51,  52,  53,  54,  55,  56,  57,  58,  59,  60,  61,  62,  63,\n",
       "         64,  65,  66,  67,  68,  69,  70,  71,  72,  73,  74,  75,  76,\n",
       "         77,  78,  79,  80,  81,  82,  83,  84,  85,  86,  87,  88,  89,\n",
       "         90,  91,  92,  93,  94,  95,  96,  97,  98,  99, 100, 101, 102,\n",
       "        103, 104, 105, 106, 107, 108, 109, 110, 111, 112, 113, 114, 115,\n",
       "        116, 117, 118]),\n",
       " array([  1,   2,   3,   4,   5,   6,   7,   8,   9,  10,  11,  12,  13,\n",
       "         14,  15,  16,  17,  18,  19,  20,  21,  22,  23,  24,  25,  26,\n",
       "         27,  28,  29,  30,  31,  32,  33,  34,  35,  36,  37,  38,  39,\n",
       "         40,  41,  42,  43,  44,  45,  46,  47,  48,  49,  50,  51,  52,\n",
       "         53,  54,  55,  56,  57,  58,  59,  60,  61,  62,  63,  64,  65,\n",
       "         66,  67,  68,  69,  70,  71,  72,  73,  74,  75,  76,  77,  78,\n",
       "         79,  80,  81,  82,  83,  84,  85,  86,  87,  88,  89,  90,  91,\n",
       "         92,  93,  94,  95,  96,  97,  98,  99, 100, 101, 102, 103, 104,\n",
       "        105, 106, 107, 108, 109, 110, 111, 112, 113, 114, 115, 116, 117,\n",
       "        118, 119,  -1]))"
      ]
     },
     "execution_count": 34,
     "metadata": {},
     "output_type": "execute_result"
    }
   ],
   "source": [
    "lll.elemM_IDs, lll.elemP_IDs"
   ]
  },
  {
   "cell_type": "code",
   "execution_count": 26,
   "metadata": {},
   "outputs": [
    {
     "data": {
      "text/plain": [
       "(120, 3, 7)"
      ]
     },
     "execution_count": 26,
     "metadata": {},
     "output_type": "execute_result"
    }
   ],
   "source": [
    "Uc = solver.state_coeffs\n",
    "Uc.shape"
   ]
  },
  {
   "cell_type": "code",
   "execution_count": 11,
   "metadata": {},
   "outputs": [],
   "source": [
    "ns = solver.physics.NUM_STATE_VARS\t\n",
    "physics = solver.physics\n",
    "mesh = solver.mesh\n",
    "elem_helpers = solver.elem_helpers\n",
    "int_face_helpers = solver.int_face_helpers"
   ]
  },
  {
   "cell_type": "code",
   "execution_count": 14,
   "metadata": {},
   "outputs": [],
   "source": [
    "vols = lll.elem_vols                                     # ne\n",
    "basis_phys_grads = elem_helpers.basis_phys_grad_elems    # ne,3,3,ndims?=1\n",
    "quad_wts = elem_helpers.quad_wts                         # 3,1\n",
    "elemP_IDs = lll.elemP_IDs                                # ne\n",
    "elemM_IDs = lll.elemM_IDs                                # ne\n",
    "djacs = lll.djac_elems                                   # ne,3,1\n",
    "djacP = lll.djac_elems[elemP_IDs]                        # ne,3,1\n",
    "djacM = lll.djac_elems[elemM_IDs]                        # ne,3,1"
   ]
  },
  {
   "cell_type": "code",
   "execution_count": 25,
   "metadata": {},
   "outputs": [
    {
     "data": {
      "text/plain": [
       "(120, 3, 1)"
      ]
     },
     "execution_count": 25,
     "metadata": {},
     "output_type": "execute_result"
    }
   ],
   "source": [
    "djacs.shape"
   ]
  },
  {
   "cell_type": "code",
   "execution_count": 27,
   "metadata": {},
   "outputs": [
    {
     "name": "stdout",
     "output_type": "stream",
     "text": [
      "Warning: vpT eigenvector in get_conv_eigenvectors not fully implemented.\n"
     ]
    },
    {
     "ename": "KeyError",
     "evalue": "'pDensityFm'",
     "output_type": "error",
     "traceback": [
      "\u001b[1;31m---------------------------------------------------------------------------\u001b[0m",
      "\u001b[1;31mKeyError\u001b[0m                                  Traceback (most recent call last)",
      "\u001b[1;32mc:\\Users\\Fredric\\Documents\\Volcano\\quail_volcano\\src\\numerics\\limiting\\notebook_hweno.ipynb Cell 10\u001b[0m in \u001b[0;36m<cell line: 1>\u001b[1;34m()\u001b[0m\n\u001b[1;32m----> <a href='vscode-notebook-cell:/c%3A/Users/Fredric/Documents/Volcano/quail_volcano/src/numerics/limiting/notebook_hweno.ipynb#X11sZmlsZQ%3D%3D?line=0'>1</a>\u001b[0m physics\u001b[39m.\u001b[39;49mget_conv_eigenvectors(Uc)\n",
      "File \u001b[1;32m~\\Documents\\Volcano\\quail_volcano\\src\\physics\\multiphasevpT\\multiphasevpT.py:605\u001b[0m, in \u001b[0;36mMultiphasevpT1D.get_conv_eigenvectors\u001b[1;34m(self, U_bar)\u001b[0m\n\u001b[0;32m    602\u001b[0m ns \u001b[39m=\u001b[39m \u001b[39mself\u001b[39m\u001b[39m.\u001b[39mNUM_STATE_VARS\n\u001b[0;32m    604\u001b[0m \u001b[39mprint\u001b[39m(\u001b[39m\"\u001b[39m\u001b[39mWarning: vpT eigenvector in get_conv_eigenvectors not fully implemented.\u001b[39m\u001b[39m\"\u001b[39m)\n\u001b[1;32m--> 605\u001b[0m iarhoA, iarhoWv, iarhoM, irhou, ie, _, _, _ \u001b[39m=\u001b[39m \u001b[39mself\u001b[39;49m\u001b[39m.\u001b[39;49mget_state_indices()\n\u001b[0;32m    607\u001b[0m arhoA  \u001b[39m=\u001b[39m U_bar[:, :, iarhoA]\n\u001b[0;32m    608\u001b[0m arhoWv \u001b[39m=\u001b[39m U_bar[:, :, iarhoWv]\n",
      "File \u001b[1;32m~\\Documents\\Volcano\\quail_volcano\\src\\physics\\multiphasevpT\\multiphasevpT.py:501\u001b[0m, in \u001b[0;36mMultiphasevpT1D.get_state_indices\u001b[1;34m(self)\u001b[0m\n\u001b[0;32m    499\u001b[0m iarhoWt \u001b[39m=\u001b[39m \u001b[39mself\u001b[39m\u001b[39m.\u001b[39mget_state_index(\u001b[39m\"\u001b[39m\u001b[39mpDensityWt\u001b[39m\u001b[39m\"\u001b[39m)\n\u001b[0;32m    500\u001b[0m iarhoC \u001b[39m=\u001b[39m \u001b[39mself\u001b[39m\u001b[39m.\u001b[39mget_state_index(\u001b[39m\"\u001b[39m\u001b[39mpDensityC\u001b[39m\u001b[39m\"\u001b[39m)\n\u001b[1;32m--> 501\u001b[0m iarhoFm \u001b[39m=\u001b[39m \u001b[39mself\u001b[39;49m\u001b[39m.\u001b[39;49mget_state_index(\u001b[39m\"\u001b[39;49m\u001b[39mpDensityFm\u001b[39;49m\u001b[39m\"\u001b[39;49m)\n\u001b[0;32m    502\u001b[0m \u001b[39mreturn\u001b[39;00m iarhoA, iarhoWv, iarhoM, imom, ie, iarhoWt, iarhoC, iarhoFm\n",
      "File \u001b[1;32m~\\Documents\\Volcano\\quail_volcano\\src\\physics\\base\\base.py:489\u001b[0m, in \u001b[0;36mPhysicsBase.get_state_index\u001b[1;34m(self, var_name)\u001b[0m\n\u001b[0;32m    477\u001b[0m \u001b[39mdef\u001b[39;00m \u001b[39mget_state_index\u001b[39m(\u001b[39mself\u001b[39m, var_name):\n\u001b[0;32m    478\u001b[0m \t\u001b[39m'''\u001b[39;00m\n\u001b[0;32m    479\u001b[0m \u001b[39m\tThis method gets the index corresponding to a given state variable.\u001b[39;00m\n\u001b[0;32m    480\u001b[0m \n\u001b[1;32m   (...)\u001b[0m\n\u001b[0;32m    487\u001b[0m \u001b[39m\t\tidx: index of state variable (int)\u001b[39;00m\n\u001b[0;32m    488\u001b[0m \u001b[39m\t'''\u001b[39;00m\n\u001b[1;32m--> 489\u001b[0m \tidx \u001b[39m=\u001b[39m \u001b[39mself\u001b[39;49m\u001b[39m.\u001b[39;49mstate_indices[var_name]\n\u001b[0;32m    491\u001b[0m \t\u001b[39mreturn\u001b[39;00m idx\n",
      "\u001b[1;31mKeyError\u001b[0m: 'pDensityFm'"
     ]
    }
   ],
   "source": [
    "physics.get_conv_eigenvectors(Uc)"
   ]
  }
 ],
 "metadata": {
  "kernelspec": {
   "display_name": "Python 3.9.1 64-bit",
   "language": "python",
   "name": "python3"
  },
  "language_info": {
   "codemirror_mode": {
    "name": "ipython",
    "version": 3
   },
   "file_extension": ".py",
   "mimetype": "text/x-python",
   "name": "python",
   "nbconvert_exporter": "python",
   "pygments_lexer": "ipython3",
   "version": "3.9.1"
  },
  "orig_nbformat": 4,
  "vscode": {
   "interpreter": {
    "hash": "81794d4967e6c3204c66dcd87b604927b115b27c00565d3d43f05ba2f3a2cb0d"
   }
  }
 },
 "nbformat": 4,
 "nbformat_minor": 2
}
