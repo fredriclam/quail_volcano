{
 "cells": [
  {
   "cell_type": "code",
   "execution_count": 1,
   "metadata": {},
   "outputs": [],
   "source": [
    "# Import\n",
    "import numpy as np\n",
    "import time\n",
    "import scipy\n",
    "import scipy.integrate\n",
    "\n",
    "import matplotlib\n",
    "import matplotlib.pyplot as plt"
   ]
  },
  {
   "cell_type": "code",
   "execution_count": 2,
   "metadata": {},
   "outputs": [
    {
     "name": "stdout",
     "output_type": "stream",
     "text": [
      "Using default parameters in notebook. \n"
     ]
    }
   ],
   "source": [
    "''' Set some parameter values. '''\n",
    "try:\n",
    "  # To extract parameters from a solver file (needs appropriate imports)\n",
    "  solver_from = lambda i: readwritedatafiles.read_data_file(\n",
    "    f\"verification_conduit_p_{i}.pkl\")\n",
    "  solver = solver_from(0)\n",
    "  print(\"Solver loaded. Extracting parameters. \")\n",
    "  c_v = solver.physics.Gas[1][\"c_v\"]\n",
    "  c_p = solver.physics.Gas[1][\"c_p\"]\n",
    "  R = solver.physics.Gas[1][\"R\"]\n",
    "  # Magma properties (version check)\n",
    "  c_m = solver.physics.Liquid[\"c_m\"]\n",
    "  K = solver.physics.Liquid[\"K\"]\n",
    "  p0 = solver.physics.Liquid[\"p0\"]\n",
    "  rho0 = solver.physics.Liquid[\"rho0\"]\n",
    "  k = solver.physics.Solubility[\"k\"]\n",
    "  n = solver.physics.Solubility[\"n\"]\n",
    "except:\n",
    "  # Solver probably not found; use default values\n",
    "  c_v, c_p, R = (1826.6237513873475, 2288.0, 461.3762486126526)\n",
    "  c_m, K, p0, rho0 = (3000.0, 10000000000.0, 5000000.0, 2500.0)\n",
    "  k, n = (5e-06, 0.5)\n",
    "  print(\"Using default parameters in notebook. \")\n"
   ]
  },
  {
   "cell_type": "code",
   "execution_count": 3,
   "metadata": {},
   "outputs": [],
   "source": [
    "''' Borrow/extend deformation energy class from physics. ''' \n",
    "\n",
    "class DeformationEnergyFn():\n",
    "  ''' Computes specific deformation energy as a function.\n",
    "  Also contains useful subfunctions for decomposing the deformation en.'''\n",
    "  def __init__(self, rho0, K, p0, p1):\n",
    "    self.rho0 = rho0\n",
    "    self.K = K\n",
    "    self.p0 = p0\n",
    "    self.p1 = p1\n",
    "    self.rho1 = rho0*(1 + (p1 - p0) / K)\n",
    "\n",
    "  def __call__(self, p):\n",
    "    ''' Specific deformation energy (units m^2 / s^2). '''\n",
    "    return self.strain_energy(p) + self.prestress_energy(p) - self.prestress_energy(self.p1)\n",
    "\n",
    "  def rho(self, p):\n",
    "    return self.rho0*(1 + (p - self.p0) / self.K)\n",
    "\n",
    "  def drhodp(self):\n",
    "    ''' drho/ dp where rho is density. '''\n",
    "    return self.rho0 / self.K\n",
    "\n",
    "  def dvdp(self, p):\n",
    "    ''' dv / dp where v is specific volume. '''\n",
    "    return -1.0 / self.rho(p)**2 * self.drhodp()\n",
    "\n",
    "  def strain_energy(self, p):\n",
    "    ''' Strain energy as integral of (p_1-p) dv'''\n",
    "    u = (self.p1-p)/(p+self.K-self.p0)\n",
    "    return self.K/self.rho0 * (u - np.log(1 + u))\n",
    "\n",
    "  def prestress_energy(self, p):\n",
    "    ''' Prestress work as integral of -p_1 dv '''\n",
    "    return self.p1*(1/self.rho1 - 1/(self.rho0 + self.rho0/self.K*(p-self.p0)))\n",
    "\n",
    "  def strain_energy_quadrapprox(self, p):\n",
    "      ''' Quadratic approximation of strain energy near p_1. '''\n",
    "      return 0.5*self.K/self.rho0*(p-self.p1)**2.0 / ((self.p1+self.K-self.p0))**2.0\n",
    "\n",
    "  def linearized_strain(self, p):\n",
    "      return self.K*(p-self.p1)/ ((self.p1+self.K-self.p0))**2.0\n",
    "\n",
    "  def ddp(self, p):\n",
    "    ''' Derivative of total deformation energy with respect to pressure.\n",
    "    Units of specific volume, (specific energy) / (volumetric energy).\n",
    "    Conjugate to pressure. This can be shown using\n",
    "    d/dp int(p dv) = d/dp int p dv/dp dp = p * dv/dp.\n",
    "    ''' \n",
    "    return p / self.rho(p)**2 * (self.rho0 / self.K)\n",
    "\n",
    "# Define deformation energy function for current magma\n",
    "edf_m = DeformationEnergyFn(rho0, K, p0, p0)"
   ]
  },
  {
   "cell_type": "code",
   "execution_count": 4,
   "metadata": {},
   "outputs": [],
   "source": [
    "''' Define general thermo functions.\n",
    "Currently: magma (no crystals), dissolved water, exsolved water as an ideal gas.\n",
    "'''\n",
    "\n",
    "def h_wv(T):\n",
    "  ''' Specific enthalpy of ideal gas water phase. '''\n",
    "  return c_p * T\n",
    "\n",
    "def rho_m(p):\n",
    "  ''' Phasic density of magma phase. '''\n",
    "  return rho0 * (1 + (p-p0)/K)\n",
    "\n",
    "def v_m(p):\n",
    "  ''' Specific volume of magma phase. '''\n",
    "  return 1.0 / rho_m(p)\n",
    "\n",
    "def h_m(p, T):\n",
    "  ''' Specific enthalpy of magma phase. '''\n",
    "  return c_m * T + edf_m(p)\n",
    "\n",
    "def x_sat(p):\n",
    "  ''' Saturation mass concentration. '''\n",
    "  # Henry's law\n",
    "  return k * np.abs(p) ** n\n",
    "\n",
    "def ddp_x_sat(p):\n",
    "  ''' Derivative of saturation mass concentration w.r.t. pressure. '''\n",
    "  # d/dp Henry's law\n",
    "  return n * k * np.abs(p) ** (n-1.0)\n",
    "\n",
    "def sat_indicator(p, ywt):\n",
    "  ''' Indicator function for saturated state. '''\n",
    "  return float(x_sat(p) <= ywt / (1-ywt)) if ywt < 1.0 else float(True)\n",
    "\n",
    "def y_wv_eq(p, ywt):\n",
    "  ''' Water volume fraction at equilibrium. ''' \n",
    "  return np.clip(1 - (1+x_sat(p))*(1-ywt),0,1)\n",
    "\n",
    "def dy_wv_eq_dp(p, ywt):\n",
    "  ''' Derivative of water volume fraction w.r.t. pressure. '''\n",
    "  return (ywt-1) * ddp_x_sat(p) * sat_indicator(p,ywt)\n",
    "\n",
    "def v_wv(p, T):\n",
    "  ''' Specific volume of ideal gas water vapour. ''' \n",
    "  return R*T/p\n",
    "\n",
    "def dvw_dp_T(p, T):\n",
    "  ''' Partial derivative of water specific volume v_w w.r.t pressure at constant T. Used in chain rule.'''\n",
    "  return -R*T/p**2\n",
    "\n",
    "def dvw_dT_p(p):\n",
    "  ''' Partial derivative of water specific volume v_w w.r.t T at constant p. Used in chain rule.'''\n",
    "  return R/p\n",
    "\n",
    "def dvm_dp(p):\n",
    "  ''' Derivative of magma specific volume v_w w.r.t pressure.'''\n",
    "  return -1.0 / rho_m(p)**2 * rho0 / K\n",
    "\n",
    "def v_mix(p, T, y):\n",
    "  ''' Mixture specific volume ''' \n",
    "  return y * v_wv(p, T) + (1 - y) * v_m(p)\n",
    "\n",
    "def T_h(p, h, y):\n",
    "  ''' Temperature as a function of mixture enthalpy. '''\n",
    "  c_p_mix = y * c_p + (1 - y) * c_m\n",
    "  # Sensible temperature-dependent part of enthalpy\n",
    "  hs_T = h - (1.0 - y) * (edf_m(p) + p * v_m(p))\n",
    "  return hs_T / c_p_mix\n",
    "\n",
    "def dT_dp(p, h, y):\n",
    "  ''' Partial derivative of T(p, h, y).'''\n",
    "  c_p_mix = y * c_p + (1 - y) * c_m\n",
    "  return - (1.0 - y) / c_p_mix * (edf_m.ddp(p) + v_m(p) + p * dvm_dp(p))\n",
    "\n",
    "def dT_dh(p, h, y):\n",
    "  ''' Partial derivative of T(p, h, y).'''\n",
    "  return 1.0 / (y * c_p + (1 - y) * c_m)\n",
    "\n",
    "def dT_dy(p, T, y):\n",
    "  ''' Partial derivative of T(p, h, y). Note that T is passed in argument.''' \n",
    "  c_p_mix = y * c_p + (1 - y) * c_m\n",
    "  return (edf_m(p) + p * v_m(p) - (c_p - c_m) * T) / c_p_mix\n",
    "\n",
    "def vf_g(p, T, y):\n",
    "  ''' Ideal vapour volume fraction in binary mixture. '''\n",
    "  return y * v_wv(p, T) / v_mix(p, T, y)\n",
    "\n",
    "def h_mix(p, T, y):\n",
    "  ''' Mixture enthalpy. '''\n",
    "  return y * c_p * T + (1 - y) * (c_m * T + edf_m(p) + p * v_m(p))"
   ]
  },
  {
   "cell_type": "code",
   "execution_count": 5,
   "metadata": {},
   "outputs": [],
   "source": [
    "''' Define coefficient matrix function for n=3 system of ODEs. '''\n",
    "def A(p, h, y, j0):\n",
    "  ''' Coefficient matrix. '''\n",
    "  A = np.zeros((3,3))\n",
    "\n",
    "  # Evaluate mixture state\n",
    "  T = T_h(p, h, y)\n",
    "  v = v_mix(p, T, y)\n",
    "  # Evaluate partials of mixture specific volume\n",
    "  dv_dp = y * (R / p * dT_dp(p, h, y) - R * T / p**2) + (1 - y) * dvm_dp(p)\n",
    "  dv_dh = y * R / p * dT_dh(p, h, y)\n",
    "  dv_dy = (v_wv(p, T) - v_m(p)) + y * R / p * dT_dy(p, T, y)\n",
    "  \n",
    "  A[0,:] = [1+j0**2 * dv_dp, j0**2 * dv_dh, j0**2 * dv_dy]\n",
    "  A[1,:] = [v, -1, 0]\n",
    "  A[2,:] = [0, 0, j0*v]\n",
    "\n",
    "  return A"
   ]
  },
  {
   "cell_type": "code",
   "execution_count": 49,
   "metadata": {},
   "outputs": [],
   "source": [
    "''' Define eigenvalues of A '''\n",
    "def eigA(p, h, y, j0):\n",
    "  '''The eigenvalues are \n",
    "    u,\n",
    "  which transports the chemical state (dy/dx), and the pair\n",
    "    0.5 * j0^2 * (dv/dp)_{h,y} + 0.5 * sqrt((j0^2 dv/dp)^2 + 4(1 + j0^2 dv/dp + v j0^2 (dv/dh)) ),\n",
    "    0.5 * j0^2 * (dv/dp)_{h,y} - 0.5 * sqrt((j0^2 dv/dp)^2 + 4(1 + j0^2 dv/dp + v j0^2 (dv/dh)) ).\n",
    "  This conjugate pair replaces the usual isentropic sound speed eigenvalues.\n",
    "  ''' \n",
    "  # Evaluate mixture state\n",
    "  T = T_h(p, h, y)\n",
    "  v = v_mix(p, T, y)\n",
    "  # Evaluate partials of mixture specific volume\n",
    "  dv_dp = y * (R / p * dT_dp(p, h, y) - R * T / p**2) + (1 - y) * dvm_dp(p)\n",
    "  dv_dh = y * R / p * dT_dh(p, h, y)\n",
    "  \n",
    "  # Compute eigenvalues\n",
    "  u = j0 * v\n",
    "  _q1 = j0**2 * dv_dp\n",
    "  _q2 = np.sqrt(_q1**2 + 4 * (1 + _q1 + v * j0**2 * dv_dh))\n",
    "  l1 = 0.5*(_q1 - _q2)\n",
    "  l2 = 0.5*(_q1 + _q2)\n",
    "\n",
    "  return np.array([u, l1, l2])"
   ]
  },
  {
   "cell_type": "code",
   "execution_count": 6,
   "metadata": {},
   "outputs": [],
   "source": [
    "''' More chemical equilibrium thermodynamics. Currently unused. '''\n",
    "\n",
    "class Equilibrium():\n",
    "  def vf_g_eq(p, T, ywt):\n",
    "    ''' Gas volume fraction in two-phase mixture.'''\n",
    "    return y_wv_eq(p, ywt) * v_wv(p, T) / v_mix_eq(p, T, ywt)\n",
    "\n",
    "  def v_mix_eq(p, T, ywt):\n",
    "    ''' Mixture specific volume at chemical equilibrium. '''\n",
    "    y = y_wv_eq(p, ywt)\n",
    "    return y * v_wv(p, T) + (1-y) * v_m(p)\n",
    "\n",
    "  def rho_mix_eq(p, T, ywt):\n",
    "    ''' Mixture density at chemical equilibrium. '''\n",
    "    return 1.0/v_mix_eq(p, T, ywt)\n",
    "\n",
    "  def dTdp_eq(p, T, ywt):\n",
    "    ''' Isenthalpic derivative of temperature w.r.t. pressure along equilibrium conditions. '''\n",
    "    y = y_wv_eq(p, ywt)\n",
    "    c_v_mix = y * c_v + (1-y) * c_m\n",
    "    # Compute pressure-dependent specific enthalpy and chemical change\n",
    "    _dhdp = (1 - y) * v_m(p) + (h_wv(T) - h_m(p,T)) * (\n",
    "      (ywt-1) * ddp_x_sat(p) * sat_indicator(p,ywt))\n",
    "    return -_dhdp / c_v_mix \n",
    "\n",
    "  def dv_dp_eq(p, T, ywt):\n",
    "    ''' Mixture dv/dp at constant enthalpy, chemical equilibrium. Invokes the chain rule. '''\n",
    "    # Compute exsolution-related volume change\n",
    "    chemical = (v_wv(p,T) - v_m(p)) * dy_wv_eq_dp(p, ywt)\n",
    "    # Compute expansion-related volume change \n",
    "    y = y_wv_eq(p, ywt)\n",
    "    expansion = y * (dvw_dp_T(p, T) + dvw_dT_p(p) * dTdp_eq(p, T, ywt)) \\\n",
    "      + (1 - y) * (dvm_dp(p))\n",
    "    return chemical + expansion"
   ]
  },
  {
   "cell_type": "code",
   "execution_count": 84,
   "metadata": {},
   "outputs": [],
   "source": [
    "''' Define ODE system. '''\n",
    "\n",
    "# Water mass fraction (uniformly applied in conduit)\n",
    "ywt          = 0.03\n",
    "# Critical volume fraction\n",
    "crit_volfrac = 0.7\n",
    "# Exsolution timescale\n",
    "tau_d        = 1.0\n",
    "# Viscosity (Pa s)\n",
    "mu           = 5e8\n",
    "# Conduit radius (m)\n",
    "conduit_rad  = 10\n",
    "# Chamber conditions\n",
    "p_chamber    = 50e6\n",
    "T0           = 800+273.15\n",
    "# Mass flux (uniform in conduit; equal to rho * u and depends on outlet pressure)\n",
    "rho_in = rho0\n",
    "u_in   = 1.0\n",
    "j0     = rho_in * u_in\n",
    "# Set depth of conduit inlet (0 is surface)\n",
    "x0 = -4000\n",
    "# Number of evaluation points for ODE solver (does not affect ODE numerics much)\n",
    "N_x = 200\n",
    "\n",
    "''' Define solver for (p,h,y)(x), using current workspace param values as default. '''\n",
    "def solve_p(ywt=ywt, crit_volfrac=crit_volfrac, mu=mu, tau_d=tau_d,\n",
    "  conduit_rad=conduit_rad, p_chamber=p_chamber,\n",
    "  T0=T0, j0=j0, x0=x0, N_x=N_x):\n",
    "\n",
    "  h_chamber = h_mix(p_chamber, T0, y_wv_eq(p_chamber, ywt))\n",
    "\n",
    "  ''' Define momentum source (using captured parameters). '''\n",
    "  # Define gravity momentum source\n",
    "  g = -9.8\n",
    "  F_grav = lambda rho: rho * g\n",
    "  # Define friction momentum source\n",
    "  F_fric = lambda u, is_frag: -8.0*mu/conduit_rad**2 * u * (1.0-is_frag)\n",
    "  # Define fragmentation condition\n",
    "  is_frag = lambda p, T, y: float(vf_g(p, T, y) > crit_volfrac)\n",
    "  # Define ODE momentum source term sum in terms of density rho\n",
    "  F_rho = lambda p, T, y, rho: F_grav (rho) + F_fric(j0 / rho, is_frag(p, T, y))\n",
    "\n",
    "  ''' Define water vapour mass fraction source (using captured parameters). '''\n",
    "  Y = lambda p, y: 1 / tau_d * (\n",
    "    ywt - y - x_sat(p)/(1 + x_sat(p))) * (1-y) / (1+y)\n",
    "  \n",
    "  ''' Set source term vector. '''\n",
    "  def F(q):\n",
    "    # Unpack q of size (3,1)\n",
    "    p, h, y = q\n",
    "    F = np.zeros((3,1))\n",
    "    # Compute mixture temperature\n",
    "    T = T_h(p, h, y)\n",
    "    # Compute source vector\n",
    "    F[0] = F_rho(p, T, y, 1.0/v_mix(p, T, y)) \n",
    "    F[2] = Y(p, y)\n",
    "    return F\n",
    "\n",
    "  ''' Set ODE RHS A^{-1} F '''\n",
    "  def RHS(x, q):\n",
    "    # Does not use eigcheck use event handling in ODE solver instead\n",
    "    # Evaluate mass matrix A\n",
    "    A_evald = A(*q, j0)\n",
    "    # Solve for RHS ode\n",
    "    return np.linalg.solve(A_evald, F(q)).flatten()\n",
    "\n",
    "  def AinvRHS(x, q):\n",
    "    ''' Precomputed A^{-1} f for speed.\n",
    "    Uses block triangular inverse of\n",
    "      [A b]^{-1}  = [A^{-1}  z ]\n",
    "      [  u]         [       1/u]\n",
    "    applied to sparse RHS vector F.\n",
    "    Use this instead of RHS for speed.\n",
    "    '''\n",
    "    \n",
    "    # Unpack\n",
    "    p, h, y = q\n",
    "    # Compute dependents\n",
    "    T     = T_h(p, h, y)\n",
    "    dv_dp = y * (R / p * dT_dp(p, h, y) - R * T / p**2) + (1 - y) * dvm_dp(p)\n",
    "    dv_dh = y * R / p * dT_dh(p, h, y)\n",
    "    dv_dy = (v_wv(p, T) - v_m(p)) + y * R / p * dT_dy(p, T, y)\n",
    "    v     = v_mix(p, T, y) \n",
    "    u     = j0 * v\n",
    "    # Compute first column of A^{-1}:(2,1)\n",
    "    a1 = np.array([1, v]) / (1+j0**2 * dv_dp + v * j0**2 * dv_dh)\n",
    "    # Compute z == -A^{-1} * b / u\n",
    "    z = -j0**2 * dv_dy / u * a1\n",
    "    return Y(p, y) * np.array([*z, 1/u]) + F_rho(p, T, y, 1.0/v) * np.array([*a1, 0])\n",
    "  \n",
    "  def RHS_reduced(x, q):\n",
    "    ''' Reduced-size system for j0 == 0 case. (2x1 instead of 3x1). '''\n",
    "    p, h = q\n",
    "    F = np.zeros((2,1))\n",
    "    # Equilibrium water vapour\n",
    "    y = y_wv_eq(p, ywt)\n",
    "    # Compute mixture temperature\n",
    "    T = T_h(p, h, y)\n",
    "    v = v_mix(p, T, y)\n",
    "    # Compute source vector with idempotent A^{-1} = A premultiplied\n",
    "    F[0] = 1\n",
    "    F[1] = v\n",
    "    F *= F_rho(p, T, y, 1.0/v_mix(p, T, y)) \n",
    "    return F.flatten()\n",
    "  \n",
    "  ''' Define postprocessing eigenvalue checker '''  \n",
    "  class EventChoked():\n",
    "    def __init__(self):\n",
    "      self.terminal = True\n",
    "      self.sonic_tol = 1e-7\n",
    "    def __call__(self, t, q):\n",
    "      # Compute equivalent condition to conjugate pair eigenvalue == 0\n",
    "      # Note that this does not check the condition u == 0 (or j0 == 0).\n",
    "      p, h, y = q\n",
    "      T = T_h(p, h, y)\n",
    "      dv_dp = y * (R / p * dT_dp(p, h, y) - R * T / p**2) + (1 - y) * dvm_dp(p)\n",
    "      dv_dh = y * R / p * dT_dh(p, h, y)\n",
    "      return j0**2 * (dv_dp + v_mix(p, T, y) * dv_dh) + 1.0 - self.sonic_tol\n",
    "      # Default eigenvalue computation\n",
    "      return np.abs(np.linalg.eigvals(A(*q, j0))).min() - self.sonic_tol\n",
    "  event_choked = EventChoked()\n",
    "\n",
    "  # Set chamber (inlet) condition (p, h, y) with y = y_eq at pressure\n",
    "  q0 = np.array([p_chamber, h_chamber, y_wv_eq(p_chamber, ywt)])\n",
    "\n",
    "  # Call ODE solver\n",
    "  x_mesh = np.linspace(x0,0,N_x)\n",
    "  if j0 > 0:\n",
    "    soln = scipy.integrate.solve_ivp(AinvRHS, (x0,0), q0, t_eval=x_mesh, method=\"BDF\", events=event_choked)\n",
    "    # Output solution\n",
    "    soln_state = soln.y\n",
    "  else: # Exsolution length scale u * tau_d -> 0\n",
    "    # Exact zero flux: use reduced (equilibrium chemistry) system\n",
    "    soln = scipy.integrate.solve_ivp(RHS_reduced, (x0,0), q0[:-1], t_eval=x_mesh, method=\"BDF\")\n",
    "    # Augment output solution with y at equilibrium\n",
    "    soln_state = np.vstack((soln.y, y_wv_eq(soln.y[0,:], ywt)))\n",
    "\n",
    "  # Compute eigenvalues at the final t\n",
    "  eigvals_t_final = eigA(*soln_state[:,-1], j0)\n",
    "\n",
    "  return soln.t, soln_state, (soln, eigvals_t_final)\n"
   ]
  },
  {
   "cell_type": "markdown",
   "metadata": {},
   "source": [
    "With the system of ODEs defined, we can plug in various values of mass flux `j_0 = rho_0 * u_0`, which is constant in the steady state. The system of ODEs has form `A * dq/dx = f` in vector form. If `A` is singular, there is a problem (this corresponds to either the system degenerating to the static case when `j_0 == 0`, or reaching the sonic point---flow choking). \n",
    "\n",
    "In the following, we find the maximum value of `j_0` attainable before this sonic point is reached in the domain. This corresponds to the maximum discharge rate of the system, given a fixed value of (constant) viscosity, conduit length & radius, fragmentation criterion, total water fraction, exsolution rate, chamber pressure, and chamber temperature."
   ]
  },
  {
   "cell_type": "code",
   "execution_count": 90,
   "metadata": {},
   "outputs": [
    {
     "name": "stdout",
     "output_type": "stream",
     "text": [
      "Pressure p(x) for j0 = 0 solver (2 ODEs) and j0 = small number solver (3 ODEs).\n"
     ]
    },
    {
     "data": {
      "text/plain": [
       "Text(0, 0.5, 'p (bar)')"
      ]
     },
     "execution_count": 90,
     "metadata": {},
     "output_type": "execute_result"
    },
    {
     "data": {
      "image/png": "[encoded data removed]",
      "text/plain": [
       "<Figure size 432x288 with 1 Axes>"
      ]
     },
     "metadata": {
      "needs_background": "light"
     },
     "output_type": "display_data"
    }
   ],
   "source": [
    "# Test equilibrium backend\n",
    "_x1, (_p1, _h1, _y1), _ = solve_p(j0=1e-3)\n",
    "_x0, (_p0, _h0, _y0), _ = solve_p(j0=0)\n",
    "plt.plot(_x1, _p1/1e5)\n",
    "plt.plot(_x0, _p0/1e5)\n",
    "print(\"Pressure p(x) for j0 = 0 solver (2 ODEs) and j0 = small number solver (3 ODEs).\")\n",
    "plt.xlabel(\"x (m)\")\n",
    "plt.ylabel(\"p (bar)\")"
   ]
  },
  {
   "cell_type": "code",
   "execution_count": 82,
   "metadata": {},
   "outputs": [
    {
     "data": {
      "image/png": "[encoded data removed]",
      "text/plain": [
       "<Figure size 432x288 with 1 Axes>"
      ]
     },
     "metadata": {
      "needs_background": "light"
     },
     "output_type": "display_data"
    }
   ],
   "source": [
    "''' Plot pressure as function of x, for several values of j0. '''\n",
    "view_idx = 0\n",
    "j0_range = [0, 1e-3, 1e-2, 1e2, 1e3, 1.5e3, 5e3]\n",
    "for j0 in j0_range:\n",
    "  _t, _z, outs = solve_p(j0=j0)\n",
    "  plt.semilogy(_t, _z[view_idx,:]/1e5,'.-')\n",
    "\n",
    "plt.xlabel(\"x (m)\")\n",
    "plt.ylabel(\"p (bar)\")\n",
    "l = plt.legend(j0_range)"
   ]
  },
  {
   "cell_type": "code",
   "execution_count": 54,
   "metadata": {},
   "outputs": [],
   "source": [
    "''' Define mapping from mass flux j0 to lambda_min(x = 0) ''' \n",
    "def eigmin_top(j0, *args, **kwargs):\n",
    "  ''' Returns min abs eigval at top, or negative value if the matrix\n",
    "  is singular at depth.''' \n",
    "  _t, _z, outs = solve_p(j0=j0, *args, **kwargs)\n",
    "  return -1e-1 if len(outs[0].t_events[0]) != 0 or not outs[0].success else \\\n",
    "    np.min(np.abs(outs[1]))"
   ]
  },
  {
   "cell_type": "code",
   "execution_count": 85,
   "metadata": {},
   "outputs": [
    {
     "name": "stdout",
     "output_type": "stream",
     "text": [
      "If the flow is choked before the top, -0.1 is plotted instead.\n"
     ]
    },
    {
     "data": {
      "image/png": "[encoded data removed]",
      "text/plain": [
       "<Figure size 432x288 with 1 Axes>"
      ]
     },
     "metadata": {
      "needs_background": "light"
     },
     "output_type": "display_data"
    }
   ],
   "source": [
    "'''Plot the min abs eigenvalue at the top (x=0) for a range of mass flux j0. ''' \n",
    "\n",
    "j0_min = 1e-3 # Minimum value for j0 that is numerically stable\n",
    "j0_low = 500  # Low value for j0 that is unchoked at vent\n",
    "j0_range = [*np.logspace(-5, np.log10(j0_low), 10)[:-1], *np.linspace(j0_low, 1.3e3, 80)]\n",
    "\n",
    "# Compute lambdas\n",
    "lambdas = [eigmin_top(j0) for j0 in j0_range]\n",
    "plt.plot(j0_range, lambdas, '.-')\n",
    "plt.xlabel(\"j0\")\n",
    "plt.ylabel(\"min abs eigenvalues\")\n",
    "print(\"If the flow is choked before the top, -0.1 is plotted instead.\")"
   ]
  },
  {
   "cell_type": "code",
   "execution_count": 86,
   "metadata": {},
   "outputs": [],
   "source": [
    "''' Solve for maximum value of j_0 before choking. '''\n",
    "j0_max = scipy.optimize.brenth(eigmin_top, 100, 5000)\n",
    "# Establish range of j0 that does not choke\n",
    "j0_range = (j0_min, j0_max)"
   ]
  },
  {
   "cell_type": "code",
   "execution_count": 57,
   "metadata": {},
   "outputs": [
    {
     "name": "stdout",
     "output_type": "stream",
     "text": [
      "States for highest mass flux at inlet\n"
     ]
    },
    {
     "data": {
      "image/png": "[encoded data removed]",
      "text/plain": [
       "<Figure size 1008x576 with 6 Axes>"
      ]
     },
     "metadata": {
      "needs_background": "light"
     },
     "output_type": "display_data"
    }
   ],
   "source": [
    "''' Plot several states for the maximal j_0 case. ''' \n",
    "# Plot lowest top pressure case\n",
    "j0 = j0_max\n",
    "_x, (_p, _h, _y), outs = solve_p(j0=j0_max)\n",
    "# Post process solution\n",
    "_T  = T_h(_p, _h, _y)\n",
    "_vf = vf_g(_p, _T, _y)\n",
    "_rho = 1.0 / v_mix(_p, _T, _y)\n",
    "_u = j0 / _rho\n",
    "Gamma = (_y * c_p + (1-_y) * c_m) / (_y * c_v + (1-_y) * c_m)\n",
    "_c_approx = np.sqrt(_y * Gamma * R * _T)\n",
    "\n",
    "plt.figure(figsize=(14,8))\n",
    "plt.subplot(2,3,1)\n",
    "plt.semilogy(_x, _p/1e5, '.-')\n",
    "plt.ylabel(\"Pressure (bar)\")\n",
    "\n",
    "plt.subplot(2,3,2)\n",
    "plt.plot(_x, _T, '.-')\n",
    "plt.ylim(bottom=0, top=_T.max()*1.2)\n",
    "plt.ylabel(\"Temperature (K)\")\n",
    "\n",
    "plt.subplot(2,3,3)\n",
    "plt.plot(_x, _y, '.-')\n",
    "plt.plot(_x, ywt*np.ones_like(_y), '--')\n",
    "plt.ylabel(\"Mass fraction of exsolved gas\")\n",
    "\n",
    "plt.subplot(2,3,4)\n",
    "plt.plot(_x, _vf, '.-')\n",
    "plt.ylabel(\"Volume fraction of gas\")\n",
    "\n",
    "plt.subplot(2,3,5)\n",
    "plt.plot(_x, _u, '.-')\n",
    "plt.ylabel(\"u (m/s)\")\n",
    "\n",
    "plt.subplot(2,3,6)\n",
    "_c_approx = np.where(_c_approx > 1, _c_approx, np.sqrt(K/rho0))\n",
    "plt.plot(_x, _u/_c_approx, '.-')\n",
    "plt.ylabel(\"u / c_(pseudogas) -- approximate Mach\")\n",
    "\n",
    "print(\"States for highest mass flux at inlet\")"
   ]
  },
  {
   "cell_type": "code",
   "execution_count": 58,
   "metadata": {},
   "outputs": [],
   "source": [
    "''' Map dependence of top pressure as function of j0 for example case. ''' \n",
    "\n",
    "# Sample points with a visually nice distribution\n",
    "j0_scan_range = [*np.logspace(np.log10(j0_range[0]), np.log10(j0_low), 20)[:-1],\n",
    "  *np.linspace(j0_low, j0_range[1], 20)]\n",
    "# Get top pressures\n",
    "top_pressures = np.array([solve_p(j0=j0)[1][0][-1] for j0 in j0_scan_range])\n",
    "# For plotting, set pressure range that results in choked flow\n",
    "choked_pressures = np.array([0, np.min(top_pressures)])"
   ]
  },
  {
   "cell_type": "code",
   "execution_count": 59,
   "metadata": {},
   "outputs": [
    {
     "name": "stdout",
     "output_type": "stream",
     "text": [
      "Each value of mass flux corresponds to one value of vent pressure.\n",
      "A shooting method can solve for the value of vent pressure, up to the minimum (choking) pressure.\n"
     ]
    },
    {
     "data": {
      "image/png": "[encoded data removed]",
      "text/plain": [
       "<Figure size 432x288 with 1 Axes>"
      ]
     },
     "metadata": {
      "needs_background": "light"
     },
     "output_type": "display_data"
    }
   ],
   "source": [
    "plt.plot(top_pressures/1e5, j0_scan_range, '.-')\n",
    "plt.plot(choked_pressures/1e5, j0_range[1]*np.ones_like(choked_pressures), '-')\n",
    "plt.legend([\"Unchoked range\", \"Choked at the vent\"])\n",
    "plt.xlabel(\"Vent pressure (bar)\")\n",
    "plt.ylabel(\"Mass flux j_0 = rho_0 u_0\")\n",
    "print('''Each value of mass flux corresponds to one value of vent pressure.\n",
    "A shooting method can solve for the value of vent pressure, up to the minimum (choking) pressure.''')"
   ]
  },
  {
   "cell_type": "markdown",
   "metadata": {},
   "source": [
    "Below is the code that takes `p_vent` and model parameters and returns the solution [p(x), h(x), y(x)]. The function prints the flow state at the vent during calculation."
   ]
  },
  {
   "cell_type": "code",
   "execution_count": 87,
   "metadata": {},
   "outputs": [],
   "source": [
    "''' Driver for code in which user inputs top boundary pressure. \n",
    "Solves for the choking pressure and corresponding j0, and then solves\n",
    "for j0 corresponding to the prescribed vent pressure if the pressure\n",
    "is above the choking pressure but below the hydrostatic vent pressure.\n",
    "\n",
    "Can be made faster by directly solving for the choking pressure, and\n",
    "then checking if flow is choked at the computed j0.\n",
    "'''\n",
    "def solve_steady_state(p_vent, verbose=False,\n",
    "  ywt=ywt, crit_volfrac=crit_volfrac, mu=mu, tau_d=tau_d,\n",
    "  conduit_rad=conduit_rad, p_chamber=p_chamber,\n",
    "  T0=T0, j0=j0, x0=x0, N_x=N_x):\n",
    "  # Set j0 range for finding max \n",
    "  j0_min = 1e-3\n",
    "  j0_max = 1e4\n",
    "  # Define solve kernel that returns (x, (p, h, y), (soln, eigvals))\n",
    "  solve_kernel = lambda j0: solve_p(ywt=ywt, crit_volfrac=crit_volfrac,\n",
    "    mu=mu, tau_d=tau_d, conduit_rad=conduit_rad, p_chamber=p_chamber,\n",
    "    T0=T0, j0=j0, x0=x0, N_x=N_x)\n",
    "  # Define mapping j0 -> p_vent\n",
    "  calc_vent_p  = lambda j0: solve_kernel(j0)[1][0][-1]\n",
    "\n",
    "  ''' Get valid range of j0. ''' \n",
    "  print(\"Solving for j0 range. \")\n",
    "  # Solve for maximum j0 that does not choke\n",
    "  j0_max = scipy.optimize.brenth(lambda j0: eigmin_top(\n",
    "    ywt=ywt, crit_volfrac=crit_volfrac, mu=mu, tau_d=tau_d,\n",
    "    conduit_rad=conduit_rad, p_chamber=p_chamber,\n",
    "    T0=T0, j0=j0, x0=x0, N_x=N_x\n",
    "  ), j0_min, j0_max)\n",
    "  # Establish range of j0 that does not choke\n",
    "  j0_range = (j0_min, j0_max)\n",
    "  \n",
    "  ''' Get corresponding range of p. '''\n",
    "  print(\"Solving for p range. \")\n",
    "  # Compute max pressure (hydrostatic)\n",
    "  p_max = calc_vent_p(j0_min)\n",
    "  # Compute choking (minimum) vent pressure\n",
    "  p_min = calc_vent_p(j0_max)\n",
    "\n",
    "  ''' Check vent flow state for given p_vent, and solve for solution [p(x), h(x), y(x)]. '''\n",
    "  if p_vent < p_min:\n",
    "    # Choked case\n",
    "    print(\"Choked at vent.\")\n",
    "    x, (p_soln, h_soln, y_soln), (soln, _) = solve_kernel(j0_max)\n",
    "  elif p_vent > p_max:\n",
    "    # Inconsistent pressure (exceeds hydrostatic pressure consistent with chamber pressure)\n",
    "    print(\"Vent pressure is too high (reverse flow required to reverse pressure gradient).\")\n",
    "    x, (p_soln, h_soln, y_soln), soln = None, (None, None, None), None\n",
    "  else:\n",
    "    print(\"Subsonic flow at vent. Shooting method for correct value of j0.\")\n",
    "    j0 = scipy.optimize.brenth(lambda j0: calc_vent_p(j0) - p_vent, j0_min, j0_max)\n",
    "    print(\"Solution j0 found. Computing solution.\")\n",
    "    # Compute solution at j0\n",
    "    x, (p_soln, h_soln, y_soln), (soln, _) = solve_kernel(j0)\n",
    "\n",
    "  if verbose:\n",
    "    # Package extra details on calculation.\n",
    "    calc_details = {\n",
    "      \"j0_min\": j0_min,\n",
    "      \"j0_max\": j0_max,\n",
    "      \"p_min\": p_min,\n",
    "      \"p_max\": p_max,\n",
    "      \"soln\": soln,\n",
    "    }\n",
    "    return x, (p_soln, h_soln, y_soln), calc_details\n",
    "  else:\n",
    "    return x, (p_soln, h_soln, y_soln)"
   ]
  },
  {
   "cell_type": "code",
   "execution_count": 88,
   "metadata": {},
   "outputs": [
    {
     "name": "stdout",
     "output_type": "stream",
     "text": [
      "Solving for j0 range. \n",
      "Solving for p range. \n",
      "Subsonic flow at vent. Shooting method for correct value of j0.\n",
      "Solution j0 found. Computing solution.\n",
      "Vent pressure of numerical solution is 5.000045383148677 bar.\n"
     ]
    },
    {
     "data": {
      "image/png": "[encoded data removed]",
      "text/plain": [
       "<Figure size 432x288 with 1 Axes>"
      ]
     },
     "metadata": {
      "needs_background": "light"
     },
     "output_type": "display_data"
    }
   ],
   "source": [
    "''' Code usage example '''\n",
    "p_vent = 5e5\n",
    "x, (p, h, y) = solve_steady_state(p_vent)\n",
    "plt.semilogy(x, p/1e5, '.-')\n",
    "plt.xlabel(\"x (m)\")\n",
    "plt.ylabel(\"Pressure (bar)\")\n",
    "plt.grid(\"both\")\n",
    "print(f\"Vent pressure of numerical solution is {p[-1]/1e5} bar.\")"
   ]
  }
 ],
 "metadata": {
  "kernelspec": {
   "display_name": "Python 3.8.3 64-bit",
   "language": "python",
   "name": "python3"
  },
  "language_info": {
   "codemirror_mode": {
    "name": "ipython",
    "version": 3
   },
   "file_extension": ".py",
   "mimetype": "text/x-python",
   "name": "python",
   "nbconvert_exporter": "python",
   "pygments_lexer": "ipython3",
   "version": "3.8.3"
  },
  "orig_nbformat": 4,
  "vscode": {
   "interpreter": {
    "hash": "d3b55c328c36168f3a6229c37fd25db278b1a41b93c10c98692f80b48f757e96"
   }
  }
 },
 "nbformat": 4,
 "nbformat_minor": 2
}
